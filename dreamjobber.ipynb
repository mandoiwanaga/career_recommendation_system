{
 "cells": [
  {
   "cell_type": "markdown",
   "metadata": {},
   "source": [
    "# DreamJobber"
   ]
  },
  {
   "cell_type": "markdown",
   "metadata": {},
   "source": [
    "**Tech Edition**"
   ]
  },
  {
   "cell_type": "markdown",
   "metadata": {},
   "source": [
    "---"
   ]
  },
  {
   "cell_type": "markdown",
   "metadata": {},
   "source": [
    "**Process**\n",
    "1. Clean text\n",
    "2. Bag of Words\n",
    "3. LDA model (Latent Dirichlet allocation)\n",
    "4. Fine tune LDA model\n",
    "5. Define Topics from LDA model\n",
    "6. Create df of document probabilities\n",
    "6. Nearest Neighbors Model"
   ]
  },
  {
   "cell_type": "markdown",
   "metadata": {},
   "source": [
    "---"
   ]
  },
  {
   "cell_type": "markdown",
   "metadata": {},
   "source": [
    "**Import Necessary Libraries**"
   ]
  },
  {
   "cell_type": "code",
   "execution_count": 1,
   "metadata": {},
   "outputs": [],
   "source": [
    "import pandas as pd\n",
    "import gensim\n",
    "from gensim.utils import simple_preprocess\n",
    "from gensim.parsing.preprocessing import STOPWORDS\n",
    "from nltk.stem import WordNetLemmatizer, SnowballStemmer\n",
    "from nltk.stem.porter import *\n",
    "import numpy as np\n",
    "import nltk\n",
    "from dreamjobber_web.recommend import input_user_scores, make_recommendation\n",
    "from dreamjobber_web.recommend import collect_score_and_recommend\n",
    "from dreamjobber_web.recommend import collect_feedback, show_to_user\n",
    "from functions import lemmatize_stem, preprocess, remove_brackets\n",
    "from functions import remove_punctuation, remove_stop_words\n",
    "from lda import show_topics_sentences\n",
    "import pickle\n",
    "\n",
    "#lda model evaluation with coherence\n",
    "from gensim.models.coherencemodel import CoherenceModel\n",
    "from gensim.models.ldamodel import LdaModel\n",
    "from gensim.corpora.dictionary import Dictionary\n",
    "\n",
    "#unsupervised learning model\n",
    "from sklearn.neighbors import NearestNeighbors"
   ]
  },
  {
   "cell_type": "code",
   "execution_count": 2,
   "metadata": {},
   "outputs": [
    {
     "name": "stderr",
     "output_type": "stream",
     "text": [
      "[nltk_data] Downloading package wordnet to /Users/admin/nltk_data...\n",
      "[nltk_data]   Package wordnet is already up-to-date!\n"
     ]
    },
    {
     "data": {
      "text/plain": [
       "True"
      ]
     },
     "execution_count": 2,
     "metadata": {},
     "output_type": "execute_result"
    }
   ],
   "source": [
    "nltk.download('wordnet')"
   ]
  },
  {
   "cell_type": "markdown",
   "metadata": {},
   "source": [
    "---"
   ]
  },
  {
   "cell_type": "markdown",
   "metadata": {},
   "source": [
    "**Load Data**"
   ]
  },
  {
   "cell_type": "code",
   "execution_count": 3,
   "metadata": {},
   "outputs": [],
   "source": [
    "df_1 = pd.read_json('data/dice_jobs_1.json', lines=True)\n",
    "df_2 = pd.read_json('data/dice_jobs_2.json', lines=True)\n",
    "df_3 = pd.read_json('data/dice_jobs_3.json', lines=True)\n",
    "df_4 = pd.read_json('data/dice_jobs_4.json', lines=True)\n",
    "df_5 = pd.read_json('data/dice_jobs_5.json', lines=True)\n",
    "df_6 = pd.read_json('data/dice_jobs_6.json', lines=True)"
   ]
  },
  {
   "cell_type": "code",
   "execution_count": 4,
   "metadata": {},
   "outputs": [],
   "source": [
    "#concat into one df\n",
    "df = pd.concat([df_1, df_2, df_3, df_4, df_5, df_6], \n",
    "               ignore_index=True, sort=True)"
   ]
  },
  {
   "cell_type": "code",
   "execution_count": 5,
   "metadata": {},
   "outputs": [
    {
     "data": {
      "text/html": [
       "<div>\n",
       "<style scoped>\n",
       "    .dataframe tbody tr th:only-of-type {\n",
       "        vertical-align: middle;\n",
       "    }\n",
       "\n",
       "    .dataframe tbody tr th {\n",
       "        vertical-align: top;\n",
       "    }\n",
       "\n",
       "    .dataframe thead th {\n",
       "        text-align: right;\n",
       "    }\n",
       "</style>\n",
       "<table border=\"1\" class=\"dataframe\">\n",
       "  <thead>\n",
       "    <tr style=\"text-align: right;\">\n",
       "      <th></th>\n",
       "      <th>job_description</th>\n",
       "      <th>job_title</th>\n",
       "    </tr>\n",
       "  </thead>\n",
       "  <tbody>\n",
       "    <tr>\n",
       "      <th>0</th>\n",
       "      <td>NaN</td>\n",
       "      <td>UI Lead/Architect</td>\n",
       "    </tr>\n",
       "    <tr>\n",
       "      <th>1</th>\n",
       "      <td>NaN</td>\n",
       "      <td>Web Application Architect</td>\n",
       "    </tr>\n",
       "    <tr>\n",
       "      <th>2</th>\n",
       "      <td>NaN</td>\n",
       "      <td>Senior DataStage Developer</td>\n",
       "    </tr>\n",
       "    <tr>\n",
       "      <th>3</th>\n",
       "      <td>NaN</td>\n",
       "      <td>Hadoop Administrator</td>\n",
       "    </tr>\n",
       "    <tr>\n",
       "      <th>4</th>\n",
       "      <td>NaN</td>\n",
       "      <td>UX Visual Designer</td>\n",
       "    </tr>\n",
       "  </tbody>\n",
       "</table>\n",
       "</div>"
      ],
      "text/plain": [
       "  job_description                   job_title\n",
       "0             NaN           UI Lead/Architect\n",
       "1             NaN   Web Application Architect\n",
       "2             NaN  Senior DataStage Developer\n",
       "3             NaN        Hadoop Administrator\n",
       "4             NaN          UX Visual Designer"
      ]
     },
     "execution_count": 5,
     "metadata": {},
     "output_type": "execute_result"
    }
   ],
   "source": [
    "df.head()  "
   ]
  },
  {
   "cell_type": "code",
   "execution_count": 6,
   "metadata": {},
   "outputs": [
    {
     "data": {
      "text/plain": [
       "job_description    6524\n",
       "job_title          5484\n",
       "dtype: int64"
      ]
     },
     "execution_count": 6,
     "metadata": {},
     "output_type": "execute_result"
    }
   ],
   "source": [
    "#check for missing values\n",
    "df.isna().sum()"
   ]
  },
  {
   "cell_type": "code",
   "execution_count": 7,
   "metadata": {},
   "outputs": [
    {
     "name": "stdout",
     "output_type": "stream",
     "text": [
      "<class 'pandas.core.frame.DataFrame'>\n",
      "RangeIndex: 27016 entries, 0 to 27015\n",
      "Data columns (total 2 columns):\n",
      "job_description    20492 non-null object\n",
      "job_title          21532 non-null object\n",
      "dtypes: object(2)\n",
      "memory usage: 422.2+ KB\n"
     ]
    }
   ],
   "source": [
    "#looks like there are rows that have no job description\n",
    "df.info()"
   ]
  },
  {
   "cell_type": "code",
   "execution_count": 8,
   "metadata": {},
   "outputs": [],
   "source": [
    "#drop rows with no job descriptions\n",
    "df = df.dropna()"
   ]
  },
  {
   "cell_type": "code",
   "execution_count": 9,
   "metadata": {},
   "outputs": [
    {
     "name": "stdout",
     "output_type": "stream",
     "text": [
      "<class 'pandas.core.frame.DataFrame'>\n",
      "Int64Index: 20492 entries, 9 to 27015\n",
      "Data columns (total 2 columns):\n",
      "job_description    20492 non-null object\n",
      "job_title          20492 non-null object\n",
      "dtypes: object(2)\n",
      "memory usage: 480.3+ KB\n"
     ]
    }
   ],
   "source": [
    "#sanity check, looks good\n",
    "df.info()"
   ]
  },
  {
   "cell_type": "code",
   "execution_count": 10,
   "metadata": {},
   "outputs": [
    {
     "data": {
      "text/html": [
       "<div>\n",
       "<style scoped>\n",
       "    .dataframe tbody tr th:only-of-type {\n",
       "        vertical-align: middle;\n",
       "    }\n",
       "\n",
       "    .dataframe tbody tr th {\n",
       "        vertical-align: top;\n",
       "    }\n",
       "\n",
       "    .dataframe thead th {\n",
       "        text-align: right;\n",
       "    }\n",
       "</style>\n",
       "<table border=\"1\" class=\"dataframe\">\n",
       "  <thead>\n",
       "    <tr style=\"text-align: right;\">\n",
       "      <th></th>\n",
       "      <th>job_description</th>\n",
       "      <th>job_title</th>\n",
       "    </tr>\n",
       "  </thead>\n",
       "  <tbody>\n",
       "    <tr>\n",
       "      <th>9</th>\n",
       "      <td>[2+ years of experience developing Java / J2EE...</td>\n",
       "      <td>Java Developer (Sign-On BONUS!)</td>\n",
       "    </tr>\n",
       "    <tr>\n",
       "      <th>10</th>\n",
       "      <td>[Passion for technology and learning, a natura...</td>\n",
       "      <td>iOS Developer - Mobile Rate: Open, Duration: 1...</td>\n",
       "    </tr>\n",
       "    <tr>\n",
       "      <th>17</th>\n",
       "      <td>[We enjoy approved IT vendor status with sever...</td>\n",
       "      <td>EUC Engineer, Rate-Open, Duration: 18 Months</td>\n",
       "    </tr>\n",
       "    <tr>\n",
       "      <th>18</th>\n",
       "      <td>[We enjoy approved IT vendor status with sever...</td>\n",
       "      <td>Software Developer - RPG, Rate-Open, Duration:...</td>\n",
       "    </tr>\n",
       "    <tr>\n",
       "      <th>19</th>\n",
       "      <td>[SME in Linux Operating system with Strong Vir...</td>\n",
       "      <td>Sr. Linux Consultant with Weblogic exp</td>\n",
       "    </tr>\n",
       "  </tbody>\n",
       "</table>\n",
       "</div>"
      ],
      "text/plain": [
       "                                      job_description  \\\n",
       "9   [2+ years of experience developing Java / J2EE...   \n",
       "10  [Passion for technology and learning, a natura...   \n",
       "17  [We enjoy approved IT vendor status with sever...   \n",
       "18  [We enjoy approved IT vendor status with sever...   \n",
       "19  [SME in Linux Operating system with Strong Vir...   \n",
       "\n",
       "                                            job_title  \n",
       "9                     Java Developer (Sign-On BONUS!)  \n",
       "10  iOS Developer - Mobile Rate: Open, Duration: 1...  \n",
       "17       EUC Engineer, Rate-Open, Duration: 18 Months  \n",
       "18  Software Developer - RPG, Rate-Open, Duration:...  \n",
       "19             Sr. Linux Consultant with Weblogic exp  "
      ]
     },
     "execution_count": 10,
     "metadata": {},
     "output_type": "execute_result"
    }
   ],
   "source": [
    "df.head()"
   ]
  },
  {
   "cell_type": "code",
   "execution_count": 11,
   "metadata": {},
   "outputs": [],
   "source": [
    "#need to remove brackets from job_description\n",
    "df['job_description'] = df['job_description'].map(remove_brackets)"
   ]
  },
  {
   "cell_type": "code",
   "execution_count": 12,
   "metadata": {},
   "outputs": [],
   "source": [
    "#remove '\\\\n' and replace with ','\n",
    "df['job_description'] = df['job_description'].map(\n",
    "                        lambda x: x.replace('\\\\n', ','))"
   ]
  },
  {
   "cell_type": "code",
   "execution_count": 13,
   "metadata": {},
   "outputs": [],
   "source": [
    "#lowercase job_description text before applying stopwords\n",
    "df['job_description'] = df['job_description'].map(lambda x: x.lower())"
   ]
  },
  {
   "cell_type": "code",
   "execution_count": 14,
   "metadata": {},
   "outputs": [],
   "source": [
    "#lowercase job_title text before cleaning\n",
    "df['job_title'] = df['job_title'].map(lambda x: x.lower())"
   ]
  },
  {
   "cell_type": "code",
   "execution_count": 15,
   "metadata": {},
   "outputs": [],
   "source": [
    "#remove punctuation from job_title\n",
    "df['job_title'] = df['job_title'].map(remove_punctuation)"
   ]
  },
  {
   "cell_type": "code",
   "execution_count": 16,
   "metadata": {},
   "outputs": [],
   "source": [
    "#remove stop words from job_title\n",
    "df['job_title'] = df['job_title'].map(remove_stop_words)"
   ]
  },
  {
   "cell_type": "code",
   "execution_count": 17,
   "metadata": {},
   "outputs": [
    {
     "name": "stdout",
     "output_type": "stream",
     "text": [
      "<class 'pandas.core.frame.DataFrame'>\n",
      "Int64Index: 20492 entries, 9 to 27015\n",
      "Data columns (total 2 columns):\n",
      "job_description    20492 non-null object\n",
      "job_title          20492 non-null object\n",
      "dtypes: object(2)\n",
      "memory usage: 480.3+ KB\n"
     ]
    }
   ],
   "source": [
    "df.info()"
   ]
  },
  {
   "cell_type": "code",
   "execution_count": 18,
   "metadata": {},
   "outputs": [],
   "source": [
    "#drop any duplicates\n",
    "df = df.drop_duplicates()"
   ]
  },
  {
   "cell_type": "code",
   "execution_count": 19,
   "metadata": {},
   "outputs": [
    {
     "name": "stdout",
     "output_type": "stream",
     "text": [
      "<class 'pandas.core.frame.DataFrame'>\n",
      "Int64Index: 18704 entries, 9 to 27015\n",
      "Data columns (total 2 columns):\n",
      "job_description    18704 non-null object\n",
      "job_title          18704 non-null object\n",
      "dtypes: object(2)\n",
      "memory usage: 438.4+ KB\n"
     ]
    }
   ],
   "source": [
    "df.info()"
   ]
  },
  {
   "cell_type": "code",
   "execution_count": 20,
   "metadata": {},
   "outputs": [],
   "source": [
    "#reset the index\n",
    "df = df.reset_index(drop=True)"
   ]
  },
  {
   "cell_type": "code",
   "execution_count": 21,
   "metadata": {},
   "outputs": [
    {
     "data": {
      "text/html": [
       "<div>\n",
       "<style scoped>\n",
       "    .dataframe tbody tr th:only-of-type {\n",
       "        vertical-align: middle;\n",
       "    }\n",
       "\n",
       "    .dataframe tbody tr th {\n",
       "        vertical-align: top;\n",
       "    }\n",
       "\n",
       "    .dataframe thead th {\n",
       "        text-align: right;\n",
       "    }\n",
       "</style>\n",
       "<table border=\"1\" class=\"dataframe\">\n",
       "  <thead>\n",
       "    <tr style=\"text-align: right;\">\n",
       "      <th></th>\n",
       "      <th>job_description</th>\n",
       "      <th>job_title</th>\n",
       "    </tr>\n",
       "  </thead>\n",
       "  <tbody>\n",
       "    <tr>\n",
       "      <th>1526</th>\n",
       "      <td>''</td>\n",
       "      <td></td>\n",
       "    </tr>\n",
       "    <tr>\n",
       "      <th>2508</th>\n",
       "      <td>'robert half technology is looking for an expe...</td>\n",
       "      <td></td>\n",
       "    </tr>\n",
       "    <tr>\n",
       "      <th>13230</th>\n",
       "      <td>'someone who has spent 8-10 years in insurance...</td>\n",
       "      <td></td>\n",
       "    </tr>\n",
       "    <tr>\n",
       "      <th>13569</th>\n",
       "      <td>'my client is looking for sap fico in houston,...</td>\n",
       "      <td></td>\n",
       "    </tr>\n",
       "    <tr>\n",
       "      <th>14136</th>\n",
       "      <td>'share your resume on click here to apply', 'j...</td>\n",
       "      <td></td>\n",
       "    </tr>\n",
       "    <tr>\n",
       "      <th>14157</th>\n",
       "      <td>'role : fico with s4 hana.,location : manitowo...</td>\n",
       "      <td></td>\n",
       "    </tr>\n",
       "    <tr>\n",
       "      <th>15118</th>\n",
       "      <td>'hello all,', '', '', '', '', '', '', '', '', ...</td>\n",
       "      <td></td>\n",
       "    </tr>\n",
       "    <tr>\n",
       "      <th>16508</th>\n",
       "      <td>'job description:', 'leidos is looking for a j...</td>\n",
       "      <td></td>\n",
       "    </tr>\n",
       "  </tbody>\n",
       "</table>\n",
       "</div>"
      ],
      "text/plain": [
       "                                         job_description job_title\n",
       "1526                                                  ''          \n",
       "2508   'robert half technology is looking for an expe...          \n",
       "13230  'someone who has spent 8-10 years in insurance...          \n",
       "13569  'my client is looking for sap fico in houston,...          \n",
       "14136  'share your resume on click here to apply', 'j...          \n",
       "14157  'role : fico with s4 hana.,location : manitowo...          \n",
       "15118  'hello all,', '', '', '', '', '', '', '', '', ...          \n",
       "16508  'job description:', 'leidos is looking for a j...          "
      ]
     },
     "execution_count": 21,
     "metadata": {},
     "output_type": "execute_result"
    }
   ],
   "source": [
    "#check to see if there are any job titles that have been \n",
    "#removed via stopwords, I will want to remove these rows \n",
    "#because the job titles were not real job titles\n",
    "df.loc[df['job_title']=='']"
   ]
  },
  {
   "cell_type": "code",
   "execution_count": 22,
   "metadata": {},
   "outputs": [],
   "source": [
    "df = df.drop(df.index[[1526, \n",
    "                       2508, \n",
    "                       13230, \n",
    "                       13569, \n",
    "                       14136, \n",
    "                       14157, \n",
    "                       15118, \n",
    "                       16508]])"
   ]
  },
  {
   "cell_type": "code",
   "execution_count": 23,
   "metadata": {},
   "outputs": [
    {
     "data": {
      "text/html": [
       "<div>\n",
       "<style scoped>\n",
       "    .dataframe tbody tr th:only-of-type {\n",
       "        vertical-align: middle;\n",
       "    }\n",
       "\n",
       "    .dataframe tbody tr th {\n",
       "        vertical-align: top;\n",
       "    }\n",
       "\n",
       "    .dataframe thead th {\n",
       "        text-align: right;\n",
       "    }\n",
       "</style>\n",
       "<table border=\"1\" class=\"dataframe\">\n",
       "  <thead>\n",
       "    <tr style=\"text-align: right;\">\n",
       "      <th></th>\n",
       "      <th>job_description</th>\n",
       "      <th>job_title</th>\n",
       "    </tr>\n",
       "  </thead>\n",
       "  <tbody>\n",
       "  </tbody>\n",
       "</table>\n",
       "</div>"
      ],
      "text/plain": [
       "Empty DataFrame\n",
       "Columns: [job_description, job_title]\n",
       "Index: []"
      ]
     },
     "execution_count": 23,
     "metadata": {},
     "output_type": "execute_result"
    }
   ],
   "source": [
    "#sanity check\n",
    "df.loc[df['job_title']=='']"
   ]
  },
  {
   "cell_type": "code",
   "execution_count": 24,
   "metadata": {},
   "outputs": [
    {
     "data": {
      "text/html": [
       "<div>\n",
       "<style scoped>\n",
       "    .dataframe tbody tr th:only-of-type {\n",
       "        vertical-align: middle;\n",
       "    }\n",
       "\n",
       "    .dataframe tbody tr th {\n",
       "        vertical-align: top;\n",
       "    }\n",
       "\n",
       "    .dataframe thead th {\n",
       "        text-align: right;\n",
       "    }\n",
       "</style>\n",
       "<table border=\"1\" class=\"dataframe\">\n",
       "  <thead>\n",
       "    <tr style=\"text-align: right;\">\n",
       "      <th></th>\n",
       "      <th>job_description</th>\n",
       "      <th>job_title</th>\n",
       "    </tr>\n",
       "  </thead>\n",
       "  <tbody>\n",
       "    <tr>\n",
       "      <th>0</th>\n",
       "      <td>'2+ years of experience developing java / j2ee...</td>\n",
       "      <td>java developer</td>\n",
       "    </tr>\n",
       "    <tr>\n",
       "      <th>1</th>\n",
       "      <td>'passion for technology and learning, a natura...</td>\n",
       "      <td>ios developer mobile</td>\n",
       "    </tr>\n",
       "    <tr>\n",
       "      <th>2</th>\n",
       "      <td>'we enjoy approved it vendor status with sever...</td>\n",
       "      <td>euc engineer</td>\n",
       "    </tr>\n",
       "    <tr>\n",
       "      <th>3</th>\n",
       "      <td>'we enjoy approved it vendor status with sever...</td>\n",
       "      <td>software developer rpg</td>\n",
       "    </tr>\n",
       "    <tr>\n",
       "      <th>4</th>\n",
       "      <td>'sme in linux operating system with strong vir...</td>\n",
       "      <td>linux consultant with weblogic exp</td>\n",
       "    </tr>\n",
       "  </tbody>\n",
       "</table>\n",
       "</div>"
      ],
      "text/plain": [
       "                                     job_description  \\\n",
       "0  '2+ years of experience developing java / j2ee...   \n",
       "1  'passion for technology and learning, a natura...   \n",
       "2  'we enjoy approved it vendor status with sever...   \n",
       "3  'we enjoy approved it vendor status with sever...   \n",
       "4  'sme in linux operating system with strong vir...   \n",
       "\n",
       "                            job_title  \n",
       "0                      java developer  \n",
       "1                ios developer mobile  \n",
       "2                        euc engineer  \n",
       "3              software developer rpg  \n",
       "4  linux consultant with weblogic exp  "
      ]
     },
     "execution_count": 24,
     "metadata": {},
     "output_type": "execute_result"
    }
   ],
   "source": [
    "#reset index one last time\n",
    "df = df.reset_index(drop=True)\n",
    "df.head()"
   ]
  },
  {
   "cell_type": "markdown",
   "metadata": {},
   "source": [
    "---"
   ]
  },
  {
   "cell_type": "markdown",
   "metadata": {},
   "source": [
    "## Text Cleaning"
   ]
  },
  {
   "cell_type": "markdown",
   "metadata": {},
   "source": [
    "1. Tokenize\n",
    "2. Remove words with fewer than 2 characters\n",
    "3. Remove stop words\n",
    "4. Normalize words (Lemmatize and Stem)"
   ]
  },
  {
   "cell_type": "markdown",
   "metadata": {},
   "source": [
    "**Test the functions on one row of text**"
   ]
  },
  {
   "cell_type": "code",
   "execution_count": 25,
   "metadata": {},
   "outputs": [],
   "source": [
    "stemmer = SnowballStemmer('english')"
   ]
  },
  {
   "cell_type": "code",
   "execution_count": 26,
   "metadata": {},
   "outputs": [
    {
     "name": "stdout",
     "output_type": "stream",
     "text": [
      "original text: \n",
      "[\"'demonstrates\", 'brand', 'passion,champions', 'and', 'embraces', 'change,makes', 'good', 'decisions,delivers', 'results,takes', 'action', 'with', 'integrity,communicates', \"effectively'\"]\n",
      "\n",
      "\n",
      " tokenized and lemmatized text: \n",
      "['demonstr', 'brand', 'passion', 'champion', 'embrac', 'chang', 'make', 'good', 'decis', 'deliv', 'result', 'take', 'action', 'integr', 'communic', 'effect']\n"
     ]
    }
   ],
   "source": [
    "text_sample = df[df.index == 13].values[0][0]\n",
    "\n",
    "print('original text: ')\n",
    "words = []\n",
    "for word in text_sample.split(' '):\n",
    "    words.append(word)\n",
    "print(words)\n",
    "print('\\n\\n tokenized and lemmatized text: ')\n",
    "print(preprocess(text_sample))"
   ]
  },
  {
   "cell_type": "markdown",
   "metadata": {},
   "source": [
    "**Apply cleaning functions to job_description**"
   ]
  },
  {
   "cell_type": "code",
   "execution_count": 27,
   "metadata": {
    "scrolled": true
   },
   "outputs": [
    {
     "data": {
      "text/plain": [
       "0                                 [develop, java, web]\n",
       "1    [passion, technolog, learn, natur, curios, lov...\n",
       "2    [enjoy, approv, vendor, status, lead, compani,...\n",
       "3    [enjoy, approv, vendor, status, lead, compani,...\n",
       "4    [sme, linux, oper, strong, virtual, knowledg, ...\n",
       "Name: job_description, dtype: object"
      ]
     },
     "execution_count": 27,
     "metadata": {},
     "output_type": "execute_result"
    }
   ],
   "source": [
    "#apply text cleaning function and display first 5 rows\n",
    "processed_text = df['job_description'].map(preprocess)\n",
    "processed_text[:5]"
   ]
  },
  {
   "cell_type": "markdown",
   "metadata": {},
   "source": [
    "---"
   ]
  },
  {
   "cell_type": "markdown",
   "metadata": {},
   "source": [
    "## Bag of Words"
   ]
  },
  {
   "cell_type": "code",
   "execution_count": 28,
   "metadata": {},
   "outputs": [],
   "source": [
    "#I'll use bag of words to extract features from text for use in modeling"
   ]
  },
  {
   "cell_type": "code",
   "execution_count": 29,
   "metadata": {},
   "outputs": [],
   "source": [
    "dictionary = gensim.corpora.Dictionary(processed_text)"
   ]
  },
  {
   "cell_type": "code",
   "execution_count": 30,
   "metadata": {},
   "outputs": [
    {
     "data": {
      "text/plain": [
       "24548"
      ]
     },
     "execution_count": 30,
     "metadata": {},
     "output_type": "execute_result"
    }
   ],
   "source": [
    "#check the length before I filter out the extremes\n",
    "len(dictionary)"
   ]
  },
  {
   "cell_type": "code",
   "execution_count": 31,
   "metadata": {},
   "outputs": [],
   "source": [
    "dictionary.filter_extremes(no_below=25, \n",
    "                           no_above=0.5, \n",
    "                           keep_n=100000)"
   ]
  },
  {
   "cell_type": "code",
   "execution_count": 32,
   "metadata": {},
   "outputs": [
    {
     "data": {
      "text/plain": [
       "3753"
      ]
     },
     "execution_count": 32,
     "metadata": {},
     "output_type": "execute_result"
    }
   ],
   "source": [
    "#check length after filtering out extremes\n",
    "len(dictionary)"
   ]
  },
  {
   "cell_type": "code",
   "execution_count": 33,
   "metadata": {},
   "outputs": [],
   "source": [
    "#bow2doc: counts the number of occurrences of each distinct word, \n",
    "#converts the word to its integer word id and returns the result \n",
    "#as a sparse vector\n",
    "\n",
    "bow2doc_corpus = [dictionary.doc2bow(text) for text in processed_text]"
   ]
  },
  {
   "cell_type": "markdown",
   "metadata": {},
   "source": [
    "---"
   ]
  },
  {
   "cell_type": "markdown",
   "metadata": {},
   "source": [
    "## LDA model with Bag of Words"
   ]
  },
  {
   "cell_type": "code",
   "execution_count": null,
   "metadata": {},
   "outputs": [],
   "source": [
    "#train lda model, this takes a while so I pickled my desired \n",
    "#results in the cells below\n",
    "lda_model = gensim.models.LdaMulticore(bow2doc_corpus, \n",
    "                                       num_topics=9, \n",
    "                                       id2word=dictionary, \n",
    "                                       passes=50, \n",
    "                                       workers=4,\n",
    "                                      chunksize=500)\n"
   ]
  },
  {
   "cell_type": "code",
   "execution_count": null,
   "metadata": {},
   "outputs": [],
   "source": [
    "for idx, topic in lda_model.print_topics(-1):\n",
    "    print('Topic: {} \\nWords: {}'.format(idx, topic))"
   ]
  },
  {
   "cell_type": "markdown",
   "metadata": {},
   "source": [
    "**Pickled LDA model results**"
   ]
  },
  {
   "cell_type": "code",
   "execution_count": 34,
   "metadata": {},
   "outputs": [],
   "source": [
    "#pickle.dump(lda_model, open('dreamjobber_web/webapp/pickled_models/lda_model.pkl', 'wb'))\n",
    "pickled_lda = pickle.load(open('dreamjobber_web/webapp/pickled_models/lda_model.pkl', 'rb'))"
   ]
  },
  {
   "cell_type": "code",
   "execution_count": 35,
   "metadata": {},
   "outputs": [
    {
     "name": "stdout",
     "output_type": "stream",
     "text": [
      "Topic: 0 \n",
      "Words: 0.014*\"client\" + 0.011*\"solut\" + 0.010*\"consult\" + 0.009*\"group\" + 0.009*\"help\" + 0.008*\"provid\" + 0.008*\"industri\" + 0.008*\"compani\" + 0.007*\"profession\" + 0.007*\"innov\"\n",
      "Topic: 1 \n",
      "Words: 0.069*\"secur\" + 0.021*\"inform\" + 0.016*\"system\" + 0.012*\"engin\" + 0.011*\"risk\" + 0.011*\"oper\" + 0.011*\"program\" + 0.010*\"network\" + 0.010*\"provid\" + 0.010*\"control\"\n",
      "Topic: 2 \n",
      "Words: 0.036*\"project\" + 0.015*\"process\" + 0.014*\"technic\" + 0.014*\"abil\" + 0.014*\"requir\" + 0.011*\"plan\" + 0.011*\"product\" + 0.010*\"function\" + 0.010*\"solut\" + 0.009*\"implement\"\n",
      "Topic: 3 \n",
      "Words: 0.039*\"test\" + 0.029*\"softwar\" + 0.021*\"web\" + 0.016*\"java\" + 0.014*\"code\" + 0.013*\"net\" + 0.012*\"framework\" + 0.011*\"engin\" + 0.011*\"javascript\" + 0.011*\"end\"\n",
      "Topic: 4 \n",
      "Words: 0.032*\"cloud\" + 0.024*\"engin\" + 0.021*\"architectur\" + 0.016*\"solut\" + 0.016*\"aw\" + 0.014*\"platform\" + 0.012*\"build\" + 0.011*\"integr\" + 0.011*\"deploy\" + 0.011*\"architect\"\n",
      "Topic: 5 \n",
      "Words: 0.029*\"network\" + 0.018*\"system\" + 0.014*\"technic\" + 0.014*\"server\" + 0.013*\"troubleshoot\" + 0.013*\"issu\" + 0.012*\"softwar\" + 0.012*\"problem\" + 0.012*\"administr\" + 0.012*\"provid\"\n",
      "Topic: 6 \n",
      "Words: 0.137*\"data\" + 0.026*\"sql\" + 0.026*\"databas\" + 0.020*\"analyst\" + 0.019*\"model\" + 0.016*\"analyt\" + 0.015*\"report\" + 0.014*\"function\" + 0.014*\"system\" + 0.013*\"architect\"\n",
      "Topic: 7 \n",
      "Words: 0.015*\"engin\" + 0.012*\"receiv\" + 0.011*\"status\" + 0.010*\"protect\" + 0.008*\"perform\" + 0.008*\"document\" + 0.008*\"qualifi\" + 0.007*\"process\" + 0.007*\"complet\" + 0.007*\"origin\"\n",
      "Topic: 8 \n",
      "Words: 0.030*\"market\" + 0.018*\"digit\" + 0.018*\"product\" + 0.016*\"success\" + 0.014*\"creativ\" + 0.012*\"content\" + 0.011*\"factor\" + 0.009*\"user\" + 0.009*\"creat\" + 0.008*\"sale\"\n"
     ]
    }
   ],
   "source": [
    "for idx, topic in pickled_lda.print_topics(-1):\n",
    "    print('Topic: {} \\nWords: {}'.format(idx, topic))"
   ]
  },
  {
   "cell_type": "code",
   "execution_count": 36,
   "metadata": {},
   "outputs": [],
   "source": [
    "#manually name topics\n",
    "col_names=['Analyst', 'Security', 'Leadership', 'Software/Web Dev', \n",
    "           'Cloud Computing', 'Computer Network', 'Database Admin', \n",
    "           'Computer Support', 'WebDev']"
   ]
  },
  {
   "cell_type": "markdown",
   "metadata": {},
   "source": [
    "---"
   ]
  },
  {
   "cell_type": "markdown",
   "metadata": {},
   "source": [
    "**LDA model evaluation**"
   ]
  },
  {
   "cell_type": "code",
   "execution_count": 37,
   "metadata": {},
   "outputs": [
    {
     "name": "stdout",
     "output_type": "stream",
     "text": [
      "\n",
      "Coherence Score:  0.4762757589382995\n"
     ]
    }
   ],
   "source": [
    "# Compute Coherence Score using c_v\n",
    "coherence_model_lda = CoherenceModel(model=pickled_lda, \n",
    "                                     texts=processed_text, \n",
    "                                     dictionary=dictionary, \n",
    "                                     coherence='c_v')\n",
    "\n",
    "coherence_lda = coherence_model_lda.get_coherence()\n",
    "print('\\nCoherence Score: ', coherence_lda)"
   ]
  },
  {
   "cell_type": "code",
   "execution_count": 38,
   "metadata": {},
   "outputs": [
    {
     "name": "stdout",
     "output_type": "stream",
     "text": [
      "\n",
      "Coherence Score:  -1.1423289375289365\n"
     ]
    }
   ],
   "source": [
    "# Compute Coherence Score using UMass\n",
    "coherence_model_lda = CoherenceModel(model=pickled_lda, \n",
    "                                     texts=processed_text, \n",
    "                                     dictionary=dictionary, \n",
    "                                     coherence=\"u_mass\")\n",
    "\n",
    "coherence_lda = coherence_model_lda.get_coherence()\n",
    "print('\\nCoherence Score: ', coherence_lda)"
   ]
  },
  {
   "cell_type": "code",
   "execution_count": 39,
   "metadata": {},
   "outputs": [
    {
     "name": "stderr",
     "output_type": "stream",
     "text": [
      "/anaconda3/lib/python3.7/site-packages/pyLDAvis/_prepare.py:257: FutureWarning: Sorting because non-concatenation axis is not aligned. A future version\n",
      "of pandas will change to not sort by default.\n",
      "\n",
      "To accept the future behavior, pass 'sort=False'.\n",
      "\n",
      "To retain the current behavior and silence the warning, pass 'sort=True'.\n",
      "\n",
      "  return pd.concat([default_term_info] + list(topic_dfs))\n"
     ]
    },
    {
     "data": {
      "text/html": [
       "\n",
       "<link rel=\"stylesheet\" type=\"text/css\" href=\"https://cdn.rawgit.com/bmabey/pyLDAvis/files/ldavis.v1.0.0.css\">\n",
       "\n",
       "\n",
       "<div id=\"ldavis_el275646777562723190468047\"></div>\n",
       "<script type=\"text/javascript\">\n",
       "\n",
       "var ldavis_el275646777562723190468047_data = {\"mdsDat\": {\"x\": [0.03810082241862918, 0.15520441005726743, -0.1292552735441828, 0.016813573765953514, -0.17437656360507564, 0.1463244005477453, 0.01775254902529925, 0.12054363932847406, -0.1911075579941103], \"y\": [-0.04415621259918138, 0.13811265856016897, 0.08218572929338192, -0.09648132000343082, 0.08497429441135529, -0.09899835058396378, -0.16621603632941062, 0.14107900088258807, -0.040499763631507535], \"topics\": [1, 2, 3, 4, 5, 6, 7, 8, 9], \"cluster\": [1, 1, 1, 1, 1, 1, 1, 1, 1], \"Freq\": [25.007556915283203, 13.590714454650879, 12.863962173461914, 12.194205284118652, 8.57005786895752, 8.55700969696045, 6.606483459472656, 6.306024074554443, 6.30399227142334]}, \"tinfo\": {\"Category\": [\"Default\", \"Default\", \"Default\", \"Default\", \"Default\", \"Default\", \"Default\", \"Default\", \"Default\", \"Default\", \"Default\", \"Default\", \"Default\", \"Default\", \"Default\", \"Default\", \"Default\", \"Default\", \"Default\", \"Default\", \"Default\", \"Default\", \"Default\", \"Default\", \"Default\", \"Default\", \"Default\", \"Default\", \"Default\", \"Default\", \"Topic1\", \"Topic1\", \"Topic1\", \"Topic1\", \"Topic1\", \"Topic1\", \"Topic1\", \"Topic1\", \"Topic1\", \"Topic1\", \"Topic1\", \"Topic1\", \"Topic1\", \"Topic1\", \"Topic1\", \"Topic1\", \"Topic1\", \"Topic1\", \"Topic1\", \"Topic1\", \"Topic1\", \"Topic1\", \"Topic1\", \"Topic1\", \"Topic1\", \"Topic1\", \"Topic1\", \"Topic1\", \"Topic1\", \"Topic1\", \"Topic1\", \"Topic1\", \"Topic1\", \"Topic1\", \"Topic1\", \"Topic1\", \"Topic1\", \"Topic1\", \"Topic1\", \"Topic1\", \"Topic1\", \"Topic1\", \"Topic1\", \"Topic1\", \"Topic1\", \"Topic1\", \"Topic1\", \"Topic1\", \"Topic1\", \"Topic1\", \"Topic1\", \"Topic1\", \"Topic1\", \"Topic1\", \"Topic1\", \"Topic1\", \"Topic1\", \"Topic1\", \"Topic1\", \"Topic1\", \"Topic1\", \"Topic1\", \"Topic1\", \"Topic1\", \"Topic1\", \"Topic1\", \"Topic1\", \"Topic1\", \"Topic1\", \"Topic1\", \"Topic1\", \"Topic1\", \"Topic1\", \"Topic1\", \"Topic1\", \"Topic1\", \"Topic1\", \"Topic1\", \"Topic1\", \"Topic1\", \"Topic1\", \"Topic1\", \"Topic1\", \"Topic1\", \"Topic1\", \"Topic1\", \"Topic1\", \"Topic1\", \"Topic2\", \"Topic2\", \"Topic2\", \"Topic2\", \"Topic2\", \"Topic2\", \"Topic2\", \"Topic2\", \"Topic2\", \"Topic2\", \"Topic2\", \"Topic2\", \"Topic2\", \"Topic2\", \"Topic2\", \"Topic2\", \"Topic2\", \"Topic2\", \"Topic2\", \"Topic2\", \"Topic2\", \"Topic2\", \"Topic2\", \"Topic2\", \"Topic2\", \"Topic2\", \"Topic2\", \"Topic2\", \"Topic2\", \"Topic2\", \"Topic2\", \"Topic2\", \"Topic2\", \"Topic2\", \"Topic2\", \"Topic2\", \"Topic2\", \"Topic2\", \"Topic2\", \"Topic2\", \"Topic2\", \"Topic2\", \"Topic2\", \"Topic2\", \"Topic2\", \"Topic2\", \"Topic2\", \"Topic2\", \"Topic2\", \"Topic2\", \"Topic2\", \"Topic2\", \"Topic2\", \"Topic2\", \"Topic2\", \"Topic2\", \"Topic2\", \"Topic2\", \"Topic2\", \"Topic2\", \"Topic2\", \"Topic2\", \"Topic2\", \"Topic2\", \"Topic2\", \"Topic2\", \"Topic2\", \"Topic2\", \"Topic2\", \"Topic2\", \"Topic2\", \"Topic2\", \"Topic2\", \"Topic2\", \"Topic2\", \"Topic2\", \"Topic2\", \"Topic2\", \"Topic2\", \"Topic2\", \"Topic2\", \"Topic2\", \"Topic3\", \"Topic3\", \"Topic3\", \"Topic3\", \"Topic3\", \"Topic3\", \"Topic3\", \"Topic3\", \"Topic3\", \"Topic3\", \"Topic3\", \"Topic3\", \"Topic3\", \"Topic3\", \"Topic3\", \"Topic3\", \"Topic3\", \"Topic3\", \"Topic3\", \"Topic3\", \"Topic3\", \"Topic3\", \"Topic3\", \"Topic3\", \"Topic3\", \"Topic3\", \"Topic3\", \"Topic3\", \"Topic3\", \"Topic3\", \"Topic3\", \"Topic3\", \"Topic3\", \"Topic3\", \"Topic3\", \"Topic3\", \"Topic3\", \"Topic3\", \"Topic3\", \"Topic3\", \"Topic3\", \"Topic3\", \"Topic3\", \"Topic3\", \"Topic3\", \"Topic3\", \"Topic3\", \"Topic3\", \"Topic3\", \"Topic3\", \"Topic3\", \"Topic3\", \"Topic3\", \"Topic3\", \"Topic3\", \"Topic3\", \"Topic3\", \"Topic3\", \"Topic3\", \"Topic3\", \"Topic3\", \"Topic3\", \"Topic3\", \"Topic3\", \"Topic3\", \"Topic3\", \"Topic3\", \"Topic3\", \"Topic3\", \"Topic3\", \"Topic3\", \"Topic3\", \"Topic3\", \"Topic3\", \"Topic4\", \"Topic4\", \"Topic4\", \"Topic4\", \"Topic4\", \"Topic4\", \"Topic4\", \"Topic4\", \"Topic4\", \"Topic4\", \"Topic4\", \"Topic4\", \"Topic4\", \"Topic4\", \"Topic4\", \"Topic4\", \"Topic4\", \"Topic4\", \"Topic4\", \"Topic4\", \"Topic4\", \"Topic4\", \"Topic4\", \"Topic4\", \"Topic4\", \"Topic4\", \"Topic4\", \"Topic4\", \"Topic4\", \"Topic4\", \"Topic4\", \"Topic4\", \"Topic4\", \"Topic4\", \"Topic4\", \"Topic4\", \"Topic4\", \"Topic4\", \"Topic4\", \"Topic4\", \"Topic4\", \"Topic4\", \"Topic4\", \"Topic4\", \"Topic4\", \"Topic4\", \"Topic4\", \"Topic4\", \"Topic4\", \"Topic4\", \"Topic4\", \"Topic4\", \"Topic4\", \"Topic4\", \"Topic4\", \"Topic4\", \"Topic4\", \"Topic4\", \"Topic4\", \"Topic4\", \"Topic4\", \"Topic4\", \"Topic4\", \"Topic4\", \"Topic4\", \"Topic4\", \"Topic4\", \"Topic4\", \"Topic4\", \"Topic4\", \"Topic4\", \"Topic4\", \"Topic4\", \"Topic4\", \"Topic4\", \"Topic4\", \"Topic5\", \"Topic5\", \"Topic5\", \"Topic5\", \"Topic5\", \"Topic5\", \"Topic5\", \"Topic5\", \"Topic5\", \"Topic5\", \"Topic5\", \"Topic5\", \"Topic5\", \"Topic5\", \"Topic5\", \"Topic5\", \"Topic5\", \"Topic5\", \"Topic5\", \"Topic5\", \"Topic5\", \"Topic5\", \"Topic5\", \"Topic5\", \"Topic5\", \"Topic5\", \"Topic5\", \"Topic5\", \"Topic5\", \"Topic5\", \"Topic5\", \"Topic5\", \"Topic5\", \"Topic5\", \"Topic5\", \"Topic5\", \"Topic5\", \"Topic5\", \"Topic5\", \"Topic5\", \"Topic5\", \"Topic5\", \"Topic5\", \"Topic5\", \"Topic5\", \"Topic5\", \"Topic5\", \"Topic5\", \"Topic5\", \"Topic5\", \"Topic5\", \"Topic5\", \"Topic5\", \"Topic5\", \"Topic5\", \"Topic5\", \"Topic5\", \"Topic5\", \"Topic5\", \"Topic5\", \"Topic5\", \"Topic5\", \"Topic5\", \"Topic5\", \"Topic5\", \"Topic5\", \"Topic5\", \"Topic5\", \"Topic5\", \"Topic5\", \"Topic5\", \"Topic5\", \"Topic5\", \"Topic5\", \"Topic5\", \"Topic5\", \"Topic5\", \"Topic5\", \"Topic5\", \"Topic5\", \"Topic5\", \"Topic6\", \"Topic6\", \"Topic6\", \"Topic6\", \"Topic6\", \"Topic6\", \"Topic6\", \"Topic6\", \"Topic6\", \"Topic6\", \"Topic6\", \"Topic6\", \"Topic6\", \"Topic6\", \"Topic6\", \"Topic6\", \"Topic6\", \"Topic6\", \"Topic6\", \"Topic6\", \"Topic6\", \"Topic6\", \"Topic6\", \"Topic6\", \"Topic6\", \"Topic6\", \"Topic6\", \"Topic6\", \"Topic6\", \"Topic6\", \"Topic6\", \"Topic6\", \"Topic6\", \"Topic6\", \"Topic6\", \"Topic6\", \"Topic6\", \"Topic6\", \"Topic6\", \"Topic6\", \"Topic6\", \"Topic6\", \"Topic6\", \"Topic6\", \"Topic6\", \"Topic6\", \"Topic6\", \"Topic6\", \"Topic6\", \"Topic6\", \"Topic6\", \"Topic6\", \"Topic6\", \"Topic6\", \"Topic6\", \"Topic6\", \"Topic6\", \"Topic6\", \"Topic6\", \"Topic6\", \"Topic6\", \"Topic6\", \"Topic6\", \"Topic6\", \"Topic6\", \"Topic6\", \"Topic6\", \"Topic6\", \"Topic6\", \"Topic6\", \"Topic6\", \"Topic6\", \"Topic6\", \"Topic6\", \"Topic6\", \"Topic6\", \"Topic6\", \"Topic6\", \"Topic6\", \"Topic6\", \"Topic6\", \"Topic7\", \"Topic7\", \"Topic7\", \"Topic7\", \"Topic7\", \"Topic7\", \"Topic7\", \"Topic7\", \"Topic7\", \"Topic7\", \"Topic7\", \"Topic7\", \"Topic7\", \"Topic7\", \"Topic7\", \"Topic7\", \"Topic7\", \"Topic7\", \"Topic7\", \"Topic7\", \"Topic7\", \"Topic7\", \"Topic7\", \"Topic7\", \"Topic7\", \"Topic7\", \"Topic7\", \"Topic7\", \"Topic7\", \"Topic7\", \"Topic7\", \"Topic7\", \"Topic7\", \"Topic7\", \"Topic7\", \"Topic7\", \"Topic7\", \"Topic7\", \"Topic7\", \"Topic7\", \"Topic7\", \"Topic7\", \"Topic7\", \"Topic7\", \"Topic7\", \"Topic7\", \"Topic7\", \"Topic7\", \"Topic7\", \"Topic7\", \"Topic7\", \"Topic7\", \"Topic7\", \"Topic7\", \"Topic7\", \"Topic7\", \"Topic7\", \"Topic7\", \"Topic7\", \"Topic7\", \"Topic7\", \"Topic7\", \"Topic7\", \"Topic7\", \"Topic7\", \"Topic7\", \"Topic7\", \"Topic7\", \"Topic7\", \"Topic7\", \"Topic7\", \"Topic8\", \"Topic8\", \"Topic8\", \"Topic8\", \"Topic8\", \"Topic8\", \"Topic8\", \"Topic8\", \"Topic8\", \"Topic8\", \"Topic8\", \"Topic8\", \"Topic8\", \"Topic8\", \"Topic8\", \"Topic8\", \"Topic8\", \"Topic8\", \"Topic8\", \"Topic8\", \"Topic8\", \"Topic8\", \"Topic8\", \"Topic8\", \"Topic8\", \"Topic8\", \"Topic8\", \"Topic8\", \"Topic8\", \"Topic8\", \"Topic8\", \"Topic8\", \"Topic8\", \"Topic8\", \"Topic8\", \"Topic8\", \"Topic8\", \"Topic8\", \"Topic8\", \"Topic8\", \"Topic8\", \"Topic8\", \"Topic8\", \"Topic8\", \"Topic8\", \"Topic8\", \"Topic8\", \"Topic8\", \"Topic8\", \"Topic8\", \"Topic8\", \"Topic8\", \"Topic8\", \"Topic8\", \"Topic8\", \"Topic8\", \"Topic8\", \"Topic8\", \"Topic8\", \"Topic8\", \"Topic8\", \"Topic8\", \"Topic8\", \"Topic8\", \"Topic8\", \"Topic8\", \"Topic8\", \"Topic8\", \"Topic8\", \"Topic8\", \"Topic9\", \"Topic9\", \"Topic9\", \"Topic9\", \"Topic9\", \"Topic9\", \"Topic9\", \"Topic9\", \"Topic9\", \"Topic9\", \"Topic9\", \"Topic9\", \"Topic9\", \"Topic9\", \"Topic9\", \"Topic9\", \"Topic9\", \"Topic9\", \"Topic9\", \"Topic9\", \"Topic9\", \"Topic9\", \"Topic9\", \"Topic9\", \"Topic9\", \"Topic9\", \"Topic9\", \"Topic9\", \"Topic9\", \"Topic9\", \"Topic9\", \"Topic9\", \"Topic9\", \"Topic9\", \"Topic9\", \"Topic9\", \"Topic9\", \"Topic9\", \"Topic9\", \"Topic9\", \"Topic9\", \"Topic9\", \"Topic9\", \"Topic9\", \"Topic9\", \"Topic9\", \"Topic9\", \"Topic9\", \"Topic9\", \"Topic9\", \"Topic9\", \"Topic9\", \"Topic9\", \"Topic9\", \"Topic9\", \"Topic9\", \"Topic9\", \"Topic9\", \"Topic9\", \"Topic9\", \"Topic9\", \"Topic9\", \"Topic9\", \"Topic9\", \"Topic9\", \"Topic9\", \"Topic9\", \"Topic9\", \"Topic9\", \"Topic9\", \"Topic9\", \"Topic9\", \"Topic9\", \"Topic9\", \"Topic9\", \"Topic9\", \"Topic9\"], \"Freq\": [28381.0, 15237.0, 20840.0, 12271.0, 7822.0, 29803.0, 8437.0, 6430.0, 7490.0, 18531.0, 9993.0, 7713.0, 21727.0, 7090.0, 20314.0, 8421.0, 12016.0, 4889.0, 3716.0, 5472.0, 4818.0, 7926.0, 8679.0, 3858.0, 7689.0, 4029.0, 4278.0, 12339.0, 6223.0, 18597.0, 1081.3404541015625, 745.1716918945312, 570.78271484375, 521.0675048828125, 496.56451416015625, 373.3564147949219, 218.31228637695312, 180.02931213378906, 168.4111785888672, 158.266357421875, 155.72100830078125, 127.98702239990234, 124.02234649658203, 123.68939971923828, 116.8275375366211, 111.46096801757812, 102.42658233642578, 99.35881042480469, 96.7338638305664, 95.36901092529297, 85.85535430908203, 84.33734130859375, 84.31553649902344, 82.02277374267578, 74.23872375488281, 223.25576782226562, 72.66041564941406, 72.0278549194336, 67.29976654052734, 66.9004135131836, 431.4634094238281, 211.98130798339844, 224.77505493164062, 218.6856231689453, 1456.0677490234375, 1809.844970703125, 24540.3828125, 3092.3173828125, 1606.04052734375, 1457.6671142578125, 1272.3665771484375, 685.5630493164062, 362.074951171875, 381.8648376464844, 7497.45166015625, 358.88677978515625, 1417.49951171875, 445.4468078613281, 2671.173095703125, 6003.1767578125, 1159.8072509765625, 9920.2548828125, 4474.36767578125, 2805.682861328125, 3037.327880859375, 9290.095703125, 7097.74072265625, 2526.2158203125, 3631.149169921875, 2149.65576171875, 9512.734375, 9562.662109375, 4160.15185546875, 3774.192138671875, 5744.0751953125, 5295.0751953125, 3034.193115234375, 3113.779541015625, 6310.001953125, 7347.375, 3373.204345703125, 3364.320068359375, 6041.07958984375, 6583.51220703125, 5226.9033203125, 3829.66796875, 3342.522705078125, 4350.99365234375, 4743.580078125, 4864.64794921875, 4494.8505859375, 3454.19189453125, 4370.09716796875, 3570.61669921875, 3615.07373046875, 4080.151123046875, 3645.67333984375, 3550.381103515625, 890.58837890625, 879.5576171875, 467.4679870605469, 420.1712341308594, 353.01373291015625, 350.15338134765625, 317.998046875, 300.6094970703125, 228.8577880859375, 216.3451690673828, 183.62208557128906, 173.12371826171875, 157.72572326660156, 141.38613891601562, 1435.5565185546875, 140.01119995117188, 133.49478149414062, 131.5068817138672, 128.05674743652344, 2829.55615234375, 726.77587890625, 110.69244384765625, 108.2932357788086, 106.15560913085938, 101.28944396972656, 98.88011169433594, 98.81242370605469, 98.28524017333984, 89.35639953613281, 84.78612518310547, 770.50146484375, 328.9597473144531, 514.453125, 264.582275390625, 1593.05810546875, 185.55813598632812, 2174.759521484375, 837.4819946289062, 524.1946411132812, 389.966064453125, 755.5496826171875, 2343.078369140625, 733.9957275390625, 563.5164794921875, 1184.3096923828125, 1505.0999755859375, 1180.0443115234375, 5257.3779296875, 2377.637939453125, 1385.9571533203125, 1697.63134765625, 2654.023193359375, 2052.978515625, 2092.615478515625, 1077.8848876953125, 2543.413330078125, 1614.6651611328125, 3356.113525390625, 3840.16943359375, 3308.869384765625, 2471.521728515625, 1491.208740234375, 2714.321044921875, 2382.201171875, 2930.659423828125, 1411.870361328125, 2372.05029296875, 3913.953125, 1469.8848876953125, 2174.318603515625, 3090.48193359375, 1800.8206787109375, 2409.124755859375, 2173.949462890625, 2135.1015625, 2305.302734375, 2248.1689453125, 1935.39013671875, 1962.5140380859375, 1958.930419921875, 1953.9486083984375, 1926.10400390625, 2131.805419921875, 1569.6436767578125, 1028.63037109375, 985.7416381835938, 972.7568359375, 572.3992919921875, 513.5408325195312, 430.8086242675781, 328.8526306152344, 324.10577392578125, 284.81304931640625, 275.25933837890625, 252.56459045410156, 231.8066864013672, 205.01336669921875, 175.46937561035156, 165.2343292236328, 158.42124938964844, 147.0540313720703, 596.4795532226562, 135.29945373535156, 127.33783721923828, 122.65361785888672, 116.94647979736328, 112.64632415771484, 110.74211883544922, 104.70443725585938, 100.74656677246094, 95.29141998291016, 90.12151336669922, 3958.130126953125, 4733.26123046875, 339.3555908203125, 485.3161315917969, 182.06834411621094, 286.9128112792969, 355.069091796875, 2244.91796875, 1923.8116455078125, 2524.218994140625, 905.3798828125, 4918.87255859375, 2487.0703125, 1833.5494384765625, 7463.546875, 4236.45556640625, 1223.10302734375, 13757.51953125, 5591.84912109375, 1090.439453125, 800.5523071289062, 831.5411987304688, 2922.13623046875, 1592.5390625, 10298.9150390625, 3631.660400390625, 3753.89794921875, 3513.281005859375, 1905.95166015625, 3063.06982421875, 1502.6326904296875, 3971.703857421875, 3268.067626953125, 2768.98291015625, 2896.730224609375, 2301.611572265625, 2455.498046875, 2461.3564453125, 2801.51904296875, 2170.868896484375, 2288.247314453125, 2350.75146484375, 2326.7041015625, 2243.822509765625, 1075.9161376953125, 681.2858276367188, 681.3162841796875, 651.8104248046875, 520.5538330078125, 424.58984375, 336.39874267578125, 307.34149169921875, 306.72393798828125, 294.40167236328125, 298.06549072265625, 357.81561279296875, 804.1541137695312, 177.22483825683594, 172.043701171875, 162.54443359375, 144.92333984375, 144.07260131835938, 138.8597869873047, 132.04933166503906, 131.15721130371094, 125.28050231933594, 115.30831909179688, 113.6800537109375, 109.82659912109375, 93.51749420166016, 91.11943054199219, 82.57523345947266, 1840.99951171875, 78.3215560913086, 600.517578125, 1455.1851806640625, 424.1322326660156, 1021.5962524414062, 409.0856628417969, 1557.2713623046875, 3303.333984375, 1968.2607421875, 3761.766357421875, 614.8905029296875, 3799.09326171875, 9488.7392578125, 216.3354034423828, 4241.0029296875, 510.944091796875, 1491.0631103515625, 935.5760498046875, 3896.375244140625, 4512.63232421875, 781.6655883789062, 672.6548461914062, 3658.798095703125, 4181.5185546875, 2864.033203125, 3928.957763671875, 1815.376220703125, 1054.6375732421875, 5873.53466796875, 3686.85791015625, 1023.8897094726562, 3295.620361328125, 3052.034912109375, 2108.0927734375, 4553.5859375, 3759.9814453125, 3626.589111328125, 3830.603271484375, 2479.1201171875, 3946.884765625, 2042.7169189453125, 2825.311279296875, 2740.468017578125, 2383.94580078125, 2212.474365234375, 1927.892333984375, 1916.633544921875, 977.4263916015625, 602.8057861328125, 400.4051208496094, 349.8091735839844, 3706.263427734375, 319.7938537597656, 281.7337646484375, 269.9662780761719, 243.14468383789062, 195.58441162109375, 178.13076782226562, 164.0154266357422, 148.5508270263672, 141.091552734375, 137.05621337890625, 133.29052734375, 116.72502136230469, 116.42137908935547, 112.54533386230469, 93.57737731933594, 91.63872528076172, 89.5580825805664, 87.3623275756836, 85.9664077758789, 84.98182678222656, 83.98204040527344, 83.34135437011719, 82.4794921875, 80.29573822021484, 80.01775360107422, 2076.339599609375, 574.7701416015625, 484.971923828125, 2527.88525390625, 431.808837890625, 7470.671875, 545.4080810546875, 219.00088500976562, 364.40264892578125, 539.3953247070312, 194.81044006347656, 305.7674560546875, 471.6903381347656, 378.3190612792969, 2083.131103515625, 381.32354736328125, 4820.474609375, 1823.39013671875, 544.8565063476562, 872.4446411132812, 780.4988403320312, 587.3174438476562, 3278.85107421875, 2638.024169921875, 2621.578857421875, 684.1427001953125, 2434.800048828125, 5557.0283203125, 609.0792236328125, 2453.235595703125, 1217.04541015625, 2906.510498046875, 1638.9927978515625, 984.3013305664062, 3722.124267578125, 2120.75732421875, 2660.302734375, 2500.052734375, 1878.387451171875, 1461.609375, 2381.714111328125, 2275.809326171875, 2567.28173828125, 1305.2122802734375, 1874.01953125, 2074.28369140625, 2122.08349609375, 1944.6024169921875, 1644.2806396484375, 1731.265625, 1472.9842529296875, 727.4411010742188, 601.09130859375, 551.3359375, 405.004150390625, 318.1843566894531, 207.2519073486328, 193.9966583251953, 188.5013885498047, 187.2366180419922, 148.74237060546875, 143.42703247070312, 133.3421173095703, 130.02943420410156, 127.92356872558594, 768.8220825195312, 120.27835845947266, 118.77828216552734, 118.53868103027344, 115.71098327636719, 115.29966735839844, 112.81678771972656, 105.17013549804688, 103.61385345458984, 95.754150390625, 93.90735626220703, 91.37548065185547, 90.85365295410156, 89.24756622314453, 85.14607238769531, 85.14607238769531, 700.9942016601562, 1007.7080078125, 610.636474609375, 193.74354553222656, 973.8425903320312, 130.2141876220703, 116.48111724853516, 304.20465087890625, 2853.79052734375, 565.545654296875, 203.67437744140625, 1056.869384765625, 722.80615234375, 737.9525756835938, 1370.0079345703125, 639.1126708984375, 855.5255737304688, 939.942626953125, 835.7286376953125, 546.0661010742188, 2274.286865234375, 1845.6875, 1646.7764892578125, 1076.0672607421875, 529.6256713867188, 1230.2130126953125, 931.0645141601562, 2602.64453125, 1592.396240234375, 673.6146240234375, 1656.2225341796875, 1287.3626708984375, 3405.20361328125, 1868.322998046875, 1086.0450439453125, 1889.0263671875, 1151.238525390625, 1121.689697265625, 1387.222412109375, 1663.400146484375, 1015.9934692382812, 1356.2340087890625, 1212.3985595703125, 1455.5791015625, 1373.5185546875, 1070.762939453125, 1249.6278076171875, 1236.4696044921875, 1056.0052490234375, 1153.531005859375, 1044.6234130859375, 1239.18359375, 921.1364135742188, 747.091064453125, 696.7324829101562, 635.60791015625, 382.64251708984375, 377.05877685546875, 370.0060119628906, 301.95751953125, 291.9538879394531, 274.85028076171875, 246.5269775390625, 243.14768981933594, 228.9719696044922, 207.9502716064453, 207.55320739746094, 172.33847045898438, 167.74951171875, 161.86448669433594, 158.2516632080078, 158.00564575195312, 153.91331481933594, 146.66519165039062, 139.76731872558594, 134.1669464111328, 133.40049743652344, 131.11636352539062, 116.97366333007812, 107.71554565429688, 101.24103546142578, 578.8994140625, 328.7581787109375, 666.8121337890625, 265.5505065917969, 12419.7626953125, 512.2907104492188, 1270.03955078125, 485.33209228515625, 432.95623779296875, 225.40391540527344, 332.9996337890625, 2023.85595703125, 909.955322265625, 854.4322509765625, 3871.06494140625, 1325.516845703125, 1781.978515625, 1102.130126953125, 1240.716552734375, 1131.099853515625, 863.3639526367188, 1064.4871826171875, 2951.03759765625, 1994.9232177734375, 1898.1761474609375, 2244.39453125, 1836.2210693359375, 1805.089111328125, 1477.2852783203125, 1286.2861328125, 1085.909912109375, 1239.4332275390625, 1049.2230224609375, 1126.842529296875, 1035.9190673828125, 986.9345703125, 1036.4215087890625, 962.51171875, 945.9111938476562, 950.657958984375, 948.3090209960938, 810.7879638671875, 525.0961303710938, 395.3752136230469, 385.7242431640625, 366.6449890136719, 332.7109680175781, 325.0434265136719, 310.28436279296875, 307.3749084472656, 299.0675354003906, 212.1405029296875, 207.6612548828125, 184.34506225585938, 183.39404296875, 173.15542602539062, 159.9934539794922, 117.67382049560547, 466.5977478027344, 94.3694839477539, 93.49109649658203, 90.60379028320312, 86.10975646972656, 85.83614349365234, 79.46621704101562, 77.63841247558594, 74.19041442871094, 73.04501342773438, 71.47120666503906, 71.17472839355469, 65.07766723632812, 1031.162109375, 734.4915161132812, 1062.467041015625, 160.56744384765625, 1279.663330078125, 1263.4527587890625, 201.03915405273438, 1383.167724609375, 1973.8553466796875, 2130.202880859375, 204.18312072753906, 1123.2138671875, 5239.05126953125, 3100.617431640625, 659.3213500976562, 2433.05322265625, 504.4309997558594, 868.980712890625, 1450.29345703125, 843.0669555664062, 447.4867858886719, 2709.61572265625, 3038.669921875, 819.6895141601562, 982.744140625, 1469.6549072265625, 1564.2152099609375, 1063.3916015625, 1212.89599609375, 1268.3648681640625, 1374.391845703125, 1161.2957763671875, 855.8712158203125, 1095.9786376953125, 964.2973022460938, 974.8316040039062, 941.5953369140625, 994.1062622070312, 910.2452392578125, 858.488525390625, 1622.6436767578125, 752.7774658203125, 618.1981201171875, 601.8828735351562, 498.0049133300781, 394.0066223144531, 340.171142578125, 424.1100158691406, 221.1018524169922, 213.77268981933594, 154.31088256835938, 152.5185546875, 146.3900146484375, 146.32858276367188, 144.31723022460938, 103.9229736328125, 100.82726287841797, 93.07999420166016, 90.79376220703125, 85.64387512207031, 85.19760131835938, 84.29544067382812, 81.49027252197266, 74.26705169677734, 73.45653533935547, 73.33134460449219, 66.21762084960938, 66.19730377197266, 65.76243591308594, 63.892574310302734, 462.0924987792969, 633.1129760742188, 147.1559600830078, 1356.89306640625, 293.3936462402344, 23602.470703125, 160.98590087890625, 733.5709838867188, 318.77459716796875, 170.5322265625, 193.5943603515625, 647.4561767578125, 3200.88525390625, 664.499267578125, 4462.5751953125, 1175.3875732421875, 4534.7685546875, 787.2671508789062, 601.86474609375, 353.0311584472656, 3396.89404296875, 591.3217163085938, 782.6573486328125, 2740.010009765625, 2171.726318359375, 1033.4049072265625, 2551.401123046875, 859.0733032226562, 2487.19189453125, 1759.510986328125, 858.3387451171875, 1917.372802734375, 2411.318603515625, 1480.41845703125, 1460.830078125, 1187.5638427734375, 1718.180419921875, 1347.4398193359375, 1196.511962890625, 1232.6258544921875, 793.0989379882812, 1107.137451171875, 1039.54541015625, 933.0449829101562, 899.7427368164062, 905.6880493164062, 872.1876831054688], \"Term\": [\"data\", \"secur\", \"test\", \"network\", \"cloud\", \"project\", \"sql\", \"market\", \"databas\", \"engin\", \"web\", \"java\", \"softwar\", \"analyst\", \"system\", \"architectur\", \"inform\", \"net\", \"aw\", \"architect\", \"model\", \"server\", \"report\", \"digit\", \"success\", \"javascript\", \"risk\", \"function\", \"code\", \"product\", \"genesi\", \"workday\", \"peoplesoft\", \"pmp\", \"abap\", \"epic\", \"viva\", \"htc\", \"krono\", \"cutter\", \"impedi\", \"squir\", \"ariba\", \"mwbe\", \"pmi\", \"ntt\", \"tel\", \"percent\", \"revit\", \"hris\", \"eclaro\", \"undu\", \"hardship\", \"amnesti\", \"cpq\", \"pmo\", \"ppm\", \"unavail\", \"smci\", \"unlaw\", \"hcm\", \"srm\", \"pega\", \"elicit\", \"deliver\", \"facilit\", \"project\", \"stakehold\", \"scope\", \"budget\", \"owner\", \"timelin\", \"conflict\", \"backlog\", \"plan\", \"matrix\", \"priorit\", \"mileston\", \"defin\", \"ensur\", \"prioriti\", \"process\", \"meet\", \"resourc\", \"deliveri\", \"requir\", \"function\", \"leadership\", \"identifi\", \"schedul\", \"abil\", \"technic\", \"chang\", \"effect\", \"lead\", \"document\", \"demonstr\", \"multipl\", \"implement\", \"product\", \"improv\", \"execut\", \"provid\", \"solut\", \"custom\", \"report\", \"organ\", \"program\", \"includ\", \"strong\", \"understand\", \"analysi\", \"test\", \"issu\", \"excel\", \"system\", \"user\", \"respons\", \"coast\", \"sga\", \"allstat\", \"women\", \"femal\", \"vanderhouwen\", \"fastest\", \"career\", \"admir\", \"breakthrough\", \"wbe\", \"sgainc\", \"jpmorgan\", \"fiserv\", \"fortun\", \"skyrocket\", \"compucom\", \"brilliant\", \"ascent\", \"compani\", \"believ\", \"midmarket\", \"surefir\", \"smarter\", \"usaa\", \"unlock\", \"asg\", \"unsolicit\", \"forb\", \"servant\", \"reward\", \"deloitt\", \"adp\", \"cgi\", \"visit\", \"chase\", \"staff\", \"headquart\", \"award\", \"fun\", \"placement\", \"peopl\", \"veteran\", \"presenc\", \"match\", \"recruit\", \"want\", \"client\", \"talent\", \"competit\", \"offer\", \"innov\", \"leader\", \"grow\", \"encourag\", \"opportun\", \"firm\", \"group\", \"consult\", \"help\", \"learn\", \"great\", \"profession\", \"partner\", \"industri\", \"transform\", \"drive\", \"solut\", \"valu\", \"status\", \"provid\", \"person\", \"build\", \"success\", \"look\", \"lead\", \"inform\", \"best\", \"time\", \"role\", \"high\", \"includ\", \"angular\", \"react\", \"mvc\", \"jqueri\", \"asp\", \"angularj\", \"bootstrap\", \"ajax\", \"reactj\", \"typescript\", \"vue\", \"wcf\", \"frontend\", \"redux\", \"jsp\", \"jpa\", \"orm\", \"bdd\", \"jasmin\", \"selenium\", \"wpf\", \"webpack\", \"strut\", \"sdet\", \"ember\", \"fpga\", \"knockout\", \"ejb\", \"arthur\", \"linq\", \"javascript\", \"net\", \"junit\", \"hibern\", \"sass\", \"eclips\", \"tdd\", \"css\", \"front\", \"html\", \"android\", \"code\", \"rest\", \"spring\", \"web\", \"framework\", \"debug\", \"test\", \"java\", \"xml\", \"json\", \"soap\", \"api\", \"cod\", \"softwar\", \"autom\", \"end\", \"sql\", \"mobil\", \"agil\", \"stack\", \"engin\", \"strong\", \"program\", \"understand\", \"write\", \"tool\", \"integr\", \"product\", \"build\", \"environ\", \"solut\", \"technic\", \"perform\", \"switch\", \"lan\", \"wan\", \"printer\", \"citrix\", \"peripher\", \"sccm\", \"dhcp\", \"voip\", \"helpdesk\", \"restor\", \"workstat\", \"backup\", \"bgp\", \"telephoni\", \"pcs\", \"netapp\", \"mpls\", \"ospf\", \"vsphere\", \"nas\", \"vlan\", \"noc\", \"avaya\", \"vdi\", \"snmp\", \"qos\", \"rack\", \"desk\", \"eigrp\", \"router\", \"directori\", \"vpn\", \"vmware\", \"laptop\", \"ticket\", \"instal\", \"desktop\", \"hardwar\", \"wireless\", \"window\", \"network\", \"ccnp\", \"troubleshoot\", \"dns\", \"upgrad\", \"technician\", \"administr\", \"server\", \"rout\", \"patch\", \"configur\", \"issu\", \"microsoft\", \"problem\", \"resolv\", \"storag\", \"system\", \"oper\", \"virtual\", \"user\", \"maintain\", \"monitor\", \"technic\", \"environ\", \"custom\", \"provid\", \"activ\", \"softwar\", \"infrastructur\", \"perform\", \"abil\", \"includ\", \"relat\", \"help\", \"level\", \"docker\", \"kubernet\", \"apex\", \"cassandra\", \"aw\", \"paa\", \"lightn\", \"terraform\", \"lambda\", \"elast\", \"rds\", \"visualforc\", \"redi\", \"elasticsearch\", \"openshift\", \"solr\", \"dynamodb\", \"serverless\", \"cloudform\", \"apige\", \"mule\", \"openstack\", \"artifactori\", \"dynatrac\", \"sre\", \"rabbitmq\", \"boomi\", \"golang\", \"soql\", \"cloudwatch\", \"devop\", \"ansibl\", \"chef\", \"azur\", \"puppet\", \"cloud\", \"kafka\", \"iaa\", \"mulesoft\", \"amazon\", \"tibco\", \"bash\", \"middlewar\", \"orchestr\", \"python\", \"iot\", \"architectur\", \"linux\", \"nosql\", \"jenkin\", \"pipelin\", \"shell\", \"platform\", \"deploy\", \"architect\", \"microservic\", \"infrastructur\", \"engin\", \"contain\", \"autom\", \"scale\", \"build\", \"script\", \"distribut\", \"solut\", \"java\", \"integr\", \"tool\", \"enterpris\", \"hand\", \"implement\", \"environ\", \"softwar\", \"api\", \"lead\", \"product\", \"system\", \"strong\", \"understand\", \"technic\", \"high\", \"reserv\", \"copyright\", \"tax\", \"patient\", \"plant\", \"gas\", \"trial\", \"laboratori\", \"chemic\", \"kso\", \"nurs\", \"oil\", \"complaint\", \"oncolog\", \"kforc\", \"badg\", \"fda\", \"court\", \"hazard\", \"hvac\", \"gov\", \"autocad\", \"religi\", \"plc\", \"mastech\", \"harass\", \"analog\", \"pcb\", \"wehmil\", \"barri\", \"safeti\", \"electr\", \"click\", \"cpa\", \"verif\", \"scada\", \"schemat\", \"pharmaceut\", \"receiv\", \"mechan\", \"environment\", \"verifi\", \"link\", \"clinic\", \"forward\", \"proud\", \"characterist\", \"manufactur\", \"reason\", \"accommod\", \"protect\", \"qualifi\", \"origin\", \"word\", \"condit\", \"equip\", \"form\", \"status\", \"regard\", \"go\", \"complet\", \"complianc\", \"engin\", \"document\", \"consider\", \"perform\", \"unit\", \"account\", \"look\", \"process\", \"duti\", \"oper\", \"industri\", \"abil\", \"provid\", \"direct\", \"requir\", \"includ\", \"control\", \"system\", \"person\", \"cyber\", \"vulner\", \"threat\", \"dod\", \"secret\", \"sci\", \"cissp\", \"dsa\", \"nist\", \"soc\", \"intrus\", \"bhge\", \"armi\", \"forens\", \"siem\", \"unisi\", \"attack\", \"navi\", \"dhs\", \"cism\", \"ip\", \"cisa\", \"sailpoint\", \"faa\", \"civilian\", \"idm\", \"grc\", \"postur\", \"dss\", \"giac\", \"leido\", \"privaci\", \"defens\", \"pci\", \"secur\", \"detect\", \"clearanc\", \"cybersecur\", \"iam\", \"penetr\", \"air\", \"risk\", \"mission\", \"audit\", \"inform\", \"complianc\", \"control\", \"assess\", \"polici\", \"access\", \"incid\", \"relev\", \"system\", \"oper\", \"program\", \"engin\", \"network\", \"provid\", \"relat\", \"respons\", \"analysi\", \"implement\", \"activ\", \"requir\", \"process\", \"integr\", \"technic\", \"tool\", \"includ\", \"test\", \"data\", \"nbsp\", \"advertis\", \"seo\", \"tcg\", \"photoshop\", \"wirefram\", \"rodan\", \"aem\", \"drupal\", \"copywrit\", \"indesign\", \"skincar\", \"artist\", \"wordpress\", \"mockup\", \"skin\", \"banner\", \"illustr\", \"euromonitor\", \"rsp\", \"editori\", \"brochur\", \"sem\", \"photograph\", \"photographi\", \"magento\", \"adword\", \"entrepreneur\", \"grammar\", \"stanford\", \"adob\", \"grant\", \"graphic\", \"anim\", \"campaign\", \"brand\", \"sketch\", \"media\", \"factor\", \"content\", \"ad\", \"social\", \"market\", \"digit\", \"channel\", \"creativ\", \"edit\", \"fund\", \"sale\", \"websit\", \"copi\", \"success\", \"product\", \"visual\", \"research\", \"creat\", \"user\", \"strategi\", \"look\", \"web\", \"custom\", \"strong\", \"field\", \"abil\", \"role\", \"includ\", \"understand\", \"project\", \"write\", \"execut\", \"etl\", \"tableau\", \"informatica\", \"sas\", \"ssis\", \"ssrs\", \"hive\", \"dba\", \"kelli\", \"teradata\", \"hyperion\", \"unstructur\", \"datastag\", \"ssas\", \"cogno\", \"cleans\", \"hdfs\", \"qlikview\", \"powerbi\", \"obie\", \"microstrategi\", \"vba\", \"cloudera\", \"pig\", \"erwin\", \"essbas\", \"mapreduc\", \"jcl\", \"olap\", \"qlik\", \"extract\", \"hana\", \"mart\", \"warehous\", \"edi\", \"data\", \"dimension\", \"hadoop\", \"metadata\", \"talend\", \"dataset\", \"statist\", \"model\", \"spark\", \"databas\", \"queri\", \"sql\", \"programm\", \"dashboard\", \"scientist\", \"analyst\", \"sme\", \"convers\", \"analyt\", \"architect\", \"financ\", \"report\", \"intellig\", \"function\", \"analysi\", \"specialist\", \"integr\", \"system\", \"tool\", \"perform\", \"consult\", \"project\", \"solut\", \"relat\", \"process\", \"big\", \"requir\", \"strong\", \"server\", \"creat\", \"implement\", \"understand\"], \"Total\": [28381.0, 15237.0, 20840.0, 12271.0, 7822.0, 29803.0, 8437.0, 6430.0, 7490.0, 18531.0, 9993.0, 7713.0, 21727.0, 7090.0, 20314.0, 8421.0, 12016.0, 4889.0, 3716.0, 5472.0, 4818.0, 7926.0, 8679.0, 3858.0, 7689.0, 4029.0, 4278.0, 12339.0, 6223.0, 18597.0, 1082.2210693359375, 746.05224609375, 571.6633911132812, 521.9479370117188, 497.44512939453125, 374.2369384765625, 219.19358825683594, 180.9104766845703, 169.2916717529297, 159.14767456054688, 156.60140991210938, 128.86837768554688, 124.90282440185547, 124.57072448730469, 117.70787811279297, 112.34197235107422, 103.31028747558594, 100.2413330078125, 97.61746978759766, 96.24939727783203, 86.73716735839844, 85.2188949584961, 85.1971664428711, 82.90746307373047, 75.11919403076172, 225.9070281982422, 73.54095458984375, 72.90902709960938, 68.18102264404297, 67.78341674804688, 439.1247863769531, 216.33572387695312, 229.89105224609375, 224.9079132080078, 1580.1219482421875, 1996.978515625, 29803.859375, 3653.703125, 1843.1507568359375, 1679.5655517578125, 1479.6890869140625, 768.347412109375, 394.1056213378906, 424.2728271484375, 11049.216796875, 401.02630615234375, 1816.898193359375, 511.53570556640625, 3744.536376953125, 9424.1025390625, 1487.700927734375, 16590.943359375, 6784.84033203125, 4083.629638671875, 4502.10791015625, 16393.390625, 12339.708984375, 3764.50927734375, 5819.47802734375, 3252.886962890625, 19474.201171875, 20675.580078125, 7446.7392578125, 6823.3623046875, 11798.3212890625, 10778.5107421875, 5287.36962890625, 5520.09521484375, 14422.712890625, 18597.052734375, 6220.36328125, 6225.955078125, 17656.373046875, 20403.974609375, 14931.18359375, 8679.8974609375, 6848.21484375, 12352.24609375, 15031.271484375, 16612.267578125, 14112.857421875, 7434.9248046875, 20840.5, 9141.673828125, 9756.158203125, 20314.76953125, 10595.48046875, 9573.9638671875, 891.4693603515625, 880.438232421875, 468.3486022949219, 421.0523376464844, 353.8944091796875, 351.0339660644531, 318.87884521484375, 301.4902648925781, 229.73829650878906, 217.22581481933594, 184.50277709960938, 174.0043182373047, 158.6062469482422, 142.26687622070312, 1444.5516357421875, 140.8917236328125, 134.37559509277344, 132.38743591308594, 128.93746948242188, 2849.896484375, 732.3624877929688, 111.57312774658203, 109.17391967773438, 107.03624725341797, 102.17070007324219, 99.76082611083984, 99.69332885742188, 99.16588592529297, 90.23709869384766, 85.6669921875, 783.7445068359375, 333.68865966796875, 528.624755859375, 270.1528625488281, 1697.3994140625, 189.236328125, 2364.57763671875, 886.7094116210938, 553.8591918945312, 409.63604736328125, 830.6936645507812, 2779.253173828125, 822.4105834960938, 624.8846435546875, 1400.4100341796875, 1819.9666748046875, 1403.039306640625, 7315.89697265625, 3068.361572265625, 1725.757568359375, 2232.737548828125, 3797.396484375, 2953.97509765625, 3039.123779296875, 1380.1865234375, 4081.3427734375, 2431.890869140625, 6366.9658203125, 7655.81494140625, 7120.548828125, 5051.921875, 2456.7861328125, 6016.24658203125, 5193.119140625, 7380.857421875, 2335.340087890625, 6684.2900390625, 20403.974609375, 2679.347412109375, 6374.18798828125, 17656.373046875, 4520.5732421875, 10158.763671875, 7689.439453125, 8468.529296875, 11798.3212890625, 12016.0712890625, 6224.314453125, 9968.7861328125, 10835.4189453125, 11025.7646484375, 15031.271484375, 2132.685791015625, 1570.5240478515625, 1029.51025390625, 986.6217651367188, 973.6369018554688, 573.2859497070312, 514.4208984375, 431.6886901855469, 329.73272705078125, 324.98583984375, 285.693115234375, 276.1393737792969, 253.4446258544922, 232.68670654296875, 205.89349365234375, 176.3494415283203, 166.11447143554688, 159.30137634277344, 147.93402099609375, 600.0698852539062, 136.17953491210938, 128.2178497314453, 123.5336685180664, 117.82652282714844, 113.52629852294922, 111.62266540527344, 105.58439636230469, 101.62664031982422, 96.17202758789062, 91.00153350830078, 4029.109619140625, 4889.5830078125, 342.8267822265625, 494.3415832519531, 184.1192626953125, 291.61273193359375, 363.1311340332031, 2439.89306640625, 2122.18115234375, 2895.3408203125, 986.8261108398438, 6223.763671875, 2992.5126953125, 2186.609130859375, 9993.365234375, 5492.56103515625, 1432.7078857421875, 20840.5, 7713.38037109375, 1275.6265869140625, 921.1325073242188, 975.9155883789062, 4228.12255859375, 2228.0712890625, 21727.802734375, 6980.35546875, 7726.80126953125, 8437.322265625, 3482.9423828125, 7520.7138671875, 2866.83154296875, 18531.70703125, 16612.267578125, 12352.24609375, 14112.857421875, 9386.4443359375, 11552.111328125, 11729.5546875, 18597.052734375, 10158.763671875, 14693.31640625, 20403.974609375, 20675.580078125, 14487.080078125, 1076.7896728515625, 682.1591186523438, 682.1895751953125, 652.6837768554688, 521.4271240234375, 425.4632263183594, 337.2721252441406, 308.2148132324219, 307.59747314453125, 295.2750244140625, 299.1350402832031, 359.21734619140625, 807.8732299804688, 178.09817504882812, 172.91725158691406, 163.41778564453125, 145.7967071533203, 144.9459228515625, 139.7331085205078, 132.92276000976562, 132.03070068359375, 126.15385437011719, 116.18172454833984, 114.55339050292969, 110.69994354248047, 94.39104461669922, 91.99274444580078, 83.44862365722656, 1861.4405517578125, 79.19487762451172, 611.2583618164062, 1495.34619140625, 430.9795837402344, 1051.3414306640625, 418.1415710449219, 1636.1146240234375, 3536.537353515625, 2106.492919921875, 4130.26318359375, 643.4970703125, 4253.4169921875, 12271.48828125, 222.56736755371094, 5433.70166015625, 567.9172973632812, 1849.48779296875, 1145.045166015625, 5812.455078125, 7926.1474609375, 961.0554809570312, 805.4951171875, 6582.64453125, 9141.673828125, 5754.29345703125, 9546.2900390625, 3401.886962890625, 1569.4993896484375, 20314.76953125, 11336.8544921875, 1504.5965576171875, 10595.48046875, 9747.552734375, 5176.54833984375, 20675.580078125, 14693.31640625, 14931.18359375, 17656.373046875, 8010.81640625, 21727.802734375, 5727.95654296875, 14487.080078125, 19474.201171875, 15031.271484375, 12407.34765625, 7120.548828125, 9143.7861328125, 978.3101196289062, 603.6893310546875, 401.2889099121094, 350.6929626464844, 3716.1318359375, 320.67755126953125, 282.61773681640625, 270.8498840332031, 244.02833557128906, 196.4680938720703, 179.0144500732422, 164.899169921875, 149.43450927734375, 141.97532653808594, 137.9398651123047, 134.1742706298828, 117.60868072509766, 117.30503845214844, 113.42892456054688, 94.46104431152344, 92.5223159790039, 90.44182586669922, 88.2459487915039, 86.85013580322266, 85.86548614501953, 84.86571502685547, 84.22500610351562, 83.36321258544922, 81.1794662475586, 80.90138244628906, 2111.3193359375, 581.3779296875, 491.6742858886719, 2606.7646484375, 438.7616271972656, 7822.1025390625, 558.2533569335938, 222.89141845703125, 375.3779296875, 568.063720703125, 200.63389587402344, 321.79058837890625, 512.3751220703125, 410.759521484375, 2981.553955078125, 437.63360595703125, 8421.638671875, 2789.489990234375, 683.446533203125, 1210.4127197265625, 1080.5140380859375, 774.7938842773438, 6864.4345703125, 5397.91357421875, 5472.3486328125, 946.6146850585938, 5727.95654296875, 18531.70703125, 842.97509765625, 6980.35546875, 2486.94091796875, 10158.763671875, 4499.66162109375, 1907.416015625, 20403.974609375, 7713.38037109375, 11729.5546875, 11552.111328125, 6797.92138671875, 4777.6650390625, 14422.712890625, 14693.31640625, 21727.802734375, 4228.12255859375, 11798.3212890625, 18597.052734375, 20314.76953125, 16612.267578125, 14112.857421875, 20675.580078125, 11025.7646484375, 728.3317260742188, 601.9739990234375, 552.2188110351562, 405.8871154785156, 319.0670471191406, 208.1348114013672, 194.8795928955078, 189.3851318359375, 188.11935424804688, 149.62503051757812, 144.3096466064453, 134.22512817382812, 130.91232299804688, 128.80621337890625, 774.3179321289062, 121.1612319946289, 119.66114807128906, 119.4305648803711, 116.59366607666016, 116.18231964111328, 113.69957733154297, 106.05279541015625, 104.53593444824219, 96.63677978515625, 94.79037475585938, 92.25841522216797, 91.73651885986328, 90.1302261352539, 86.0286636352539, 86.0286636352539, 710.6483154296875, 1040.3392333984375, 640.8197021484375, 199.15896606445312, 1053.282470703125, 133.0983123779297, 118.64173126220703, 328.30413818359375, 3748.942626953125, 657.4068603515625, 219.88966369628906, 1413.9462890625, 921.8439331054688, 944.160888671875, 1914.6314697265625, 807.6381225585938, 1127.869140625, 1274.5069580078125, 1121.3985595703125, 686.9832153320312, 3963.3583984375, 3254.77197265625, 2896.035400390625, 1769.83642578125, 721.3726806640625, 2209.768798828125, 1568.8095703125, 6374.18798828125, 3602.2109375, 1036.08251953125, 4132.26318359375, 3132.6376953125, 18531.70703125, 10778.5107421875, 3293.384033203125, 14487.080078125, 4180.9501953125, 3926.729248046875, 8468.529296875, 16590.943359375, 3315.012939453125, 11336.8544921875, 7380.857421875, 19474.201171875, 17656.373046875, 4452.802734375, 16393.390625, 15031.271484375, 4907.943359375, 20314.76953125, 4520.5732421875, 1240.0635986328125, 922.0164184570312, 747.9711303710938, 697.6124877929688, 636.4879760742188, 383.5226135253906, 377.9387512207031, 370.88604736328125, 302.8375244140625, 292.8339538574219, 275.7303161621094, 247.4072265625, 244.02769470214844, 229.8519287109375, 208.8302459716797, 208.43325805664062, 173.2185516357422, 168.62953186035156, 162.7445831298828, 159.1316375732422, 158.88571166992188, 154.79327392578125, 147.54522705078125, 140.64735412597656, 135.04696655273438, 134.2806396484375, 131.99661254882812, 117.8537368774414, 108.595703125, 102.12097930908203, 590.3234252929688, 335.023681640625, 699.1533813476562, 273.8153076171875, 15237.0888671875, 574.1629638671875, 1597.4559326171875, 553.9654541015625, 498.53125, 242.37847900390625, 403.21588134765625, 4278.80419921875, 1532.197021484375, 1478.763916015625, 12016.0712890625, 3132.6376953125, 4907.943359375, 2529.223388671875, 3340.30224609375, 3099.6513671875, 2127.61767578125, 3151.1181640625, 20314.76953125, 11336.8544921875, 12352.24609375, 18531.70703125, 12271.48828125, 17656.373046875, 12407.34765625, 9573.9638671875, 7434.9248046875, 14422.712890625, 8010.81640625, 16393.390625, 16590.943359375, 11729.5546875, 20675.580078125, 11552.111328125, 15031.271484375, 20840.5, 28381.462890625, 811.662109375, 525.9702758789062, 396.24932861328125, 386.5982666015625, 367.51904296875, 333.5852966308594, 325.9174499511719, 311.1585693359375, 308.24920654296875, 299.9415588378906, 213.01455688476562, 208.53530883789062, 185.21917724609375, 184.26817321777344, 174.02964782714844, 160.86758422851562, 118.54792022705078, 470.6034851074219, 95.24352264404297, 94.3651351928711, 91.47792053222656, 86.9837875366211, 86.71025085449219, 80.34029388427734, 78.51244354248047, 75.06465148925781, 73.91905975341797, 72.34544372558594, 72.04891967773438, 65.95185089111328, 1047.77197265625, 747.385986328125, 1095.566162109375, 163.7657470703125, 1333.4969482421875, 1339.0126953125, 206.55859375, 1483.3009033203125, 2162.53466796875, 2439.535888671875, 212.8959197998047, 1268.4237060546875, 6430.97314453125, 3858.703857421875, 790.38232421875, 3754.295654296875, 642.3870239257812, 1262.754638671875, 2475.2138671875, 1254.46728515625, 571.787841796875, 7689.439453125, 18597.052734375, 2217.14697265625, 3364.30810546875, 8494.283203125, 10595.48046875, 5035.603515625, 8468.529296875, 9993.365234375, 14931.18359375, 16612.267578125, 5331.62646484375, 19474.201171875, 10835.4189453125, 15031.271484375, 14112.857421875, 29803.859375, 9386.4443359375, 6225.955078125, 1623.527099609375, 753.6609497070312, 619.08154296875, 602.766357421875, 498.88836669921875, 394.8901672363281, 341.05462646484375, 425.44903564453125, 221.9860382080078, 214.65609741210938, 155.1943817138672, 153.40223693847656, 147.2734375, 147.2119598388672, 145.20079040527344, 104.8064193725586, 101.7107162475586, 93.96354675292969, 91.67724609375, 86.52729797363281, 86.08106994628906, 85.1833724975586, 82.3739013671875, 75.15052032470703, 74.34000396728516, 74.2147445678711, 67.10118865966797, 67.0808334350586, 66.64582061767578, 64.7761001586914, 472.8575744628906, 650.076904296875, 150.15048217773438, 1420.7335205078125, 304.1854553222656, 28381.462890625, 168.3015899658203, 860.6074829101562, 352.3312683105469, 180.89349365234375, 207.5736846923828, 806.102783203125, 4818.17578125, 851.035888671875, 7490.69140625, 1645.4947509765625, 8437.322265625, 1076.0084228515625, 809.3742065429688, 428.2731018066406, 7090.93701171875, 830.9310302734375, 1179.6922607421875, 6169.51611328125, 5472.3486328125, 2044.624267578125, 8679.8974609375, 1735.396240234375, 12339.708984375, 7434.9248046875, 1951.7916259765625, 11729.5546875, 20314.76953125, 11552.111328125, 14487.080078125, 7655.81494140625, 29803.859375, 20403.974609375, 12407.34765625, 16590.943359375, 2149.92822265625, 16393.390625, 16612.267578125, 7926.1474609375, 8494.283203125, 14422.712890625, 14112.857421875], \"loglift\": [30.0, 29.0, 28.0, 27.0, 26.0, 25.0, 24.0, 23.0, 22.0, 21.0, 20.0, 19.0, 18.0, 17.0, 16.0, 15.0, 14.0, 13.0, 12.0, 11.0, 10.0, 9.0, 8.0, 7.0, 6.0, 5.0, 4.0, 3.0, 2.0, 1.0, 1.385200023651123, 1.3847999572753906, 1.3845000267028809, 1.3842999935150146, 1.3841999769210815, 1.3835999965667725, 1.3819999694824219, 1.381100058555603, 1.3808000087738037, 1.3803999423980713, 1.3803999423980713, 1.37909996509552, 1.3789000511169434, 1.3789000511169434, 1.378499984741211, 1.378100037574768, 1.3774000406265259, 1.3770999908447266, 1.3768999576568604, 1.3767999410629272, 1.3758000135421753, 1.375599980354309, 1.375599980354309, 1.3753000497817993, 1.3741999864578247, 1.3741999864578247, 1.373900055885315, 1.3738000392913818, 1.3730000257492065, 1.3729000091552734, 1.368399977684021, 1.3657000064849854, 1.3634999990463257, 1.3579000234603882, 1.3042000532150269, 1.287600040435791, 1.1916999816894531, 1.2192000150680542, 1.2482999563217163, 1.2443000078201294, 1.2350000143051147, 1.2719999551773071, 1.301200032234192, 1.2806999683380127, 0.998199999332428, 1.274999976158142, 1.1377999782562256, 1.2476999759674072, 1.048200011253357, 0.9350000023841858, 1.1369999647140503, 0.8716999888420105, 0.9696999788284302, 1.010699987411499, 0.9923999905586243, 0.8180999755859375, 0.8328999876976013, 0.9871000051498413, 0.9143000245094299, 0.9718000292778015, 0.6694999933242798, 0.6148999929428101, 0.8037999868392944, 0.7937999963760376, 0.6661999821662903, 0.6751999855041504, 0.8306000232696533, 0.8133999705314636, 0.5593000054359436, 0.45730000734329224, 0.7739999890327454, 0.7705000042915344, 0.31349998712539673, 0.2547999918460846, 0.33640000224113464, 0.567799985408783, 0.6686999797821045, 0.3425999879837036, 0.23270000517368317, 0.15780000388622284, 0.241799995303154, 0.6194000244140625, -0.1761000007390976, 0.44589999318122864, 0.39320001006126404, -0.219200000166893, 0.3190999925136566, 0.39399999380111694, 1.9947999715805054, 1.9947999715805054, 1.993899941444397, 1.9937000274658203, 1.993299961090088, 1.993299961090088, 1.9930000305175781, 1.992900013923645, 1.9918999671936035, 1.9917000532150269, 1.9910000562667847, 1.9907000064849854, 1.9902000427246094, 1.9895999431610107, 1.9895000457763672, 1.9895000457763672, 1.9891999959945679, 1.9890999794006348, 1.9888999462127686, 1.9886000156402588, 1.9881000518798828, 1.9879000186920166, 1.9876999855041504, 1.9874999523162842, 1.9871000051498413, 1.986899971961975, 1.986899971961975, 1.986899971961975, 1.9859999418258667, 1.9853999614715576, 1.978700041770935, 1.9815000295639038, 1.9686000347137451, 1.9749000072479248, 1.9322999715805054, 1.976199984550476, 1.9120999574661255, 1.9386999607086182, 1.9407000541687012, 1.9465999603271484, 1.9010000228881836, 1.8250999450683594, 1.8819999694824219, 1.8924000263214111, 1.8281999826431274, 1.805799961090088, 1.822700023651123, 1.6654000282287598, 1.7407000064849854, 1.7764999866485596, 1.7217999696731567, 1.6375000476837158, 1.6318999528884888, 1.6225999593734741, 1.7486000061035156, 1.5228999853134155, 1.5861999988555908, 1.3553999662399292, 1.305799961090088, 1.2294000387191772, 1.2807999849319458, 1.496500015258789, 1.1999000310897827, 1.2165000438690186, 1.072100043296814, 1.4924999475479126, 0.9598000049591064, 0.34459999203681946, 1.395400047302246, 0.920199990272522, 0.2529999911785126, 1.0753999948501587, 0.5566999912261963, 0.7325000166893005, 0.617900013923645, 0.3630000054836273, 0.3197000026702881, 0.8276000022888184, 0.37059998512268066, 0.28540000319480896, 0.2653999924659729, -0.05889999866485596, 2.050299882888794, 2.0501999855041504, 2.0499000549316406, 2.049799919128418, 2.049799919128418, 2.0492000579833984, 2.0490000247955322, 2.0487000942230225, 2.048099994659424, 2.0480000972747803, 2.0476999282836914, 2.047499895095825, 2.047300100326538, 2.046999931335449, 2.0464999675750732, 2.0457000732421875, 2.0453999042510986, 2.0452001094818115, 2.044800043106079, 2.0446999073028564, 2.044300079345703, 2.0439000129699707, 2.043600082397461, 2.0432000160217285, 2.0429999828338623, 2.042799949645996, 2.0423998832702637, 2.0420000553131104, 2.0415000915527344, 2.0409998893737793, 2.0329999923706055, 2.018199920654297, 2.040600061416626, 2.0322999954223633, 2.0394999980926514, 2.0344998836517334, 2.0283000469207764, 1.9674999713897705, 1.9526000022888184, 1.913599967956543, 1.9645999670028687, 1.8154000043869019, 1.8657000064849854, 1.8746000528335571, 1.7588000297546387, 1.791100025177002, 1.8926000595092773, 1.6354000568389893, 1.729099988937378, 1.8939000368118286, 1.9104000329971313, 1.8905999660491943, 1.6813000440597534, 1.714900016784668, 1.3042000532150269, 1.3973000049591064, 1.3287999629974365, 1.1746000051498413, 1.4478000402450562, 1.152500033378601, 1.4048000574111938, 0.5105000138282776, 0.42480000853538513, 0.555400013923645, 0.46720001101493835, 0.6450999975204468, 0.5022000074386597, 0.489300012588501, 0.15790000557899475, 0.5074999928474426, 0.19110000133514404, -0.11029999703168869, -0.13379999995231628, 0.18569999933242798, 2.1033999919891357, 2.1029000282287598, 2.1029000282287598, 2.1029000282287598, 2.1024999618530273, 2.1022000312805176, 2.101599931716919, 2.1013998985290527, 2.1013998985290527, 2.1012001037597656, 2.100600004196167, 2.1003000736236572, 2.099600076675415, 2.099299907684326, 2.099100112915039, 2.098900079727173, 2.0982000827789307, 2.0982000827789307, 2.097899913787842, 2.097599983215332, 2.097599983215332, 2.0973000526428223, 2.0966999530792236, 2.09660005569458, 2.096299886703491, 2.094899892807007, 2.0947000980377197, 2.0936999320983887, 2.0931999683380127, 2.093100070953369, 2.0864999294281006, 2.0769999027252197, 2.088200092315674, 2.075500011444092, 2.0822999477386475, 2.054800033569336, 2.0360000133514404, 2.03629994392395, 2.0107998847961426, 2.0587000846862793, 1.9911999702453613, 1.847000002861023, 2.0757999420166016, 1.8564000129699707, 1.9984999895095825, 1.888800024986267, 1.9021999835968018, 1.704300045967102, 1.5408999919891357, 1.8976000547409058, 1.9240000247955322, 1.5168999433517456, 1.3220000267028809, 1.406499981880188, 1.2164000272750854, 1.476199984550476, 1.7065999507904053, 0.8633000254631042, 0.98089998960495, 1.7193000316619873, 0.9363999962806702, 0.9430000185966492, 1.205899953842163, 0.5911999940872192, 0.7411999702453613, 0.6890000104904175, 0.5760999917984009, 0.9312999844551086, 0.398499995470047, 1.073099970817566, 0.46959999203681946, 0.14319999516010284, 0.262800008058548, 0.3799999952316284, 0.7976999878883362, 0.541700005531311, 2.4560000896453857, 2.455399990081787, 2.454699993133545, 2.454400062561035, 2.454200029373169, 2.4540998935699463, 2.4537999629974365, 2.4535999298095703, 2.4532999992370605, 2.452399969100952, 2.451900005340576, 2.4514999389648438, 2.4509999752044678, 2.450700044631958, 2.450500011444092, 2.4502999782562256, 2.449399948120117, 2.4493000507354736, 2.4491000175476074, 2.447499990463257, 2.4472999572753906, 2.4470999240875244, 2.4467999935150146, 2.446700096130371, 2.4465999603271484, 2.4463999271392822, 2.4463000297546387, 2.446199893951416, 2.446000099182129, 2.4458999633789062, 2.440200090408325, 2.445499897003174, 2.44320011138916, 2.4261999130249023, 2.4409000873565674, 2.410900115966797, 2.4335999488830566, 2.439300060272217, 2.4272000789642334, 2.405100107192993, 2.4274001121520996, 2.4058001041412354, 2.3742001056671143, 2.3745999336242676, 2.098299980163574, 2.319200038909912, 1.8990000486373901, 2.0316998958587646, 2.230299949645996, 2.129499912261963, 2.1315999031066895, 2.1798999309539795, 1.718000054359436, 1.7409000396728516, 1.7209999561309814, 2.132200002670288, 1.6014000177383423, 1.252500057220459, 2.1319000720977783, 1.4112000465393066, 1.742300033569336, 1.2055000066757202, 1.4470000267028809, 1.795300006866455, 0.7555000185966492, 1.1656999588012695, 0.9732000231742859, 0.9262999892234802, 1.170699954032898, 1.2725000381469727, 0.6559000015258789, 0.5917999744415283, 0.32120001316070557, 1.281499981880188, 0.6169999837875366, 0.26350000500679016, 0.19789999723434448, 0.3118000030517578, 0.30709999799728394, -0.02319999970495701, 0.4440000057220459, 2.457200050354004, 2.4570000171661377, 2.4567999839782715, 2.456199884414673, 2.4556000232696533, 2.454200029373169, 2.453900098800659, 2.453700065612793, 2.453700065612793, 2.452500104904175, 2.4523000717163086, 2.4518001079559326, 2.45169997215271, 2.4514999389648438, 2.4512999057769775, 2.4511001110076904, 2.4509999752044678, 2.450900077819824, 2.4507999420166016, 2.4507999420166016, 2.4505999088287354, 2.4500999450683594, 2.4495999813079834, 2.449199914932251, 2.4491000175476074, 2.4488000869750977, 2.448699951171875, 2.4486000537872314, 2.4481000900268555, 2.4481000900268555, 2.444700002670288, 2.4265999794006348, 2.4102001190185547, 2.4309000968933105, 2.380000114440918, 2.436500072479248, 2.440000057220459, 2.382200002670288, 2.1856000423431396, 2.3078999519348145, 2.3817999362945557, 2.16729998588562, 2.2151999473571777, 2.2119998931884766, 2.123699903488159, 2.224400043487549, 2.181999921798706, 2.153899908065796, 2.164400100708008, 2.228800058364868, 1.902999997138977, 1.8911000490188599, 1.8939000368118286, 1.960800051689148, 2.149399995803833, 1.8726999759674072, 1.9366999864578247, 1.5627000331878662, 1.6420999765396118, 2.027899980545044, 1.544100046157837, 1.569100022315979, 0.76419997215271, 0.7059000134468079, 1.3489999771118164, 0.4212000072002411, 1.1686999797821045, 1.205399990081787, 0.649399995803833, 0.15839999914169312, 1.2757999897003174, 0.335099995136261, 0.6521000266075134, -0.13529999554157257, -0.09529999643564224, 1.0333000421524048, -0.11559999734163284, -0.039500001817941666, 0.9221000075340271, -0.4101000130176544, 0.993399977684021, 2.716399908065796, 2.716200113296509, 2.71589994430542, 2.71589994430542, 2.7156999111175537, 2.7147998809814453, 2.7147998809814453, 2.7146999835968018, 2.714200019836426, 2.714099884033203, 2.713900089263916, 2.713599920272827, 2.7135000228881836, 2.7132999897003174, 2.712899923324585, 2.712899923324585, 2.7119998931884766, 2.711899995803833, 2.711699962615967, 2.7116000652313232, 2.7116000652313232, 2.711400032043457, 2.7111001014709473, 2.7107999324798584, 2.710599899291992, 2.7105000019073486, 2.710400104522705, 2.7095999717712402, 2.7090001106262207, 2.7084999084472656, 2.6975998878479004, 2.698199987411499, 2.669800043106079, 2.686500072479248, 2.512700080871582, 2.603100061416626, 2.487799882888794, 2.5848000049591064, 2.5761001110076904, 2.6445000171661377, 2.5257999897003174, 1.968400001525879, 2.1960999965667725, 2.168600082397461, 1.5844000577926636, 1.8569999933242798, 1.7039999961853027, 1.8865000009536743, 1.726699948310852, 1.7089999914169312, 1.8151999711990356, 1.6318999528884888, 0.7878999710083008, 0.9797000288963318, 0.8442000150680542, 0.6061000227928162, 0.8174999952316284, 0.436599999666214, 0.5889999866485596, 0.7098000049591064, 0.7932999730110168, 0.2630000114440918, 0.6844000220298767, 0.03970000147819519, -0.05640000104904175, 0.2418999969959259, -0.2761000096797943, 0.23199999332427979, -0.04859999939799309, -0.37040001153945923, -0.6816999912261963, 2.7625999450683594, 2.76200008392334, 2.7614998817443848, 2.761399984359741, 2.7613000869750977, 2.760999917984009, 2.760999917984009, 2.7609000205993652, 2.7607998847961426, 2.760699987411499, 2.7595999240875244, 2.759500026702881, 2.7588999271392822, 2.7588999271392822, 2.7585999965667725, 2.75819993019104, 2.7562999725341797, 2.7551000118255615, 2.7544000148773193, 2.7544000148773193, 2.7541000843048096, 2.7535998821258545, 2.753499984741211, 2.752700090408325, 2.752500057220459, 2.752000093460083, 2.751800060272217, 2.751499891281128, 2.751499891281128, 2.7502999305725098, 2.7476999759674072, 2.746299982070923, 2.7330000400543213, 2.7439000606536865, 2.7225000858306885, 2.7056000232696533, 2.736599922180176, 2.6937999725341797, 2.6723999977111816, 2.6280999183654785, 2.72189998626709, 2.6421000957489014, 2.5587000846862793, 2.5448999404907227, 2.58240008354187, 2.329900026321411, 2.521899938583374, 2.389899969100952, 2.229099988937378, 2.3661999702453613, 2.5185000896453857, 1.7206000089645386, 0.9520999789237976, 1.7685999870300293, 1.5329999923706055, 1.0092999935150146, 0.850600004196167, 1.2086000442504883, 0.8202999830245972, 0.6995000243186951, 0.3781999945640564, 0.1031000018119812, 0.9344000220298767, -0.11379999667406082, 0.34450000524520874, 0.02800000086426735, 0.05640000104904175, -0.636900007724762, 0.430400013923645, 0.7824000120162964, 2.763400077819824, 2.7627999782562256, 2.7625999450683594, 2.762500047683716, 2.762200117111206, 2.761699914932251, 2.761399984359741, 2.7607998847961426, 2.759999990463257, 2.7599000930786133, 2.7583000659942627, 2.75819993019104, 2.757999897003174, 2.757999897003174, 2.7578999996185303, 2.755500078201294, 2.7553000450134277, 2.754499912261963, 2.754300117492676, 2.753700017929077, 2.753700017929077, 2.753499984741211, 2.753200054168701, 2.75219988822937, 2.752000093460083, 2.752000093460083, 2.750699996948242, 2.750699996948242, 2.7506000995635986, 2.7502999305725098, 2.740999937057495, 2.737499952316284, 2.743799924850464, 2.7179999351501465, 2.7279000282287598, 2.5796000957489014, 2.7195000648498535, 2.604300022125244, 2.6638998985290527, 2.7049999237060547, 2.6942999362945557, 2.544800043106079, 2.3550000190734863, 2.5165998935699463, 2.2460999488830566, 2.427500009536743, 2.1431000232696533, 2.4514999389648438, 2.4677999019622803, 2.5708000659942627, 2.0280001163482666, 2.423799991607666, 2.3536999225616455, 1.952299952507019, 1.8398000001907349, 2.0815999507904053, 1.5396000146865845, 2.0608999729156494, 1.1622999906539917, 1.3228000402450562, 1.9424999952316284, 0.9527999758720398, 0.6327999830245972, 0.7093999981880188, 0.46970000863075256, 0.9003999829292297, -0.08940000087022781, 0.04650000110268593, 0.4250999987125397, 0.16429999470710754, 1.766700029373169, 0.06889999657869339, -0.007400000002235174, 0.6244999766349792, 0.5188999772071838, -0.0038999998942017555, -0.01979999989271164], \"logprob\": [30.0, 29.0, 28.0, 27.0, 26.0, 25.0, 24.0, 23.0, 22.0, 21.0, 20.0, 19.0, 18.0, 17.0, 16.0, 15.0, 14.0, 13.0, 12.0, 11.0, 10.0, 9.0, 8.0, 7.0, 6.0, 5.0, 4.0, 3.0, 2.0, 1.0, -6.4475998878479, -6.820000171661377, -7.086599826812744, -7.177700042724609, -7.225900173187256, -7.511000156402588, -8.047599792480469, -8.240500450134277, -8.30720043182373, -8.36929988861084, -8.385499954223633, -8.581600189208984, -8.613100051879883, -8.615799903869629, -8.672900199890137, -8.719900131225586, -8.804400444030762, -8.834799766540527, -8.861599922180176, -8.875800132751465, -8.980899810791016, -8.998700141906738, -8.99899959564209, -9.026599884033203, -9.126299858093262, -8.025300025939941, -9.14780044555664, -9.156499862670898, -9.22439956665039, -9.230400085449219, -7.366399765014648, -8.077099800109863, -8.018500328063965, -8.045900344848633, -6.150100231170654, -5.932600021362305, -3.325500011444092, -5.396900177001953, -6.052000045776367, -6.14900016784668, -6.284900188446045, -6.903299808502197, -7.5416998863220215, -7.488500118255615, -4.511300086975098, -7.550600051879883, -6.1768999099731445, -7.334499835968018, -5.543300151824951, -4.733500003814697, -6.377600193023682, -4.231200218200684, -5.027500152587891, -5.494200229644775, -5.41480016708374, -4.296899795532227, -4.565999984741211, -5.599100112915039, -5.236299991607666, -5.760499954223633, -4.273200035095215, -4.267899990081787, -5.100299835205078, -5.1975998878479, -4.777599811553955, -4.859000205993652, -5.415900230407715, -5.389999866485596, -4.683700084686279, -4.531499862670898, -5.309999942779541, -5.312600135803223, -4.727200031280518, -4.641200065612793, -4.872000217437744, -5.183000087738037, -5.3190999031066895, -5.0553998947143555, -4.968999862670898, -4.94379997253418, -5.022900104522705, -5.286200046539307, -5.051000118255615, -5.2530999183654785, -5.240699768066406, -5.119699954986572, -5.2322998046875, -5.258800029754639, -6.031899929046631, -6.044400215148926, -6.676400184631348, -6.783100128173828, -6.957300186157227, -6.965400218963623, -7.061699867248535, -7.118000030517578, -7.390699863433838, -7.446899890899658, -7.610899925231934, -7.6697998046875, -7.762899875640869, -7.872300148010254, -5.554500102996826, -7.8821001052856445, -7.929699897766113, -7.944699764251709, -7.97130012512207, -4.875899791717529, -6.235199928283691, -8.116999626159668, -8.138899803161621, -8.158900260925293, -8.20580005645752, -8.229900360107422, -8.230600357055664, -8.235899925231934, -8.331100463867188, -8.383600234985352, -6.176700115203857, -7.0278000831604, -6.580699920654297, -7.24560022354126, -5.450399875640869, -7.600399971008301, -5.139100074768066, -6.093400001525879, -6.5619001388549805, -6.857699871063232, -6.196300029754639, -5.064599990844727, -6.225299835205078, -6.48960018157959, -5.7469000816345215, -5.507199764251709, -5.750500202178955, -4.256400108337402, -5.049900054931641, -5.589600086212158, -5.3867998123168945, -4.939899921417236, -5.196700096130371, -5.177599906921387, -5.841000080108643, -4.982500076293945, -5.4369001388549805, -4.7052001953125, -4.570499897003174, -4.719399929046631, -5.011199951171875, -5.51639986038208, -4.917500019073486, -5.047999858856201, -4.840799808502197, -5.571100234985352, -5.052299976348877, -4.551499843597412, -5.530799865722656, -5.1392998695373535, -4.787700176239014, -5.3277997970581055, -5.036799907684326, -5.139500141143799, -5.15749979019165, -5.0808000564575195, -5.105899810791016, -5.25570011138916, -5.241799831390381, -5.243599891662598, -5.246200084686279, -5.260499954223633, -5.104100227355957, -5.410200119018555, -5.832799911499023, -5.875400066375732, -5.888700008392334, -6.419000148773193, -6.527500152587891, -6.703199863433838, -6.973199844360352, -6.987800121307373, -7.117000102996826, -7.151100158691406, -7.237199783325195, -7.32289981842041, -7.445700168609619, -7.601399898529053, -7.661499977111816, -7.70359992980957, -7.7779998779296875, -6.377799987792969, -7.861299991607666, -7.921999931335449, -7.959499835968018, -8.007100105285645, -8.044599533081055, -8.061599731445312, -8.11769962310791, -8.156200408935547, -8.211899757385254, -8.2677001953125, -4.485300064086914, -4.30649995803833, -6.941800117492676, -6.584000110626221, -7.5644001960754395, -7.109600067138672, -6.896500110626221, -5.0524001121521, -5.2067999839782715, -4.935100078582764, -5.9604997634887695, -4.26800012588501, -4.949999809265137, -5.254799842834473, -3.8510000705718994, -4.417300224304199, -5.6596999168396, -3.239500045776367, -4.139800071716309, -5.774499893188477, -6.083499908447266, -6.045499801635742, -4.78879976272583, -5.395699977874756, -3.5290000438690186, -4.571400165557861, -4.538300037384033, -4.604499816894531, -5.216100215911865, -4.741600036621094, -5.453800201416016, -4.481900215148926, -4.6768999099731445, -4.842599868774414, -4.797500133514404, -5.027500152587891, -4.962699890136719, -4.960400104522705, -4.830900192260742, -5.085899829864502, -5.033299922943115, -5.00629997253418, -5.016600131988525, -5.0528998374938965, -5.734399795532227, -6.191400051116943, -6.191299915313721, -6.235599994659424, -6.4604997634887695, -6.6641998291015625, -6.89709997177124, -6.987400054931641, -6.9893999099731445, -7.030399799346924, -7.01800012588501, -6.835299968719482, -6.025599956512451, -7.537899971008301, -7.567599773406982, -7.6244001388549805, -7.739099979400635, -7.744999885559082, -7.781899929046631, -7.832200050354004, -7.839000225067139, -7.884799957275391, -7.967700004577637, -7.98199987411499, -8.016500473022461, -8.177200317382812, -8.203200340270996, -8.301600456237793, -5.197299957275391, -8.354499816894531, -6.317599773406982, -5.432499885559082, -6.665299892425537, -5.786200046539307, -6.701399803161621, -5.364699840545654, -4.61269998550415, -5.13040018081665, -4.482699871063232, -6.293900012969971, -4.472799777984619, -3.557499885559082, -7.338500022888184, -4.362800121307373, -6.479100227355957, -5.408100128173828, -5.874199867248535, -4.4475998878479, -4.3007001876831055, -6.053899765014648, -6.204100131988525, -4.510499954223633, -4.3769001960754395, -4.75540018081665, -4.439199924468994, -5.211299896240234, -5.75439977645874, -4.037099838256836, -4.502799987792969, -5.783999919891357, -4.614999771118164, -4.691800117492676, -5.061800003051758, -4.2916998863220215, -4.4832000732421875, -4.5192999839782715, -4.464600086212158, -4.899700164794922, -4.434700012207031, -5.093299865722656, -4.769000053405762, -4.799499988555908, -4.938799858093262, -5.013500213623047, -5.151199817657471, -5.1570000648498535, -5.477700233459473, -5.961100101470947, -6.370200157165527, -6.505300045013428, -4.144899845123291, -6.59499979019165, -6.721700191497803, -6.764400005340576, -6.86899995803833, -7.086699962615967, -7.180099964141846, -7.262700080871582, -7.361700057983398, -7.413300037384033, -7.442299842834473, -7.470099925994873, -7.602799892425537, -7.605500221252441, -7.6392998695373535, -7.82390022277832, -7.844799995422363, -7.867800235748291, -7.892600059509277, -7.908699989318848, -7.920199871063232, -7.93209981918335, -7.939700126647949, -7.950099945068359, -7.9770002365112305, -7.980400085449219, -4.724299907684326, -6.008699893951416, -6.178599834442139, -4.527500152587891, -6.2947001457214355, -3.4439001083374023, -6.061100006103516, -6.973599910736084, -6.464399814605713, -6.072199821472168, -7.09060001373291, -6.639800071716309, -6.206299781799316, -6.4268999099731445, -4.7210001945495605, -6.419000148773193, -3.881999969482422, -4.8541998863220215, -6.062099933624268, -5.591400146484375, -5.702700138092041, -5.987100124359131, -4.267399787902832, -4.484899997711182, -4.491099834442139, -5.834499835968018, -4.565000057220459, -3.739799976348877, -5.950699806213379, -4.557499885559082, -5.258500099182129, -4.388000011444092, -4.9608001708984375, -5.470699787139893, -4.140600204467773, -4.703100204467773, -4.476500034332275, -4.538599967956543, -4.82450008392334, -5.075399875640869, -4.587100028991699, -4.632599830627441, -4.5121002197265625, -5.188499927520752, -4.8267998695373535, -4.725299835205078, -4.702499866485596, -4.789899826049805, -4.957600116729736, -4.906099796295166, -5.067599773406982, -5.771599769592285, -5.962399959564209, -6.048799991607666, -6.3572001457214355, -6.598499774932861, -7.027200222015381, -7.093299865722656, -7.122000217437744, -7.128799915313721, -7.35890007019043, -7.395299911499023, -7.468200206756592, -7.4934000968933105, -7.509699821472168, -5.716300010681152, -7.571300029754639, -7.583899974822998, -7.585899829864502, -7.610000133514404, -7.61359977722168, -7.63539981842041, -7.705599784851074, -7.7204999923706055, -7.7993998527526855, -7.81879997253418, -7.846199989318848, -7.851900100708008, -7.869699954986572, -7.916800022125244, -7.916800022125244, -5.808599948883057, -5.445700168609619, -5.946599960327148, -7.094600200653076, -5.479899883270264, -7.492000102996826, -7.603400230407715, -6.643400192260742, -4.404699802398682, -6.023399829864502, -7.044600009918213, -5.398099899291992, -5.7779998779296875, -5.757299900054932, -5.138599872589111, -5.901100158691406, -5.609399795532227, -5.5152997970581055, -5.632800102233887, -6.0584001541137695, -4.631700038909912, -4.8404998779296875, -4.954599857330322, -5.380099773406982, -6.089000225067139, -5.246200084686279, -5.524799823760986, -4.4969000816345215, -4.988100051879883, -5.848499774932861, -4.948800086975098, -5.200799942016602, -4.228099822998047, -4.8282999992370605, -5.370800018310547, -4.817299842834473, -5.3125, -5.338600158691406, -5.126100063323975, -4.944499969482422, -5.4375, -5.14870023727417, -5.260799884796143, -5.078000068664551, -5.136000156402588, -5.385000228881836, -5.230500221252441, -5.241099834442139, -5.398900032043457, -5.3105998039245605, -5.4096999168396, -4.980199813842773, -5.276800155639648, -5.486299991607666, -5.556000232696533, -5.647900104522705, -6.155300140380859, -6.170000076293945, -6.188899993896484, -6.392199993133545, -6.42579984664917, -6.486199855804443, -6.59499979019165, -6.608799934387207, -6.668799877166748, -6.765100002288818, -6.767099857330322, -6.953000068664551, -6.980000019073486, -7.015699863433838, -7.038300037384033, -7.03980016708374, -7.066100120544434, -7.114299774169922, -7.162499904632568, -7.203400135040283, -7.209099769592285, -7.226399898529053, -7.3404998779296875, -7.422999858856201, -7.484899997711182, -5.741300106048584, -6.30709981918335, -5.599899768829346, -6.520599842071533, -2.6754000186920166, -5.86359977722168, -4.955599784851074, -5.917600154876709, -6.031799793243408, -6.684599876403809, -6.294300079345703, -4.489699840545654, -5.289000034332275, -5.3520002365112305, -3.841200113296509, -4.912899971008301, -4.617000102996826, -5.097400188446045, -4.979000091552734, -5.071499824523926, -5.341599941253662, -5.132199764251709, -4.112500190734863, -4.5040998458862305, -4.553800106048584, -4.386300086975098, -4.586999893188477, -4.604100227355957, -4.804500102996826, -4.94290018081665, -5.112299919128418, -4.980000019073486, -5.146599769592285, -5.075300216674805, -5.15939998626709, -5.207799911499023, -5.158899784088135, -5.232900142669678, -5.25029993057251, -5.245299816131592, -5.247799873352051, -5.357900142669678, -5.792300224304199, -6.076099872589111, -6.100800037384033, -6.151500225067139, -6.248600006103516, -6.271900177001953, -6.318399906158447, -6.3277997970581055, -6.355199813842773, -6.698599815368652, -6.71999979019165, -6.839099884033203, -6.844299793243408, -6.901700019836426, -6.980800151824951, -7.288000106811523, -5.910399913787842, -7.508699893951416, -7.51800012588501, -7.5493998527526855, -7.600299835205078, -7.603499889373779, -7.680600166320801, -7.703800201416016, -7.749300003051758, -7.764800071716309, -7.786600112915039, -7.790800094604492, -7.880300045013428, -5.117499828338623, -5.456699848175049, -5.087500095367432, -6.977200031280518, -4.901500225067139, -4.914299964904785, -6.752399921417236, -4.823800086975098, -4.468200206756592, -4.391900062561035, -6.7368998527526855, -5.031899929046631, -3.492000102996826, -4.016499996185303, -5.564700126647949, -4.258999824523926, -5.832499980926514, -5.288599967956543, -4.776400089263916, -5.318900108337402, -5.952300071716309, -4.151299953460693, -4.0366997718811035, -5.3470001220703125, -5.165500164031982, -4.7631001472473145, -4.700799942016602, -5.086699962615967, -4.955100059509277, -4.910399913787842, -4.830100059509277, -4.998600006103516, -5.303800106048584, -5.05649995803833, -5.184500217437744, -5.173600196838379, -5.2083001136779785, -5.154099941253662, -5.242199897766113, -5.3007001876831055, -4.66379976272583, -5.43179988861084, -5.628799915313721, -5.6554999351501465, -5.84499979019165, -6.07919979095459, -6.226099967956543, -6.0055999755859375, -6.6570000648498535, -6.690700054168701, -7.016600131988525, -7.028299808502197, -7.069300174713135, -7.069699764251709, -7.083600044250488, -7.411900043487549, -7.442200183868408, -7.52209997177124, -7.546999931335449, -7.605400085449219, -7.610599994659424, -7.621200084686279, -7.655099868774414, -7.747900009155273, -7.758900165557861, -7.7606000900268555, -7.862599849700928, -7.8628997802734375, -7.869500160217285, -7.898399829864502, -5.9197998046875, -5.604899883270264, -7.0640997886657715, -4.842599868774414, -6.374100208282471, -1.9865000247955322, -6.974299907684326, -5.457699775695801, -6.291100025177002, -6.9166998863220215, -6.78980016708374, -5.582499980926514, -3.9844000339508057, -5.55649995803833, -3.652100086212158, -4.986199855804443, -3.635999917984009, -5.38700008392334, -5.6554999351501465, -6.189000129699707, -3.924999952316284, -5.6732001304626465, -5.392899990081787, -4.139900207519531, -4.372300148010254, -5.114999771118164, -4.21120023727417, -5.299699783325195, -4.236700057983398, -4.582799911499023, -5.300600051879883, -4.4969000816345215, -4.267600059509277, -4.755499839782715, -4.768799781799316, -4.975900173187256, -4.606599807739258, -4.849599838256836, -4.968400001525879, -4.938700199127197, -5.3796000480651855, -5.046000003814697, -5.109000205993652, -5.217100143432617, -5.253499984741211, -5.2469000816345215, -5.284599781036377]}, \"token.table\": {\"Topic\": [1, 1, 2, 3, 4, 5, 6, 7, 8, 9, 1, 2, 3, 4, 5, 6, 7, 8, 9, 1, 2, 4, 6, 7, 1, 2, 3, 4, 5, 6, 7, 8, 1, 2, 3, 4, 5, 6, 7, 8, 9, 7, 8, 1, 4, 5, 6, 7, 9, 2, 4, 8, 1, 2, 7, 8, 8, 8, 1, 2, 3, 5, 6, 7, 3, 2, 5, 8, 1, 6, 1, 2, 3, 4, 5, 6, 7, 8, 9, 1, 4, 7, 9, 1, 2, 3, 4, 5, 6, 7, 8, 9, 3, 4, 3, 3, 6, 8, 5, 9, 5, 3, 5, 5, 1, 3, 5, 7, 9, 1, 2, 3, 5, 6, 7, 9, 1, 7, 3, 5, 8, 2, 2, 3, 1, 2, 3, 5, 6, 7, 8, 7, 1, 4, 6, 7, 8, 9, 6, 1, 2, 3, 4, 5, 6, 7, 8, 9, 4, 5, 9, 2, 6, 7, 3, 4, 5, 1, 2, 3, 4, 9, 6, 8, 6, 5, 7, 3, 2, 4, 1, 2, 3, 4, 5, 6, 7, 8, 9, 4, 7, 1, 2, 3, 5, 8, 9, 5, 3, 2, 8, 2, 2, 8, 1, 2, 6, 8, 1, 2, 3, 4, 5, 6, 7, 8, 9, 6, 8, 2, 5, 4, 7, 2, 5, 1, 2, 3, 4, 5, 6, 7, 8, 9, 1, 4, 6, 7, 8, 2, 5, 6, 7, 2, 9, 5, 9, 6, 7, 7, 7, 4, 7, 9, 6, 7, 2, 6, 8, 1, 2, 3, 4, 6, 8, 1, 6, 1, 2, 5, 7, 8, 9, 9, 5, 5, 2, 3, 5, 6, 7, 8, 9, 2, 3, 5, 6, 7, 9, 9, 2, 4, 6, 1, 2, 6, 8, 6, 1, 2, 3, 4, 6, 7, 8, 9, 1, 2, 3, 6, 7, 2, 1, 3, 6, 7, 1, 3, 4, 5, 7, 9, 1, 4, 6, 7, 1, 2, 3, 4, 5, 6, 7, 8, 9, 1, 2, 3, 5, 6, 7, 8, 9, 1, 5, 6, 7, 1, 4, 5, 7, 8, 1, 2, 3, 4, 5, 6, 7, 8, 9, 1, 2, 3, 6, 8, 9, 4, 5, 6, 7, 8, 6, 8, 6, 6, 8, 1, 1, 2, 3, 4, 5, 6, 7, 8, 9, 1, 2, 3, 4, 8, 9, 3, 8, 1, 2, 3, 4, 5, 6, 7, 8, 9, 1, 7, 2, 7, 1, 5, 7, 8, 9, 1, 2, 3, 4, 5, 6, 7, 8, 9, 2, 3, 4, 5, 7, 9, 5, 9, 9, 9, 3, 4, 5, 9, 6, 7, 1, 2, 3, 4, 5, 6, 7, 8, 9, 1, 3, 6, 8, 9, 1, 2, 3, 4, 5, 6, 7, 8, 2, 3, 1, 2, 3, 4, 5, 6, 7, 8, 9, 1, 2, 3, 4, 5, 7, 9, 2, 4, 3, 4, 8, 4, 6, 7, 9, 3, 5, 9, 4, 7, 2, 5, 6, 7, 8, 6, 8, 9, 1, 2, 3, 4, 5, 6, 7, 8, 9, 4, 5, 7, 1, 2, 3, 4, 5, 6, 7, 8, 9, 4, 5, 5, 1, 3, 4, 5, 6, 7, 9, 7, 1, 2, 3, 4, 5, 6, 7, 8, 9, 8, 7, 7, 1, 3, 4, 5, 6, 7, 8, 9, 5, 5, 1, 3, 9, 1, 9, 4, 5, 6, 7, 8, 9, 8, 1, 2, 3, 4, 5, 6, 7, 8, 9, 4, 3, 5, 5, 4, 5, 6, 7, 1, 3, 7, 9, 3, 1, 2, 3, 4, 6, 7, 8, 1, 2, 3, 4, 5, 6, 8, 9, 1, 2, 3, 4, 5, 6, 7, 9, 1, 2, 3, 4, 5, 6, 7, 8, 9, 1, 2, 3, 4, 5, 7, 9, 8, 1, 2, 3, 4, 5, 6, 7, 8, 9, 4, 6, 7, 1, 4, 6, 9, 9, 9, 8, 1, 2, 3, 4, 5, 6, 7, 8, 9, 1, 2, 3, 4, 5, 6, 7, 8, 9, 2, 9, 7, 1, 2, 4, 6, 7, 9, 1, 2, 5, 6, 7, 8, 2, 6, 2, 1, 2, 3, 4, 5, 6, 7, 8, 9, 1, 2, 5, 6, 9, 1, 2, 3, 4, 5, 6, 7, 8, 2, 2, 7, 1, 2, 3, 5, 6, 7, 8, 9, 2, 4, 1, 2, 3, 5, 6, 8, 9, 3, 1, 2, 3, 5, 7, 9, 2, 3, 4, 6, 8, 9, 3, 2, 3, 8, 1, 2, 3, 4, 5, 6, 7, 8, 9, 1, 2, 5, 6, 8, 6, 1, 7, 1, 2, 3, 4, 5, 6, 7, 8, 5, 6, 8, 1, 6, 8, 3, 6, 8, 7, 1, 2, 3, 4, 5, 6, 8, 9, 1, 2, 3, 4, 5, 6, 7, 8, 9, 1, 2, 3, 4, 5, 6, 8, 5, 9, 1, 9, 1, 2, 3, 4, 5, 6, 7, 8, 9, 6, 1, 3, 4, 6, 7, 6, 1, 8, 9, 2, 4, 7, 8, 1, 2, 3, 4, 5, 6, 7, 8, 9, 4, 3, 5, 1, 2, 3, 4, 5, 6, 7, 8, 9, 9, 1, 1, 3, 6, 8, 6, 9, 5, 7, 5, 7, 1, 2, 3, 4, 5, 6, 7, 8, 9, 7, 7, 8, 1, 1, 2, 3, 4, 5, 6, 7, 8, 9, 1, 2, 3, 4, 5, 6, 7, 8, 9, 4, 6, 7, 1, 2, 3, 4, 5, 6, 7, 8, 9, 8, 1, 2, 3, 4, 5, 6, 7, 8, 9, 1, 2, 3, 4, 6, 7, 8, 9, 9, 1, 2, 4, 5, 7, 9, 1, 2, 3, 4, 5, 7, 8, 9, 4, 5, 6, 1, 2, 3, 4, 5, 6, 7, 8, 9, 1, 2, 7, 8, 9, 7, 5, 8, 9, 7, 1, 2, 3, 4, 5, 6, 7, 8, 9, 3, 3, 5, 3, 5, 9, 3, 5, 3, 2, 3, 3, 5, 9, 3, 3, 5, 5, 9, 9, 1, 3, 5, 6, 3, 1, 6, 5, 6, 5, 4, 4, 8, 1, 2, 3, 5, 6, 7, 8, 9, 1, 2, 4, 5, 6, 7, 8, 1, 2, 3, 5, 6, 7, 8, 1, 2, 3, 4, 5, 6, 7, 8, 9, 6, 7, 1, 2, 3, 4, 5, 6, 7, 8, 9, 5, 2, 3, 4, 5, 6, 7, 8, 9, 3, 3, 4, 5, 7, 9, 1, 2, 3, 4, 5, 6, 7, 8, 9, 8, 1, 2, 3, 4, 5, 6, 7, 8, 9, 1, 2, 4, 6, 9, 1, 2, 6, 8, 2, 9, 6, 2, 3, 4, 6, 8, 9, 1, 2, 5, 6, 7, 3, 5, 6, 7, 9, 4, 7, 8, 1, 2, 3, 4, 5, 6, 7, 8, 9, 8, 9, 3, 5, 1, 3, 4, 5, 6, 7, 8, 9, 9, 3, 5, 2, 1, 7, 1, 2, 3, 5, 6, 7, 8, 2, 3, 4, 5, 6, 7, 8, 8, 1, 2, 3, 5, 6, 7, 8, 9, 1, 4, 5, 6, 7, 8, 9, 4, 5, 1, 5, 1, 2, 3, 4, 5, 6, 7, 8, 9, 3, 1, 4, 7, 8, 1, 2, 3, 5, 4, 2, 4, 5, 7, 7, 4, 3, 5, 9, 1, 6, 9, 1, 2, 3, 4, 5, 6, 7, 8, 6, 9, 6, 5, 5, 1, 2, 3, 4, 5, 6, 7, 8, 9, 1, 2, 4, 6, 7, 8, 9, 1, 2, 5, 7, 1, 2, 3, 4, 5, 6, 7, 8, 9, 1, 2, 3, 6, 8, 3, 4, 1, 2, 3, 7, 5, 1, 2, 3, 4, 5, 7, 8, 9, 3, 4, 5, 7, 6, 6, 5, 7, 4, 1, 3, 6, 7, 1, 2, 4, 6, 8, 1, 1, 1, 2, 3, 4, 5, 6, 7, 8, 9, 4, 1, 2, 3, 4, 5, 6, 7, 8, 9, 1, 6, 8, 9, 8, 8, 8, 9, 2, 3, 5, 6, 8, 9, 2, 7, 8, 1, 2, 3, 4, 5, 6, 7, 8, 9, 6, 1, 2, 3, 4, 5, 7, 8, 9, 6, 1, 1, 2, 1, 1, 2, 4, 6, 7, 9, 7, 9, 1, 1, 2, 3, 4, 7, 8, 4, 1, 2, 4, 6, 7, 8, 1, 2, 3, 4, 5, 6, 7, 8, 9, 7, 8, 9, 1, 2, 3, 4, 5, 6, 7, 8, 9, 1, 2, 3, 4, 5, 6, 7, 8, 9, 1, 2, 3, 4, 5, 6, 7, 8, 9, 1, 2, 3, 4, 5, 6, 7, 8, 9, 1, 2, 3, 4, 5, 6, 7, 8, 9, 1, 3, 5, 6, 9, 1, 2, 3, 4, 5, 6, 7, 8, 9, 2, 4, 6, 7, 2, 3, 6, 1, 2, 3, 4, 5, 6, 7, 8, 9, 5, 9, 3, 5, 7, 9, 9, 9, 4, 1, 2, 3, 4, 5, 6, 7, 8, 9, 3, 4, 9, 5, 4, 5, 3, 3, 1, 2, 6, 1, 2, 3, 4, 6, 1, 2, 5, 6, 8, 5, 3, 1, 2, 3, 5, 6, 7, 9, 1, 2, 3, 4, 5, 6, 7, 8, 9, 1, 2, 3, 4, 5, 6, 7, 8, 9, 6, 1, 3, 4, 6, 7, 8, 9, 1, 2, 3, 4, 5, 6, 7, 8, 9, 1, 2, 3, 4, 5, 6, 7, 8, 9, 6, 1, 2, 3, 4, 6, 7, 9, 1, 2, 3, 4, 5, 6, 7, 8, 9, 1, 2, 3, 4, 5, 6, 7, 8, 9, 3, 5, 4, 1, 2, 8, 1, 2, 7, 8, 1, 2, 3, 4, 5, 6, 7, 8, 9, 4, 5, 6, 7, 8, 4, 7, 8, 6, 7, 7, 1, 2, 6, 8, 9, 3, 8, 4, 6, 1, 2, 3, 5, 7, 8, 9, 4, 1, 3, 4, 6, 7, 8, 9, 6, 7, 7, 6, 7, 9, 1, 3, 4, 6, 7, 1, 3, 4, 5, 7, 8, 9, 3, 7, 2, 3, 4, 5, 6, 7, 3, 5, 8, 8, 2, 3, 4, 5, 9, 5, 2, 2, 3, 4, 5, 9, 7, 6, 8, 8, 8, 2, 2, 1, 1, 5, 7, 9, 4, 3, 5, 7, 2, 7, 8, 1, 2, 3, 4, 5, 6, 7, 8, 9, 5, 1, 2, 3, 4, 5, 7, 8, 9, 5, 5, 9, 1, 2, 4, 5, 6, 7, 8, 9, 3, 5, 3, 4, 5, 9, 1, 5, 1, 4, 9, 9, 9, 2, 3, 4, 5, 9, 1, 2, 3, 1, 2, 3, 5, 7, 8, 9, 8, 4, 6, 9, 1, 2, 3, 4, 5, 6, 7, 4, 5, 6, 7, 9, 1, 2, 3, 4, 5, 7, 8, 9, 1, 2, 3, 4, 5, 6, 7, 8, 9, 3, 1, 2, 3, 4, 5, 6, 7, 8, 2, 4, 1, 2, 3, 4, 5, 6, 7, 9, 9, 5, 9, 1, 2, 3, 4, 6, 7, 8, 9, 6, 8, 2, 3, 1, 2, 3, 4, 5, 6, 7, 8, 9, 4, 6, 1, 4, 9, 5, 1, 3, 4, 5, 6, 7, 8, 9, 7, 5, 9, 1, 4, 1, 2, 3, 4, 5, 6, 7, 8, 9, 1, 6, 8, 1, 2, 3, 4, 5, 6, 7, 8, 9, 1, 2, 5, 6, 7, 8, 9, 6, 1, 3, 4, 5, 6, 8, 9, 3, 1, 1, 2, 3, 4, 5, 6, 7, 8, 9, 1, 7, 1, 2, 3, 4, 5, 6, 7, 8, 9, 1, 2, 2, 9, 1, 3, 4, 5, 7, 9, 2, 1, 2, 3, 4, 7, 8, 9, 1, 2, 4, 5, 6, 8, 9, 2, 9, 4, 3, 6, 7, 1, 2, 3, 4, 6, 7, 2, 6, 7, 1, 2, 3, 4, 5, 7, 1, 2, 4, 6, 7, 3, 4, 6, 8, 9, 5, 1, 4, 4, 5, 4, 4, 7, 4, 3, 7, 4, 1, 2, 3, 4, 8, 6, 9, 2, 3, 2, 3, 4, 5, 7, 8, 3, 2, 3, 4, 5, 7, 8, 6, 3, 4, 5, 7, 8, 4, 6, 7, 2, 1, 2, 3, 4, 6, 7, 8, 8, 1, 4, 7, 3, 1, 2, 3, 4, 5, 6, 7, 8, 9, 3, 5, 7, 9], \"Freq\": [0.9991051554679871, 0.4884924292564392, 0.060849737375974655, 0.08816792815923691, 0.14069896936416626, 0.024750694632530212, 0.07476558536291122, 0.04303129017353058, 0.056279588490724564, 0.023004794493317604, 0.03935926407575607, 0.14743593335151672, 0.053877025842666626, 0.20873315632343292, 0.00193570158444345, 0.03419739380478859, 0.3648797571659088, 0.04387590289115906, 0.10549573600292206, 0.001455639605410397, 0.027657153084874153, 0.10917297005653381, 0.7947792410850525, 0.06841506063938141, 0.2882806360721588, 0.19838394224643707, 0.0399823859333992, 0.06774085760116577, 0.0015279892832040787, 0.28573399782180786, 0.014515897259116173, 0.10390327125787735, 0.3543958365917206, 0.0637887567281723, 0.02908567525446415, 0.30945658683776855, 0.008363692089915276, 0.08064097166061401, 0.13094794750213623, 0.017476370558142662, 0.0058670672588050365, 0.03757704794406891, 0.9582147002220154, 0.12645259499549866, 0.6702847480773926, 0.09720505028963089, 0.03148411586880684, 0.04782832786440849, 0.02649482898414135, 0.99678635597229, 0.01527049858123064, 0.9839927554130554, 0.022700412198901176, 0.9723343253135681, 0.003783402033150196, 0.9981552362442017, 0.9875666499137878, 0.9962766170501709, 0.3475733995437622, 0.17192517220973969, 0.40727517008781433, 0.07313135266304016, 0.17112420499324799, 0.825860321521759, 0.9984046816825867, 0.9971204996109009, 0.9488372206687927, 0.0492902435362339, 0.9890545010566711, 0.9919713735580444, 0.4645642042160034, 0.0008070021285675466, 0.04156060889363289, 0.04075360670685768, 0.005918015260249376, 0.050841134041547775, 0.14606738090515137, 0.012777533382177353, 0.23672062158584595, 0.34001147747039795, 0.1312943547964096, 0.04964083060622215, 0.4790622293949127, 0.2385924607515335, 0.028689445927739143, 0.041818514466285706, 0.03338997811079025, 0.025609787553548813, 0.017667511478066444, 0.04230477660894394, 0.1277247667312622, 0.44411909580230713, 0.9170815348625183, 0.08208133280277252, 0.9996784329414368, 0.9977568984031677, 0.01221256610006094, 0.983111560344696, 0.9890296459197998, 0.010320309549570084, 0.9967880845069885, 0.6910868883132935, 0.30864763259887695, 0.9951192140579224, 0.05134906619787216, 0.061034124344587326, 0.4791361391544342, 0.01169516146183014, 0.39690452814102173, 0.12028537690639496, 0.0018998677842319012, 0.14878340065479279, 0.5723351836204529, 0.0007124504190869629, 0.10425524413585663, 0.05165265500545502, 0.9927718043327332, 0.9957886338233948, 0.9878132343292236, 0.985880970954895, 0.9934176802635193, 0.9927292466163635, 0.9930453896522522, 0.9993458390235901, 0.4155425727367401, 0.034002531319856644, 0.00672143092378974, 0.012256726622581482, 0.06365590542554855, 0.43570685386657715, 0.032025642693042755, 0.9929652214050293, 0.10616975277662277, 0.008114885538816452, 0.266438752412796, 0.577509343624115, 0.01893473230302334, 0.022315936163067818, 0.9900729060173035, 0.021775394678115845, 0.003008442698046565, 0.5203173160552979, 0.03481198102235794, 0.3514147698879242, 0.026789465919137, 0.022061914205551147, 0.005587107967585325, 0.014325917698442936, 0.9951691627502441, 0.9972735643386841, 0.0024218731559813023, 0.9460888504981995, 0.034304749220609665, 0.018055129796266556, 0.016879161819815636, 0.013042988255620003, 0.9697844982147217, 0.9003640413284302, 0.02828368730843067, 0.06835224479436874, 0.9952056407928467, 0.0037134538870304823, 0.9904158115386963, 0.9953780770301819, 0.9880427718162537, 0.9509289860725403, 0.04661416634917259, 0.9918307065963745, 0.9926778078079224, 0.006827220320701599, 0.2114289104938507, 0.31087762117385864, 0.1539125293493271, 0.040807705372571945, 0.1494140475988388, 0.0054624490439891815, 0.03309601545333862, 0.07583164423704147, 0.019118571653962135, 0.9938338994979858, 0.9983540177345276, 0.013488822616636753, 0.2683810591697693, 0.07581648230552673, 0.25024092197418213, 0.0237217228859663, 0.368849515914917, 0.9854555726051331, 0.9991818070411682, 0.056011419743299484, 0.9432322978973389, 0.9943569302558899, 0.9970734715461731, 0.9886900186538696, 0.8680816292762756, 0.016075585037469864, 0.04524979740381241, 0.07025626301765442, 0.09282625466585159, 0.2371351569890976, 0.2137071043252945, 0.015257761813700199, 0.28615686297416687, 0.05187639221549034, 0.00659529073163867, 0.04833265393972397, 0.04813577979803085, 0.03974512219429016, 0.9598821997642517, 0.9983738660812378, 0.998024046421051, 0.9704926609992981, 0.022465107962489128, 0.9809260964393616, 0.01850803941488266, 0.5586337447166443, 0.13603270053863525, 0.010071522556245327, 0.1979389786720276, 0.001074295723810792, 0.010608670301735401, 0.03249744325876236, 0.045120418071746826, 0.008057218044996262, 0.07338220626115799, 0.06452573090791702, 0.017712946981191635, 0.008856473490595818, 0.8337737321853638, 0.15604646503925323, 0.041671499609947205, 0.7589532732963562, 0.042558129876852036, 0.982897937297821, 0.015853192657232285, 0.9864253997802734, 0.012203200720250607, 0.9940497875213623, 0.9948752522468567, 0.9928886890411377, 0.9975161552429199, 0.9991808533668518, 0.9922474026679993, 0.9923056364059448, 0.20470048487186432, 0.7950140833854675, 0.04213353618979454, 0.9534662961959839, 0.004681503865867853, 0.13094770908355713, 0.718572199344635, 0.015445816330611706, 0.06356021761894226, 0.016812702640891075, 0.05467545613646507, 0.21712401509284973, 0.7816464304924011, 0.005113714374601841, 0.011505858041346073, 0.9551140666007996, 0.02326740138232708, 0.004474500194191933, 0.0006392142968252301, 0.9833211302757263, 0.9962185621261597, 0.9888582825660706, 0.999473512172699, 0.7149681448936462, 0.07764562964439392, 0.12118104100227356, 0.0031417307909578085, 0.007181098684668541, 0.07629917562007904, 0.021369706839323044, 0.790357768535614, 0.12050586193799973, 0.012211260385811329, 0.008997770957648754, 0.04659559950232506, 0.9917301535606384, 0.9930185079574585, 0.002105339663103223, 0.0045615690760314465, 0.0005794556927867234, 0.8031255602836609, 0.14834065735340118, 0.04751536622643471, 0.9930310249328613, 0.41018685698509216, 0.025651803240180016, 0.05275559425354004, 0.06412950903177261, 0.4007489085197449, 0.031943753361701965, 0.0145198879763484, 0.00024199813196901232, 0.1442873477935791, 0.01883396878838539, 0.002553758444264531, 0.4108358919620514, 0.42328545451164246, 0.989763081073761, 0.20655065774917603, 0.0013862460618838668, 0.7347103953361511, 0.05822233110666275, 0.20128688216209412, 0.0010634023929014802, 0.5558556318283081, 0.19369114935398102, 0.03889014571905136, 0.009266792796552181, 0.9185354709625244, 0.02029912732541561, 0.027911299839615822, 0.03298608213663101, 0.03127482160925865, 0.2978699207305908, 0.11082825064659119, 0.09412810206413269, 0.020040176808834076, 0.32975199818611145, 0.009109171107411385, 0.09169899672269821, 0.0151819521561265, 0.2486998438835144, 0.5015795230865479, 0.00026123932912014425, 0.0805923342704773, 0.004571688361465931, 0.008359658531844616, 0.0009143376955762506, 0.15517616271972656, 0.02016666904091835, 0.7224412560462952, 0.15777452290058136, 0.09964707493782043, 0.04222114384174347, 0.0045090545900166035, 0.05820779129862785, 0.021315529942512512, 0.8731169104576111, 0.17461489140987396, 0.00040750266634859145, 0.13203085958957672, 0.047270309180021286, 0.05399410426616669, 0.21516141295433044, 0.3630848824977875, 0.007538799196481705, 0.0057050371542572975, 0.11189358681440353, 0.07883411645889282, 0.0322117917239666, 0.013562859036028385, 0.10002608597278595, 0.6637324094772339, 0.05771371349692345, 0.029731307178735733, 0.0979384258389473, 0.03148020803928375, 0.7817584872245789, 0.9983819723129272, 0.9968608617782593, 0.9963948726654053, 0.9740962386131287, 0.02510557323694229, 0.9851011037826538, 0.2670031189918518, 0.11678443104028702, 0.186831533908844, 0.06663305312395096, 0.055213604122400284, 0.016246220096945763, 0.012361254543066025, 0.17305757105350494, 0.10595361143350601, 0.054071392863988876, 0.20243477821350098, 0.03489336371421814, 0.05780045688152313, 0.6480576395988464, 0.0026636153925210238, 0.9201222658157349, 0.07951167970895767, 0.3500727117061615, 0.12309807538986206, 0.05980771780014038, 0.24291443824768066, 0.016408612951636314, 0.05846823751926422, 0.046479906886816025, 0.09202217310667038, 0.010715828277170658, 0.9927886128425598, 0.9991422891616821, 0.12275134027004242, 0.8755058646202087, 0.1606179177761078, 0.054362986236810684, 0.01729731447994709, 0.023474926128983498, 0.743784487247467, 0.03999089077115059, 0.009618954733014107, 0.008456223644316196, 0.039250973612070084, 0.027517961338162422, 0.00979512557387352, 0.033402085304260254, 0.00035234264214523137, 0.8315991163253784, 0.019090360030531883, 0.23308929800987244, 0.04552316665649414, 0.10052476823329926, 0.005873957183212042, 0.5958061218261719, 0.0626283660531044, 0.9346078634262085, 0.9913532733917236, 0.9965941309928894, 0.8536282777786255, 0.023731285706162453, 0.056536298245191574, 0.06561002135276794, 0.045769643038511276, 0.9540109634399414, 0.7133059501647949, 0.009881063364446163, 0.04219480976462364, 0.0008011672762222588, 0.09026484936475754, 0.010148119181394577, 0.06302516162395477, 0.04219480976462364, 0.02830791100859642, 0.9214478731155396, 0.018353013321757317, 0.0006328625604510307, 0.05379331484436989, 0.005695763044059277, 0.6745728850364685, 0.07596441358327866, 0.023988762870430946, 0.0035538908559828997, 0.20123906433582306, 0.01732521690428257, 0.00022211817849893123, 0.003109654411673546, 0.9859489798545837, 0.01198722142726183, 0.5738202929496765, 0.011158667504787445, 0.08926934003829956, 0.07432807236909866, 0.06108897551894188, 0.03763686120510101, 0.07886718958616257, 0.0658172219991684, 0.007943457923829556, 0.14060989022254944, 0.0038903921376913786, 0.10893097519874573, 0.19563114643096924, 0.4887073338031769, 0.05390971899032593, 0.007966040633618832, 0.0107443667948246, 0.989018976688385, 0.04082615301012993, 0.9342542886734009, 0.02421085722744465, 0.04702497646212578, 0.017416657879948616, 0.8917328715324402, 0.04005831480026245, 0.014682762324810028, 0.9832714200019836, 0.001420912449248135, 0.9960585236549377, 0.9954248070716858, 0.09096318483352661, 0.027470363304018974, 0.020991504192352295, 0.05701396241784096, 0.8036377429962158, 0.017825143411755562, 0.023766858503222466, 0.9566160440444946, 0.3332732319831848, 0.1322762370109558, 0.07523351162672043, 0.05479694902896881, 0.02245776541531086, 0.24052266776561737, 0.056144412606954575, 0.07927591353654861, 0.006063596811145544, 0.9730188250541687, 0.0066874148324131966, 0.020062243565917015, 0.10065974295139313, 0.00996111985296011, 0.055048294365406036, 0.09594131261110306, 0.5158811807632446, 0.18244577944278717, 0.006815503351390362, 0.0241163969039917, 0.008912581019103527, 0.8997789025306702, 0.09860590845346451, 0.9986608624458313, 0.4912552535533905, 0.11114708334207535, 0.13127973675727844, 0.0028760931454598904, 0.17330780625343323, 0.058913517743349075, 0.03108036145567894, 0.9991220235824585, 0.3056420385837555, 0.35486191511154175, 0.11130576580762863, 0.03799954801797867, 0.07315661013126373, 0.0038897173944860697, 0.011669152416288853, 0.10038463026285172, 0.0008976270910352468, 0.9959474205970764, 0.9976109862327576, 0.9945144653320312, 0.30226126313209534, 0.07119127362966537, 0.23257827758789062, 0.0003016579430550337, 0.3064844608306885, 0.07088961452245712, 0.0093513960018754, 0.007239790633320808, 0.9948245286941528, 0.9902114868164062, 0.9915011525154114, 0.9841820001602173, 0.013716822490096092, 0.03287468105554581, 0.963228166103363, 0.035803962498903275, 0.02179371565580368, 0.03269057348370552, 0.05137090012431145, 0.7845737338066101, 0.07316461950540543, 0.9947755932807922, 0.5530997514724731, 0.10126972198486328, 0.05715657398104668, 0.12662379443645477, 0.005715657025575638, 0.03282839059829712, 0.05407891049981117, 0.054811686277389526, 0.01436242088675499, 0.9849121570587158, 0.9938338994979858, 0.9976174831390381, 0.9931303262710571, 0.013457149267196655, 0.008651024661958218, 0.9689147472381592, 0.007689799182116985, 0.9737318754196167, 0.008892528712749481, 0.008892528712749481, 0.013338792137801647, 0.9953640699386597, 0.08694477379322052, 0.7810538411140442, 0.033328827470541, 0.039125148206949234, 0.02028711326420307, 0.0014490794856101274, 0.037676066160202026, 0.19736498594284058, 0.051897283643484116, 0.48584139347076416, 0.17005743086338043, 0.0227778609842062, 0.0016824555350467563, 0.031448978930711746, 0.03882589936256409, 0.013706238940358162, 0.06971834599971771, 0.2143353521823883, 0.08245328068733215, 0.29986444115638733, 0.18373914062976837, 0.12108976393938065, 0.015055278316140175, 0.6369837522506714, 0.011035533621907234, 0.030135495588183403, 0.11215922236442566, 0.003183326916769147, 0.07385318726301193, 0.08457038551568985, 0.04180769622325897, 0.006260543130338192, 0.21344760060310364, 0.10973943024873734, 0.08649703115224838, 0.1279802918434143, 0.2762609124183655, 0.12136062979698181, 0.06457856297492981, 0.9814025163650513, 0.17470528185367584, 0.1115473136305809, 0.15571705996990204, 0.255898654460907, 0.15490035712718964, 0.036343052983284, 0.04621148854494095, 0.030626170337200165, 0.034165192395448685, 0.018190940842032433, 0.9277380108833313, 0.05457282438874245, 0.9966947436332703, 0.44303277134895325, 0.5566193461418152, 0.9819746613502502, 0.9836320281028748, 0.9996753334999084, 0.986943781375885, 0.3705351948738098, 0.16020651161670685, 0.08845695108175278, 0.16635645925998688, 0.02121736854314804, 0.05483715981245041, 0.013529916293919086, 0.07092955708503723, 0.053914666175842285, 0.5403187274932861, 0.14150439202785492, 0.06023172289133072, 0.03083864226937294, 0.0022486508823931217, 0.011564490385353565, 0.06954756379127502, 0.13781018555164337, 0.005621627438813448, 0.021148016676306725, 0.9770383834838867, 0.9953973293304443, 0.9063692688941956, 0.02754160761833191, 0.02003026008605957, 0.00650983490049839, 0.036054469645023346, 0.0030045390594750643, 0.024045856669545174, 0.019884074106812477, 0.019884074106812477, 0.004161783028393984, 0.018959233537316322, 0.9128177165985107, 0.9972439408302307, 0.9944748282432556, 0.9974726438522339, 0.1813705414533615, 0.09321733564138412, 0.10334557294845581, 0.16205185651779175, 0.0373244434595108, 0.10184509307146072, 0.10278289765119553, 0.16055138409137726, 0.05776848644018173, 0.284159779548645, 0.07531946152448654, 0.10955557972192764, 0.025432545691728592, 0.5052273273468018, 0.07771730422973633, 0.6640923023223877, 0.034952227026224136, 0.06620363146066666, 0.11595915257930756, 0.026316970586776733, 0.00575683731585741, 0.00822405330836773, 0.9910950660705566, 0.9862905740737915, 0.9962936043739319, 0.11473667621612549, 0.015298224054276943, 0.15425708889961243, 0.008923963643610477, 0.5934435725212097, 0.004461981821805239, 0.058643192052841187, 0.04908180236816406, 0.9940800666809082, 0.005538050550967455, 0.016713399440050125, 0.17183463275432587, 0.03551597148180008, 0.03864973410964012, 0.7155423760414124, 0.018280280753970146, 0.0031337623950093985, 0.9944217205047607, 0.04952152445912361, 0.0060081263072788715, 0.7712249159812927, 0.09358111768960953, 0.06554319709539413, 0.014018961228430271, 0.057959236204624176, 0.9066144227981567, 0.004240919835865498, 0.007068199571222067, 0.020733386278152466, 0.003769706469029188, 0.9982456564903259, 0.9520646333694458, 0.00976476538926363, 0.03661787137389183, 0.5752161741256714, 0.006564174313098192, 0.08622569590806961, 0.030146578326821327, 0.01734238676726818, 0.03346918523311615, 0.024149678647518158, 0.02528422698378563, 0.20154446363449097, 0.041971731930971146, 0.006335355807095766, 0.22569705545902252, 0.03801213577389717, 0.6881780028343201, 0.9945477247238159, 0.9988716840744019, 0.9890230298042297, 0.05308457463979721, 0.21330347657203674, 0.029920397326350212, 0.018338307738304138, 0.014477611519396305, 0.6505273580551147, 0.0077213929034769535, 0.012547262944281101, 0.9836472868919373, 0.993847131729126, 0.9854415655136108, 0.010703973472118378, 0.006689983420073986, 0.9820895791053772, 0.019168172031641006, 0.010953241027891636, 0.9693618416786194, 0.9924497008323669, 0.01546736154705286, 0.6068904399871826, 0.1367640346288681, 0.06838201731443405, 0.04233172535896301, 0.032155830413103104, 0.06756795197725296, 0.03093472309410572, 0.17402324080467224, 0.5270956754684448, 0.0029841528739780188, 0.09486465156078339, 0.016962554305791855, 0.03188331797719002, 0.04429111257195473, 0.10742950439453125, 0.0006282427348196507, 0.0029613799415528774, 0.6886853575706482, 0.07699587941169739, 0.0628470629453659, 0.03619464114308357, 0.02105870097875595, 0.11121626943349838, 0.14640821516513824, 0.852885901927948, 0.02461247332394123, 0.9737309217453003, 0.09188588708639145, 0.08476944267749786, 0.24781979620456696, 0.10130471736192703, 0.3060072064399719, 0.0242796428501606, 0.025116872042417526, 0.025744793936610222, 0.09293242543935776, 0.9863598942756653, 0.9859482645988464, 0.011621535755693913, 0.9108378291130066, 0.024695763364434242, 0.05302325636148453, 0.9949082732200623, 0.9814977645874023, 0.015940798446536064, 0.9930123686790466, 0.9439394474029541, 0.0180442426353693, 0.03044966049492359, 0.0067665912210941315, 0.1060311496257782, 0.46471136808395386, 0.05336667224764824, 0.27076563239097595, 0.017414387315511703, 0.0011235089041292667, 0.019240090623497963, 0.05659675970673561, 0.010813773609697819, 0.995681881904602, 0.9811030030250549, 0.016183141618967056, 0.23916707932949066, 0.17722126841545105, 0.1625284105539322, 0.1182684376835823, 0.13359618186950684, 0.061310939490795135, 0.02675551362335682, 0.059497006237506866, 0.021676501259207726, 0.9969077706336975, 0.9870191812515259, 0.9949672818183899, 0.8717454075813293, 0.009670709259808064, 0.11812081187963486, 0.989823579788208, 0.9923039674758911, 0.9825412034988403, 0.013459468260407448, 0.13038299977779388, 0.8685513734817505, 0.6239390969276428, 0.015980815514922142, 0.025947343558073044, 0.10447672754526138, 0.002921224106103182, 0.02251061052083969, 0.12166039645671844, 0.04347468912601471, 0.039178770035505295, 0.9904629588127136, 0.006374793592840433, 0.9923428297042847, 0.9961596131324768, 0.437504380941391, 0.0035360893234610558, 0.10823206603527069, 0.11474956572055817, 0.16515617072582245, 0.004922790918499231, 0.08590617030858994, 0.017195099964737892, 0.06281758844852448, 0.5422512888908386, 0.10337016731500626, 0.08874079585075378, 0.03729685768485069, 0.08070268481969833, 0.04308430105447769, 0.05337308719754219, 0.033117037266492844, 0.01848766580224037, 0.5738813281059265, 0.0197403896600008, 0.40561798214912415, 0.3156087100505829, 0.1281328797340393, 0.0877503976225853, 0.15860268473625183, 0.06213712692260742, 0.08222857117652893, 0.06293546408414841, 0.06486476957798004, 0.037721358239650726, 0.9952371716499329, 0.17504741251468658, 0.3971083462238312, 0.051755502820014954, 0.03671660274267197, 0.0505361333489418, 0.1642085611820221, 0.049452248960733414, 0.05880075693130493, 0.016393760219216347, 0.2716362178325653, 0.18708278238773346, 0.012649725191295147, 0.07822856307029724, 0.07881111651659012, 0.32215186953544617, 0.009404071606695652, 0.03994650021195412, 0.9982529878616333, 0.11330392956733704, 0.00017458232468925416, 0.35667169094085693, 0.4251079857349396, 0.10370190441608429, 0.001047494006343186, 0.07083800435066223, 0.6988998651504517, 0.04134411737322807, 0.017907004803419113, 0.06083115190267563, 0.01343025453388691, 0.09638182073831558, 0.000790014979429543, 0.9339644312858582, 0.009613923728466034, 0.056269727647304535, 0.2560199499130249, 0.016027888283133507, 0.20981188118457794, 0.018500275909900665, 0.226777583360672, 0.005371048115193844, 0.0841464176774025, 0.01986435241997242, 0.16343331336975098, 0.006914847064763308, 0.07836826890707016, 0.3918413519859314, 0.02765938825905323, 0.494987815618515, 0.997351348400116, 0.8705912828445435, 0.038845278322696686, 0.08911564201116562, 0.9944254755973816, 0.3906286954879761, 0.01367364451289177, 0.08696438372135162, 0.4574654698371887, 0.00010938915511360392, 0.012032807804644108, 0.023846836760640144, 0.0008751132409088314, 0.01443936862051487, 0.9936862587928772, 0.7249739766120911, 0.2749767303466797, 0.9823510050773621, 0.017373565584421158, 0.9838876128196716, 0.2784174382686615, 0.7204154133796692, 0.9923478960990906, 0.9961776733398438, 0.9993698000907898, 0.8695817589759827, 0.11616135388612747, 0.014113062061369419, 0.9956604242324829, 0.9888375401496887, 0.008750774897634983, 0.9762592315673828, 0.02149561606347561, 0.9955580830574036, 0.0025829183869063854, 0.0025829183869063854, 0.0012914591934531927, 0.9931321144104004, 0.9944651126861572, 0.9923701286315918, 0.9958226680755615, 0.9988581538200378, 0.9979664087295532, 0.9957860112190247, 0.9983007907867432, 0.9781376123428345, 0.019132276996970177, 0.486848920583725, 0.195366770029068, 0.038564808666706085, 0.15883615612983704, 0.026613956317305565, 0.028309112414717674, 0.04526067525148392, 0.020087603479623795, 0.22444333136081696, 0.6949957013130188, 0.026066569611430168, 0.010494333691895008, 0.025050990283489227, 0.0030467419419437647, 0.015572236850857735, 0.6710038185119629, 0.1447731852531433, 0.010891193524003029, 0.03904891386628151, 0.014344499446451664, 0.07464452087879181, 0.04515860974788666, 0.12213173508644104, 0.48931872844696045, 0.06314428895711899, 0.02375333569943905, 0.09699279069900513, 0.023357447236776352, 0.020586224272847176, 0.06670728325843811, 0.09402362257242203, 0.018633853644132614, 0.9808182716369629, 0.35882291197776794, 0.15376561880111694, 0.0816948264837265, 0.20965057611465454, 0.029746977612376213, 0.046589016914367676, 0.08530383557081223, 0.023731963708996773, 0.010717661119997501, 0.9978142380714417, 0.0466456413269043, 0.009763040579855442, 0.024949993938207626, 0.020610863342881203, 0.7842976450920105, 0.01518695242702961, 0.09220650047063828, 0.006508694030344486, 0.988994300365448, 0.07922594994306564, 0.15916888415813446, 0.6535244584083557, 0.09679188579320908, 0.011113142594695091, 0.023734936490654945, 0.2521098852157593, 0.1928315907716751, 0.10568541288375854, 0.07876220345497131, 0.16378286480903625, 0.0009446740732528269, 0.1432362049818039, 0.03861355409026146, 0.9858168959617615, 0.24477939307689667, 0.037753064185380936, 0.15255111455917358, 0.3131042420864105, 0.02369825541973114, 0.0779682844877243, 0.0758139044046402, 0.03662457689642906, 0.03785565495491028, 0.20086199045181274, 0.028246216475963593, 0.03295391798019409, 0.7375401258468628, 0.9835891127586365, 0.00715288333594799, 0.16296133399009705, 0.015083253383636475, 0.8146511912345886, 0.013319970108568668, 0.9790178537368774, 0.9916618466377258, 0.845466673374176, 0.030705291777849197, 0.03927421197295189, 0.038560133427381516, 0.010711148381233215, 0.03427567705512047, 0.8952031135559082, 0.014961612410843372, 0.034910429269075394, 0.012468010187149048, 0.04239123314619064, 0.0197746641933918, 0.09278880804777145, 0.860958456993103, 0.007605640217661858, 0.016732407733798027, 0.03707946091890335, 0.0303377415984869, 0.932379961013794, 0.6594112515449524, 0.09329622983932495, 0.03773117437958717, 0.06602955609560013, 0.0011790991993620992, 0.05866018682718277, 0.034046489745378494, 0.0440688319504261, 0.00560072110965848, 0.0936618521809578, 0.9053979516029358, 0.2767757475376129, 0.7225748896598816, 0.246598482131958, 0.13416069746017456, 0.4977153241634369, 0.0008689163951203227, 0.04518365487456322, 0.005734848324209452, 0.026588842272758484, 0.04292447119951248, 0.9874412417411804, 0.07806780189275742, 0.9212000966072083, 0.9948632121086121, 0.8699294924736023, 0.12706835567951202, 0.018927069380879402, 0.2564944326877594, 0.008484548889100552, 0.07636093348264694, 0.0417700856924057, 0.5939183831214905, 0.00456860288977623, 0.08986654877662659, 0.5472384691238403, 0.19121763110160828, 0.0060293846763670444, 0.0040195900946855545, 0.008900520391762257, 0.15274441242218018, 0.9940834641456604, 0.1442454606294632, 0.00954718142747879, 0.054169878363609314, 0.05333968997001648, 0.014113225042819977, 0.05832082778215408, 0.0020754742436110973, 0.6643593311309814, 0.1846790462732315, 0.4072211682796478, 0.1497136652469635, 0.0774647444486618, 0.14198650419712067, 0.016033850610256195, 0.022601934149861336, 0.9934739470481873, 0.9943547248840332, 0.026639819145202637, 0.9696894288063049, 0.5641207098960876, 0.049636825919151306, 0.04981798306107521, 0.07336829602718353, 0.09003467857837677, 0.020832974463701248, 0.04365866631269455, 0.061411984264850616, 0.04746294766664505, 0.9995043873786926, 0.9954184889793396, 0.9921934604644775, 0.996266782283783, 0.999184250831604, 0.01063485350459814, 0.008385173045098782, 0.9679762125015259, 0.0128845339640975, 0.994535505771637, 0.07334073632955551, 0.7732558250427246, 0.0037485265638679266, 0.1496151089668274, 0.9972344040870667, 0.9898286461830139, 0.11412743479013443, 0.7974288463592529, 0.08779033273458481, 0.9880545735359192, 0.9909247756004333, 0.9939060211181641, 0.03269528970122337, 0.7605013847351074, 0.01522794272750616, 0.005822448991239071, 0.0918155387043953, 0.0412050224840641, 0.03717409446835518, 0.01522794272750616, 0.9908725619316101, 0.9903096556663513, 0.9937408566474915, 0.9931864142417908, 0.995114803314209, 0.24080753326416016, 0.01481892541050911, 0.018082616850733757, 0.3252224922180176, 0.08944279700517654, 0.11960989981889725, 0.1759747415781021, 0.00414577079936862, 0.011908064596354961, 0.25040778517723083, 0.623079240322113, 0.020581461489200592, 0.025481808930635452, 0.008330591954290867, 0.07179009914398193, 0.00024501740699633956, 0.046255774796009064, 0.014607086777687073, 0.9202464818954468, 0.014607086777687073, 0.48815640807151794, 0.21158799529075623, 0.006571055389940739, 0.08965840190649033, 0.0191290732473135, 0.046143412590026855, 0.06731681525707245, 0.0652724876999855, 0.0059869615361094475, 0.0027623972855508327, 0.4198843836784363, 0.0003452996606938541, 0.5687085390090942, 0.00863249134272337, 0.9932909607887268, 0.9947534799575806, 0.8596400618553162, 0.04730723425745964, 0.07636739313602448, 0.015543806366622448, 0.997887134552002, 0.368564635515213, 0.45868387818336487, 0.002695875009521842, 0.012709124945104122, 0.025033125653862953, 0.005006624851375818, 0.12112180888652802, 0.005969437304884195, 0.019863558933138847, 0.8355109691619873, 0.032278284430503845, 0.11173252016305923, 0.9978143572807312, 0.9874600768089294, 0.025564678013324738, 0.9714577198028564, 0.997443437576294, 0.978724479675293, 0.01739954575896263, 0.06601246446371078, 0.9283002614974976, 0.11154075711965561, 0.8430322408676147, 0.005397133529186249, 0.011154075153172016, 0.028424901887774467, 0.9988395571708679, 0.9876165390014648, 0.2414565235376358, 0.0403117798268795, 0.15489663183689117, 0.19500133395195007, 0.05763756483793259, 0.13039204478263855, 0.06481637060642242, 0.014564701355993748, 0.1008484810590744, 0.9989112615585327, 0.0747692808508873, 0.39840081334114075, 0.06525721400976181, 0.12564778327941895, 0.017475659027695656, 0.23116537928581238, 0.005309061147272587, 0.07034505903720856, 0.011724176816642284, 0.04568934068083763, 0.9259706735610962, 0.021321693435311317, 0.006091912277042866, 0.9833173155784607, 0.9934731125831604, 0.9985877275466919, 0.9846904277801514, 0.13882280886173248, 0.0009254854521714151, 0.7218786478042603, 0.01943519338965416, 0.010180340148508549, 0.10828179866075516, 0.9100827574729919, 0.046948716044425964, 0.043337274342775345, 0.6785096526145935, 0.03855476900935173, 0.041179388761520386, 0.05122534930706024, 0.00515873683616519, 0.05774164944887161, 0.08181575685739517, 0.04353249818086624, 0.002353108022361994, 0.9966557025909424, 0.08959223330020905, 0.057834334671497345, 0.15281666815280914, 0.03525417670607567, 0.4776795506477356, 0.033069003373384476, 0.09046629816293716, 0.0632244348526001, 0.993410587310791, 0.9939861297607422, 0.9871317744255066, 0.008853199891746044, 0.9981838464736938, 0.2269255667924881, 0.022153683006763458, 0.24249303340911865, 0.1356164664030075, 0.37152326107025146, 0.0011974964290857315, 0.9927559494972229, 0.9926127195358276, 0.992644190788269, 0.012802363373339176, 0.9025666117668152, 0.008001476526260376, 0.014402658678591251, 0.006401181686669588, 0.05601033940911293, 0.9989523887634277, 0.7799006104469299, 0.00825582817196846, 0.11338004469871521, 0.011558160185813904, 0.02256593108177185, 0.06384507566690445, 0.7797266244888306, 0.0477246455848217, 0.015460096299648285, 0.053102072328329086, 0.0033608905505388975, 0.010082671418786049, 0.040330685675144196, 0.04974117875099182, 0.0006721781101077795, 0.9820201396942139, 0.011939454823732376, 0.005969727411866188, 0.32756179571151733, 0.05384290590882301, 0.11124740540981293, 0.41157349944114685, 0.011627553962171078, 0.016027169302105904, 0.013617855496704578, 0.013827361166477203, 0.04064406082034111, 0.5979165434837341, 0.015309557318687439, 0.038514990359544754, 0.032125961035490036, 0.06551767140626907, 0.10023541003465652, 0.06244370713829994, 0.013621889986097813, 0.07431765645742416, 0.3950625956058502, 0.054148364812135696, 0.15066903829574585, 0.06119249016046524, 0.11152304708957672, 0.053341787308454514, 0.005377196241170168, 0.16341298818588257, 0.005323424004018307, 0.27010196447372437, 0.4511118233203888, 0.06415960192680359, 0.05701228976249695, 0.002493248786777258, 0.07446503639221191, 0.060669057071208954, 0.017951391637325287, 0.0018283824902027845, 0.3522436320781708, 0.10702507197856903, 0.2241697609424591, 0.004533588420599699, 0.03764497488737106, 0.057398468255996704, 0.1536562591791153, 0.01805339753627777, 0.04525492712855339, 0.15985004603862762, 0.07527822256088257, 0.028810182586312294, 0.003717442974448204, 0.7314069271087646, 0.8233832716941833, 0.008488833904266357, 0.020601358264684677, 0.017514510080218315, 0.006106591783463955, 0.02935861423611641, 0.0035230335779488087, 0.03335138410329819, 0.05764354020357132, 0.30302584171295166, 0.006812404375523329, 0.5737558603286743, 0.11631549894809723, 0.19934670627117157, 0.00866724830120802, 0.7911959290504456, 0.3421427607536316, 0.175007626414299, 0.030130762606859207, 0.21697548031806946, 0.020955605432391167, 0.07781893014907837, 0.10222937911748886, 0.01580166071653366, 0.01891668140888214, 0.9845892786979675, 0.013674851506948471, 0.11034514755010605, 0.6986289620399475, 0.01911754719913006, 0.17205792665481567, 0.9880187511444092, 0.9897454977035522, 0.989208459854126, 0.01228964701294899, 0.3407304883003235, 0.019356194883584976, 0.019663436338305473, 0.004301376640796661, 0.5671672224998474, 0.007988270372152328, 0.028266189619898796, 0.000614482385572046, 0.23154130578041077, 0.053479354828596115, 0.7140709757804871, 0.9897990226745605, 0.9946239590644836, 0.9943331480026245, 0.9996663331985474, 0.9977778196334839, 0.010700923390686512, 0.2443377524614334, 0.7454976439476013, 0.00026674187392927706, 0.21979530155658722, 0.00026674187392927706, 0.018138447776436806, 0.7612813115119934, 0.11318888515233994, 0.8269382119178772, 0.013187054544687271, 0.010439751669764519, 0.03626440092921257, 0.9970923066139221, 0.9970487952232361, 0.03914262726902962, 0.1954355239868164, 0.09188801050186157, 0.17433737218379974, 0.44195079803466797, 0.0005552145885303617, 0.05690949410200119, 0.2724192142486572, 0.029015064239501953, 0.13048718869686127, 0.17828145623207092, 0.04900322109460831, 0.08414369076490402, 0.11904236674308777, 0.04102407768368721, 0.09647509455680847, 0.30306702852249146, 0.006664300803095102, 0.055853188037872314, 0.05902666598558426, 0.0647389218211174, 0.07172057032585144, 0.3376579284667969, 0.08441448211669922, 0.0168194267898798, 0.9948732256889343, 0.44124945998191833, 0.0032258445862680674, 0.058410827070474625, 0.09066927433013916, 0.07638338953256607, 0.036060333251953125, 0.29389747977256775, 0.5666918158531189, 0.02366807498037815, 0.11840137839317322, 0.036112114787101746, 0.03025609627366066, 0.07625024020671844, 0.06874721497297287, 0.012383039109408855, 0.06752721220254898, 0.22084778547286987, 0.019617704674601555, 0.025265224277973175, 0.10938356071710587, 0.030615506693720818, 0.1233537420630455, 0.12900125980377197, 0.29218488931655884, 0.049935974180698395, 0.9981715679168701, 0.33334439992904663, 0.02557404153048992, 0.08789239823818207, 0.5335274338722229, 0.017343316227197647, 0.0005879090167582035, 0.0014697725418955088, 0.6871337890625, 0.08619782328605652, 0.015427451580762863, 0.08619782328605652, 0.06660740822553635, 0.025467539206147194, 0.015672331675887108, 0.005142483860254288, 0.012244009412825108, 0.3707973062992096, 0.04533127695322037, 0.1167750358581543, 0.1209530383348465, 0.037601981312036514, 0.0673702135682106, 0.1343226283788681, 0.07353276014328003, 0.03331953287124634, 0.8310741782188416, 0.16875450313091278, 0.9962055683135986, 0.9936745762825012, 0.9837389588356018, 0.015311111696064472, 0.5087870359420776, 0.0179956816136837, 0.47302934527397156, 0.9971850514411926, 0.22675634920597076, 0.18079596757888794, 0.14064984023571014, 0.1649220883846283, 0.10244181752204895, 0.011997690424323082, 0.025102859362959862, 0.08896748721599579, 0.05832723155617714, 0.8136886954307556, 0.081160768866539, 0.04890456423163414, 0.02289149910211563, 0.03433724865317345, 0.9832176566123962, 0.016359694302082062, 0.9855334758758545, 0.9864231944084167, 0.01266449224203825, 0.9963046908378601, 0.19553865492343903, 0.13736186921596527, 0.0808010995388031, 0.5858079791069031, 0.9987285733222961, 0.9884897470474243, 0.00543126231059432, 0.015026486478745937, 0.9767216444015503, 0.14314775168895721, 0.30398792028427124, 0.029755432158708572, 0.48935621976852417, 0.012867213226854801, 0.010454610921442509, 0.010454610921442509, 0.9962282180786133, 0.6609513163566589, 0.011989349499344826, 0.11866382509469986, 0.1426425278186798, 0.02059708908200264, 0.01352644618600607, 0.031664181500673294, 0.9777335524559021, 0.00842873752117157, 0.998637318611145, 0.09573330730199814, 0.07938859611749649, 0.8242404460906982, 0.8713340163230896, 0.02170196920633316, 0.021159419789910316, 0.06510590761899948, 0.020616870373487473, 0.030224494636058807, 0.29491105675697327, 0.1493445634841919, 0.3642496168613434, 0.015556725673377514, 0.011778663843870163, 0.13401007652282715, 0.9929852485656738, 0.9992333054542542, 0.0010500693460926414, 0.00912247784435749, 0.06451363861560822, 0.09240610152482986, 0.01778554916381836, 0.8151163458824158, 0.9932176470756531, 0.004999417811632156, 0.9918088912963867, 0.9968470931053162, 0.9922141432762146, 0.24955376982688904, 0.5693812966346741, 0.06333468109369278, 0.11771166324615479, 0.9888748526573181, 0.9995022416114807, 0.994228184223175, 0.0645332932472229, 0.006453329231590033, 0.7576208710670471, 0.17165856063365936, 0.9960243105888367, 0.02420620620250702, 0.9730895161628723, 0.9946068525314331, 0.9974330067634583, 0.9936708807945251, 0.9903187155723572, 0.9826781153678894, 0.15404407680034637, 0.03610407933592796, 0.09748101234436035, 0.711250364780426, 0.9958571791648865, 0.8525327444076538, 0.14755374193191528, 0.9971521496772766, 0.09302885085344315, 0.021286262199282646, 0.8853508234024048, 0.1173611506819725, 0.04165170341730118, 0.4740009903907776, 0.18165665864944458, 0.11814355850219727, 0.014037314802408218, 0.03764761611819267, 0.01141394767910242, 0.0041421581991016865, 0.9912481904029846, 0.3226822316646576, 0.19182537496089935, 0.11522264778614044, 0.08326809108257294, 0.1824154406785965, 0.03141544759273529, 0.007155468687415123, 0.0660165473818779, 0.9854708909988403, 0.2185571789741516, 0.7802256345748901, 0.09939585626125336, 0.018444592133164406, 0.1593407839536667, 0.011271694675087929, 0.07787716388702393, 0.0343274362385273, 0.1593407839536667, 0.43959611654281616, 0.8387416005134583, 0.16097985208034515, 0.41636431217193604, 0.017659630626440048, 0.02844504453241825, 0.5374928116798401, 0.9932615160942078, 0.989920437335968, 0.9799583554267883, 0.01848977990448475, 0.9917672276496887, 0.9982193112373352, 0.9977458119392395, 0.22324296832084656, 0.5242721438407898, 0.03941633924841881, 0.2071973830461502, 0.005929891485720873, 0.0697799026966095, 0.9198260307312012, 0.010149803943932056, 0.8462647199630737, 0.039138372987508774, 0.0032843390945345163, 0.01669538952410221, 0.008210848085582256, 0.07307654619216919, 0.012863661162555218, 0.9855675101280212, 0.03225395083427429, 0.16375082731246948, 0.8026271462440491, 0.23344150185585022, 0.3410630524158478, 0.005334012676030397, 0.00031376545666716993, 0.00031376545666716993, 0.40836572647094727, 0.011295556090772152, 0.6721888780593872, 0.2956356704235077, 0.021662957966327667, 0.0006371458293870091, 0.010194333270192146, 0.4313286244869232, 0.1805146038532257, 0.006751921493560076, 0.022440209984779358, 0.06454042345285416, 0.0538167878985405, 0.2110968381166458, 0.029390716925263405, 0.2928558588027954, 0.1138315424323082, 0.1967220902442932, 0.11359075456857681, 0.1170821487903595, 0.01516951248049736, 0.018299728631973267, 0.06988810747861862, 0.06260433793067932, 0.9956799745559692, 0.2297956794500351, 0.28272542357444763, 0.014175285585224628, 0.03082149289548397, 0.0282205231487751, 0.026789989322423935, 0.03511309251189232, 0.35243141651153564, 0.9892472624778748, 0.9992666244506836, 0.200839102268219, 0.001673659193329513, 0.08314148336648941, 0.2891492247581482, 0.10445602238178253, 0.05680596083402634, 0.14526377618312836, 0.1186821237206459, 0.9991230368614197, 0.0552811473608017, 0.9453076124191284, 0.030309336259961128, 0.7750064730644226, 0.08408395946025848, 0.022813478484749794, 0.02053213119506836, 0.002607254544273019, 0.06192229688167572, 0.002607254544273019, 0.9977928996086121, 0.9984524846076965, 0.019276782870292664, 0.9776082634925842, 0.4625263214111328, 0.037435468286275864, 0.11254823207855225, 0.22025984525680542, 0.08372195810079575, 0.015235364437103271, 0.05010741949081421, 0.0021281144581735134, 0.016009224578738213, 0.8174350261688232, 0.18252554535865784, 0.9873169660568237, 0.9946954250335693, 0.996943473815918, 0.9968621730804443, 0.20968787372112274, 0.6601569056510925, 0.03214894235134125, 0.00019193397019989789, 0.03464408218860626, 0.04563230276107788, 0.0008637029095552862, 0.016746239736676216, 0.9987016320228577, 0.9719195365905762, 0.024921013042330742, 0.047673922032117844, 0.9516448378562927, 0.2898045778274536, 0.1969146430492401, 0.13040705025196075, 0.1502690464258194, 0.022269511595368385, 0.09660153090953827, 0.017354169860482216, 0.06720978766679764, 0.029090803116559982, 0.8928253054618835, 0.022125408053398132, 0.084597148001194, 0.16126921772956848, 0.05540112778544426, 0.21251526474952698, 0.0643172487616539, 0.21641065180301666, 0.016620337963104248, 0.08336138725280762, 0.06198001280426979, 0.12811510264873505, 0.10448157042264938, 0.6046228408813477, 0.07407914847135544, 0.011989688500761986, 0.0008564062882214785, 0.020125549286603928, 0.18412736058235168, 0.9954864978790283, 0.03386273607611656, 0.10195627808570862, 0.7804992198944092, 0.035887137055397034, 0.01325063593685627, 0.000368073204299435, 0.03423080965876579, 0.996966540813446, 0.9875320196151733, 0.31850388646125793, 0.05300131440162659, 0.2052738070487976, 0.12485069036483765, 0.11648952215909958, 0.021611498668789864, 0.031744103878736496, 0.06674764305353165, 0.06178762763738632, 0.9856969118118286, 0.997921347618103, 0.20808666944503784, 0.09878136962652206, 0.35733503103256226, 0.002152620814740658, 0.005979502107948065, 0.27529627084732056, 0.04161733388900757, 0.003826881293207407, 0.006936222314834595, 0.9884423613548279, 0.992373526096344, 0.9882431030273438, 0.997377872467041, 0.13841670751571655, 0.016220707446336746, 0.8061691522598267, 0.02433106116950512, 0.0010813805274665356, 0.012976565398275852, 0.9885417222976685, 0.3441089689731598, 0.0009437986300326884, 0.15525487065315247, 0.31107601523399353, 0.0038695745170116425, 0.1476101130247116, 0.03709128499031067, 0.3314239978790283, 0.5486410856246948, 0.02164706215262413, 0.03135091811418533, 0.020527387037873268, 0.03844219818711281, 0.007837729528546333, 0.9970545172691345, 0.9861079454421997, 0.9936771392822266, 0.03607769310474396, 0.9247282147407532, 0.038925930857658386, 0.08133265376091003, 0.057286474853754044, 0.0452633872628212, 0.023338934406638145, 0.7475531697273254, 0.0445561483502388, 0.892498254776001, 0.042557816952466965, 0.06444469839334488, 0.04718872904777527, 0.01927427016198635, 0.0013292599469423294, 0.6805810928344727, 0.2060353010892868, 0.0451948381960392, 0.023565461859107018, 0.9384945034980774, 0.014728412963449955, 0.011193593963980675, 0.011782730929553509, 0.2927185297012329, 0.03563137724995613, 0.0027061805594712496, 0.3698446750640869, 0.29903295636177063, 0.9945471286773682, 0.9945546388626099, 0.9908536076545715, 0.9720914363861084, 0.027583807706832886, 0.9980576038360596, 0.9838052988052368, 0.013921773061156273, 0.993057906627655, 0.9975739121437073, 0.9988976120948792, 0.998256266117096, 0.019243936985731125, 0.8410313129425049, 0.05131716653704643, 0.055593594908714294, 0.032785966992378235, 0.04434329271316528, 0.9551404118537903, 0.9972749352455139, 0.9958739280700684, 0.003402257338166237, 0.7468955516815186, 0.018712414428591728, 0.08805842697620392, 0.016010623425245285, 0.12688417732715607, 0.9905017018318176, 0.057394880801439285, 0.20008492469787598, 0.019131626933813095, 0.032683197408914566, 0.01833447627723217, 0.6719983816146851, 0.9880427718162537, 0.06653474271297455, 0.8931642770767212, 0.028212610632181168, 0.011755255050957203, 0.9982454180717468, 0.9557152986526489, 0.040404222905635834, 0.003108017146587372, 0.9975007176399231, 0.25934600830078125, 0.0028251197654753923, 0.015820670872926712, 0.049722108989953995, 0.6079657673835754, 0.014690623618662357, 0.049722108989953995, 0.9931178092956543, 0.9985895752906799, 0.9966111183166504, 0.0027838300447911024, 0.9913383722305298, 0.33164846897125244, 0.015660881996154785, 0.24524728953838348, 0.10003788024187088, 0.024396885186433792, 0.06754421442747116, 0.03643552213907242, 0.09694831818342209, 0.0820331946015358, 0.8544820547103882, 0.05957856401801109, 0.003919642418622971, 0.08074463158845901], \"Term\": [\"abap\", \"abil\", \"abil\", \"abil\", \"abil\", \"abil\", \"abil\", \"abil\", \"abil\", \"abil\", \"access\", \"access\", \"access\", \"access\", \"access\", \"access\", \"access\", \"access\", \"access\", \"accommod\", \"accommod\", \"accommod\", \"accommod\", \"accommod\", \"account\", \"account\", \"account\", \"account\", \"account\", \"account\", \"account\", \"account\", \"activ\", \"activ\", \"activ\", \"activ\", \"activ\", \"activ\", \"activ\", \"activ\", \"activ\", \"ad\", \"ad\", \"administr\", \"administr\", \"administr\", \"administr\", \"administr\", \"administr\", \"admir\", \"adob\", \"adob\", \"adp\", \"adp\", \"adp\", \"advertis\", \"adword\", \"aem\", \"agil\", \"agil\", \"agil\", \"agil\", \"air\", \"air\", \"ajax\", \"allstat\", \"amazon\", \"amazon\", \"amnesti\", \"analog\", \"analysi\", \"analysi\", \"analysi\", \"analysi\", \"analysi\", \"analysi\", \"analysi\", \"analysi\", \"analysi\", \"analyst\", \"analyst\", \"analyst\", \"analyst\", \"analyt\", \"analyt\", \"analyt\", \"analyt\", \"analyt\", \"analyt\", \"analyt\", \"analyt\", \"analyt\", \"android\", \"android\", \"angular\", \"angularj\", \"anim\", \"anim\", \"ansibl\", \"ansibl\", \"apex\", \"api\", \"api\", \"apige\", \"architect\", \"architect\", \"architect\", \"architect\", \"architect\", \"architectur\", \"architectur\", \"architectur\", \"architectur\", \"architectur\", \"architectur\", \"architectur\", \"ariba\", \"armi\", \"arthur\", \"artifactori\", \"artist\", \"ascent\", \"asg\", \"asp\", \"assess\", \"assess\", \"assess\", \"assess\", \"assess\", \"assess\", \"assess\", \"attack\", \"audit\", \"audit\", \"audit\", \"audit\", \"audit\", \"audit\", \"autocad\", \"autom\", \"autom\", \"autom\", \"autom\", \"autom\", \"autom\", \"autom\", \"autom\", \"autom\", \"avaya\", \"aw\", \"aw\", \"award\", \"award\", \"award\", \"azur\", \"azur\", \"azur\", \"backlog\", \"backlog\", \"backlog\", \"backup\", \"backup\", \"badg\", \"banner\", \"barri\", \"bash\", \"bash\", \"bdd\", \"believ\", \"believ\", \"best\", \"best\", \"best\", \"best\", \"best\", \"best\", \"best\", \"best\", \"best\", \"bgp\", \"bhge\", \"big\", \"big\", \"big\", \"big\", \"big\", \"big\", \"boomi\", \"bootstrap\", \"brand\", \"brand\", \"breakthrough\", \"brilliant\", \"brochur\", \"budget\", \"budget\", \"budget\", \"budget\", \"build\", \"build\", \"build\", \"build\", \"build\", \"build\", \"build\", \"build\", \"build\", \"campaign\", \"campaign\", \"career\", \"cassandra\", \"ccnp\", \"ccnp\", \"cgi\", \"cgi\", \"chang\", \"chang\", \"chang\", \"chang\", \"chang\", \"chang\", \"chang\", \"chang\", \"chang\", \"channel\", \"channel\", \"channel\", \"channel\", \"channel\", \"characterist\", \"characterist\", \"characterist\", \"characterist\", \"chase\", \"chase\", \"chef\", \"chef\", \"chemic\", \"cisa\", \"cism\", \"cissp\", \"citrix\", \"civilian\", \"cleans\", \"clearanc\", \"clearanc\", \"click\", \"click\", \"click\", \"client\", \"client\", \"client\", \"client\", \"client\", \"client\", \"clinic\", \"clinic\", \"cloud\", \"cloud\", \"cloud\", \"cloud\", \"cloud\", \"cloud\", \"cloudera\", \"cloudform\", \"cloudwatch\", \"coast\", \"cod\", \"cod\", \"cod\", \"cod\", \"cod\", \"cod\", \"code\", \"code\", \"code\", \"code\", \"code\", \"code\", \"cogno\", \"compani\", \"compani\", \"compani\", \"competit\", \"competit\", \"competit\", \"competit\", \"complaint\", \"complet\", \"complet\", \"complet\", \"complet\", \"complet\", \"complet\", \"complet\", \"complet\", \"complianc\", \"complianc\", \"complianc\", \"complianc\", \"complianc\", \"compucom\", \"condit\", \"condit\", \"condit\", \"condit\", \"configur\", \"configur\", \"configur\", \"configur\", \"configur\", \"configur\", \"conflict\", \"conflict\", \"conflict\", \"conflict\", \"consider\", \"consider\", \"consider\", \"consider\", \"consider\", \"consider\", \"consider\", \"consider\", \"consider\", \"consult\", \"consult\", \"consult\", \"consult\", \"consult\", \"consult\", \"consult\", \"consult\", \"contain\", \"contain\", \"contain\", \"contain\", \"content\", \"content\", \"content\", \"content\", \"content\", \"control\", \"control\", \"control\", \"control\", \"control\", \"control\", \"control\", \"control\", \"control\", \"convers\", \"convers\", \"convers\", \"convers\", \"convers\", \"convers\", \"copi\", \"copi\", \"copi\", \"copi\", \"copi\", \"copyright\", \"copywrit\", \"court\", \"cpa\", \"cpa\", \"cpq\", \"creat\", \"creat\", \"creat\", \"creat\", \"creat\", \"creat\", \"creat\", \"creat\", \"creat\", \"creativ\", \"creativ\", \"creativ\", \"creativ\", \"creativ\", \"creativ\", \"css\", \"css\", \"custom\", \"custom\", \"custom\", \"custom\", \"custom\", \"custom\", \"custom\", \"custom\", \"custom\", \"cutter\", \"cyber\", \"cybersecur\", \"cybersecur\", \"dashboard\", \"dashboard\", \"dashboard\", \"dashboard\", \"dashboard\", \"data\", \"data\", \"data\", \"data\", \"data\", \"data\", \"data\", \"data\", \"data\", \"databas\", \"databas\", \"databas\", \"databas\", \"databas\", \"databas\", \"dataset\", \"dataset\", \"datastag\", \"dba\", \"debug\", \"debug\", \"debug\", \"debug\", \"defens\", \"defens\", \"defin\", \"defin\", \"defin\", \"defin\", \"defin\", \"defin\", \"defin\", \"defin\", \"defin\", \"deliver\", \"deliver\", \"deliver\", \"deliver\", \"deliver\", \"deliveri\", \"deliveri\", \"deliveri\", \"deliveri\", \"deliveri\", \"deliveri\", \"deliveri\", \"deliveri\", \"deloitt\", \"deloitt\", \"demonstr\", \"demonstr\", \"demonstr\", \"demonstr\", \"demonstr\", \"demonstr\", \"demonstr\", \"demonstr\", \"demonstr\", \"deploy\", \"deploy\", \"deploy\", \"deploy\", \"deploy\", \"deploy\", \"deploy\", \"desk\", \"desk\", \"desktop\", \"desktop\", \"desktop\", \"detect\", \"detect\", \"detect\", \"detect\", \"devop\", \"devop\", \"devop\", \"dhcp\", \"dhs\", \"digit\", \"digit\", \"digit\", \"digit\", \"digit\", \"dimension\", \"dimension\", \"dimension\", \"direct\", \"direct\", \"direct\", \"direct\", \"direct\", \"direct\", \"direct\", \"direct\", \"direct\", \"directori\", \"directori\", \"directori\", \"distribut\", \"distribut\", \"distribut\", \"distribut\", \"distribut\", \"distribut\", \"distribut\", \"distribut\", \"distribut\", \"dns\", \"dns\", \"docker\", \"document\", \"document\", \"document\", \"document\", \"document\", \"document\", \"document\", \"dod\", \"drive\", \"drive\", \"drive\", \"drive\", \"drive\", \"drive\", \"drive\", \"drive\", \"drive\", \"drupal\", \"dsa\", \"dss\", \"duti\", \"duti\", \"duti\", \"duti\", \"duti\", \"duti\", \"duti\", \"duti\", \"dynamodb\", \"dynatrac\", \"eclaro\", \"eclips\", \"eclips\", \"edi\", \"edi\", \"edit\", \"edit\", \"edit\", \"edit\", \"edit\", \"edit\", \"editori\", \"effect\", \"effect\", \"effect\", \"effect\", \"effect\", \"effect\", \"effect\", \"effect\", \"effect\", \"eigrp\", \"ejb\", \"elast\", \"elasticsearch\", \"electr\", \"electr\", \"electr\", \"electr\", \"elicit\", \"elicit\", \"elicit\", \"elicit\", \"ember\", \"encourag\", \"encourag\", \"encourag\", \"encourag\", \"encourag\", \"encourag\", \"encourag\", \"end\", \"end\", \"end\", \"end\", \"end\", \"end\", \"end\", \"end\", \"engin\", \"engin\", \"engin\", \"engin\", \"engin\", \"engin\", \"engin\", \"engin\", \"ensur\", \"ensur\", \"ensur\", \"ensur\", \"ensur\", \"ensur\", \"ensur\", \"ensur\", \"ensur\", \"enterpris\", \"enterpris\", \"enterpris\", \"enterpris\", \"enterpris\", \"enterpris\", \"enterpris\", \"entrepreneur\", \"environ\", \"environ\", \"environ\", \"environ\", \"environ\", \"environ\", \"environ\", \"environ\", \"environ\", \"environment\", \"environment\", \"environment\", \"epic\", \"equip\", \"equip\", \"erwin\", \"essbas\", \"etl\", \"euromonitor\", \"excel\", \"excel\", \"excel\", \"excel\", \"excel\", \"excel\", \"excel\", \"excel\", \"excel\", \"execut\", \"execut\", \"execut\", \"execut\", \"execut\", \"execut\", \"execut\", \"execut\", \"execut\", \"extract\", \"extract\", \"faa\", \"facilit\", \"facilit\", \"facilit\", \"facilit\", \"facilit\", \"facilit\", \"factor\", \"factor\", \"factor\", \"factor\", \"factor\", \"factor\", \"fastest\", \"fda\", \"femal\", \"field\", \"field\", \"field\", \"field\", \"field\", \"field\", \"field\", \"field\", \"field\", \"financ\", \"financ\", \"financ\", \"financ\", \"financ\", \"firm\", \"firm\", \"firm\", \"firm\", \"firm\", \"firm\", \"firm\", \"firm\", \"fiserv\", \"forb\", \"forens\", \"form\", \"form\", \"form\", \"form\", \"form\", \"form\", \"form\", \"form\", \"fortun\", \"fortun\", \"forward\", \"forward\", \"forward\", \"forward\", \"forward\", \"forward\", \"forward\", \"fpga\", \"framework\", \"framework\", \"framework\", \"framework\", \"framework\", \"framework\", \"front\", \"front\", \"front\", \"front\", \"front\", \"front\", \"frontend\", \"fun\", \"fun\", \"fun\", \"function\", \"function\", \"function\", \"function\", \"function\", \"function\", \"function\", \"function\", \"function\", \"fund\", \"fund\", \"fund\", \"fund\", \"fund\", \"gas\", \"genesi\", \"giac\", \"go\", \"go\", \"go\", \"go\", \"go\", \"go\", \"go\", \"go\", \"golang\", \"gov\", \"grammar\", \"grant\", \"grant\", \"grant\", \"graphic\", \"graphic\", \"graphic\", \"grc\", \"great\", \"great\", \"great\", \"great\", \"great\", \"great\", \"great\", \"great\", \"group\", \"group\", \"group\", \"group\", \"group\", \"group\", \"group\", \"group\", \"group\", \"grow\", \"grow\", \"grow\", \"grow\", \"grow\", \"grow\", \"grow\", \"hadoop\", \"hadoop\", \"hana\", \"hana\", \"hand\", \"hand\", \"hand\", \"hand\", \"hand\", \"hand\", \"hand\", \"hand\", \"hand\", \"harass\", \"hardship\", \"hardwar\", \"hardwar\", \"hardwar\", \"hardwar\", \"hazard\", \"hcm\", \"hcm\", \"hdfs\", \"headquart\", \"headquart\", \"headquart\", \"headquart\", \"help\", \"help\", \"help\", \"help\", \"help\", \"help\", \"help\", \"help\", \"help\", \"helpdesk\", \"hibern\", \"hibern\", \"high\", \"high\", \"high\", \"high\", \"high\", \"high\", \"high\", \"high\", \"high\", \"hive\", \"hris\", \"htc\", \"html\", \"html\", \"html\", \"hvac\", \"hyperion\", \"iaa\", \"iaa\", \"iam\", \"iam\", \"identifi\", \"identifi\", \"identifi\", \"identifi\", \"identifi\", \"identifi\", \"identifi\", \"identifi\", \"identifi\", \"idm\", \"illustr\", \"illustr\", \"impedi\", \"implement\", \"implement\", \"implement\", \"implement\", \"implement\", \"implement\", \"implement\", \"implement\", \"implement\", \"improv\", \"improv\", \"improv\", \"improv\", \"improv\", \"improv\", \"improv\", \"improv\", \"improv\", \"incid\", \"incid\", \"incid\", \"includ\", \"includ\", \"includ\", \"includ\", \"includ\", \"includ\", \"includ\", \"includ\", \"includ\", \"indesign\", \"industri\", \"industri\", \"industri\", \"industri\", \"industri\", \"industri\", \"industri\", \"industri\", \"industri\", \"inform\", \"inform\", \"inform\", \"inform\", \"inform\", \"inform\", \"inform\", \"inform\", \"informatica\", \"infrastructur\", \"infrastructur\", \"infrastructur\", \"infrastructur\", \"infrastructur\", \"infrastructur\", \"innov\", \"innov\", \"innov\", \"innov\", \"innov\", \"innov\", \"innov\", \"innov\", \"instal\", \"instal\", \"instal\", \"integr\", \"integr\", \"integr\", \"integr\", \"integr\", \"integr\", \"integr\", \"integr\", \"integr\", \"intellig\", \"intellig\", \"intellig\", \"intellig\", \"intellig\", \"intrus\", \"iot\", \"iot\", \"iot\", \"ip\", \"issu\", \"issu\", \"issu\", \"issu\", \"issu\", \"issu\", \"issu\", \"issu\", \"issu\", \"jasmin\", \"java\", \"java\", \"javascript\", \"javascript\", \"jcl\", \"jenkin\", \"jenkin\", \"jpa\", \"jpmorgan\", \"jqueri\", \"json\", \"json\", \"json\", \"jsp\", \"junit\", \"junit\", \"kafka\", \"kafka\", \"kelli\", \"kforc\", \"kforc\", \"kforc\", \"kforc\", \"knockout\", \"krono\", \"kso\", \"kubernet\", \"laboratori\", \"lambda\", \"lan\", \"laptop\", \"laptop\", \"lead\", \"lead\", \"lead\", \"lead\", \"lead\", \"lead\", \"lead\", \"lead\", \"leader\", \"leader\", \"leader\", \"leader\", \"leader\", \"leader\", \"leader\", \"leadership\", \"leadership\", \"leadership\", \"leadership\", \"leadership\", \"leadership\", \"leadership\", \"learn\", \"learn\", \"learn\", \"learn\", \"learn\", \"learn\", \"learn\", \"learn\", \"learn\", \"leido\", \"leido\", \"level\", \"level\", \"level\", \"level\", \"level\", \"level\", \"level\", \"level\", \"level\", \"lightn\", \"link\", \"link\", \"link\", \"link\", \"link\", \"link\", \"link\", \"link\", \"linq\", \"linux\", \"linux\", \"linux\", \"linux\", \"linux\", \"look\", \"look\", \"look\", \"look\", \"look\", \"look\", \"look\", \"look\", \"look\", \"magento\", \"maintain\", \"maintain\", \"maintain\", \"maintain\", \"maintain\", \"maintain\", \"maintain\", \"maintain\", \"maintain\", \"manufactur\", \"manufactur\", \"manufactur\", \"manufactur\", \"mapreduc\", \"market\", \"market\", \"market\", \"market\", \"mart\", \"mart\", \"mastech\", \"match\", \"match\", \"match\", \"match\", \"match\", \"match\", \"matrix\", \"matrix\", \"matrix\", \"matrix\", \"matrix\", \"mechan\", \"mechan\", \"mechan\", \"mechan\", \"mechan\", \"media\", \"media\", \"media\", \"meet\", \"meet\", \"meet\", \"meet\", \"meet\", \"meet\", \"meet\", \"meet\", \"meet\", \"metadata\", \"metadata\", \"microservic\", \"microservic\", \"microsoft\", \"microsoft\", \"microsoft\", \"microsoft\", \"microsoft\", \"microsoft\", \"microsoft\", \"microsoft\", \"microstrategi\", \"middlewar\", \"middlewar\", \"midmarket\", \"mileston\", \"mileston\", \"mission\", \"mission\", \"mission\", \"mission\", \"mission\", \"mission\", \"mission\", \"mobil\", \"mobil\", \"mobil\", \"mobil\", \"mobil\", \"mobil\", \"mobil\", \"mockup\", \"model\", \"model\", \"model\", \"model\", \"model\", \"model\", \"model\", \"model\", \"monitor\", \"monitor\", \"monitor\", \"monitor\", \"monitor\", \"monitor\", \"monitor\", \"mpls\", \"mule\", \"mulesoft\", \"mulesoft\", \"multipl\", \"multipl\", \"multipl\", \"multipl\", \"multipl\", \"multipl\", \"multipl\", \"multipl\", \"multipl\", \"mvc\", \"mwbe\", \"nas\", \"navi\", \"nbsp\", \"net\", \"net\", \"net\", \"net\", \"netapp\", \"network\", \"network\", \"network\", \"network\", \"nist\", \"noc\", \"nosql\", \"nosql\", \"nosql\", \"ntt\", \"nurs\", \"obie\", \"offer\", \"offer\", \"offer\", \"offer\", \"offer\", \"offer\", \"offer\", \"offer\", \"oil\", \"olap\", \"oncolog\", \"openshift\", \"openstack\", \"oper\", \"oper\", \"oper\", \"oper\", \"oper\", \"oper\", \"oper\", \"oper\", \"oper\", \"opportun\", \"opportun\", \"opportun\", \"opportun\", \"opportun\", \"opportun\", \"opportun\", \"orchestr\", \"orchestr\", \"orchestr\", \"orchestr\", \"organ\", \"organ\", \"organ\", \"organ\", \"organ\", \"organ\", \"organ\", \"organ\", \"organ\", \"origin\", \"origin\", \"origin\", \"origin\", \"origin\", \"orm\", \"ospf\", \"owner\", \"owner\", \"owner\", \"owner\", \"paa\", \"partner\", \"partner\", \"partner\", \"partner\", \"partner\", \"partner\", \"partner\", \"partner\", \"patch\", \"patch\", \"patch\", \"patch\", \"patient\", \"pcb\", \"pci\", \"pci\", \"pcs\", \"pega\", \"pega\", \"penetr\", \"penetr\", \"peopl\", \"peopl\", \"peopl\", \"peopl\", \"peopl\", \"peoplesoft\", \"percent\", \"perform\", \"perform\", \"perform\", \"perform\", \"perform\", \"perform\", \"perform\", \"perform\", \"perform\", \"peripher\", \"person\", \"person\", \"person\", \"person\", \"person\", \"person\", \"person\", \"person\", \"person\", \"pharmaceut\", \"pharmaceut\", \"pharmaceut\", \"pharmaceut\", \"photograph\", \"photographi\", \"photoshop\", \"pig\", \"pipelin\", \"pipelin\", \"pipelin\", \"pipelin\", \"pipelin\", \"pipelin\", \"placement\", \"placement\", \"placement\", \"plan\", \"plan\", \"plan\", \"plan\", \"plan\", \"plan\", \"plan\", \"plan\", \"plan\", \"plant\", \"platform\", \"platform\", \"platform\", \"platform\", \"platform\", \"platform\", \"platform\", \"platform\", \"plc\", \"pmi\", \"pmo\", \"pmo\", \"pmp\", \"polici\", \"polici\", \"polici\", \"polici\", \"polici\", \"polici\", \"postur\", \"powerbi\", \"ppm\", \"presenc\", \"presenc\", \"presenc\", \"presenc\", \"presenc\", \"presenc\", \"printer\", \"priorit\", \"priorit\", \"priorit\", \"priorit\", \"priorit\", \"priorit\", \"prioriti\", \"prioriti\", \"prioriti\", \"prioriti\", \"prioriti\", \"prioriti\", \"prioriti\", \"prioriti\", \"prioriti\", \"privaci\", \"privaci\", \"privaci\", \"problem\", \"problem\", \"problem\", \"problem\", \"problem\", \"problem\", \"problem\", \"problem\", \"problem\", \"process\", \"process\", \"process\", \"process\", \"process\", \"process\", \"process\", \"process\", \"process\", \"product\", \"product\", \"product\", \"product\", \"product\", \"product\", \"product\", \"product\", \"product\", \"profession\", \"profession\", \"profession\", \"profession\", \"profession\", \"profession\", \"profession\", \"profession\", \"profession\", \"program\", \"program\", \"program\", \"program\", \"program\", \"program\", \"program\", \"program\", \"program\", \"programm\", \"programm\", \"programm\", \"programm\", \"programm\", \"project\", \"project\", \"project\", \"project\", \"project\", \"project\", \"project\", \"project\", \"project\", \"protect\", \"protect\", \"protect\", \"protect\", \"proud\", \"proud\", \"proud\", \"provid\", \"provid\", \"provid\", \"provid\", \"provid\", \"provid\", \"provid\", \"provid\", \"provid\", \"puppet\", \"puppet\", \"python\", \"python\", \"python\", \"python\", \"qlik\", \"qlikview\", \"qos\", \"qualifi\", \"qualifi\", \"qualifi\", \"qualifi\", \"qualifi\", \"qualifi\", \"qualifi\", \"qualifi\", \"qualifi\", \"queri\", \"queri\", \"queri\", \"rabbitmq\", \"rack\", \"rds\", \"react\", \"reactj\", \"reason\", \"reason\", \"reason\", \"receiv\", \"receiv\", \"receiv\", \"receiv\", \"receiv\", \"recruit\", \"recruit\", \"recruit\", \"recruit\", \"recruit\", \"redi\", \"redux\", \"regard\", \"regard\", \"regard\", \"regard\", \"regard\", \"regard\", \"regard\", \"relat\", \"relat\", \"relat\", \"relat\", \"relat\", \"relat\", \"relat\", \"relat\", \"relat\", \"relev\", \"relev\", \"relev\", \"relev\", \"relev\", \"relev\", \"relev\", \"relev\", \"relev\", \"religi\", \"report\", \"report\", \"report\", \"report\", \"report\", \"report\", \"report\", \"requir\", \"requir\", \"requir\", \"requir\", \"requir\", \"requir\", \"requir\", \"requir\", \"requir\", \"research\", \"research\", \"research\", \"research\", \"research\", \"research\", \"research\", \"research\", \"research\", \"reserv\", \"resolv\", \"resolv\", \"resolv\", \"resolv\", \"resolv\", \"resolv\", \"resolv\", \"resourc\", \"resourc\", \"resourc\", \"resourc\", \"resourc\", \"resourc\", \"resourc\", \"resourc\", \"resourc\", \"respons\", \"respons\", \"respons\", \"respons\", \"respons\", \"respons\", \"respons\", \"respons\", \"respons\", \"rest\", \"rest\", \"restor\", \"revit\", \"reward\", \"reward\", \"risk\", \"risk\", \"risk\", \"rodan\", \"role\", \"role\", \"role\", \"role\", \"role\", \"role\", \"role\", \"role\", \"role\", \"rout\", \"rout\", \"rout\", \"rout\", \"rout\", \"router\", \"router\", \"rsp\", \"safeti\", \"safeti\", \"sailpoint\", \"sale\", \"sale\", \"sale\", \"sale\", \"sas\", \"sass\", \"sass\", \"scada\", \"scada\", \"scale\", \"scale\", \"scale\", \"scale\", \"scale\", \"scale\", \"scale\", \"sccm\", \"schedul\", \"schedul\", \"schedul\", \"schedul\", \"schedul\", \"schedul\", \"schedul\", \"schemat\", \"schemat\", \"sci\", \"scientist\", \"scientist\", \"scientist\", \"scope\", \"scope\", \"scope\", \"scope\", \"scope\", \"script\", \"script\", \"script\", \"script\", \"script\", \"script\", \"script\", \"sdet\", \"secret\", \"secur\", \"secur\", \"secur\", \"secur\", \"secur\", \"secur\", \"selenium\", \"selenium\", \"sem\", \"seo\", \"servant\", \"server\", \"server\", \"server\", \"server\", \"serverless\", \"sga\", \"sgainc\", \"shell\", \"shell\", \"shell\", \"shell\", \"siem\", \"sketch\", \"sketch\", \"skin\", \"skincar\", \"skyrocket\", \"smarter\", \"smci\", \"sme\", \"sme\", \"sme\", \"sme\", \"snmp\", \"soap\", \"soap\", \"soc\", \"social\", \"social\", \"social\", \"softwar\", \"softwar\", \"softwar\", \"softwar\", \"softwar\", \"softwar\", \"softwar\", \"softwar\", \"softwar\", \"solr\", \"solut\", \"solut\", \"solut\", \"solut\", \"solut\", \"solut\", \"solut\", \"solut\", \"soql\", \"spark\", \"spark\", \"specialist\", \"specialist\", \"specialist\", \"specialist\", \"specialist\", \"specialist\", \"specialist\", \"specialist\", \"spring\", \"spring\", \"sql\", \"sql\", \"sql\", \"sql\", \"squir\", \"sre\", \"srm\", \"srm\", \"ssas\", \"ssis\", \"ssrs\", \"stack\", \"stack\", \"stack\", \"stack\", \"stack\", \"staff\", \"staff\", \"staff\", \"stakehold\", \"stakehold\", \"stakehold\", \"stakehold\", \"stakehold\", \"stakehold\", \"stakehold\", \"stanford\", \"statist\", \"statist\", \"statist\", \"status\", \"status\", \"status\", \"status\", \"status\", \"status\", \"status\", \"storag\", \"storag\", \"storag\", \"storag\", \"storag\", \"strategi\", \"strategi\", \"strategi\", \"strategi\", \"strategi\", \"strategi\", \"strategi\", \"strategi\", \"strong\", \"strong\", \"strong\", \"strong\", \"strong\", \"strong\", \"strong\", \"strong\", \"strong\", \"strut\", \"success\", \"success\", \"success\", \"success\", \"success\", \"success\", \"success\", \"success\", \"surefir\", \"switch\", \"system\", \"system\", \"system\", \"system\", \"system\", \"system\", \"system\", \"system\", \"tableau\", \"talend\", \"talend\", \"talent\", \"talent\", \"talent\", \"talent\", \"talent\", \"talent\", \"talent\", \"talent\", \"tax\", \"tcg\", \"tdd\", \"tdd\", \"technic\", \"technic\", \"technic\", \"technic\", \"technic\", \"technic\", \"technic\", \"technic\", \"technic\", \"technician\", \"technician\", \"tel\", \"telephoni\", \"teradata\", \"terraform\", \"test\", \"test\", \"test\", \"test\", \"test\", \"test\", \"test\", \"test\", \"threat\", \"tibco\", \"tibco\", \"ticket\", \"ticket\", \"time\", \"time\", \"time\", \"time\", \"time\", \"time\", \"time\", \"time\", \"time\", \"timelin\", \"timelin\", \"timelin\", \"tool\", \"tool\", \"tool\", \"tool\", \"tool\", \"tool\", \"tool\", \"tool\", \"tool\", \"transform\", \"transform\", \"transform\", \"transform\", \"transform\", \"transform\", \"transform\", \"trial\", \"troubleshoot\", \"troubleshoot\", \"troubleshoot\", \"troubleshoot\", \"troubleshoot\", \"troubleshoot\", \"troubleshoot\", \"typescript\", \"unavail\", \"understand\", \"understand\", \"understand\", \"understand\", \"understand\", \"understand\", \"understand\", \"understand\", \"understand\", \"undu\", \"unisi\", \"unit\", \"unit\", \"unit\", \"unit\", \"unit\", \"unit\", \"unit\", \"unit\", \"unit\", \"unlaw\", \"unlock\", \"unsolicit\", \"unstructur\", \"upgrad\", \"upgrad\", \"upgrad\", \"upgrad\", \"upgrad\", \"upgrad\", \"usaa\", \"user\", \"user\", \"user\", \"user\", \"user\", \"user\", \"user\", \"valu\", \"valu\", \"valu\", \"valu\", \"valu\", \"valu\", \"valu\", \"vanderhouwen\", \"vba\", \"vdi\", \"verif\", \"verif\", \"verif\", \"verifi\", \"verifi\", \"verifi\", \"verifi\", \"verifi\", \"verifi\", \"veteran\", \"veteran\", \"veteran\", \"virtual\", \"virtual\", \"virtual\", \"virtual\", \"virtual\", \"virtual\", \"visit\", \"visit\", \"visit\", \"visit\", \"visit\", \"visual\", \"visual\", \"visual\", \"visual\", \"visual\", \"visualforc\", \"viva\", \"vlan\", \"vmware\", \"vmware\", \"voip\", \"vpn\", \"vpn\", \"vsphere\", \"vue\", \"vulner\", \"wan\", \"want\", \"want\", \"want\", \"want\", \"want\", \"warehous\", \"warehous\", \"wbe\", \"wcf\", \"web\", \"web\", \"web\", \"web\", \"web\", \"web\", \"webpack\", \"websit\", \"websit\", \"websit\", \"websit\", \"websit\", \"websit\", \"wehmil\", \"window\", \"window\", \"window\", \"window\", \"wirefram\", \"wireless\", \"wireless\", \"wireless\", \"women\", \"word\", \"word\", \"word\", \"word\", \"word\", \"word\", \"word\", \"wordpress\", \"workday\", \"workstat\", \"workstat\", \"wpf\", \"write\", \"write\", \"write\", \"write\", \"write\", \"write\", \"write\", \"write\", \"write\", \"xml\", \"xml\", \"xml\", \"xml\"]}, \"R\": 30, \"lambda.step\": 0.01, \"plot.opts\": {\"xlab\": \"PC1\", \"ylab\": \"PC2\"}, \"topic.order\": [3, 1, 4, 6, 5, 8, 2, 9, 7]};\n",
       "\n",
       "function LDAvis_load_lib(url, callback){\n",
       "  var s = document.createElement('script');\n",
       "  s.src = url;\n",
       "  s.async = true;\n",
       "  s.onreadystatechange = s.onload = callback;\n",
       "  s.onerror = function(){console.warn(\"failed to load library \" + url);};\n",
       "  document.getElementsByTagName(\"head\")[0].appendChild(s);\n",
       "}\n",
       "\n",
       "if(typeof(LDAvis) !== \"undefined\"){\n",
       "   // already loaded: just create the visualization\n",
       "   !function(LDAvis){\n",
       "       new LDAvis(\"#\" + \"ldavis_el275646777562723190468047\", ldavis_el275646777562723190468047_data);\n",
       "   }(LDAvis);\n",
       "}else if(typeof define === \"function\" && define.amd){\n",
       "   // require.js is available: use it to load d3/LDAvis\n",
       "   require.config({paths: {d3: \"https://cdnjs.cloudflare.com/ajax/libs/d3/3.5.5/d3.min\"}});\n",
       "   require([\"d3\"], function(d3){\n",
       "      window.d3 = d3;\n",
       "      LDAvis_load_lib(\"https://cdn.rawgit.com/bmabey/pyLDAvis/files/ldavis.v1.0.0.js\", function(){\n",
       "        new LDAvis(\"#\" + \"ldavis_el275646777562723190468047\", ldavis_el275646777562723190468047_data);\n",
       "      });\n",
       "    });\n",
       "}else{\n",
       "    // require.js not available: dynamically load d3 & LDAvis\n",
       "    LDAvis_load_lib(\"https://cdnjs.cloudflare.com/ajax/libs/d3/3.5.5/d3.min.js\", function(){\n",
       "         LDAvis_load_lib(\"https://cdn.rawgit.com/bmabey/pyLDAvis/files/ldavis.v1.0.0.js\", function(){\n",
       "                 new LDAvis(\"#\" + \"ldavis_el275646777562723190468047\", ldavis_el275646777562723190468047_data);\n",
       "            })\n",
       "         });\n",
       "}\n",
       "</script>"
      ],
      "text/plain": [
       "<IPython.core.display.HTML object>"
      ]
     },
     "execution_count": 39,
     "metadata": {},
     "output_type": "execute_result"
    }
   ],
   "source": [
    "#visualize the topics in order to better label \n",
    "#you may need to pip install pyLDAvis by uncommenting and \n",
    "#running the line below\n",
    "#!pip install pyLDAvis\n",
    "%matplotlib inline\n",
    "import pyLDAvis\n",
    "import pyLDAvis.gensim\n",
    "vis = pyLDAvis.gensim.prepare(topic_model=pickled_lda, \n",
    "                              corpus=bow2doc_corpus, \n",
    "                              dictionary=dictionary)\n",
    "pyLDAvis.enable_notebook()\n",
    "pyLDAvis.display(vis)\n"
   ]
  },
  {
   "cell_type": "code",
   "execution_count": 40,
   "metadata": {},
   "outputs": [],
   "source": [
    "#show topics and descriptions\n",
    "df_topic_sents_keywords = show_topics_sentences(ldamodel=pickled_lda, \n",
    "                                                corpus=bow2doc_corpus, \n",
    "                                                texts=df['job_description'])\n",
    "\n",
    "\n",
    "df_dominant_topic = df_topic_sents_keywords.reset_index()\n",
    "df_dominant_topic.columns = ['Document_No', 'Dominant_Topic', \n",
    "                             'Topic_Perc_Contrib', 'Keywords', \n",
    "                             'Text']"
   ]
  },
  {
   "cell_type": "code",
   "execution_count": 41,
   "metadata": {},
   "outputs": [
    {
     "data": {
      "text/html": [
       "<div>\n",
       "<style scoped>\n",
       "    .dataframe tbody tr th:only-of-type {\n",
       "        vertical-align: middle;\n",
       "    }\n",
       "\n",
       "    .dataframe tbody tr th {\n",
       "        vertical-align: top;\n",
       "    }\n",
       "\n",
       "    .dataframe thead th {\n",
       "        text-align: right;\n",
       "    }\n",
       "</style>\n",
       "<table border=\"1\" class=\"dataframe\">\n",
       "  <thead>\n",
       "    <tr style=\"text-align: right;\">\n",
       "      <th></th>\n",
       "      <th>Document_No</th>\n",
       "      <th>Dominant_Topic</th>\n",
       "      <th>Topic_Perc_Contrib</th>\n",
       "      <th>Keywords</th>\n",
       "      <th>Text</th>\n",
       "    </tr>\n",
       "  </thead>\n",
       "  <tbody>\n",
       "    <tr>\n",
       "      <th>0</th>\n",
       "      <td>0</td>\n",
       "      <td>3.0</td>\n",
       "      <td>0.7037</td>\n",
       "      <td>test, softwar, web, java, code, net, framework...</td>\n",
       "      <td>'2+ years of experience developing java / j2ee...</td>\n",
       "    </tr>\n",
       "    <tr>\n",
       "      <th>1</th>\n",
       "      <td>1</td>\n",
       "      <td>0.0</td>\n",
       "      <td>0.9259</td>\n",
       "      <td>client, solut, consult, group, help, provid, i...</td>\n",
       "      <td>'passion for technology and learning, a natura...</td>\n",
       "    </tr>\n",
       "    <tr>\n",
       "      <th>2</th>\n",
       "      <td>2</td>\n",
       "      <td>0.0</td>\n",
       "      <td>0.7992</td>\n",
       "      <td>client, solut, consult, group, help, provid, i...</td>\n",
       "      <td>'we enjoy approved it vendor status with sever...</td>\n",
       "    </tr>\n",
       "    <tr>\n",
       "      <th>3</th>\n",
       "      <td>3</td>\n",
       "      <td>0.0</td>\n",
       "      <td>0.7992</td>\n",
       "      <td>client, solut, consult, group, help, provid, i...</td>\n",
       "      <td>'we enjoy approved it vendor status with sever...</td>\n",
       "    </tr>\n",
       "    <tr>\n",
       "      <th>4</th>\n",
       "      <td>4</td>\n",
       "      <td>5.0</td>\n",
       "      <td>0.5330</td>\n",
       "      <td>network, system, technic, server, troubleshoot...</td>\n",
       "      <td>'sme in linux operating system with strong vir...</td>\n",
       "    </tr>\n",
       "  </tbody>\n",
       "</table>\n",
       "</div>"
      ],
      "text/plain": [
       "   Document_No  Dominant_Topic  Topic_Perc_Contrib  \\\n",
       "0            0             3.0              0.7037   \n",
       "1            1             0.0              0.9259   \n",
       "2            2             0.0              0.7992   \n",
       "3            3             0.0              0.7992   \n",
       "4            4             5.0              0.5330   \n",
       "\n",
       "                                            Keywords  \\\n",
       "0  test, softwar, web, java, code, net, framework...   \n",
       "1  client, solut, consult, group, help, provid, i...   \n",
       "2  client, solut, consult, group, help, provid, i...   \n",
       "3  client, solut, consult, group, help, provid, i...   \n",
       "4  network, system, technic, server, troubleshoot...   \n",
       "\n",
       "                                                Text  \n",
       "0  '2+ years of experience developing java / j2ee...  \n",
       "1  'passion for technology and learning, a natura...  \n",
       "2  'we enjoy approved it vendor status with sever...  \n",
       "3  'we enjoy approved it vendor status with sever...  \n",
       "4  'sme in linux operating system with strong vir...  "
      ]
     },
     "execution_count": 41,
     "metadata": {},
     "output_type": "execute_result"
    }
   ],
   "source": [
    "df_dominant_topic.head()"
   ]
  },
  {
   "cell_type": "markdown",
   "metadata": {},
   "source": [
    "---"
   ]
  },
  {
   "cell_type": "markdown",
   "metadata": {},
   "source": [
    "**Create df for topic scores for each jobtitle**"
   ]
  },
  {
   "cell_type": "code",
   "execution_count": 42,
   "metadata": {},
   "outputs": [],
   "source": [
    "#get probabilities of a document belonging to each topic and append to list\n",
    "topic_vecs = []\n",
    "for i in range(len(bow2doc_corpus)):\n",
    "    top_topics = pickled_lda.get_document_topics(bow2doc_corpus[i], \n",
    "                                                 minimum_probability=0.0)\n",
    "    #i in range(amount of topics)\n",
    "    topic_vec = [top_topics[i][1] for i in range(9)]\n",
    "    topic_vecs.append(topic_vec)"
   ]
  },
  {
   "cell_type": "code",
   "execution_count": 43,
   "metadata": {},
   "outputs": [
    {
     "data": {
      "text/html": [
       "<div>\n",
       "<style scoped>\n",
       "    .dataframe tbody tr th:only-of-type {\n",
       "        vertical-align: middle;\n",
       "    }\n",
       "\n",
       "    .dataframe tbody tr th {\n",
       "        vertical-align: top;\n",
       "    }\n",
       "\n",
       "    .dataframe thead th {\n",
       "        text-align: right;\n",
       "    }\n",
       "</style>\n",
       "<table border=\"1\" class=\"dataframe\">\n",
       "  <thead>\n",
       "    <tr style=\"text-align: right;\">\n",
       "      <th></th>\n",
       "      <th>0</th>\n",
       "      <th>1</th>\n",
       "      <th>2</th>\n",
       "      <th>3</th>\n",
       "      <th>4</th>\n",
       "      <th>5</th>\n",
       "      <th>6</th>\n",
       "      <th>7</th>\n",
       "      <th>8</th>\n",
       "    </tr>\n",
       "  </thead>\n",
       "  <tbody>\n",
       "    <tr>\n",
       "      <th>0</th>\n",
       "      <td>0.037037</td>\n",
       "      <td>0.037038</td>\n",
       "      <td>0.037037</td>\n",
       "      <td>0.703682</td>\n",
       "      <td>0.037050</td>\n",
       "      <td>0.037038</td>\n",
       "      <td>0.037037</td>\n",
       "      <td>0.037037</td>\n",
       "      <td>0.037043</td>\n",
       "    </tr>\n",
       "    <tr>\n",
       "      <th>1</th>\n",
       "      <td>0.925889</td>\n",
       "      <td>0.009262</td>\n",
       "      <td>0.009264</td>\n",
       "      <td>0.009264</td>\n",
       "      <td>0.009264</td>\n",
       "      <td>0.009265</td>\n",
       "      <td>0.009263</td>\n",
       "      <td>0.009263</td>\n",
       "      <td>0.009266</td>\n",
       "    </tr>\n",
       "    <tr>\n",
       "      <th>2</th>\n",
       "      <td>0.799200</td>\n",
       "      <td>0.002366</td>\n",
       "      <td>0.002367</td>\n",
       "      <td>0.002366</td>\n",
       "      <td>0.002366</td>\n",
       "      <td>0.002366</td>\n",
       "      <td>0.002366</td>\n",
       "      <td>0.184238</td>\n",
       "      <td>0.002366</td>\n",
       "    </tr>\n",
       "    <tr>\n",
       "      <th>3</th>\n",
       "      <td>0.799168</td>\n",
       "      <td>0.002366</td>\n",
       "      <td>0.002367</td>\n",
       "      <td>0.002366</td>\n",
       "      <td>0.002366</td>\n",
       "      <td>0.002366</td>\n",
       "      <td>0.002366</td>\n",
       "      <td>0.184269</td>\n",
       "      <td>0.002366</td>\n",
       "    </tr>\n",
       "    <tr>\n",
       "      <th>4</th>\n",
       "      <td>0.001020</td>\n",
       "      <td>0.001020</td>\n",
       "      <td>0.001020</td>\n",
       "      <td>0.001020</td>\n",
       "      <td>0.411051</td>\n",
       "      <td>0.532987</td>\n",
       "      <td>0.049841</td>\n",
       "      <td>0.001020</td>\n",
       "      <td>0.001020</td>\n",
       "    </tr>\n",
       "    <tr>\n",
       "      <th>5</th>\n",
       "      <td>0.011124</td>\n",
       "      <td>0.011136</td>\n",
       "      <td>0.011131</td>\n",
       "      <td>0.011120</td>\n",
       "      <td>0.209836</td>\n",
       "      <td>0.011122</td>\n",
       "      <td>0.712284</td>\n",
       "      <td>0.011126</td>\n",
       "      <td>0.011121</td>\n",
       "    </tr>\n",
       "    <tr>\n",
       "      <th>6</th>\n",
       "      <td>0.002647</td>\n",
       "      <td>0.002647</td>\n",
       "      <td>0.248680</td>\n",
       "      <td>0.002648</td>\n",
       "      <td>0.596381</td>\n",
       "      <td>0.002647</td>\n",
       "      <td>0.139054</td>\n",
       "      <td>0.002647</td>\n",
       "      <td>0.002649</td>\n",
       "    </tr>\n",
       "    <tr>\n",
       "      <th>7</th>\n",
       "      <td>0.037062</td>\n",
       "      <td>0.037058</td>\n",
       "      <td>0.037063</td>\n",
       "      <td>0.037065</td>\n",
       "      <td>0.037073</td>\n",
       "      <td>0.037100</td>\n",
       "      <td>0.703458</td>\n",
       "      <td>0.037077</td>\n",
       "      <td>0.037045</td>\n",
       "    </tr>\n",
       "    <tr>\n",
       "      <th>8</th>\n",
       "      <td>0.799153</td>\n",
       "      <td>0.002366</td>\n",
       "      <td>0.002367</td>\n",
       "      <td>0.002366</td>\n",
       "      <td>0.002366</td>\n",
       "      <td>0.002366</td>\n",
       "      <td>0.002366</td>\n",
       "      <td>0.184285</td>\n",
       "      <td>0.002366</td>\n",
       "    </tr>\n",
       "    <tr>\n",
       "      <th>9</th>\n",
       "      <td>0.799140</td>\n",
       "      <td>0.002366</td>\n",
       "      <td>0.002367</td>\n",
       "      <td>0.002366</td>\n",
       "      <td>0.002366</td>\n",
       "      <td>0.002366</td>\n",
       "      <td>0.002366</td>\n",
       "      <td>0.184298</td>\n",
       "      <td>0.002366</td>\n",
       "    </tr>\n",
       "  </tbody>\n",
       "</table>\n",
       "</div>"
      ],
      "text/plain": [
       "          0         1         2         3         4         5         6  \\\n",
       "0  0.037037  0.037038  0.037037  0.703682  0.037050  0.037038  0.037037   \n",
       "1  0.925889  0.009262  0.009264  0.009264  0.009264  0.009265  0.009263   \n",
       "2  0.799200  0.002366  0.002367  0.002366  0.002366  0.002366  0.002366   \n",
       "3  0.799168  0.002366  0.002367  0.002366  0.002366  0.002366  0.002366   \n",
       "4  0.001020  0.001020  0.001020  0.001020  0.411051  0.532987  0.049841   \n",
       "5  0.011124  0.011136  0.011131  0.011120  0.209836  0.011122  0.712284   \n",
       "6  0.002647  0.002647  0.248680  0.002648  0.596381  0.002647  0.139054   \n",
       "7  0.037062  0.037058  0.037063  0.037065  0.037073  0.037100  0.703458   \n",
       "8  0.799153  0.002366  0.002367  0.002366  0.002366  0.002366  0.002366   \n",
       "9  0.799140  0.002366  0.002367  0.002366  0.002366  0.002366  0.002366   \n",
       "\n",
       "          7         8  \n",
       "0  0.037037  0.037043  \n",
       "1  0.009263  0.009266  \n",
       "2  0.184238  0.002366  \n",
       "3  0.184269  0.002366  \n",
       "4  0.001020  0.001020  \n",
       "5  0.011126  0.011121  \n",
       "6  0.002647  0.002649  \n",
       "7  0.037077  0.037045  \n",
       "8  0.184285  0.002366  \n",
       "9  0.184298  0.002366  "
      ]
     },
     "execution_count": 43,
     "metadata": {},
     "output_type": "execute_result"
    }
   ],
   "source": [
    "#create a dataframe for topic scores\n",
    "df_topic_vecs = pd.DataFrame(topic_vecs)\n",
    "df_topic_vecs.head(10)"
   ]
  },
  {
   "cell_type": "code",
   "execution_count": 44,
   "metadata": {},
   "outputs": [
    {
     "data": {
      "text/html": [
       "<div>\n",
       "<style scoped>\n",
       "    .dataframe tbody tr th:only-of-type {\n",
       "        vertical-align: middle;\n",
       "    }\n",
       "\n",
       "    .dataframe tbody tr th {\n",
       "        vertical-align: top;\n",
       "    }\n",
       "\n",
       "    .dataframe thead th {\n",
       "        text-align: right;\n",
       "    }\n",
       "</style>\n",
       "<table border=\"1\" class=\"dataframe\">\n",
       "  <thead>\n",
       "    <tr style=\"text-align: right;\">\n",
       "      <th></th>\n",
       "      <th>Analyst</th>\n",
       "      <th>Security</th>\n",
       "      <th>Leadership</th>\n",
       "      <th>Software/Web Dev</th>\n",
       "      <th>Cloud Computing</th>\n",
       "      <th>Computer Network</th>\n",
       "      <th>Database Admin</th>\n",
       "      <th>Computer Support</th>\n",
       "      <th>WebDev</th>\n",
       "    </tr>\n",
       "  </thead>\n",
       "  <tbody>\n",
       "    <tr>\n",
       "      <th>0</th>\n",
       "      <td>0.037037</td>\n",
       "      <td>0.037038</td>\n",
       "      <td>0.037037</td>\n",
       "      <td>0.703682</td>\n",
       "      <td>0.037050</td>\n",
       "      <td>0.037038</td>\n",
       "      <td>0.037037</td>\n",
       "      <td>0.037037</td>\n",
       "      <td>0.037043</td>\n",
       "    </tr>\n",
       "    <tr>\n",
       "      <th>1</th>\n",
       "      <td>0.925889</td>\n",
       "      <td>0.009262</td>\n",
       "      <td>0.009264</td>\n",
       "      <td>0.009264</td>\n",
       "      <td>0.009264</td>\n",
       "      <td>0.009265</td>\n",
       "      <td>0.009263</td>\n",
       "      <td>0.009263</td>\n",
       "      <td>0.009266</td>\n",
       "    </tr>\n",
       "    <tr>\n",
       "      <th>2</th>\n",
       "      <td>0.799200</td>\n",
       "      <td>0.002366</td>\n",
       "      <td>0.002367</td>\n",
       "      <td>0.002366</td>\n",
       "      <td>0.002366</td>\n",
       "      <td>0.002366</td>\n",
       "      <td>0.002366</td>\n",
       "      <td>0.184238</td>\n",
       "      <td>0.002366</td>\n",
       "    </tr>\n",
       "    <tr>\n",
       "      <th>3</th>\n",
       "      <td>0.799168</td>\n",
       "      <td>0.002366</td>\n",
       "      <td>0.002367</td>\n",
       "      <td>0.002366</td>\n",
       "      <td>0.002366</td>\n",
       "      <td>0.002366</td>\n",
       "      <td>0.002366</td>\n",
       "      <td>0.184269</td>\n",
       "      <td>0.002366</td>\n",
       "    </tr>\n",
       "    <tr>\n",
       "      <th>4</th>\n",
       "      <td>0.001020</td>\n",
       "      <td>0.001020</td>\n",
       "      <td>0.001020</td>\n",
       "      <td>0.001020</td>\n",
       "      <td>0.411051</td>\n",
       "      <td>0.532987</td>\n",
       "      <td>0.049841</td>\n",
       "      <td>0.001020</td>\n",
       "      <td>0.001020</td>\n",
       "    </tr>\n",
       "  </tbody>\n",
       "</table>\n",
       "</div>"
      ],
      "text/plain": [
       "    Analyst  Security  Leadership  Software/Web Dev  Cloud Computing  \\\n",
       "0  0.037037  0.037038    0.037037          0.703682         0.037050   \n",
       "1  0.925889  0.009262    0.009264          0.009264         0.009264   \n",
       "2  0.799200  0.002366    0.002367          0.002366         0.002366   \n",
       "3  0.799168  0.002366    0.002367          0.002366         0.002366   \n",
       "4  0.001020  0.001020    0.001020          0.001020         0.411051   \n",
       "\n",
       "   Computer Network  Database Admin  Computer Support    WebDev  \n",
       "0          0.037038        0.037037          0.037037  0.037043  \n",
       "1          0.009265        0.009263          0.009263  0.009266  \n",
       "2          0.002366        0.002366          0.184238  0.002366  \n",
       "3          0.002366        0.002366          0.184269  0.002366  \n",
       "4          0.532987        0.049841          0.001020  0.001020  "
      ]
     },
     "execution_count": 44,
     "metadata": {},
     "output_type": "execute_result"
    }
   ],
   "source": [
    "#name columns for dataframe\n",
    "\n",
    "col_names=['Analyst', 'Security', 'Leadership', 'Software/Web Dev', \n",
    "           'Cloud Computing', 'Computer Network', 'Database Admin', \n",
    "           'Computer Support', 'WebDev']\n",
    "\n",
    "df_topic_vecs.columns = col_names\n",
    "df_topic_vecs.head()"
   ]
  },
  {
   "cell_type": "markdown",
   "metadata": {},
   "source": [
    "---"
   ]
  },
  {
   "cell_type": "markdown",
   "metadata": {},
   "source": [
    "# Nearest Neighbors"
   ]
  },
  {
   "cell_type": "code",
   "execution_count": 45,
   "metadata": {},
   "outputs": [],
   "source": [
    "#next step merge with original df of job titles and job descriptions\n",
    "#pickle the merged df"
   ]
  },
  {
   "cell_type": "code",
   "execution_count": 46,
   "metadata": {},
   "outputs": [],
   "source": [
    "df_final = pd.merge(df, df_topic_vecs, \n",
    "                    left_index=True, \n",
    "                    right_index=True)"
   ]
  },
  {
   "cell_type": "code",
   "execution_count": 47,
   "metadata": {},
   "outputs": [
    {
     "data": {
      "text/html": [
       "<div>\n",
       "<style scoped>\n",
       "    .dataframe tbody tr th:only-of-type {\n",
       "        vertical-align: middle;\n",
       "    }\n",
       "\n",
       "    .dataframe tbody tr th {\n",
       "        vertical-align: top;\n",
       "    }\n",
       "\n",
       "    .dataframe thead th {\n",
       "        text-align: right;\n",
       "    }\n",
       "</style>\n",
       "<table border=\"1\" class=\"dataframe\">\n",
       "  <thead>\n",
       "    <tr style=\"text-align: right;\">\n",
       "      <th></th>\n",
       "      <th>job_description</th>\n",
       "      <th>job_title</th>\n",
       "      <th>Analyst</th>\n",
       "      <th>Security</th>\n",
       "      <th>Leadership</th>\n",
       "      <th>Software/Web Dev</th>\n",
       "      <th>Cloud Computing</th>\n",
       "      <th>Computer Network</th>\n",
       "      <th>Database Admin</th>\n",
       "      <th>Computer Support</th>\n",
       "      <th>WebDev</th>\n",
       "    </tr>\n",
       "  </thead>\n",
       "  <tbody>\n",
       "    <tr>\n",
       "      <th>0</th>\n",
       "      <td>'2+ years of experience developing java / j2ee...</td>\n",
       "      <td>java developer</td>\n",
       "      <td>0.037037</td>\n",
       "      <td>0.037038</td>\n",
       "      <td>0.037037</td>\n",
       "      <td>0.703682</td>\n",
       "      <td>0.037050</td>\n",
       "      <td>0.037038</td>\n",
       "      <td>0.037037</td>\n",
       "      <td>0.037037</td>\n",
       "      <td>0.037043</td>\n",
       "    </tr>\n",
       "    <tr>\n",
       "      <th>1</th>\n",
       "      <td>'passion for technology and learning, a natura...</td>\n",
       "      <td>ios developer mobile</td>\n",
       "      <td>0.925890</td>\n",
       "      <td>0.009262</td>\n",
       "      <td>0.009264</td>\n",
       "      <td>0.009264</td>\n",
       "      <td>0.009264</td>\n",
       "      <td>0.009265</td>\n",
       "      <td>0.009263</td>\n",
       "      <td>0.009263</td>\n",
       "      <td>0.009266</td>\n",
       "    </tr>\n",
       "    <tr>\n",
       "      <th>2</th>\n",
       "      <td>'we enjoy approved it vendor status with sever...</td>\n",
       "      <td>euc engineer</td>\n",
       "      <td>0.799141</td>\n",
       "      <td>0.002366</td>\n",
       "      <td>0.002367</td>\n",
       "      <td>0.002366</td>\n",
       "      <td>0.002366</td>\n",
       "      <td>0.002366</td>\n",
       "      <td>0.002366</td>\n",
       "      <td>0.184296</td>\n",
       "      <td>0.002366</td>\n",
       "    </tr>\n",
       "    <tr>\n",
       "      <th>3</th>\n",
       "      <td>'we enjoy approved it vendor status with sever...</td>\n",
       "      <td>software developer rpg</td>\n",
       "      <td>0.799154</td>\n",
       "      <td>0.002366</td>\n",
       "      <td>0.002367</td>\n",
       "      <td>0.002366</td>\n",
       "      <td>0.002366</td>\n",
       "      <td>0.002366</td>\n",
       "      <td>0.002366</td>\n",
       "      <td>0.184283</td>\n",
       "      <td>0.002366</td>\n",
       "    </tr>\n",
       "    <tr>\n",
       "      <th>4</th>\n",
       "      <td>'sme in linux operating system with strong vir...</td>\n",
       "      <td>linux consultant with weblogic exp</td>\n",
       "      <td>0.001020</td>\n",
       "      <td>0.001020</td>\n",
       "      <td>0.001020</td>\n",
       "      <td>0.001020</td>\n",
       "      <td>0.411034</td>\n",
       "      <td>0.532981</td>\n",
       "      <td>0.049865</td>\n",
       "      <td>0.001020</td>\n",
       "      <td>0.001020</td>\n",
       "    </tr>\n",
       "  </tbody>\n",
       "</table>\n",
       "</div>"
      ],
      "text/plain": [
       "                                     job_description  \\\n",
       "0  '2+ years of experience developing java / j2ee...   \n",
       "1  'passion for technology and learning, a natura...   \n",
       "2  'we enjoy approved it vendor status with sever...   \n",
       "3  'we enjoy approved it vendor status with sever...   \n",
       "4  'sme in linux operating system with strong vir...   \n",
       "\n",
       "                            job_title   Analyst  Security  Leadership  \\\n",
       "0                      java developer  0.037037  0.037038    0.037037   \n",
       "1                ios developer mobile  0.925890  0.009262    0.009264   \n",
       "2                        euc engineer  0.799141  0.002366    0.002367   \n",
       "3              software developer rpg  0.799154  0.002366    0.002367   \n",
       "4  linux consultant with weblogic exp  0.001020  0.001020    0.001020   \n",
       "\n",
       "   Software/Web Dev  Cloud Computing  Computer Network  Database Admin  \\\n",
       "0          0.703682         0.037050          0.037038        0.037037   \n",
       "1          0.009264         0.009264          0.009265        0.009263   \n",
       "2          0.002366         0.002366          0.002366        0.002366   \n",
       "3          0.002366         0.002366          0.002366        0.002366   \n",
       "4          0.001020         0.411034          0.532981        0.049865   \n",
       "\n",
       "   Computer Support    WebDev  \n",
       "0          0.037037  0.037043  \n",
       "1          0.009263  0.009266  \n",
       "2          0.184296  0.002366  \n",
       "3          0.184283  0.002366  \n",
       "4          0.001020  0.001020  "
      ]
     },
     "execution_count": 47,
     "metadata": {},
     "output_type": "execute_result"
    }
   ],
   "source": [
    "#pickle.dump(df_final, open('dreamjobber_web/webapp/pickled_models/df_final.pkl', 'wb'))\n",
    "pickled_df_final = pickle.load(open('dreamjobber_web/webapp/pickled_models/df_final.pkl', 'rb'))\n",
    "pickled_df_final.head()"
   ]
  },
  {
   "cell_type": "code",
   "execution_count": 48,
   "metadata": {},
   "outputs": [],
   "source": [
    "topics = pickled_df_final.drop(['job_description', 'job_title'], axis=1)\n",
    "jobs = pickled_df_final['job_title']"
   ]
  },
  {
   "cell_type": "code",
   "execution_count": 49,
   "metadata": {},
   "outputs": [],
   "source": [
    "#pickle jobs for use in webapp\n",
    "#pickle.dump(jobs, open('dreamjobber_web/webapp/pickled_models/jobs.pkl', 'wb'))\n",
    "jobs = pickle.load(open('dreamjobber_web/webapp/pickled_models/jobs.pkl', 'rb'))"
   ]
  },
  {
   "cell_type": "code",
   "execution_count": 50,
   "metadata": {},
   "outputs": [
    {
     "data": {
      "text/plain": [
       "NearestNeighbors(algorithm='auto', leaf_size=30, metric='minkowski',\n",
       "         metric_params=None, n_jobs=None, n_neighbors=50, p=2, radius=1.0)"
      ]
     },
     "execution_count": 50,
     "metadata": {},
     "output_type": "execute_result"
    }
   ],
   "source": [
    "nearest_neighbor = NearestNeighbors(n_neighbors=50)\n",
    "nearest_neighbor.fit(topics)"
   ]
  },
  {
   "cell_type": "code",
   "execution_count": 51,
   "metadata": {},
   "outputs": [],
   "source": [
    "#pickle.dump(nearest_neighbor, open('dreamjobber_web/webapp/pickled_models/nn_model.pkl', 'wb'))\n",
    "nearest_neighbor = pickle.load(open('dreamjobber_web/webapp/pickled_models/nn_model.pkl', 'rb'))"
   ]
  },
  {
   "cell_type": "markdown",
   "metadata": {},
   "source": [
    "---"
   ]
  },
  {
   "cell_type": "markdown",
   "metadata": {},
   "source": [
    "**Make Recommendations**"
   ]
  },
  {
   "cell_type": "code",
   "execution_count": 52,
   "metadata": {
    "scrolled": true
   },
   "outputs": [
    {
     "name": "stdout",
     "output_type": "stream",
     "text": [
      "Scale of 0-10.\n",
      "    0 is Do NOT agree and 10 is agree\n",
      "Agree or Disagree: I am/I like Analyst: 8\n",
      "Agree or Disagree: I am/I like Security: 5\n",
      "Agree or Disagree: I am/I like Leadership: 5\n",
      "Agree or Disagree: I am/I like Software/Web Dev: 4\n",
      "Agree or Disagree: I am/I like Cloud Computing: 3\n",
      "Agree or Disagree: I am/I like Computer Network: 2\n",
      "Agree or Disagree: I am/I like Database Admin: 7\n",
      "Agree or Disagree: I am/I like Computer Support: 0\n",
      "Agree or Disagree: I am/I like WebDev: 4\n",
      "\n",
      "\n",
      "['1. data conversion analyst', '2. bi architect', '3. data scientist level', '4. data modeler c++ mortgage backed securities', '5. business intelligence analyst bi developer', '6. bi architect', '7. data visualization tableau expert', '8. data scientist', '9. c++ quant developer elite global wealth management team', '10. obiee developer']\n",
      "How did you like your recommendations? bad, okay, or goodgood\n"
     ]
    }
   ],
   "source": [
    "show_to_user(nearest_neighbor, jobs)"
   ]
  }
 ],
 "metadata": {
  "kernelspec": {
   "display_name": "Python [conda env:root]",
   "language": "python",
   "name": "conda-root-py"
  },
  "language_info": {
   "codemirror_mode": {
    "name": "ipython",
    "version": 3
   },
   "file_extension": ".py",
   "mimetype": "text/x-python",
   "name": "python",
   "nbconvert_exporter": "python",
   "pygments_lexer": "ipython3",
   "version": "3.7.1"
  }
 },
 "nbformat": 4,
 "nbformat_minor": 2
}
