{
 "cells": [
  {
   "cell_type": "markdown",
   "metadata": {},
   "source": [
    "# DreamJobber"
   ]
  },
  {
   "cell_type": "markdown",
   "metadata": {},
   "source": [
    "**Tech Edition**"
   ]
  },
  {
   "cell_type": "markdown",
   "metadata": {},
   "source": [
    "---"
   ]
  },
  {
   "cell_type": "markdown",
   "metadata": {},
   "source": [
    "**Process**\n",
    "1. Clean text\n",
    "2. Bag of Words\n",
    "3. LDA model (Latent Dirichlet allocation)\n",
    "4. Fine tune LDA model\n",
    "5. Define Topics from LDA model\n",
    "6. Create df of document probabilities\n",
    "6. Nearest Neighbors Model"
   ]
  },
  {
   "cell_type": "markdown",
   "metadata": {},
   "source": [
    "---"
   ]
  },
  {
   "cell_type": "markdown",
   "metadata": {},
   "source": [
    "**Import Necessary Libraries**"
   ]
  },
  {
   "cell_type": "code",
   "execution_count": 1,
   "metadata": {},
   "outputs": [],
   "source": [
    "import pandas as pd\n",
    "import gensim\n",
    "from gensim.utils import simple_preprocess\n",
    "from gensim.parsing.preprocessing import STOPWORDS\n",
    "from nltk.stem import WordNetLemmatizer, SnowballStemmer\n",
    "from nltk.stem.porter import *\n",
    "import numpy as np\n",
    "import nltk\n",
    "from dreamjobber_web.recommend import input_user_scores, make_recommendation\n",
    "from dreamjobber_web.recommend import collect_score_and_recommend\n",
    "from dreamjobber_web.recommend import collect_feedback, show_to_user\n",
    "from functions import lemmatize_stem, preprocess, remove_brackets\n",
    "from functions import remove_punctuation, remove_stop_words\n",
    "from lda import show_topics_sentences\n",
    "import pickle\n",
    "\n",
    "#lda model evaluation with coherence\n",
    "from gensim.models.coherencemodel import CoherenceModel\n",
    "from gensim.models.ldamodel import LdaModel\n",
    "from gensim.corpora.dictionary import Dictionary\n",
    "\n",
    "#unsupervised learning model\n",
    "from sklearn.neighbors import NearestNeighbors"
   ]
  },
  {
   "cell_type": "code",
   "execution_count": 2,
   "metadata": {},
   "outputs": [
    {
     "name": "stderr",
     "output_type": "stream",
     "text": [
      "[nltk_data] Downloading package wordnet to /Users/admin/nltk_data...\n",
      "[nltk_data]   Package wordnet is already up-to-date!\n"
     ]
    },
    {
     "data": {
      "text/plain": [
       "True"
      ]
     },
     "execution_count": 2,
     "metadata": {},
     "output_type": "execute_result"
    }
   ],
   "source": [
    "nltk.download('wordnet')"
   ]
  },
  {
   "cell_type": "markdown",
   "metadata": {},
   "source": [
    "---"
   ]
  },
  {
   "cell_type": "markdown",
   "metadata": {},
   "source": [
    "**Load Data**"
   ]
  },
  {
   "cell_type": "code",
   "execution_count": 3,
   "metadata": {},
   "outputs": [],
   "source": [
    "df_1 = pd.read_json('data/dice_jobs_1.json', lines=True)\n",
    "df_2 = pd.read_json('data/dice_jobs_2.json', lines=True)\n",
    "df_3 = pd.read_json('data/dice_jobs_3.json', lines=True)\n",
    "df_4 = pd.read_json('data/dice_jobs_4.json', lines=True)\n",
    "df_5 = pd.read_json('data/dice_jobs_5.json', lines=True)\n",
    "df_6 = pd.read_json('data/dice_jobs_6.json', lines=True)"
   ]
  },
  {
   "cell_type": "code",
   "execution_count": 4,
   "metadata": {},
   "outputs": [],
   "source": [
    "#concat into one df\n",
    "df = pd.concat([df_1, df_2, df_3, df_4, df_5, df_6], \n",
    "               ignore_index=True, sort=True)"
   ]
  },
  {
   "cell_type": "code",
   "execution_count": 5,
   "metadata": {},
   "outputs": [
    {
     "data": {
      "text/html": [
       "<div>\n",
       "<style scoped>\n",
       "    .dataframe tbody tr th:only-of-type {\n",
       "        vertical-align: middle;\n",
       "    }\n",
       "\n",
       "    .dataframe tbody tr th {\n",
       "        vertical-align: top;\n",
       "    }\n",
       "\n",
       "    .dataframe thead th {\n",
       "        text-align: right;\n",
       "    }\n",
       "</style>\n",
       "<table border=\"1\" class=\"dataframe\">\n",
       "  <thead>\n",
       "    <tr style=\"text-align: right;\">\n",
       "      <th></th>\n",
       "      <th>job_description</th>\n",
       "      <th>job_title</th>\n",
       "    </tr>\n",
       "  </thead>\n",
       "  <tbody>\n",
       "    <tr>\n",
       "      <th>0</th>\n",
       "      <td>NaN</td>\n",
       "      <td>UI Lead/Architect</td>\n",
       "    </tr>\n",
       "    <tr>\n",
       "      <th>1</th>\n",
       "      <td>NaN</td>\n",
       "      <td>Web Application Architect</td>\n",
       "    </tr>\n",
       "    <tr>\n",
       "      <th>2</th>\n",
       "      <td>NaN</td>\n",
       "      <td>Senior DataStage Developer</td>\n",
       "    </tr>\n",
       "    <tr>\n",
       "      <th>3</th>\n",
       "      <td>NaN</td>\n",
       "      <td>Hadoop Administrator</td>\n",
       "    </tr>\n",
       "    <tr>\n",
       "      <th>4</th>\n",
       "      <td>NaN</td>\n",
       "      <td>UX Visual Designer</td>\n",
       "    </tr>\n",
       "  </tbody>\n",
       "</table>\n",
       "</div>"
      ],
      "text/plain": [
       "  job_description                   job_title\n",
       "0             NaN           UI Lead/Architect\n",
       "1             NaN   Web Application Architect\n",
       "2             NaN  Senior DataStage Developer\n",
       "3             NaN        Hadoop Administrator\n",
       "4             NaN          UX Visual Designer"
      ]
     },
     "execution_count": 5,
     "metadata": {},
     "output_type": "execute_result"
    }
   ],
   "source": [
    "df.head()  "
   ]
  },
  {
   "cell_type": "code",
   "execution_count": 6,
   "metadata": {},
   "outputs": [
    {
     "data": {
      "text/plain": [
       "job_description    6524\n",
       "job_title          5484\n",
       "dtype: int64"
      ]
     },
     "execution_count": 6,
     "metadata": {},
     "output_type": "execute_result"
    }
   ],
   "source": [
    "#check for missing values\n",
    "df.isna().sum()"
   ]
  },
  {
   "cell_type": "code",
   "execution_count": 7,
   "metadata": {},
   "outputs": [
    {
     "name": "stdout",
     "output_type": "stream",
     "text": [
      "<class 'pandas.core.frame.DataFrame'>\n",
      "RangeIndex: 27016 entries, 0 to 27015\n",
      "Data columns (total 2 columns):\n",
      "job_description    20492 non-null object\n",
      "job_title          21532 non-null object\n",
      "dtypes: object(2)\n",
      "memory usage: 422.2+ KB\n"
     ]
    }
   ],
   "source": [
    "#looks like there are rows that have no job description\n",
    "df.info()"
   ]
  },
  {
   "cell_type": "code",
   "execution_count": 8,
   "metadata": {},
   "outputs": [],
   "source": [
    "#drop rows with no job descriptions\n",
    "df = df.dropna()"
   ]
  },
  {
   "cell_type": "code",
   "execution_count": 9,
   "metadata": {},
   "outputs": [
    {
     "name": "stdout",
     "output_type": "stream",
     "text": [
      "<class 'pandas.core.frame.DataFrame'>\n",
      "Int64Index: 20492 entries, 9 to 27015\n",
      "Data columns (total 2 columns):\n",
      "job_description    20492 non-null object\n",
      "job_title          20492 non-null object\n",
      "dtypes: object(2)\n",
      "memory usage: 480.3+ KB\n"
     ]
    }
   ],
   "source": [
    "#sanity check, looks good\n",
    "df.info()"
   ]
  },
  {
   "cell_type": "code",
   "execution_count": 10,
   "metadata": {},
   "outputs": [
    {
     "data": {
      "text/html": [
       "<div>\n",
       "<style scoped>\n",
       "    .dataframe tbody tr th:only-of-type {\n",
       "        vertical-align: middle;\n",
       "    }\n",
       "\n",
       "    .dataframe tbody tr th {\n",
       "        vertical-align: top;\n",
       "    }\n",
       "\n",
       "    .dataframe thead th {\n",
       "        text-align: right;\n",
       "    }\n",
       "</style>\n",
       "<table border=\"1\" class=\"dataframe\">\n",
       "  <thead>\n",
       "    <tr style=\"text-align: right;\">\n",
       "      <th></th>\n",
       "      <th>job_description</th>\n",
       "      <th>job_title</th>\n",
       "    </tr>\n",
       "  </thead>\n",
       "  <tbody>\n",
       "    <tr>\n",
       "      <th>9</th>\n",
       "      <td>[2+ years of experience developing Java / J2EE...</td>\n",
       "      <td>Java Developer (Sign-On BONUS!)</td>\n",
       "    </tr>\n",
       "    <tr>\n",
       "      <th>10</th>\n",
       "      <td>[Passion for technology and learning, a natura...</td>\n",
       "      <td>iOS Developer - Mobile Rate: Open, Duration: 1...</td>\n",
       "    </tr>\n",
       "    <tr>\n",
       "      <th>17</th>\n",
       "      <td>[We enjoy approved IT vendor status with sever...</td>\n",
       "      <td>EUC Engineer, Rate-Open, Duration: 18 Months</td>\n",
       "    </tr>\n",
       "    <tr>\n",
       "      <th>18</th>\n",
       "      <td>[We enjoy approved IT vendor status with sever...</td>\n",
       "      <td>Software Developer - RPG, Rate-Open, Duration:...</td>\n",
       "    </tr>\n",
       "    <tr>\n",
       "      <th>19</th>\n",
       "      <td>[SME in Linux Operating system with Strong Vir...</td>\n",
       "      <td>Sr. Linux Consultant with Weblogic exp</td>\n",
       "    </tr>\n",
       "  </tbody>\n",
       "</table>\n",
       "</div>"
      ],
      "text/plain": [
       "                                      job_description  \\\n",
       "9   [2+ years of experience developing Java / J2EE...   \n",
       "10  [Passion for technology and learning, a natura...   \n",
       "17  [We enjoy approved IT vendor status with sever...   \n",
       "18  [We enjoy approved IT vendor status with sever...   \n",
       "19  [SME in Linux Operating system with Strong Vir...   \n",
       "\n",
       "                                            job_title  \n",
       "9                     Java Developer (Sign-On BONUS!)  \n",
       "10  iOS Developer - Mobile Rate: Open, Duration: 1...  \n",
       "17       EUC Engineer, Rate-Open, Duration: 18 Months  \n",
       "18  Software Developer - RPG, Rate-Open, Duration:...  \n",
       "19             Sr. Linux Consultant with Weblogic exp  "
      ]
     },
     "execution_count": 10,
     "metadata": {},
     "output_type": "execute_result"
    }
   ],
   "source": [
    "df.head()"
   ]
  },
  {
   "cell_type": "code",
   "execution_count": 11,
   "metadata": {},
   "outputs": [],
   "source": [
    "#need to remove brackets from job_description\n",
    "df['job_description'] = df['job_description'].map(remove_brackets)"
   ]
  },
  {
   "cell_type": "code",
   "execution_count": 12,
   "metadata": {},
   "outputs": [],
   "source": [
    "#remove '\\\\n' and replace with ','\n",
    "df['job_description'] = df['job_description'].map(\n",
    "                        lambda x: x.replace('\\\\n', ','))"
   ]
  },
  {
   "cell_type": "code",
   "execution_count": 13,
   "metadata": {},
   "outputs": [],
   "source": [
    "#lowercase job_description text before applying stopwords\n",
    "df['job_description'] = df['job_description'].map(lambda x: x.lower())"
   ]
  },
  {
   "cell_type": "code",
   "execution_count": 14,
   "metadata": {},
   "outputs": [],
   "source": [
    "#lowercase job_title text before cleaning\n",
    "df['job_title'] = df['job_title'].map(lambda x: x.lower())"
   ]
  },
  {
   "cell_type": "code",
   "execution_count": 15,
   "metadata": {},
   "outputs": [],
   "source": [
    "#remove punctuation from job_title\n",
    "df['job_title'] = df['job_title'].map(remove_punctuation)"
   ]
  },
  {
   "cell_type": "code",
   "execution_count": 16,
   "metadata": {},
   "outputs": [],
   "source": [
    "#remove stop words from job_title\n",
    "df['job_title'] = df['job_title'].map(remove_stop_words)"
   ]
  },
  {
   "cell_type": "code",
   "execution_count": 17,
   "metadata": {},
   "outputs": [
    {
     "name": "stdout",
     "output_type": "stream",
     "text": [
      "<class 'pandas.core.frame.DataFrame'>\n",
      "Int64Index: 20492 entries, 9 to 27015\n",
      "Data columns (total 2 columns):\n",
      "job_description    20492 non-null object\n",
      "job_title          20492 non-null object\n",
      "dtypes: object(2)\n",
      "memory usage: 480.3+ KB\n"
     ]
    }
   ],
   "source": [
    "df.info()"
   ]
  },
  {
   "cell_type": "code",
   "execution_count": 18,
   "metadata": {},
   "outputs": [],
   "source": [
    "#drop any duplicates\n",
    "df = df.drop_duplicates()"
   ]
  },
  {
   "cell_type": "code",
   "execution_count": 19,
   "metadata": {},
   "outputs": [
    {
     "name": "stdout",
     "output_type": "stream",
     "text": [
      "<class 'pandas.core.frame.DataFrame'>\n",
      "Int64Index: 18704 entries, 9 to 27015\n",
      "Data columns (total 2 columns):\n",
      "job_description    18704 non-null object\n",
      "job_title          18704 non-null object\n",
      "dtypes: object(2)\n",
      "memory usage: 438.4+ KB\n"
     ]
    }
   ],
   "source": [
    "df.info()"
   ]
  },
  {
   "cell_type": "code",
   "execution_count": 20,
   "metadata": {},
   "outputs": [],
   "source": [
    "#reset the index\n",
    "df = df.reset_index(drop=True)"
   ]
  },
  {
   "cell_type": "code",
   "execution_count": 21,
   "metadata": {},
   "outputs": [
    {
     "data": {
      "text/html": [
       "<div>\n",
       "<style scoped>\n",
       "    .dataframe tbody tr th:only-of-type {\n",
       "        vertical-align: middle;\n",
       "    }\n",
       "\n",
       "    .dataframe tbody tr th {\n",
       "        vertical-align: top;\n",
       "    }\n",
       "\n",
       "    .dataframe thead th {\n",
       "        text-align: right;\n",
       "    }\n",
       "</style>\n",
       "<table border=\"1\" class=\"dataframe\">\n",
       "  <thead>\n",
       "    <tr style=\"text-align: right;\">\n",
       "      <th></th>\n",
       "      <th>job_description</th>\n",
       "      <th>job_title</th>\n",
       "    </tr>\n",
       "  </thead>\n",
       "  <tbody>\n",
       "    <tr>\n",
       "      <th>1526</th>\n",
       "      <td>''</td>\n",
       "      <td></td>\n",
       "    </tr>\n",
       "    <tr>\n",
       "      <th>2508</th>\n",
       "      <td>'robert half technology is looking for an expe...</td>\n",
       "      <td></td>\n",
       "    </tr>\n",
       "    <tr>\n",
       "      <th>13230</th>\n",
       "      <td>'someone who has spent 8-10 years in insurance...</td>\n",
       "      <td></td>\n",
       "    </tr>\n",
       "    <tr>\n",
       "      <th>13569</th>\n",
       "      <td>'my client is looking for sap fico in houston,...</td>\n",
       "      <td></td>\n",
       "    </tr>\n",
       "    <tr>\n",
       "      <th>14136</th>\n",
       "      <td>'share your resume on click here to apply', 'j...</td>\n",
       "      <td></td>\n",
       "    </tr>\n",
       "    <tr>\n",
       "      <th>14157</th>\n",
       "      <td>'role : fico with s4 hana.,location : manitowo...</td>\n",
       "      <td></td>\n",
       "    </tr>\n",
       "    <tr>\n",
       "      <th>15118</th>\n",
       "      <td>'hello all,', '', '', '', '', '', '', '', '', ...</td>\n",
       "      <td></td>\n",
       "    </tr>\n",
       "    <tr>\n",
       "      <th>16508</th>\n",
       "      <td>'job description:', 'leidos is looking for a j...</td>\n",
       "      <td></td>\n",
       "    </tr>\n",
       "  </tbody>\n",
       "</table>\n",
       "</div>"
      ],
      "text/plain": [
       "                                         job_description job_title\n",
       "1526                                                  ''          \n",
       "2508   'robert half technology is looking for an expe...          \n",
       "13230  'someone who has spent 8-10 years in insurance...          \n",
       "13569  'my client is looking for sap fico in houston,...          \n",
       "14136  'share your resume on click here to apply', 'j...          \n",
       "14157  'role : fico with s4 hana.,location : manitowo...          \n",
       "15118  'hello all,', '', '', '', '', '', '', '', '', ...          \n",
       "16508  'job description:', 'leidos is looking for a j...          "
      ]
     },
     "execution_count": 21,
     "metadata": {},
     "output_type": "execute_result"
    }
   ],
   "source": [
    "#check to see if there are any job titles that have been \n",
    "#removed via stopwords, I will want to remove these rows \n",
    "#because the job titles were not real job titles\n",
    "df.loc[df['job_title']=='']"
   ]
  },
  {
   "cell_type": "code",
   "execution_count": 22,
   "metadata": {},
   "outputs": [],
   "source": [
    "df = df.drop(df.index[[1526, \n",
    "                       2508, \n",
    "                       13230, \n",
    "                       13569, \n",
    "                       14136, \n",
    "                       14157, \n",
    "                       15118, \n",
    "                       16508]])"
   ]
  },
  {
   "cell_type": "code",
   "execution_count": 23,
   "metadata": {},
   "outputs": [
    {
     "data": {
      "text/html": [
       "<div>\n",
       "<style scoped>\n",
       "    .dataframe tbody tr th:only-of-type {\n",
       "        vertical-align: middle;\n",
       "    }\n",
       "\n",
       "    .dataframe tbody tr th {\n",
       "        vertical-align: top;\n",
       "    }\n",
       "\n",
       "    .dataframe thead th {\n",
       "        text-align: right;\n",
       "    }\n",
       "</style>\n",
       "<table border=\"1\" class=\"dataframe\">\n",
       "  <thead>\n",
       "    <tr style=\"text-align: right;\">\n",
       "      <th></th>\n",
       "      <th>job_description</th>\n",
       "      <th>job_title</th>\n",
       "    </tr>\n",
       "  </thead>\n",
       "  <tbody>\n",
       "  </tbody>\n",
       "</table>\n",
       "</div>"
      ],
      "text/plain": [
       "Empty DataFrame\n",
       "Columns: [job_description, job_title]\n",
       "Index: []"
      ]
     },
     "execution_count": 23,
     "metadata": {},
     "output_type": "execute_result"
    }
   ],
   "source": [
    "#sanity check\n",
    "df.loc[df['job_title']=='']"
   ]
  },
  {
   "cell_type": "code",
   "execution_count": 24,
   "metadata": {},
   "outputs": [
    {
     "data": {
      "text/html": [
       "<div>\n",
       "<style scoped>\n",
       "    .dataframe tbody tr th:only-of-type {\n",
       "        vertical-align: middle;\n",
       "    }\n",
       "\n",
       "    .dataframe tbody tr th {\n",
       "        vertical-align: top;\n",
       "    }\n",
       "\n",
       "    .dataframe thead th {\n",
       "        text-align: right;\n",
       "    }\n",
       "</style>\n",
       "<table border=\"1\" class=\"dataframe\">\n",
       "  <thead>\n",
       "    <tr style=\"text-align: right;\">\n",
       "      <th></th>\n",
       "      <th>job_description</th>\n",
       "      <th>job_title</th>\n",
       "    </tr>\n",
       "  </thead>\n",
       "  <tbody>\n",
       "    <tr>\n",
       "      <th>0</th>\n",
       "      <td>'2+ years of experience developing java / j2ee...</td>\n",
       "      <td>java developer</td>\n",
       "    </tr>\n",
       "    <tr>\n",
       "      <th>1</th>\n",
       "      <td>'passion for technology and learning, a natura...</td>\n",
       "      <td>ios developer mobile</td>\n",
       "    </tr>\n",
       "    <tr>\n",
       "      <th>2</th>\n",
       "      <td>'we enjoy approved it vendor status with sever...</td>\n",
       "      <td>euc engineer</td>\n",
       "    </tr>\n",
       "    <tr>\n",
       "      <th>3</th>\n",
       "      <td>'we enjoy approved it vendor status with sever...</td>\n",
       "      <td>software developer rpg</td>\n",
       "    </tr>\n",
       "    <tr>\n",
       "      <th>4</th>\n",
       "      <td>'sme in linux operating system with strong vir...</td>\n",
       "      <td>linux consultant with weblogic exp</td>\n",
       "    </tr>\n",
       "  </tbody>\n",
       "</table>\n",
       "</div>"
      ],
      "text/plain": [
       "                                     job_description  \\\n",
       "0  '2+ years of experience developing java / j2ee...   \n",
       "1  'passion for technology and learning, a natura...   \n",
       "2  'we enjoy approved it vendor status with sever...   \n",
       "3  'we enjoy approved it vendor status with sever...   \n",
       "4  'sme in linux operating system with strong vir...   \n",
       "\n",
       "                            job_title  \n",
       "0                      java developer  \n",
       "1                ios developer mobile  \n",
       "2                        euc engineer  \n",
       "3              software developer rpg  \n",
       "4  linux consultant with weblogic exp  "
      ]
     },
     "execution_count": 24,
     "metadata": {},
     "output_type": "execute_result"
    }
   ],
   "source": [
    "#reset index one last time\n",
    "df = df.reset_index(drop=True)\n",
    "df.head()"
   ]
  },
  {
   "cell_type": "markdown",
   "metadata": {},
   "source": [
    "---"
   ]
  },
  {
   "cell_type": "markdown",
   "metadata": {},
   "source": [
    "## Text Cleaning"
   ]
  },
  {
   "cell_type": "markdown",
   "metadata": {},
   "source": [
    "1. Tokenize\n",
    "2. Remove words with fewer than 2 characters\n",
    "3. Remove stop words\n",
    "4. Normalize words (Lemmatize and Stem)"
   ]
  },
  {
   "cell_type": "markdown",
   "metadata": {},
   "source": [
    "**Test the functions on one row of text**"
   ]
  },
  {
   "cell_type": "code",
   "execution_count": 25,
   "metadata": {},
   "outputs": [],
   "source": [
    "stemmer = SnowballStemmer('english')"
   ]
  },
  {
   "cell_type": "code",
   "execution_count": 26,
   "metadata": {},
   "outputs": [
    {
     "name": "stdout",
     "output_type": "stream",
     "text": [
      "original text: \n",
      "[\"'demonstrates\", 'brand', 'passion,champions', 'and', 'embraces', 'change,makes', 'good', 'decisions,delivers', 'results,takes', 'action', 'with', 'integrity,communicates', \"effectively'\"]\n",
      "\n",
      "\n",
      " tokenized and lemmatized text: \n",
      "['demonstr', 'brand', 'passion', 'champion', 'embrac', 'chang', 'make', 'good', 'decis', 'deliv', 'result', 'take', 'action', 'integr', 'communic', 'effect']\n"
     ]
    }
   ],
   "source": [
    "text_sample = df[df.index == 13].values[0][0]\n",
    "\n",
    "print('original text: ')\n",
    "words = []\n",
    "for word in text_sample.split(' '):\n",
    "    words.append(word)\n",
    "print(words)\n",
    "print('\\n\\n tokenized and lemmatized text: ')\n",
    "print(preprocess(text_sample))"
   ]
  },
  {
   "cell_type": "markdown",
   "metadata": {},
   "source": [
    "**Apply cleaning functions to job_description**"
   ]
  },
  {
   "cell_type": "code",
   "execution_count": 27,
   "metadata": {
    "scrolled": true
   },
   "outputs": [
    {
     "data": {
      "text/plain": [
       "0                                 [develop, java, web]\n",
       "1    [passion, technolog, learn, natur, curios, lov...\n",
       "2    [enjoy, approv, vendor, status, lead, compani,...\n",
       "3    [enjoy, approv, vendor, status, lead, compani,...\n",
       "4    [sme, linux, oper, strong, virtual, knowledg, ...\n",
       "Name: job_description, dtype: object"
      ]
     },
     "execution_count": 27,
     "metadata": {},
     "output_type": "execute_result"
    }
   ],
   "source": [
    "#apply text cleaning function and display first 5 rows\n",
    "processed_text = df['job_description'].map(preprocess)\n",
    "processed_text[:5]"
   ]
  },
  {
   "cell_type": "markdown",
   "metadata": {},
   "source": [
    "---"
   ]
  },
  {
   "cell_type": "markdown",
   "metadata": {},
   "source": [
    "## Bag of Words"
   ]
  },
  {
   "cell_type": "code",
   "execution_count": 28,
   "metadata": {},
   "outputs": [],
   "source": [
    "#I'll use bag of words to extract features from text for use in modeling"
   ]
  },
  {
   "cell_type": "code",
   "execution_count": 29,
   "metadata": {},
   "outputs": [],
   "source": [
    "dictionary = gensim.corpora.Dictionary(processed_text)"
   ]
  },
  {
   "cell_type": "code",
   "execution_count": 30,
   "metadata": {},
   "outputs": [
    {
     "data": {
      "text/plain": [
       "24548"
      ]
     },
     "execution_count": 30,
     "metadata": {},
     "output_type": "execute_result"
    }
   ],
   "source": [
    "#check the length before I filter out the extremes\n",
    "len(dictionary)"
   ]
  },
  {
   "cell_type": "code",
   "execution_count": 31,
   "metadata": {},
   "outputs": [],
   "source": [
    "dictionary.filter_extremes(no_below=25, \n",
    "                           no_above=0.5, \n",
    "                           keep_n=100000)"
   ]
  },
  {
   "cell_type": "code",
   "execution_count": 32,
   "metadata": {},
   "outputs": [
    {
     "data": {
      "text/plain": [
       "3753"
      ]
     },
     "execution_count": 32,
     "metadata": {},
     "output_type": "execute_result"
    }
   ],
   "source": [
    "#check length after filtering out extremes\n",
    "len(dictionary)"
   ]
  },
  {
   "cell_type": "code",
   "execution_count": 33,
   "metadata": {},
   "outputs": [],
   "source": [
    "#bow2doc: counts the number of occurrences of each distinct word, \n",
    "#converts the word to its integer word id and returns the result \n",
    "#as a sparse vector\n",
    "\n",
    "bow2doc_corpus = [dictionary.doc2bow(text) for text in processed_text]"
   ]
  },
  {
   "cell_type": "markdown",
   "metadata": {},
   "source": [
    "---"
   ]
  },
  {
   "cell_type": "markdown",
   "metadata": {},
   "source": [
    "## LDA model with Bag of Words"
   ]
  },
  {
   "cell_type": "code",
   "execution_count": null,
   "metadata": {},
   "outputs": [],
   "source": [
    "#train lda model, this takes a while so I pickled my desired \n",
    "#results in the cells below\n",
    "lda_model = gensim.models.LdaMulticore(bow2doc_corpus, \n",
    "                                       num_topics=9, \n",
    "                                       id2word=dictionary, \n",
    "                                       passes=50, \n",
    "                                       workers=4,\n",
    "                                      chunksize=500)\n"
   ]
  },
  {
   "cell_type": "code",
   "execution_count": null,
   "metadata": {},
   "outputs": [],
   "source": [
    "for idx, topic in lda_model.print_topics(-1):\n",
    "    print('Topic: {} \\nWords: {}'.format(idx, topic))"
   ]
  },
  {
   "cell_type": "markdown",
   "metadata": {},
   "source": [
    "**Pickled LDA model results**"
   ]
  },
  {
   "cell_type": "code",
   "execution_count": 34,
   "metadata": {},
   "outputs": [],
   "source": [
    "#pickle.dump(lda_model, open('dreamjobber_web/webapp/pickled_models/lda_model.pkl', 'wb'))\n",
    "pickled_lda = pickle.load(open('dreamjobber_web/webapp/pickled_models/lda_model.pkl', 'rb'))"
   ]
  },
  {
   "cell_type": "code",
   "execution_count": 35,
   "metadata": {},
   "outputs": [
    {
     "name": "stdout",
     "output_type": "stream",
     "text": [
      "Topic: 0 \n",
      "Words: 0.014*\"client\" + 0.011*\"solut\" + 0.010*\"consult\" + 0.009*\"group\" + 0.009*\"help\" + 0.008*\"provid\" + 0.008*\"industri\" + 0.008*\"compani\" + 0.007*\"profession\" + 0.007*\"innov\"\n",
      "Topic: 1 \n",
      "Words: 0.069*\"secur\" + 0.021*\"inform\" + 0.016*\"system\" + 0.012*\"engin\" + 0.011*\"risk\" + 0.011*\"oper\" + 0.011*\"program\" + 0.010*\"network\" + 0.010*\"provid\" + 0.010*\"control\"\n",
      "Topic: 2 \n",
      "Words: 0.036*\"project\" + 0.015*\"process\" + 0.014*\"technic\" + 0.014*\"abil\" + 0.014*\"requir\" + 0.011*\"plan\" + 0.011*\"product\" + 0.010*\"function\" + 0.010*\"solut\" + 0.009*\"implement\"\n",
      "Topic: 3 \n",
      "Words: 0.039*\"test\" + 0.029*\"softwar\" + 0.021*\"web\" + 0.016*\"java\" + 0.014*\"code\" + 0.013*\"net\" + 0.012*\"framework\" + 0.011*\"engin\" + 0.011*\"javascript\" + 0.011*\"end\"\n",
      "Topic: 4 \n",
      "Words: 0.032*\"cloud\" + 0.024*\"engin\" + 0.021*\"architectur\" + 0.016*\"solut\" + 0.016*\"aw\" + 0.014*\"platform\" + 0.012*\"build\" + 0.011*\"integr\" + 0.011*\"deploy\" + 0.011*\"architect\"\n",
      "Topic: 5 \n",
      "Words: 0.029*\"network\" + 0.018*\"system\" + 0.014*\"technic\" + 0.014*\"server\" + 0.013*\"troubleshoot\" + 0.013*\"issu\" + 0.012*\"softwar\" + 0.012*\"problem\" + 0.012*\"administr\" + 0.012*\"provid\"\n",
      "Topic: 6 \n",
      "Words: 0.137*\"data\" + 0.026*\"sql\" + 0.026*\"databas\" + 0.020*\"analyst\" + 0.019*\"model\" + 0.016*\"analyt\" + 0.015*\"report\" + 0.014*\"function\" + 0.014*\"system\" + 0.013*\"architect\"\n",
      "Topic: 7 \n",
      "Words: 0.015*\"engin\" + 0.012*\"receiv\" + 0.011*\"status\" + 0.010*\"protect\" + 0.008*\"perform\" + 0.008*\"document\" + 0.008*\"qualifi\" + 0.007*\"process\" + 0.007*\"complet\" + 0.007*\"origin\"\n",
      "Topic: 8 \n",
      "Words: 0.030*\"market\" + 0.018*\"digit\" + 0.018*\"product\" + 0.016*\"success\" + 0.014*\"creativ\" + 0.012*\"content\" + 0.011*\"factor\" + 0.009*\"user\" + 0.009*\"creat\" + 0.008*\"sale\"\n"
     ]
    }
   ],
   "source": [
    "for idx, topic in pickled_lda.print_topics(-1):\n",
    "    print('Topic: {} \\nWords: {}'.format(idx, topic))"
   ]
  },
  {
   "cell_type": "code",
   "execution_count": 36,
   "metadata": {},
   "outputs": [],
   "source": [
    "#manually name topics\n",
    "col_names=['Analyst', 'Security', 'Leadership', 'Software/Web Dev', \n",
    "           'Cloud Computing', 'Computer Network', 'Database Admin', \n",
    "           'Computer Support', 'WebDev']"
   ]
  },
  {
   "cell_type": "markdown",
   "metadata": {},
   "source": [
    "---"
   ]
  },
  {
   "cell_type": "markdown",
   "metadata": {},
   "source": [
    "**LDA model evaluation**"
   ]
  },
  {
   "cell_type": "code",
   "execution_count": 37,
   "metadata": {},
   "outputs": [
    {
     "name": "stdout",
     "output_type": "stream",
     "text": [
      "\n",
      "Coherence Score:  0.4762757589382995\n"
     ]
    }
   ],
   "source": [
    "# Compute Coherence Score using c_v\n",
    "coherence_model_lda = CoherenceModel(model=pickled_lda, \n",
    "                                     texts=processed_text, \n",
    "                                     dictionary=dictionary, \n",
    "                                     coherence='c_v')\n",
    "\n",
    "coherence_lda = coherence_model_lda.get_coherence()\n",
    "print('\\nCoherence Score: ', coherence_lda)"
   ]
  },
  {
   "cell_type": "code",
   "execution_count": 38,
   "metadata": {},
   "outputs": [
    {
     "name": "stdout",
     "output_type": "stream",
     "text": [
      "\n",
      "Coherence Score:  -1.1423289375289365\n"
     ]
    }
   ],
   "source": [
    "# Compute Coherence Score using UMass\n",
    "coherence_model_lda = CoherenceModel(model=pickled_lda, \n",
    "                                     texts=processed_text, \n",
    "                                     dictionary=dictionary, \n",
    "                                     coherence=\"u_mass\")\n",
    "\n",
    "coherence_lda = coherence_model_lda.get_coherence()\n",
    "print('\\nCoherence Score: ', coherence_lda)"
   ]
  },
  {
   "cell_type": "code",
   "execution_count": 40,
   "metadata": {},
   "outputs": [
    {
     "name": "stderr",
     "output_type": "stream",
     "text": [
      "/anaconda3/lib/python3.7/site-packages/pyLDAvis/_prepare.py:257: FutureWarning: Sorting because non-concatenation axis is not aligned. A future version\n",
      "of pandas will change to not sort by default.\n",
      "\n",
      "To accept the future behavior, pass 'sort=False'.\n",
      "\n",
      "To retain the current behavior and silence the warning, pass 'sort=True'.\n",
      "\n",
      "  return pd.concat([default_term_info] + list(topic_dfs))\n"
     ]
    },
    {
     "data": {
      "text/html": [
       "\n",
       "<link rel=\"stylesheet\" type=\"text/css\" href=\"https://cdn.rawgit.com/bmabey/pyLDAvis/files/ldavis.v1.0.0.css\">\n",
       "\n",
       "\n",
       "<div id=\"ldavis_el350347169072808998828143\"></div>\n",
       "<script type=\"text/javascript\">\n",
       "\n",
       "var ldavis_el350347169072808998828143_data = {\"mdsDat\": {\"x\": [0.03810082241862918, 0.15520441005726743, -0.1292552735441828, 0.016813573765953514, -0.17437656360507564, 0.1463244005477453, 0.01775254902529925, 0.12054363932847406, -0.1911075579941103], \"y\": [-0.04415621259918138, 0.13811265856016897, 0.08218572929338192, -0.09648132000343082, 0.08497429441135529, -0.09899835058396378, -0.16621603632941062, 0.14107900088258807, -0.040499763631507535], \"topics\": [1, 2, 3, 4, 5, 6, 7, 8, 9], \"cluster\": [1, 1, 1, 1, 1, 1, 1, 1, 1], \"Freq\": [25.009727478027344, 13.590534210205078, 12.862846374511719, 12.194293022155762, 8.571223258972168, 8.555475234985352, 6.605134010314941, 6.306971549987793, 6.303798198699951]}, \"tinfo\": {\"Category\": [\"Default\", \"Default\", \"Default\", \"Default\", \"Default\", \"Default\", \"Default\", \"Default\", \"Default\", \"Default\", \"Default\", \"Default\", \"Default\", \"Default\", \"Default\", \"Default\", \"Default\", \"Default\", \"Default\", \"Default\", \"Default\", \"Default\", \"Default\", \"Default\", \"Default\", \"Default\", \"Default\", \"Default\", \"Default\", \"Default\", \"Topic1\", \"Topic1\", \"Topic1\", \"Topic1\", \"Topic1\", \"Topic1\", \"Topic1\", \"Topic1\", \"Topic1\", \"Topic1\", \"Topic1\", \"Topic1\", \"Topic1\", \"Topic1\", \"Topic1\", \"Topic1\", \"Topic1\", \"Topic1\", \"Topic1\", \"Topic1\", \"Topic1\", \"Topic1\", \"Topic1\", \"Topic1\", \"Topic1\", \"Topic1\", \"Topic1\", \"Topic1\", \"Topic1\", \"Topic1\", \"Topic1\", \"Topic1\", \"Topic1\", \"Topic1\", \"Topic1\", \"Topic1\", \"Topic1\", \"Topic1\", \"Topic1\", \"Topic1\", \"Topic1\", \"Topic1\", \"Topic1\", \"Topic1\", \"Topic1\", \"Topic1\", \"Topic1\", \"Topic1\", \"Topic1\", \"Topic1\", \"Topic1\", \"Topic1\", \"Topic1\", \"Topic1\", \"Topic1\", \"Topic1\", \"Topic1\", \"Topic1\", \"Topic1\", \"Topic1\", \"Topic1\", \"Topic1\", \"Topic1\", \"Topic1\", \"Topic1\", \"Topic1\", \"Topic1\", \"Topic1\", \"Topic1\", \"Topic1\", \"Topic1\", \"Topic1\", \"Topic1\", \"Topic1\", \"Topic1\", \"Topic1\", \"Topic1\", \"Topic1\", \"Topic1\", \"Topic1\", \"Topic1\", \"Topic1\", \"Topic1\", \"Topic1\", \"Topic1\", \"Topic1\", \"Topic1\", \"Topic1\", \"Topic2\", \"Topic2\", \"Topic2\", \"Topic2\", \"Topic2\", \"Topic2\", \"Topic2\", \"Topic2\", \"Topic2\", \"Topic2\", \"Topic2\", \"Topic2\", \"Topic2\", \"Topic2\", \"Topic2\", \"Topic2\", \"Topic2\", \"Topic2\", \"Topic2\", \"Topic2\", \"Topic2\", \"Topic2\", \"Topic2\", \"Topic2\", \"Topic2\", \"Topic2\", \"Topic2\", \"Topic2\", \"Topic2\", \"Topic2\", \"Topic2\", \"Topic2\", \"Topic2\", \"Topic2\", \"Topic2\", \"Topic2\", \"Topic2\", \"Topic2\", \"Topic2\", \"Topic2\", \"Topic2\", \"Topic2\", \"Topic2\", \"Topic2\", \"Topic2\", \"Topic2\", \"Topic2\", \"Topic2\", \"Topic2\", \"Topic2\", \"Topic2\", \"Topic2\", \"Topic2\", \"Topic2\", \"Topic2\", \"Topic2\", \"Topic2\", \"Topic2\", \"Topic2\", \"Topic2\", \"Topic2\", \"Topic2\", \"Topic2\", \"Topic2\", \"Topic2\", \"Topic2\", \"Topic2\", \"Topic2\", \"Topic2\", \"Topic2\", \"Topic2\", \"Topic2\", \"Topic2\", \"Topic2\", \"Topic2\", \"Topic2\", \"Topic2\", \"Topic2\", \"Topic2\", \"Topic2\", \"Topic2\", \"Topic2\", \"Topic3\", \"Topic3\", \"Topic3\", \"Topic3\", \"Topic3\", \"Topic3\", \"Topic3\", \"Topic3\", \"Topic3\", \"Topic3\", \"Topic3\", \"Topic3\", \"Topic3\", \"Topic3\", \"Topic3\", \"Topic3\", \"Topic3\", \"Topic3\", \"Topic3\", \"Topic3\", \"Topic3\", \"Topic3\", \"Topic3\", \"Topic3\", \"Topic3\", \"Topic3\", \"Topic3\", \"Topic3\", \"Topic3\", \"Topic3\", \"Topic3\", \"Topic3\", \"Topic3\", \"Topic3\", \"Topic3\", \"Topic3\", \"Topic3\", \"Topic3\", \"Topic3\", \"Topic3\", \"Topic3\", \"Topic3\", \"Topic3\", \"Topic3\", \"Topic3\", \"Topic3\", \"Topic3\", \"Topic3\", \"Topic3\", \"Topic3\", \"Topic3\", \"Topic3\", \"Topic3\", \"Topic3\", \"Topic3\", \"Topic3\", \"Topic3\", \"Topic3\", \"Topic3\", \"Topic3\", \"Topic3\", \"Topic3\", \"Topic3\", \"Topic3\", \"Topic3\", \"Topic3\", \"Topic3\", \"Topic3\", \"Topic3\", \"Topic3\", \"Topic3\", \"Topic3\", \"Topic3\", \"Topic3\", \"Topic4\", \"Topic4\", \"Topic4\", \"Topic4\", \"Topic4\", \"Topic4\", \"Topic4\", \"Topic4\", \"Topic4\", \"Topic4\", \"Topic4\", \"Topic4\", \"Topic4\", \"Topic4\", \"Topic4\", \"Topic4\", \"Topic4\", \"Topic4\", \"Topic4\", \"Topic4\", \"Topic4\", \"Topic4\", \"Topic4\", \"Topic4\", \"Topic4\", \"Topic4\", \"Topic4\", \"Topic4\", \"Topic4\", \"Topic4\", \"Topic4\", \"Topic4\", \"Topic4\", \"Topic4\", \"Topic4\", \"Topic4\", \"Topic4\", \"Topic4\", \"Topic4\", \"Topic4\", \"Topic4\", \"Topic4\", \"Topic4\", \"Topic4\", \"Topic4\", \"Topic4\", \"Topic4\", \"Topic4\", \"Topic4\", \"Topic4\", \"Topic4\", \"Topic4\", \"Topic4\", \"Topic4\", \"Topic4\", \"Topic4\", \"Topic4\", \"Topic4\", \"Topic4\", \"Topic4\", \"Topic4\", \"Topic4\", \"Topic4\", \"Topic4\", \"Topic4\", \"Topic4\", \"Topic4\", \"Topic4\", \"Topic4\", \"Topic4\", \"Topic4\", \"Topic4\", \"Topic4\", \"Topic4\", \"Topic4\", \"Topic4\", \"Topic5\", \"Topic5\", \"Topic5\", \"Topic5\", \"Topic5\", \"Topic5\", \"Topic5\", \"Topic5\", \"Topic5\", \"Topic5\", \"Topic5\", \"Topic5\", \"Topic5\", \"Topic5\", \"Topic5\", \"Topic5\", \"Topic5\", \"Topic5\", \"Topic5\", \"Topic5\", \"Topic5\", \"Topic5\", \"Topic5\", \"Topic5\", \"Topic5\", \"Topic5\", \"Topic5\", \"Topic5\", \"Topic5\", \"Topic5\", \"Topic5\", \"Topic5\", \"Topic5\", \"Topic5\", \"Topic5\", \"Topic5\", \"Topic5\", \"Topic5\", \"Topic5\", \"Topic5\", \"Topic5\", \"Topic5\", \"Topic5\", \"Topic5\", \"Topic5\", \"Topic5\", \"Topic5\", \"Topic5\", \"Topic5\", \"Topic5\", \"Topic5\", \"Topic5\", \"Topic5\", \"Topic5\", \"Topic5\", \"Topic5\", \"Topic5\", \"Topic5\", \"Topic5\", \"Topic5\", \"Topic5\", \"Topic5\", \"Topic5\", \"Topic5\", \"Topic5\", \"Topic5\", \"Topic5\", \"Topic5\", \"Topic5\", \"Topic5\", \"Topic5\", \"Topic5\", \"Topic5\", \"Topic5\", \"Topic5\", \"Topic5\", \"Topic5\", \"Topic5\", \"Topic5\", \"Topic5\", \"Topic5\", \"Topic6\", \"Topic6\", \"Topic6\", \"Topic6\", \"Topic6\", \"Topic6\", \"Topic6\", \"Topic6\", \"Topic6\", \"Topic6\", \"Topic6\", \"Topic6\", \"Topic6\", \"Topic6\", \"Topic6\", \"Topic6\", \"Topic6\", \"Topic6\", \"Topic6\", \"Topic6\", \"Topic6\", \"Topic6\", \"Topic6\", \"Topic6\", \"Topic6\", \"Topic6\", \"Topic6\", \"Topic6\", \"Topic6\", \"Topic6\", \"Topic6\", \"Topic6\", \"Topic6\", \"Topic6\", \"Topic6\", \"Topic6\", \"Topic6\", \"Topic6\", \"Topic6\", \"Topic6\", \"Topic6\", \"Topic6\", \"Topic6\", \"Topic6\", \"Topic6\", \"Topic6\", \"Topic6\", \"Topic6\", \"Topic6\", \"Topic6\", \"Topic6\", \"Topic6\", \"Topic6\", \"Topic6\", \"Topic6\", \"Topic6\", \"Topic6\", \"Topic6\", \"Topic6\", \"Topic6\", \"Topic6\", \"Topic6\", \"Topic6\", \"Topic6\", \"Topic6\", \"Topic6\", \"Topic6\", \"Topic6\", \"Topic6\", \"Topic6\", \"Topic6\", \"Topic6\", \"Topic6\", \"Topic6\", \"Topic6\", \"Topic6\", \"Topic6\", \"Topic6\", \"Topic6\", \"Topic6\", \"Topic6\", \"Topic7\", \"Topic7\", \"Topic7\", \"Topic7\", \"Topic7\", \"Topic7\", \"Topic7\", \"Topic7\", \"Topic7\", \"Topic7\", \"Topic7\", \"Topic7\", \"Topic7\", \"Topic7\", \"Topic7\", \"Topic7\", \"Topic7\", \"Topic7\", \"Topic7\", \"Topic7\", \"Topic7\", \"Topic7\", \"Topic7\", \"Topic7\", \"Topic7\", \"Topic7\", \"Topic7\", \"Topic7\", \"Topic7\", \"Topic7\", \"Topic7\", \"Topic7\", \"Topic7\", \"Topic7\", \"Topic7\", \"Topic7\", \"Topic7\", \"Topic7\", \"Topic7\", \"Topic7\", \"Topic7\", \"Topic7\", \"Topic7\", \"Topic7\", \"Topic7\", \"Topic7\", \"Topic7\", \"Topic7\", \"Topic7\", \"Topic7\", \"Topic7\", \"Topic7\", \"Topic7\", \"Topic7\", \"Topic7\", \"Topic7\", \"Topic7\", \"Topic7\", \"Topic7\", \"Topic7\", \"Topic7\", \"Topic7\", \"Topic7\", \"Topic7\", \"Topic7\", \"Topic7\", \"Topic7\", \"Topic7\", \"Topic7\", \"Topic7\", \"Topic7\", \"Topic8\", \"Topic8\", \"Topic8\", \"Topic8\", \"Topic8\", \"Topic8\", \"Topic8\", \"Topic8\", \"Topic8\", \"Topic8\", \"Topic8\", \"Topic8\", \"Topic8\", \"Topic8\", \"Topic8\", \"Topic8\", \"Topic8\", \"Topic8\", \"Topic8\", \"Topic8\", \"Topic8\", \"Topic8\", \"Topic8\", \"Topic8\", \"Topic8\", \"Topic8\", \"Topic8\", \"Topic8\", \"Topic8\", \"Topic8\", \"Topic8\", \"Topic8\", \"Topic8\", \"Topic8\", \"Topic8\", \"Topic8\", \"Topic8\", \"Topic8\", \"Topic8\", \"Topic8\", \"Topic8\", \"Topic8\", \"Topic8\", \"Topic8\", \"Topic8\", \"Topic8\", \"Topic8\", \"Topic8\", \"Topic8\", \"Topic8\", \"Topic8\", \"Topic8\", \"Topic8\", \"Topic8\", \"Topic8\", \"Topic8\", \"Topic8\", \"Topic8\", \"Topic8\", \"Topic8\", \"Topic8\", \"Topic8\", \"Topic8\", \"Topic8\", \"Topic8\", \"Topic8\", \"Topic8\", \"Topic8\", \"Topic8\", \"Topic8\", \"Topic9\", \"Topic9\", \"Topic9\", \"Topic9\", \"Topic9\", \"Topic9\", \"Topic9\", \"Topic9\", \"Topic9\", \"Topic9\", \"Topic9\", \"Topic9\", \"Topic9\", \"Topic9\", \"Topic9\", \"Topic9\", \"Topic9\", \"Topic9\", \"Topic9\", \"Topic9\", \"Topic9\", \"Topic9\", \"Topic9\", \"Topic9\", \"Topic9\", \"Topic9\", \"Topic9\", \"Topic9\", \"Topic9\", \"Topic9\", \"Topic9\", \"Topic9\", \"Topic9\", \"Topic9\", \"Topic9\", \"Topic9\", \"Topic9\", \"Topic9\", \"Topic9\", \"Topic9\", \"Topic9\", \"Topic9\", \"Topic9\", \"Topic9\", \"Topic9\", \"Topic9\", \"Topic9\", \"Topic9\", \"Topic9\", \"Topic9\", \"Topic9\", \"Topic9\", \"Topic9\", \"Topic9\", \"Topic9\", \"Topic9\", \"Topic9\", \"Topic9\", \"Topic9\", \"Topic9\", \"Topic9\", \"Topic9\", \"Topic9\", \"Topic9\", \"Topic9\", \"Topic9\", \"Topic9\", \"Topic9\", \"Topic9\", \"Topic9\", \"Topic9\", \"Topic9\", \"Topic9\", \"Topic9\", \"Topic9\", \"Topic9\", \"Topic9\"], \"Freq\": [28380.0, 15234.0, 20839.0, 12271.0, 7823.0, 29805.0, 8436.0, 6431.0, 7490.0, 18531.0, 9993.0, 7713.0, 21727.0, 7090.0, 20314.0, 8422.0, 12015.0, 4889.0, 3716.0, 5472.0, 4818.0, 7926.0, 8679.0, 3859.0, 7689.0, 4028.0, 4278.0, 12340.0, 6223.0, 18597.0, 1081.4349365234375, 745.23681640625, 570.8325805664062, 521.113037109375, 496.6078796386719, 373.3890380859375, 218.33135986328125, 180.0450439453125, 168.42588806152344, 158.28018188476562, 155.734619140625, 127.99820709228516, 124.0331802368164, 123.70020294189453, 116.83773803710938, 111.470703125, 102.4355239868164, 99.36748504638672, 96.74231719970703, 95.3773422241211, 85.86285400390625, 84.3447036743164, 84.32290649414062, 82.02993774414062, 74.24520874023438, 223.2752685546875, 72.66676330566406, 72.03414916992188, 67.30564880371094, 66.90625762939453, 431.5010986328125, 211.99981689453125, 224.79469299316406, 218.70472717285156, 1456.1949462890625, 1810.0030517578125, 24542.52734375, 3092.587646484375, 1606.180908203125, 1457.79443359375, 1272.4776611328125, 685.6229248046875, 362.1065673828125, 381.898193359375, 7498.1064453125, 358.91815185546875, 1417.623291015625, 445.4857177734375, 2671.406494140625, 6003.701171875, 9921.1220703125, 1159.9085693359375, 4474.7587890625, 2805.927978515625, 3037.59326171875, 9290.9072265625, 7098.36083984375, 2526.4365234375, 3631.46630859375, 2149.843505859375, 9513.5654296875, 9563.4970703125, 4160.51513671875, 3774.52197265625, 5744.5771484375, 5295.53759765625, 3034.458251953125, 3114.051513671875, 6310.55322265625, 7348.01708984375, 3373.4990234375, 3364.614013671875, 6041.607421875, 6584.08740234375, 5227.35986328125, 3830.00244140625, 3342.814697265625, 4351.37353515625, 4743.99462890625, 4865.07275390625, 4495.2431640625, 3454.493408203125, 4370.47900390625, 3570.928466796875, 3615.3896484375, 4080.507568359375, 3645.99169921875, 3550.691162109375, 890.5770874023438, 879.5464477539062, 467.4620361328125, 420.1658935546875, 353.0092468261719, 350.14892578125, 317.9939880371094, 300.60565185546875, 228.85487365722656, 216.34242248535156, 183.6197509765625, 173.1215057373047, 157.72372436523438, 141.38433837890625, 1435.538330078125, 140.00941467285156, 133.49307250976562, 131.50521850585938, 128.05511474609375, 2829.52001953125, 726.7666625976562, 110.69103240966797, 108.29186248779297, 106.15425872802734, 101.28815460205078, 98.87885284423828, 98.81116485595703, 98.28398895263672, 89.35526275634766, 84.78504943847656, 770.4916381835938, 328.95556640625, 514.446533203125, 264.57891845703125, 1593.037841796875, 185.55577087402344, 2174.73193359375, 837.4713745117188, 524.18798828125, 389.96112060546875, 755.5401000976562, 2343.048583984375, 733.9863891601562, 563.50927734375, 1184.2945556640625, 1505.080810546875, 1180.029296875, 5257.31103515625, 2377.607666015625, 1385.939453125, 1697.6097412109375, 2653.989501953125, 2052.952392578125, 2092.5888671875, 1077.8712158203125, 2543.380859375, 1614.6446533203125, 3356.07080078125, 3840.12060546875, 3308.827392578125, 2471.490234375, 1491.1898193359375, 2714.28662109375, 2382.1708984375, 2930.6220703125, 1411.8524169921875, 2372.020263671875, 3913.9033203125, 1469.8662109375, 2174.291015625, 3090.442626953125, 1800.7977294921875, 2409.093994140625, 2173.921875, 2135.07421875, 2305.2734375, 2248.140380859375, 1935.365478515625, 1962.489013671875, 1958.905517578125, 1953.9237060546875, 1926.0794677734375, 2131.621337890625, 1569.50830078125, 1028.541748046875, 985.6566162109375, 972.6729125976562, 572.3499145507812, 513.4965209960938, 430.7714538574219, 328.8242492675781, 324.07781982421875, 284.7884826660156, 275.235595703125, 252.54281616210938, 231.78668212890625, 204.9956817626953, 175.45423889160156, 165.22007751464844, 158.40757751464844, 147.0413360595703, 596.4281005859375, 135.2877960205078, 127.32685852050781, 122.6430435180664, 116.93639373779297, 112.63661193847656, 110.73257446289062, 104.69540405273438, 100.73787689208984, 95.283203125, 90.11373901367188, 3957.788818359375, 4732.8525390625, 339.3263244628906, 485.2742614746094, 182.05264282226562, 286.8880615234375, 355.0384521484375, 2244.724365234375, 1923.6456298828125, 2524.001220703125, 905.3018188476562, 4918.4482421875, 2486.855712890625, 1833.3912353515625, 7462.90283203125, 4236.09033203125, 1222.99755859375, 13756.3330078125, 5591.36669921875, 1090.3453369140625, 800.4832763671875, 831.469482421875, 2921.88427734375, 1592.4017333984375, 10298.02734375, 3631.34716796875, 3753.57421875, 3512.97802734375, 1905.7872314453125, 3062.8056640625, 1502.5030517578125, 3971.361328125, 3267.78564453125, 2768.744140625, 2896.480224609375, 2301.4130859375, 2455.2861328125, 2461.14404296875, 2801.27734375, 2170.681640625, 2288.050048828125, 2350.548828125, 2326.50341796875, 2243.629150390625, 1075.9244384765625, 681.2911376953125, 681.3215942382812, 651.8154907226562, 520.5579223632812, 424.5931396484375, 336.4013671875, 307.3438720703125, 306.726318359375, 294.40399169921875, 298.06781005859375, 357.8183898925781, 804.160400390625, 177.22621154785156, 172.0450439453125, 162.5457000732422, 144.92446899414062, 144.07371520996094, 138.86087036132812, 132.05035400390625, 131.15823364257812, 125.28147888183594, 115.30921936035156, 113.68093872070312, 109.82745361328125, 93.51821899414062, 91.12014770507812, 82.57588195800781, 1841.013916015625, 78.3221664428711, 600.5222778320312, 1455.196533203125, 424.1355285644531, 1021.6041870117188, 409.0888671875, 1557.283447265625, 3303.35986328125, 1968.276123046875, 3761.795654296875, 614.8953247070312, 3799.122802734375, 9488.8134765625, 216.33709716796875, 4241.0361328125, 510.9480895996094, 1491.07470703125, 935.5833740234375, 3896.40576171875, 4512.66748046875, 781.6716918945312, 672.6600341796875, 3658.82666015625, 4181.55126953125, 2864.055419921875, 3928.988525390625, 1815.390380859375, 1054.645751953125, 5873.580078125, 3686.88671875, 1023.897705078125, 3295.64599609375, 3052.05859375, 2108.109375, 4553.62158203125, 3760.0107421875, 3626.617431640625, 3830.63330078125, 2479.139404296875, 3946.91552734375, 2042.73291015625, 2825.333251953125, 2740.4892578125, 2383.96435546875, 2212.49169921875, 1927.9073486328125, 1916.6485595703125, 977.5598754882812, 602.8881225585938, 400.45977783203125, 349.85693359375, 3706.769287109375, 319.8375244140625, 281.7722473144531, 270.0031433105469, 243.17787170410156, 195.61111450195312, 178.15509033203125, 164.03782653808594, 148.57110595703125, 141.11080932617188, 137.07492065429688, 133.30873107910156, 116.74095916748047, 116.4372787475586, 112.56069946289062, 93.59015655517578, 91.65123748779297, 89.5703125, 87.37425994873047, 85.9781494140625, 84.9934310913086, 83.9935073852539, 83.35272979736328, 82.49075317382812, 80.30670166015625, 80.02867889404297, 2076.623046875, 574.8486328125, 485.0381164550781, 2528.23046875, 431.8677978515625, 7471.69189453125, 545.4826049804688, 219.03077697753906, 364.452392578125, 539.468994140625, 194.8370361328125, 305.8092041015625, 471.7547607421875, 378.3707275390625, 2083.41552734375, 381.3756103515625, 4821.1328125, 1823.63916015625, 544.930908203125, 872.5637817382812, 780.6054077148438, 587.3975830078125, 3279.298828125, 2638.38427734375, 2621.936767578125, 684.236083984375, 2435.132568359375, 5557.787109375, 609.1624145507812, 2453.570556640625, 1217.2115478515625, 2906.907470703125, 1639.216552734375, 984.4357299804688, 3722.632568359375, 2121.046875, 2660.666015625, 2500.394287109375, 1878.6439208984375, 1461.8089599609375, 2382.039306640625, 2276.1201171875, 2567.63232421875, 1305.3905029296875, 1874.275390625, 2074.56689453125, 2122.373046875, 1944.867919921875, 1644.505126953125, 1731.501953125, 1473.185302734375, 727.3111572265625, 600.98388671875, 551.2373657226562, 404.9317932128906, 318.1274719238281, 207.21487426757812, 193.9619903564453, 188.46771240234375, 187.20315551757812, 148.71578979492188, 143.4014129638672, 133.3182830810547, 130.00619506835938, 127.90070343017578, 768.6846923828125, 120.2568588256836, 118.7570571899414, 118.51749420166016, 115.6903076171875, 115.27906036376953, 112.796630859375, 105.1513442993164, 103.59534454345703, 95.7370376586914, 93.89057922363281, 91.3591537475586, 90.83741760253906, 89.23162078857422, 85.13085174560547, 85.13085174560547, 700.8689575195312, 1007.5279541015625, 610.52734375, 193.70892333984375, 973.6685180664062, 130.19091796875, 116.4603042602539, 304.1502990722656, 2853.28076171875, 565.444580078125, 203.63796997070312, 1056.6805419921875, 722.677001953125, 737.8206787109375, 1369.7630615234375, 638.9984741210938, 855.3727416992188, 939.774658203125, 835.5792846679688, 545.9685668945312, 2273.880615234375, 1845.357666015625, 1646.4822998046875, 1075.875, 529.531005859375, 1229.9931640625, 930.8981323242188, 2602.179443359375, 1592.1116943359375, 673.4942626953125, 1655.926513671875, 1287.132568359375, 3404.59521484375, 1867.9891357421875, 1085.8509521484375, 1888.688720703125, 1151.0328369140625, 1121.4892578125, 1386.9744873046875, 1663.1029052734375, 1015.8118896484375, 1355.99169921875, 1212.181884765625, 1455.319091796875, 1373.273193359375, 1070.571533203125, 1249.404541015625, 1236.24853515625, 1055.8165283203125, 1153.3248291015625, 1044.436767578125, 1238.9312744140625, 920.9488525390625, 746.9389038085938, 696.590576171875, 635.4784545898438, 382.5646057128906, 376.9819641113281, 369.9306640625, 301.8960266113281, 291.8944396972656, 274.7943115234375, 246.47677612304688, 243.09817504882812, 228.92535400390625, 207.9079132080078, 207.5109405517578, 172.3033905029297, 167.71534729003906, 161.83152770996094, 158.2194366455078, 157.9734649658203, 153.88197326660156, 146.63531494140625, 139.73886108398438, 134.13963317871094, 133.37332153320312, 131.08966064453125, 116.94984436035156, 107.69361114501953, 101.22042083740234, 578.781494140625, 328.69122314453125, 666.6763305664062, 265.4964294433594, 12417.2333984375, 512.1864013671875, 1269.781005859375, 485.2332763671875, 432.8680725097656, 225.35800170898438, 332.93182373046875, 2023.44384765625, 909.77001953125, 854.2582397460938, 3870.27685546875, 1325.2469482421875, 1781.61572265625, 1101.90576171875, 1240.4638671875, 1130.8695068359375, 863.1881103515625, 1064.2703857421875, 2950.436767578125, 1994.5169677734375, 1897.78955078125, 2243.9375, 1835.84716796875, 1804.721435546875, 1476.9844970703125, 1286.0242919921875, 1085.688720703125, 1239.180908203125, 1049.0093994140625, 1126.613037109375, 1035.7080078125, 986.7335815429688, 1036.21044921875, 962.315673828125, 945.7185668945312, 950.46435546875, 948.1159057617188, 810.9103393554688, 525.1753540039062, 395.43487548828125, 385.7824401855469, 366.7003173828125, 332.76116943359375, 325.09246826171875, 310.3311767578125, 307.4212951660156, 299.1126708984375, 212.17250061035156, 207.69259643554688, 184.3728790283203, 183.42172241210938, 173.18154907226562, 160.01759338378906, 117.69157409667969, 466.66815185546875, 94.38372039794922, 93.50520324707031, 90.61746215820312, 86.12274932861328, 85.84909057617188, 79.47820281982422, 77.6501235961914, 74.20160675048828, 73.05603790283203, 71.48198699951172, 71.18546295166016, 65.08748626708984, 1031.3177490234375, 734.6023559570312, 1062.6273193359375, 160.5916748046875, 1279.8564453125, 1263.6434326171875, 201.06948852539062, 1383.37646484375, 1974.153076171875, 2130.5244140625, 204.21392822265625, 1123.3834228515625, 5239.841796875, 3101.085205078125, 659.4208374023438, 2433.420166015625, 504.5071105957031, 869.11181640625, 1450.51220703125, 843.1941528320312, 447.5542907714844, 2710.024658203125, 3039.12841796875, 819.8131713867188, 982.8923950195312, 1469.8765869140625, 1564.4512939453125, 1063.552001953125, 1213.0791015625, 1268.5562744140625, 1374.59912109375, 1161.470947265625, 856.0003662109375, 1096.14404296875, 964.4428100585938, 974.9786376953125, 941.7374267578125, 994.2562866210938, 910.382568359375, 858.6180419921875, 1622.5946044921875, 752.7546997070312, 618.179443359375, 601.8646850585938, 497.9898376464844, 393.99468994140625, 340.1608581542969, 424.09716796875, 221.0951690673828, 213.76622009277344, 154.30621337890625, 152.51393127441406, 146.38558959960938, 146.32415771484375, 144.3128662109375, 103.91983032226562, 100.82421112060547, 93.07717895507812, 90.791015625, 85.64128875732422, 85.19502258300781, 84.29289245605469, 81.48780822753906, 74.26480865478516, 73.45430755615234, 73.3291244506836, 66.21561431884766, 66.19530487060547, 65.76044464111328, 63.89064407348633, 462.0785217285156, 633.0938110351562, 147.15150451660156, 1356.85205078125, 293.3847961425781, 23601.7578125, 160.9810333251953, 733.5487670898438, 318.7649841308594, 170.52706909179688, 193.58851623535156, 647.4366455078125, 3200.78857421875, 664.4791870117188, 4462.43994140625, 1175.3519287109375, 4534.63134765625, 787.2433471679688, 601.8464965820312, 353.0204772949219, 3396.791259765625, 591.3038330078125, 782.6337280273438, 2739.927001953125, 2171.66064453125, 1033.3736572265625, 2551.323974609375, 859.0473022460938, 2487.11669921875, 1759.457763671875, 858.3128051757812, 1917.3148193359375, 2411.245849609375, 1480.3736572265625, 1460.785888671875, 1187.5279541015625, 1718.12841796875, 1347.3990478515625, 1196.475830078125, 1232.588623046875, 793.074951171875, 1107.1038818359375, 1039.5140380859375, 933.0167846679688, 899.715576171875, 905.66064453125, 872.1613159179688], \"Term\": [\"data\", \"secur\", \"test\", \"network\", \"cloud\", \"project\", \"sql\", \"market\", \"databas\", \"engin\", \"web\", \"java\", \"softwar\", \"analyst\", \"system\", \"architectur\", \"inform\", \"net\", \"aw\", \"architect\", \"model\", \"server\", \"report\", \"digit\", \"success\", \"javascript\", \"risk\", \"function\", \"code\", \"product\", \"genesi\", \"workday\", \"peoplesoft\", \"pmp\", \"abap\", \"epic\", \"viva\", \"htc\", \"krono\", \"cutter\", \"impedi\", \"squir\", \"ariba\", \"mwbe\", \"pmi\", \"ntt\", \"tel\", \"percent\", \"revit\", \"hris\", \"eclaro\", \"undu\", \"hardship\", \"amnesti\", \"cpq\", \"pmo\", \"ppm\", \"unavail\", \"smci\", \"unlaw\", \"hcm\", \"srm\", \"pega\", \"elicit\", \"deliver\", \"facilit\", \"project\", \"stakehold\", \"scope\", \"budget\", \"owner\", \"timelin\", \"conflict\", \"backlog\", \"plan\", \"matrix\", \"priorit\", \"mileston\", \"defin\", \"ensur\", \"process\", \"prioriti\", \"meet\", \"resourc\", \"deliveri\", \"requir\", \"function\", \"leadership\", \"identifi\", \"schedul\", \"abil\", \"technic\", \"chang\", \"effect\", \"lead\", \"document\", \"demonstr\", \"multipl\", \"implement\", \"product\", \"improv\", \"execut\", \"provid\", \"solut\", \"custom\", \"report\", \"organ\", \"program\", \"includ\", \"strong\", \"understand\", \"analysi\", \"test\", \"issu\", \"excel\", \"system\", \"user\", \"respons\", \"coast\", \"sga\", \"allstat\", \"women\", \"femal\", \"vanderhouwen\", \"fastest\", \"career\", \"admir\", \"breakthrough\", \"wbe\", \"sgainc\", \"jpmorgan\", \"fiserv\", \"fortun\", \"skyrocket\", \"compucom\", \"brilliant\", \"ascent\", \"compani\", \"believ\", \"midmarket\", \"surefir\", \"smarter\", \"usaa\", \"unlock\", \"asg\", \"unsolicit\", \"forb\", \"servant\", \"reward\", \"deloitt\", \"adp\", \"cgi\", \"visit\", \"chase\", \"staff\", \"headquart\", \"award\", \"fun\", \"placement\", \"peopl\", \"veteran\", \"presenc\", \"match\", \"recruit\", \"want\", \"client\", \"talent\", \"competit\", \"offer\", \"innov\", \"leader\", \"grow\", \"encourag\", \"opportun\", \"firm\", \"group\", \"consult\", \"help\", \"learn\", \"great\", \"profession\", \"partner\", \"industri\", \"transform\", \"drive\", \"solut\", \"valu\", \"status\", \"provid\", \"person\", \"build\", \"success\", \"look\", \"lead\", \"inform\", \"best\", \"time\", \"role\", \"high\", \"includ\", \"angular\", \"react\", \"mvc\", \"jqueri\", \"asp\", \"angularj\", \"bootstrap\", \"ajax\", \"reactj\", \"typescript\", \"vue\", \"wcf\", \"frontend\", \"redux\", \"jsp\", \"jpa\", \"orm\", \"bdd\", \"jasmin\", \"selenium\", \"wpf\", \"webpack\", \"strut\", \"sdet\", \"ember\", \"fpga\", \"knockout\", \"ejb\", \"arthur\", \"linq\", \"javascript\", \"net\", \"junit\", \"hibern\", \"sass\", \"eclips\", \"tdd\", \"css\", \"front\", \"html\", \"android\", \"code\", \"rest\", \"spring\", \"web\", \"framework\", \"debug\", \"test\", \"java\", \"xml\", \"json\", \"soap\", \"api\", \"cod\", \"softwar\", \"autom\", \"end\", \"sql\", \"mobil\", \"agil\", \"stack\", \"engin\", \"strong\", \"program\", \"understand\", \"write\", \"tool\", \"integr\", \"product\", \"build\", \"environ\", \"solut\", \"technic\", \"perform\", \"switch\", \"lan\", \"wan\", \"printer\", \"citrix\", \"peripher\", \"sccm\", \"dhcp\", \"voip\", \"helpdesk\", \"restor\", \"workstat\", \"backup\", \"bgp\", \"telephoni\", \"pcs\", \"netapp\", \"mpls\", \"ospf\", \"vsphere\", \"nas\", \"vlan\", \"noc\", \"avaya\", \"vdi\", \"snmp\", \"qos\", \"rack\", \"desk\", \"eigrp\", \"router\", \"directori\", \"vpn\", \"vmware\", \"laptop\", \"ticket\", \"instal\", \"desktop\", \"hardwar\", \"wireless\", \"window\", \"network\", \"ccnp\", \"troubleshoot\", \"dns\", \"upgrad\", \"technician\", \"administr\", \"server\", \"rout\", \"patch\", \"configur\", \"issu\", \"microsoft\", \"problem\", \"resolv\", \"storag\", \"system\", \"oper\", \"virtual\", \"user\", \"maintain\", \"monitor\", \"technic\", \"environ\", \"custom\", \"provid\", \"activ\", \"softwar\", \"infrastructur\", \"perform\", \"abil\", \"includ\", \"relat\", \"help\", \"level\", \"docker\", \"kubernet\", \"apex\", \"cassandra\", \"aw\", \"paa\", \"lightn\", \"terraform\", \"lambda\", \"elast\", \"rds\", \"visualforc\", \"redi\", \"elasticsearch\", \"openshift\", \"solr\", \"dynamodb\", \"serverless\", \"cloudform\", \"apige\", \"mule\", \"openstack\", \"artifactori\", \"dynatrac\", \"sre\", \"rabbitmq\", \"boomi\", \"golang\", \"soql\", \"cloudwatch\", \"devop\", \"ansibl\", \"chef\", \"azur\", \"puppet\", \"cloud\", \"kafka\", \"iaa\", \"mulesoft\", \"amazon\", \"tibco\", \"bash\", \"middlewar\", \"orchestr\", \"python\", \"iot\", \"architectur\", \"linux\", \"nosql\", \"jenkin\", \"pipelin\", \"shell\", \"platform\", \"deploy\", \"architect\", \"microservic\", \"infrastructur\", \"engin\", \"contain\", \"autom\", \"scale\", \"build\", \"script\", \"distribut\", \"solut\", \"java\", \"integr\", \"tool\", \"enterpris\", \"hand\", \"implement\", \"environ\", \"softwar\", \"api\", \"lead\", \"product\", \"system\", \"strong\", \"understand\", \"technic\", \"high\", \"reserv\", \"copyright\", \"tax\", \"patient\", \"plant\", \"gas\", \"trial\", \"laboratori\", \"chemic\", \"kso\", \"nurs\", \"oil\", \"complaint\", \"oncolog\", \"kforc\", \"badg\", \"fda\", \"court\", \"hazard\", \"hvac\", \"gov\", \"autocad\", \"religi\", \"plc\", \"mastech\", \"harass\", \"analog\", \"pcb\", \"wehmil\", \"barri\", \"safeti\", \"electr\", \"click\", \"cpa\", \"verif\", \"scada\", \"schemat\", \"pharmaceut\", \"receiv\", \"mechan\", \"environment\", \"verifi\", \"link\", \"clinic\", \"forward\", \"proud\", \"characterist\", \"manufactur\", \"reason\", \"accommod\", \"protect\", \"qualifi\", \"origin\", \"word\", \"condit\", \"equip\", \"form\", \"status\", \"regard\", \"go\", \"complet\", \"complianc\", \"engin\", \"document\", \"consider\", \"perform\", \"unit\", \"account\", \"look\", \"process\", \"duti\", \"oper\", \"industri\", \"abil\", \"provid\", \"direct\", \"requir\", \"includ\", \"control\", \"system\", \"person\", \"cyber\", \"vulner\", \"threat\", \"dod\", \"secret\", \"sci\", \"cissp\", \"dsa\", \"nist\", \"soc\", \"intrus\", \"bhge\", \"armi\", \"forens\", \"siem\", \"unisi\", \"attack\", \"navi\", \"dhs\", \"cism\", \"ip\", \"cisa\", \"sailpoint\", \"faa\", \"civilian\", \"idm\", \"grc\", \"postur\", \"dss\", \"giac\", \"leido\", \"privaci\", \"defens\", \"pci\", \"secur\", \"detect\", \"clearanc\", \"cybersecur\", \"iam\", \"penetr\", \"air\", \"risk\", \"mission\", \"audit\", \"inform\", \"complianc\", \"control\", \"assess\", \"polici\", \"access\", \"incid\", \"relev\", \"system\", \"oper\", \"program\", \"engin\", \"network\", \"provid\", \"relat\", \"respons\", \"analysi\", \"implement\", \"activ\", \"requir\", \"process\", \"integr\", \"technic\", \"tool\", \"includ\", \"test\", \"data\", \"nbsp\", \"advertis\", \"seo\", \"tcg\", \"photoshop\", \"wirefram\", \"rodan\", \"aem\", \"drupal\", \"copywrit\", \"indesign\", \"skincar\", \"artist\", \"wordpress\", \"mockup\", \"skin\", \"banner\", \"illustr\", \"euromonitor\", \"rsp\", \"editori\", \"brochur\", \"sem\", \"photograph\", \"photographi\", \"magento\", \"adword\", \"entrepreneur\", \"grammar\", \"stanford\", \"adob\", \"grant\", \"graphic\", \"anim\", \"campaign\", \"brand\", \"sketch\", \"media\", \"factor\", \"content\", \"ad\", \"social\", \"market\", \"digit\", \"channel\", \"creativ\", \"edit\", \"fund\", \"sale\", \"websit\", \"copi\", \"success\", \"product\", \"visual\", \"research\", \"creat\", \"user\", \"strategi\", \"look\", \"web\", \"custom\", \"strong\", \"field\", \"abil\", \"role\", \"includ\", \"understand\", \"project\", \"write\", \"execut\", \"etl\", \"tableau\", \"informatica\", \"sas\", \"ssis\", \"ssrs\", \"hive\", \"dba\", \"kelli\", \"teradata\", \"hyperion\", \"unstructur\", \"datastag\", \"ssas\", \"cogno\", \"cleans\", \"hdfs\", \"qlikview\", \"powerbi\", \"obie\", \"microstrategi\", \"vba\", \"cloudera\", \"pig\", \"erwin\", \"essbas\", \"mapreduc\", \"jcl\", \"olap\", \"qlik\", \"extract\", \"hana\", \"mart\", \"warehous\", \"edi\", \"data\", \"dimension\", \"hadoop\", \"metadata\", \"talend\", \"dataset\", \"statist\", \"model\", \"spark\", \"databas\", \"queri\", \"sql\", \"programm\", \"dashboard\", \"scientist\", \"analyst\", \"sme\", \"convers\", \"analyt\", \"architect\", \"financ\", \"report\", \"intellig\", \"function\", \"analysi\", \"specialist\", \"integr\", \"system\", \"tool\", \"perform\", \"consult\", \"project\", \"solut\", \"relat\", \"process\", \"big\", \"requir\", \"strong\", \"server\", \"creat\", \"implement\", \"understand\"], \"Total\": [28380.0, 15234.0, 20839.0, 12271.0, 7823.0, 29805.0, 8436.0, 6431.0, 7490.0, 18531.0, 9993.0, 7713.0, 21727.0, 7090.0, 20314.0, 8422.0, 12015.0, 4889.0, 3716.0, 5472.0, 4818.0, 7926.0, 8679.0, 3859.0, 7689.0, 4028.0, 4278.0, 12340.0, 6223.0, 18597.0, 1082.3155517578125, 746.1173706054688, 571.7132568359375, 521.993408203125, 497.4884338378906, 374.2695617675781, 219.212646484375, 180.92617797851562, 169.3063507080078, 159.16146850585938, 156.614990234375, 128.8795166015625, 124.91364288330078, 124.5815200805664, 117.71806335449219, 112.35167694091797, 103.31920623779297, 100.24999237060547, 97.62590789794922, 96.25770568847656, 86.74464416503906, 85.22622680664062, 85.20452117919922, 82.91459655761719, 75.12565612792969, 225.92645263671875, 73.54727172851562, 72.91529083251953, 68.18688201904297, 67.78923797607422, 439.1634521484375, 216.35426330566406, 229.91029357910156, 224.92649841308594, 1580.259033203125, 1997.118896484375, 29805.8984375, 3654.01171875, 1843.2586669921875, 1679.6968994140625, 1479.7847900390625, 768.4140625, 394.1327209472656, 424.3034973144531, 11049.6123046875, 401.0550537109375, 1817.028564453125, 511.561279296875, 3744.767578125, 9424.3837890625, 16591.39453125, 1487.7967529296875, 6785.1298828125, 4083.874755859375, 4502.470703125, 16393.646484375, 12340.10546875, 3764.69873046875, 5819.6513671875, 3252.98095703125, 19474.677734375, 20676.203125, 7447.0810546875, 6823.599609375, 11798.9580078125, 10778.4130859375, 5287.57080078125, 5520.38525390625, 14423.2109375, 18597.98828125, 6220.5849609375, 6226.23681640625, 17656.31640625, 20404.666015625, 14931.5078125, 8679.927734375, 6848.42333984375, 12351.9375, 15031.41015625, 16612.703125, 14113.197265625, 7434.880859375, 20839.373046875, 9141.8818359375, 9756.3857421875, 20314.435546875, 10595.8984375, 9573.9501953125, 891.4580078125, 880.4271240234375, 468.34259033203125, 421.0469665527344, 353.8899230957031, 351.029541015625, 318.8747863769531, 301.4863586425781, 229.7353515625, 217.2230682373047, 184.5004425048828, 174.00209045410156, 158.60426330566406, 142.26504516601562, 1444.53369140625, 140.8899688720703, 134.37387084960938, 132.3857879638672, 128.935791015625, 2849.85791015625, 732.353271484375, 111.57169342041016, 109.17252349853516, 107.03489685058594, 102.16938781738281, 99.75955963134766, 99.69205474853516, 99.16461944580078, 90.23594665527344, 85.66590118408203, 783.736572265625, 333.6842041015625, 528.6189575195312, 270.1501159667969, 1697.3756103515625, 189.23390197753906, 2364.5625, 886.6942749023438, 553.8472290039062, 409.6330261230469, 830.6815795898438, 2779.257080078125, 822.3841552734375, 624.8822021484375, 1400.3826904296875, 1819.9752197265625, 1403.02783203125, 7315.9462890625, 3068.33251953125, 1725.7066650390625, 2232.719482421875, 3797.44970703125, 2954.00341796875, 3039.133544921875, 1380.181884765625, 4081.419189453125, 2431.907958984375, 6367.046875, 7655.9619140625, 7120.6005859375, 5051.9794921875, 2456.76611328125, 6016.1884765625, 5193.361328125, 7380.72412109375, 2335.355712890625, 6684.52392578125, 20404.666015625, 2679.423828125, 6373.80859375, 17656.31640625, 4520.4248046875, 10158.9755859375, 7689.90625, 8468.4013671875, 11798.9580078125, 12015.3671875, 6224.47119140625, 9968.830078125, 10835.69140625, 11025.9384765625, 15031.41015625, 2132.501708984375, 1570.3885498046875, 1029.421630859375, 986.5366821289062, 973.5531005859375, 573.2365112304688, 514.3765869140625, 431.6515197753906, 329.7043762207031, 324.9579162597656, 285.66851806640625, 276.1156005859375, 253.4228515625, 232.66671752929688, 205.87579345703125, 176.3342742919922, 166.10020446777344, 159.28768920898438, 147.92132568359375, 600.0188598632812, 136.1678466796875, 128.20687866210938, 123.52308654785156, 117.81644439697266, 113.51657104492188, 111.61311340332031, 105.57537078857422, 101.61793518066406, 96.16381072998047, 90.99375915527344, 4028.77783203125, 4889.18701171875, 342.7978210449219, 494.3007507324219, 184.10374450683594, 291.587890625, 363.100341796875, 2439.728515625, 2122.017333984375, 2895.16943359375, 986.7487182617188, 6223.40625, 2992.36669921875, 2186.4990234375, 9993.001953125, 5492.21337890625, 1432.61083984375, 20839.373046875, 7713.1875, 1275.5386962890625, 921.07763671875, 975.8634033203125, 4228.048828125, 2227.905517578125, 21727.3203125, 6980.330078125, 7726.6650390625, 8436.9150390625, 3482.853515625, 7520.736328125, 2866.775146484375, 18531.064453125, 16612.703125, 12351.9375, 14113.197265625, 9386.484375, 11552.2353515625, 11729.732421875, 18597.98828125, 10158.9755859375, 14693.482421875, 20404.666015625, 20676.203125, 14486.779296875, 1076.7979736328125, 682.1644897460938, 682.1949462890625, 652.6888427734375, 521.4312744140625, 425.4665222167969, 337.2746887207031, 308.2171630859375, 307.599853515625, 295.27728271484375, 299.1373596191406, 359.219970703125, 807.8794555664062, 178.09954833984375, 172.91856384277344, 163.41905212402344, 145.7978515625, 144.94705200195312, 139.73419189453125, 132.92379760742188, 132.03170776367188, 126.15481567382812, 116.18260192871094, 114.55427551269531, 110.7007827758789, 94.3917465209961, 91.99345397949219, 83.44925689697266, 1861.4547119140625, 79.19546508789062, 611.2611694335938, 1495.352783203125, 430.98162841796875, 1051.353271484375, 418.1459655761719, 1636.1334228515625, 3536.532470703125, 2106.508056640625, 4130.2255859375, 643.4968872070312, 4253.427734375, 12271.18359375, 222.56797790527344, 5433.7119140625, 567.9290161132812, 1849.524169921875, 1145.01513671875, 5812.533203125, 7926.05224609375, 961.0643310546875, 805.4839477539062, 6582.908203125, 9141.8818359375, 5754.3359375, 9546.4638671875, 3401.962158203125, 1569.5643310546875, 20314.435546875, 11336.595703125, 1504.6387939453125, 10595.8984375, 9747.439453125, 5176.54248046875, 20676.203125, 14693.482421875, 14931.5078125, 17656.31640625, 8010.755859375, 21727.3203125, 5728.2412109375, 14486.779296875, 19474.677734375, 15031.41015625, 12407.15234375, 7120.6005859375, 9143.837890625, 978.4435424804688, 603.771728515625, 401.3435363769531, 350.74066162109375, 3716.63720703125, 320.72119140625, 282.6561584472656, 270.88665771484375, 244.06149291992188, 196.49476623535156, 179.03872680664062, 164.92153930664062, 149.45477294921875, 141.9945526123047, 137.95855712890625, 134.19244384765625, 117.62458801269531, 117.32091522216797, 113.44425964355469, 94.47378540039062, 92.53479766845703, 90.45401763916016, 88.25784301757812, 86.86185455322266, 85.87706756591797, 84.87715911865234, 84.23634338378906, 83.37445068359375, 81.19039916992188, 80.91227722167969, 2111.60009765625, 581.4562377929688, 491.74029541015625, 2607.1064453125, 438.8203430175781, 7823.09228515625, 558.3275146484375, 222.92066955566406, 375.42852783203125, 568.1415405273438, 200.66030883789062, 321.8291931152344, 512.43603515625, 410.81146240234375, 2981.783203125, 437.6869812011719, 8422.0849609375, 2789.66748046875, 683.5123901367188, 1210.5028076171875, 1080.6129150390625, 774.86572265625, 6864.87744140625, 5398.23681640625, 5472.623046875, 946.6854858398438, 5728.2412109375, 18531.064453125, 843.0189819335938, 6980.330078125, 2487.118408203125, 10158.9755859375, 4499.76318359375, 1907.501220703125, 20404.666015625, 7713.1875, 11729.732421875, 11552.2353515625, 6798.06982421875, 4777.759765625, 14423.2109375, 14693.482421875, 21727.3203125, 4228.048828125, 11798.9580078125, 18597.98828125, 20314.435546875, 16612.703125, 14113.197265625, 20676.203125, 11025.9384765625, 728.2017822265625, 601.8665771484375, 552.1203002929688, 405.8147888183594, 319.0102233886719, 208.0977783203125, 194.84494018554688, 189.35145568847656, 188.08590698242188, 149.5984649658203, 144.2840576171875, 134.2012939453125, 130.8890838623047, 128.78335571289062, 774.1806640625, 121.13973999023438, 119.63992309570312, 119.40938568115234, 116.57299041748047, 116.16171264648438, 113.67942810058594, 106.03401947021484, 104.51744079589844, 96.61966705322266, 94.77360534667969, 92.2420883178711, 91.72029113769531, 90.1142807006836, 86.0134506225586, 86.0134506225586, 710.521240234375, 1040.1590576171875, 640.710693359375, 199.1250457763672, 1053.096923828125, 133.07505798339844, 118.62067413330078, 328.2520751953125, 3748.4228515625, 657.3115844726562, 219.85092163085938, 1413.748291015625, 921.7259521484375, 944.0469360351562, 1914.3946533203125, 807.5213012695312, 1127.7108154296875, 1274.361083984375, 1121.24658203125, 686.8765869140625, 3962.84326171875, 3254.437255859375, 2895.729736328125, 1769.6905517578125, 721.2825317382812, 2209.556640625, 1568.64990234375, 6373.80859375, 3601.98046875, 1035.964111328125, 4132.07958984375, 3132.17578125, 18531.064453125, 10778.4130859375, 3293.204345703125, 14486.779296875, 4180.65625, 3926.65673828125, 8468.4013671875, 16591.39453125, 3314.861083984375, 11336.595703125, 7380.72412109375, 19474.677734375, 17656.31640625, 4452.7216796875, 16393.646484375, 15031.41015625, 4907.4541015625, 20314.435546875, 4520.4248046875, 1239.811279296875, 921.8289184570312, 747.8189697265625, 697.4706420898438, 636.3585205078125, 383.4447326660156, 377.8619384765625, 370.8106994628906, 302.7760009765625, 292.7745056152344, 275.67431640625, 247.35704040527344, 243.9781951904297, 229.80532836914062, 208.7879180908203, 208.39100646972656, 173.18350219726562, 168.5953826904297, 162.71163940429688, 159.0994415283203, 158.8535614013672, 154.761962890625, 147.515380859375, 140.618896484375, 135.01966857910156, 134.25347900390625, 131.9698944091797, 117.8299331665039, 108.57377624511719, 102.10037231445312, 590.2036743164062, 334.9572448730469, 699.011962890625, 273.76226806640625, 15234.69921875, 574.0562744140625, 1597.1390380859375, 553.8657836914062, 498.451904296875, 242.3297119140625, 403.13568115234375, 4278.5810546875, 1532.0137939453125, 1478.53662109375, 12015.3671875, 3132.17578125, 4907.4541015625, 2529.076416015625, 3340.0400390625, 3099.408935546875, 2127.44384765625, 3150.99658203125, 20314.435546875, 11336.595703125, 12351.9375, 18531.064453125, 12271.18359375, 17656.31640625, 12407.15234375, 9573.9501953125, 7434.880859375, 14423.2109375, 8010.755859375, 16393.646484375, 16591.39453125, 11729.732421875, 20676.203125, 11552.2353515625, 15031.41015625, 20839.373046875, 28380.69921875, 811.784423828125, 526.0494384765625, 396.3089294433594, 386.65643310546875, 367.5743408203125, 333.6354675292969, 325.9664611816406, 311.2053527832031, 308.29559326171875, 299.9866638183594, 213.04652404785156, 208.5666046142578, 185.24696350097656, 184.2958221435547, 174.05572509765625, 160.8916778564453, 118.56564331054688, 470.6732177734375, 95.25773620605469, 94.37921905517578, 91.4915542602539, 86.99674987792969, 86.7231674194336, 80.35224914550781, 78.52412414550781, 75.07581329345703, 73.9300537109375, 72.35619354248047, 72.05963134765625, 65.96163177490234, 1047.927734375, 747.4966430664062, 1095.7225341796875, 163.78953552246094, 1333.6806640625, 1339.202392578125, 206.5880584716797, 1483.5008544921875, 2162.832275390625, 2439.875244140625, 212.9250946044922, 1268.5863037109375, 6431.73681640625, 3859.122314453125, 790.4832763671875, 3754.660888671875, 642.453369140625, 1262.920654296875, 2475.434814453125, 1254.5731201171875, 571.8442993164062, 7689.90625, 18597.98828125, 2217.194091796875, 3364.362548828125, 8494.548828125, 10595.8984375, 5035.923828125, 8468.4013671875, 9993.001953125, 14931.5078125, 16612.703125, 5331.60205078125, 19474.677734375, 10835.69140625, 15031.41015625, 14113.197265625, 29805.8984375, 9386.484375, 6226.23681640625, 1623.47802734375, 753.63818359375, 619.0628662109375, 602.7481689453125, 498.873291015625, 394.8782043457031, 341.0443420410156, 425.4362487792969, 221.97935485839844, 214.64962768554688, 155.189697265625, 153.39759826660156, 147.26901245117188, 147.20751953125, 145.1964111328125, 104.80326843261719, 101.70764923095703, 93.96072387695312, 91.67448425292969, 86.52470397949219, 86.07847595214844, 85.18081665039062, 82.37142944335938, 75.14826965332031, 74.33776092529297, 74.21250915527344, 67.09917449951172, 67.07882690429688, 66.6438217163086, 64.77416229248047, 472.8434753417969, 650.05908203125, 150.14599609375, 1420.6812744140625, 304.1774597167969, 28380.69921875, 168.29672241210938, 860.6024780273438, 352.3265686035156, 180.88961791992188, 207.56961059570312, 806.0599365234375, 4818.083984375, 851.0411376953125, 7490.5, 1645.4268798828125, 8436.9150390625, 1075.99609375, 809.3734130859375, 428.248291015625, 7090.98046875, 830.9119262695312, 1179.6907958984375, 6169.607421875, 5472.623046875, 2044.663330078125, 8679.927734375, 1735.23828125, 12340.10546875, 7434.880859375, 1951.7939453125, 11729.732421875, 20314.435546875, 11552.2353515625, 14486.779296875, 7655.9619140625, 29805.8984375, 20404.666015625, 12407.15234375, 16591.39453125, 2149.96630859375, 16393.646484375, 16612.703125, 7926.05224609375, 8494.548828125, 14423.2109375, 14113.197265625], \"loglift\": [30.0, 29.0, 28.0, 27.0, 26.0, 25.0, 24.0, 23.0, 22.0, 21.0, 20.0, 19.0, 18.0, 17.0, 16.0, 15.0, 14.0, 13.0, 12.0, 11.0, 10.0, 9.0, 8.0, 7.0, 6.0, 5.0, 4.0, 3.0, 2.0, 1.0, 1.38510000705719, 1.3846999406814575, 1.3844000101089478, 1.3841999769210815, 1.3840999603271484, 1.3834999799728394, 1.3818999528884888, 1.38100004196167, 1.3806999921798706, 1.3803999423980713, 1.3803000450134277, 1.378999948501587, 1.3788000345230103, 1.3788000345230103, 1.3783999681472778, 1.378000020980835, 1.3773000240325928, 1.3770999908447266, 1.3767999410629272, 1.3767000436782837, 1.3756999969482422, 1.375499963760376, 1.375499963760376, 1.3752000331878662, 1.3740999698638916, 1.3740999698638916, 1.373900055885315, 1.3737000226974487, 1.3729000091552734, 1.3727999925613403, 1.368299961090088, 1.3655999898910522, 1.3633999824523926, 1.3579000234603882, 1.3041000366210938, 1.287500023841858, 1.19159996509552, 1.219099998474121, 1.2482000589370728, 1.2441999912261963, 1.2350000143051147, 1.2719000577926636, 1.301200032234192, 1.2805999517440796, 0.998199999332428, 1.274899959564209, 1.1376999616622925, 1.2475999593734741, 1.048200011253357, 0.9350000023841858, 0.8716999888420105, 1.1369999647140503, 0.9696000218391418, 1.010599970817566, 0.9922999739646912, 0.8180000185966492, 0.8328999876976013, 0.9869999885559082, 0.9143000245094299, 0.9717000126838684, 0.6694999933242798, 0.6148999929428101, 0.8036999702453613, 0.7937999963760376, 0.6661999821662903, 0.6751999855041504, 0.8306000232696533, 0.8133999705314636, 0.5593000054359436, 0.45730000734329224, 0.7739999890327454, 0.7703999876976013, 0.31349998712539673, 0.2547999918460846, 0.33629998564720154, 0.567799985408783, 0.6686999797821045, 0.3425999879837036, 0.23260000348091125, 0.15780000388622284, 0.241799995303154, 0.6194000244140625, -0.1761000007390976, 0.44589999318122864, 0.39320001006126404, -0.219200000166893, 0.3190999925136566, 0.39399999380111694, 1.9947999715805054, 1.9947999715805054, 1.993899941444397, 1.9937000274658203, 1.993299961090088, 1.993299961090088, 1.9930000305175781, 1.992900013923645, 1.9919999837875366, 1.9917000532150269, 1.9910000562667847, 1.9907000064849854, 1.9902000427246094, 1.9895999431610107, 1.9895999431610107, 1.9895000457763672, 1.9891999959945679, 1.9890999794006348, 1.9888999462127686, 1.9886000156402588, 1.9881000518798828, 1.9879000186920166, 1.9876999855041504, 1.9874999523162842, 1.9871000051498413, 1.986899971961975, 1.986899971961975, 1.986899971961975, 1.9859999418258667, 1.9854999780654907, 1.9788000583648682, 1.9815000295639038, 1.9686000347137451, 1.975000023841858, 1.9323999881744385, 1.976199984550476, 1.9120999574661255, 1.9386999607086182, 1.9407999515533447, 1.9465999603271484, 1.9010000228881836, 1.8250999450683594, 1.882099986076355, 1.8924000263214111, 1.8281999826431274, 1.805799961090088, 1.822700023651123, 1.6654000282287598, 1.7408000230789185, 1.7764999866485596, 1.7217999696731567, 1.6375000476837158, 1.6318999528884888, 1.6225999593734741, 1.7486000061035156, 1.5227999687194824, 1.5861999988555908, 1.3553999662399292, 1.305799961090088, 1.2294000387191772, 1.2807999849319458, 1.496500015258789, 1.1999000310897827, 1.2164000272750854, 1.072100043296814, 1.4924999475479126, 0.9596999883651733, 0.34459999203681946, 1.395400047302246, 0.9203000068664551, 0.2529999911785126, 1.0753999948501587, 0.5566999912261963, 0.7324000000953674, 0.6179999709129333, 0.3630000054836273, 0.3197000026702881, 0.8276000022888184, 0.37049999833106995, 0.28529998660087585, 0.2653999924659729, -0.05889999866485596, 2.0504000186920166, 2.050299882888794, 2.049999952316284, 2.0499000549316406, 2.0499000549316406, 2.049299955368042, 2.049099922180176, 2.048799991607666, 2.0481998920440674, 2.048099994659424, 2.0476999282836914, 2.047600030899048, 2.047300100326538, 2.046999931335449, 2.0464999675750732, 2.045799970626831, 2.0455000400543213, 2.045300006866455, 2.0448999404907227, 2.044800043106079, 2.044300079345703, 2.0439000129699707, 2.0436999797821045, 2.043299913406372, 2.0429999828338623, 2.0429000854492188, 2.0425000190734863, 2.042099952697754, 2.041599988937378, 2.041100025177002, 2.0329999923706055, 2.0183000564575195, 2.040600061416626, 2.032399892807007, 2.039599895477295, 2.034600019454956, 2.02839994430542, 1.9674999713897705, 1.9527000188827515, 1.913599967956543, 1.9646999835968018, 1.815500020980835, 1.8658000230789185, 1.8746999502182007, 1.7589000463485718, 1.791100025177002, 1.8926000595092773, 1.6354999542236328, 1.729099988937378, 1.8940000534057617, 1.9105000495910645, 1.8906999826431274, 1.6813000440597534, 1.715000033378601, 1.3042000532150269, 1.3973000049591064, 1.3288999795913696, 1.1747000217437744, 1.4479000568389893, 1.152500033378601, 1.4048000574111938, 0.5105000138282776, 0.42480000853538513, 0.555400013923645, 0.46720001101493835, 0.6450999975204468, 0.5022000074386597, 0.489300012588501, 0.15780000388622284, 0.5074999928474426, 0.19110000133514404, -0.11029999703168869, -0.13379999995231628, 0.18569999933242798, 2.1033999919891357, 2.1029000282287598, 2.1029000282287598, 2.1029000282287598, 2.1024999618530273, 2.102099895477295, 2.101599931716919, 2.1013998985290527, 2.1013998985290527, 2.1012001037597656, 2.100600004196167, 2.1003000736236572, 2.099600076675415, 2.099299907684326, 2.099100112915039, 2.09879994392395, 2.0982000827789307, 2.0982000827789307, 2.097899913787842, 2.097599983215332, 2.097599983215332, 2.0973000526428223, 2.0966999530792236, 2.0964999198913574, 2.096299886703491, 2.094899892807007, 2.0947000980377197, 2.0936999320983887, 2.0931999683380127, 2.093100070953369, 2.0864999294281006, 2.0769999027252197, 2.088200092315674, 2.075500011444092, 2.0822999477386475, 2.054800033569336, 2.0360000133514404, 2.03629994392395, 2.0107998847961426, 2.0587000846862793, 1.9911999702453613, 1.847100019454956, 2.0757999420166016, 1.8564000129699707, 1.9984999895095825, 1.888800024986267, 1.9021999835968018, 1.704200029373169, 1.5408999919891357, 1.8976000547409058, 1.9240000247955322, 1.5168999433517456, 1.3220000267028809, 1.406499981880188, 1.2164000272750854, 1.476199984550476, 1.7065999507904053, 0.8633000254631042, 0.98089998960495, 1.7193000316619873, 0.9362999796867371, 0.9430000185966492, 1.205899953842163, 0.5910999774932861, 0.7411999702453613, 0.6890000104904175, 0.5760999917984009, 0.9312999844551086, 0.3986000120639801, 1.073099970817566, 0.46959999203681946, 0.14319999516010284, 0.262800008058548, 0.3799999952316284, 0.7975999712944031, 0.541700005531311, 2.455899953842163, 2.4553000926971436, 2.4546000957489014, 2.454200029373169, 2.4540998935699463, 2.4539999961853027, 2.4535999298095703, 2.4535000324249268, 2.4530999660491943, 2.4523000717163086, 2.4518001079559326, 2.4514000415802, 2.4507999420166016, 2.450500011444092, 2.4502999782562256, 2.450200080871582, 2.449199914932251, 2.449199914932251, 2.448899984359741, 2.4474000930786133, 2.447200059890747, 2.446899890899658, 2.446700096130371, 2.446500062942505, 2.4463999271392822, 2.4463000297546387, 2.446199893951416, 2.4460999965667725, 2.4458000659942627, 2.4458000659942627, 2.4400999546051025, 2.4453001022338867, 2.443000078201294, 2.4260001182556152, 2.4407999515533447, 2.410799980163574, 2.433500051498413, 2.439199924468994, 2.4270999431610107, 2.4049999713897705, 2.427299976348877, 2.4056999683380127, 2.374000072479248, 2.374500036239624, 2.0982000827789307, 2.319000005722046, 1.898900032043457, 2.0316998958587646, 2.2302000522613525, 2.1294000148773193, 2.131500005722046, 2.179800033569336, 1.718000054359436, 1.7409000396728516, 1.720900058746338, 2.1321001052856445, 1.6014000177383423, 1.252500057220459, 2.1319000720977783, 1.4112000465393066, 1.7422000169754028, 1.2055000066757202, 1.4470000267028809, 1.795300006866455, 0.7554000020027161, 1.1656999588012695, 0.9732000231742859, 0.9262999892234802, 1.170699954032898, 1.2725000381469727, 0.6559000015258789, 0.5917999744415283, 0.32120001316070557, 1.281499981880188, 0.6169999837875366, 0.26350000500679016, 0.1979999989271164, 0.3118000030517578, 0.30709999799728394, -0.02319999970495701, 0.4438999891281128, 2.45740008354187, 2.4570999145507812, 2.4570000171661377, 2.456399917602539, 2.4558000564575195, 2.4542999267578125, 2.4540998935699463, 2.453900098800659, 2.453900098800659, 2.452699899673462, 2.452500104904175, 2.4519999027252197, 2.4518001079559326, 2.45169997215271, 2.4514999389648438, 2.4512999057769775, 2.451200008392334, 2.4511001110076904, 2.4509999752044678, 2.4509999752044678, 2.4507999420166016, 2.450200080871582, 2.449700117111206, 2.449399948120117, 2.449199914932251, 2.4489998817443848, 2.448899984359741, 2.4488000869750977, 2.4482998847961426, 2.4482998847961426, 2.4449000358581543, 2.4267001152038574, 2.4103000164031982, 2.430999994277954, 2.380199909210205, 2.4367001056671143, 2.440200090408325, 2.3822999000549316, 2.185699939727783, 2.3080999851226807, 2.381999969482422, 2.1675000190734863, 2.2153000831604004, 2.212100028991699, 2.123800039291382, 2.2244999408721924, 2.1821999549865723, 2.1540000438690186, 2.1644999980926514, 2.2290000915527344, 1.9031000137329102, 1.8912999629974365, 1.8940000534057617, 1.9608999490737915, 2.149600028991699, 1.8727999925613403, 1.9368000030517578, 1.5628000497817993, 1.642199993133545, 2.0280001163482666, 1.5441999435424805, 1.5693000555038452, 0.7642999887466431, 0.7059000134468079, 1.3490999937057495, 0.4212000072002411, 1.1687999963760376, 1.2055000066757202, 0.649399995803833, 0.15839999914169312, 1.2759000062942505, 0.335099995136261, 0.6521000266075134, -0.13529999554157257, -0.09529999643564224, 1.0333000421524048, -0.11559999734163284, -0.039500001817941666, 0.9222000241279602, -0.4101000130176544, 0.9934999942779541, 2.716599941253662, 2.716399908065796, 2.716099977493286, 2.716099977493286, 2.71589994430542, 2.7149999141693115, 2.7149999141693115, 2.714900016784668, 2.714400053024292, 2.7142999172210693, 2.714099884033203, 2.7137999534606934, 2.71370005607605, 2.7135000228881836, 2.713099956512451, 2.713099956512451, 2.7121999263763428, 2.712100028991699, 2.711899995803833, 2.7118000984191895, 2.7118000984191895, 2.7116000652313232, 2.7112998962402344, 2.7109999656677246, 2.7107999324798584, 2.710700035095215, 2.710599899291992, 2.7098000049591064, 2.709199905395508, 2.708699941635132, 2.6977999210357666, 2.6984000205993652, 2.6700000762939453, 2.6867001056671143, 2.5127999782562256, 2.603300094604492, 2.48799991607666, 2.5850000381469727, 2.576200008392334, 2.644700050354004, 2.5260000228881836, 1.968500018119812, 2.196199893951416, 2.1686999797821045, 1.5844999551773071, 1.857200026512146, 1.7041000127792358, 1.8865000009536743, 1.7267999649047852, 1.7091000080108643, 1.8152999877929688, 1.6318999528884888, 0.7878999710083008, 0.9797000288963318, 0.8442000150680542, 0.6061000227928162, 0.8176000118255615, 0.436599999666214, 0.5891000032424927, 0.7098000049591064, 0.79339998960495, 0.2628999948501587, 0.6844000220298767, 0.03959999978542328, -0.05649999901652336, 0.241799995303154, -0.2761000096797943, 0.23199999332427979, -0.04859999939799309, -0.3702999949455261, -0.6816999912261963, 2.762399911880493, 2.761899948120117, 2.7613000869750977, 2.7613000869750977, 2.7611000537872314, 2.7609000205993652, 2.7607998847961426, 2.760699987411499, 2.760699987411499, 2.7606000900268555, 2.759399890899658, 2.7592999935150146, 2.7588000297546387, 2.7588000297546387, 2.758500099182129, 2.7581000328063965, 2.7560999393463135, 2.755000114440918, 2.754300117492676, 2.754199981689453, 2.7539000511169434, 2.7534000873565674, 2.7534000873565674, 2.7525999546051025, 2.7523000240325928, 2.751800060272217, 2.7516000270843506, 2.7513999938964844, 2.751300096511841, 2.750200033187866, 2.747499942779541, 2.7460999488830566, 2.732800006866455, 2.743799924850464, 2.7223000526428223, 2.705399990081787, 2.7363998889923096, 2.6935999393463135, 2.6721999645233154, 2.6278998851776123, 2.7216999530792236, 2.6419999599456787, 2.5585999488830566, 2.544800043106079, 2.582200050354004, 2.3297998905181885, 2.5218000411987305, 2.3898000717163086, 2.2290000915527344, 2.3661999702453613, 2.518399953842163, 1.7206000089645386, 0.9520000219345093, 1.7685999870300293, 1.5329999923706055, 1.0092999935150146, 0.850600004196167, 1.2085000276565552, 0.8202999830245972, 0.6995000243186951, 0.3781999945640564, 0.10300000011920929, 0.9344000220298767, -0.11379999667406082, 0.34450000524520874, 0.02800000086426735, 0.05640000104904175, -0.6370000243186951, 0.430400013923645, 0.7822999954223633, 2.7634999752044678, 2.7627999782562256, 2.7625999450683594, 2.7625999450683594, 2.762200117111206, 2.7618000507354736, 2.761399984359741, 2.7609000205993652, 2.759999990463257, 2.7599000930786133, 2.7583000659942627, 2.75819993019104, 2.757999897003174, 2.757999897003174, 2.7578999996185303, 2.7555999755859375, 2.7553000450134277, 2.7546000480651855, 2.754300117492676, 2.7537999153137207, 2.753700017929077, 2.753499984741211, 2.753200054168701, 2.75219988822937, 2.7520999908447266, 2.752000093460083, 2.7507998943328857, 2.7507998943328857, 2.750699996948242, 2.7502999305725098, 2.740999937057495, 2.737600088119507, 2.7439000606536865, 2.7179999351501465, 2.7279000282287598, 2.5796000957489014, 2.719599962234497, 2.604300022125244, 2.6638998985290527, 2.7049999237060547, 2.6942999362945557, 2.5448999404907227, 2.3550000190734863, 2.5165998935699463, 2.2460999488830566, 2.4275999069213867, 2.1431000232696533, 2.4516000747680664, 2.4677999019622803, 2.5708000659942627, 2.0280001163482666, 2.423799991607666, 2.3536999225616455, 1.952299952507019, 1.8398000001907349, 2.0815999507904053, 1.5396000146865845, 2.0608999729156494, 1.1622999906539917, 1.3228000402450562, 1.9424999952316284, 0.9527999758720398, 0.6327999830245972, 0.7093999981880188, 0.4697999954223633, 0.9003999829292297, -0.08950000256299973, 0.04639999940991402, 0.4250999987125397, 0.16429999470710754, 1.766700029373169, 0.06889999657869339, -0.007400000002235174, 0.6244999766349792, 0.5188999772071838, -0.0038999998942017555, -0.019899999722838402], \"logprob\": [30.0, 29.0, 28.0, 27.0, 26.0, 25.0, 24.0, 23.0, 22.0, 21.0, 20.0, 19.0, 18.0, 17.0, 16.0, 15.0, 14.0, 13.0, 12.0, 11.0, 10.0, 9.0, 8.0, 7.0, 6.0, 5.0, 4.0, 3.0, 2.0, 1.0, -6.4475998878479, -6.820000171661377, -7.086599826812744, -7.177700042724609, -7.225900173187256, -7.511000156402588, -8.047599792480469, -8.240500450134277, -8.30720043182373, -8.36929988861084, -8.385499954223633, -8.581600189208984, -8.613100051879883, -8.615799903869629, -8.672900199890137, -8.719900131225586, -8.804400444030762, -8.834799766540527, -8.861599922180176, -8.875800132751465, -8.980899810791016, -8.998700141906738, -8.99899959564209, -9.026599884033203, -9.126299858093262, -8.025300025939941, -9.14780044555664, -9.156499862670898, -9.22439956665039, -9.230400085449219, -7.366399765014648, -8.077099800109863, -8.018500328063965, -8.045900344848633, -6.150100231170654, -5.932600021362305, -3.325500011444092, -5.396900177001953, -6.052000045776367, -6.14900016784668, -6.284900188446045, -6.903299808502197, -7.5416998863220215, -7.488500118255615, -4.511300086975098, -7.550600051879883, -6.1768999099731445, -7.334499835968018, -5.543300151824951, -4.733500003814697, -4.231200218200684, -6.377600193023682, -5.027500152587891, -5.494200229644775, -5.41480016708374, -4.296899795532227, -4.565999984741211, -5.599100112915039, -5.236299991607666, -5.760499954223633, -4.273200035095215, -4.267899990081787, -5.100299835205078, -5.1975998878479, -4.777599811553955, -4.859000205993652, -5.415900230407715, -5.389999866485596, -4.683700084686279, -4.531499862670898, -5.309999942779541, -5.312600135803223, -4.727200031280518, -4.641200065612793, -4.872000217437744, -5.183000087738037, -5.3190999031066895, -5.0553998947143555, -4.968999862670898, -4.94379997253418, -5.022900104522705, -5.286200046539307, -5.051000118255615, -5.2530999183654785, -5.240699768066406, -5.119699954986572, -5.2322998046875, -5.258800029754639, -6.031899929046631, -6.044400215148926, -6.676400184631348, -6.783100128173828, -6.957300186157227, -6.965400218963623, -7.061699867248535, -7.118000030517578, -7.390699863433838, -7.446899890899658, -7.610899925231934, -7.6697998046875, -7.762899875640869, -7.872300148010254, -5.554500102996826, -7.8821001052856445, -7.929699897766113, -7.944699764251709, -7.97130012512207, -4.875899791717529, -6.235199928283691, -8.116999626159668, -8.138899803161621, -8.158900260925293, -8.20580005645752, -8.229900360107422, -8.230600357055664, -8.235899925231934, -8.331100463867188, -8.383600234985352, -6.176700115203857, -7.0278000831604, -6.580699920654297, -7.24560022354126, -5.450399875640869, -7.600399971008301, -5.139100074768066, -6.093400001525879, -6.5619001388549805, -6.857699871063232, -6.196300029754639, -5.064599990844727, -6.225299835205078, -6.48960018157959, -5.7469000816345215, -5.507199764251709, -5.750500202178955, -4.256400108337402, -5.049900054931641, -5.589600086212158, -5.3867998123168945, -4.939899921417236, -5.196700096130371, -5.177599906921387, -5.841000080108643, -4.982500076293945, -5.4369001388549805, -4.7052001953125, -4.570499897003174, -4.719399929046631, -5.011199951171875, -5.51639986038208, -4.917500019073486, -5.047999858856201, -4.840799808502197, -5.571100234985352, -5.052299976348877, -4.551499843597412, -5.530799865722656, -5.1392998695373535, -4.787700176239014, -5.3277997970581055, -5.036799907684326, -5.139500141143799, -5.15749979019165, -5.0808000564575195, -5.105899810791016, -5.25570011138916, -5.241799831390381, -5.243599891662598, -5.246200084686279, -5.260499954223633, -5.104100227355957, -5.410200119018555, -5.832799911499023, -5.875400066375732, -5.888700008392334, -6.419000148773193, -6.527500152587891, -6.703199863433838, -6.973199844360352, -6.987800121307373, -7.117000102996826, -7.151100158691406, -7.237199783325195, -7.32289981842041, -7.445700168609619, -7.601399898529053, -7.661499977111816, -7.70359992980957, -7.7779998779296875, -6.377799987792969, -7.861299991607666, -7.921999931335449, -7.959499835968018, -8.007100105285645, -8.044599533081055, -8.061599731445312, -8.11769962310791, -8.156200408935547, -8.211899757385254, -8.2677001953125, -4.485300064086914, -4.30649995803833, -6.941800117492676, -6.584000110626221, -7.5644001960754395, -7.109600067138672, -6.896500110626221, -5.0524001121521, -5.2067999839782715, -4.935100078582764, -5.9604997634887695, -4.26800012588501, -4.949999809265137, -5.254799842834473, -3.8510000705718994, -4.417300224304199, -5.6596999168396, -3.239500045776367, -4.139800071716309, -5.774499893188477, -6.083499908447266, -6.045499801635742, -4.78879976272583, -5.395699977874756, -3.5290000438690186, -4.571400165557861, -4.538300037384033, -4.604499816894531, -5.216100215911865, -4.741600036621094, -5.453800201416016, -4.481900215148926, -4.6768999099731445, -4.842599868774414, -4.797500133514404, -5.027500152587891, -4.962699890136719, -4.960400104522705, -4.830900192260742, -5.085899829864502, -5.033299922943115, -5.00629997253418, -5.016600131988525, -5.0528998374938965, -5.734399795532227, -6.191400051116943, -6.191299915313721, -6.235599994659424, -6.4604997634887695, -6.6641998291015625, -6.89709997177124, -6.987400054931641, -6.9893999099731445, -7.030399799346924, -7.01800012588501, -6.835299968719482, -6.025599956512451, -7.537899971008301, -7.567599773406982, -7.6244001388549805, -7.739099979400635, -7.744999885559082, -7.781899929046631, -7.832200050354004, -7.839000225067139, -7.884799957275391, -7.967700004577637, -7.98199987411499, -8.016500473022461, -8.177200317382812, -8.203200340270996, -8.301600456237793, -5.197299957275391, -8.354499816894531, -6.317599773406982, -5.432499885559082, -6.665299892425537, -5.786200046539307, -6.701399803161621, -5.364699840545654, -4.61269998550415, -5.13040018081665, -4.482699871063232, -6.293900012969971, -4.472799777984619, -3.557499885559082, -7.338500022888184, -4.362800121307373, -6.479100227355957, -5.408100128173828, -5.874199867248535, -4.4475998878479, -4.3007001876831055, -6.053899765014648, -6.204100131988525, -4.510499954223633, -4.3769001960754395, -4.75540018081665, -4.439199924468994, -5.211299896240234, -5.75439977645874, -4.037099838256836, -4.502799987792969, -5.783999919891357, -4.614999771118164, -4.691800117492676, -5.061800003051758, -4.2916998863220215, -4.4832000732421875, -4.5192999839782715, -4.464600086212158, -4.899700164794922, -4.434700012207031, -5.093299865722656, -4.769000053405762, -4.799499988555908, -4.938799858093262, -5.013500213623047, -5.151199817657471, -5.1570000648498535, -5.477700233459473, -5.961100101470947, -6.370200157165527, -6.505300045013428, -4.144899845123291, -6.59499979019165, -6.721700191497803, -6.764400005340576, -6.86899995803833, -7.086699962615967, -7.180099964141846, -7.262700080871582, -7.361700057983398, -7.413300037384033, -7.442299842834473, -7.470099925994873, -7.602799892425537, -7.605500221252441, -7.6392998695373535, -7.82390022277832, -7.844799995422363, -7.867800235748291, -7.892600059509277, -7.908699989318848, -7.920199871063232, -7.93209981918335, -7.939700126647949, -7.950099945068359, -7.9770002365112305, -7.980400085449219, -4.724299907684326, -6.008699893951416, -6.178599834442139, -4.527500152587891, -6.2947001457214355, -3.4439001083374023, -6.061100006103516, -6.973599910736084, -6.464399814605713, -6.072199821472168, -7.09060001373291, -6.639800071716309, -6.206299781799316, -6.4268999099731445, -4.7210001945495605, -6.419000148773193, -3.881999969482422, -4.8541998863220215, -6.062099933624268, -5.591400146484375, -5.702700138092041, -5.987100124359131, -4.267399787902832, -4.484899997711182, -4.491099834442139, -5.834499835968018, -4.565000057220459, -3.739799976348877, -5.950699806213379, -4.557499885559082, -5.258500099182129, -4.388000011444092, -4.9608001708984375, -5.470699787139893, -4.140600204467773, -4.703100204467773, -4.476500034332275, -4.538599967956543, -4.82450008392334, -5.075399875640869, -4.587100028991699, -4.632599830627441, -4.5121002197265625, -5.188499927520752, -4.8267998695373535, -4.725299835205078, -4.702499866485596, -4.789899826049805, -4.957600116729736, -4.906099796295166, -5.067599773406982, -5.771599769592285, -5.962399959564209, -6.048799991607666, -6.3572001457214355, -6.598499774932861, -7.027200222015381, -7.093299865722656, -7.122000217437744, -7.128799915313721, -7.35890007019043, -7.395299911499023, -7.468200206756592, -7.4934000968933105, -7.509699821472168, -5.716300010681152, -7.571300029754639, -7.583899974822998, -7.585899829864502, -7.610000133514404, -7.61359977722168, -7.63539981842041, -7.705599784851074, -7.7204999923706055, -7.7993998527526855, -7.81879997253418, -7.846199989318848, -7.851900100708008, -7.869699954986572, -7.916800022125244, -7.916800022125244, -5.808599948883057, -5.445700168609619, -5.946599960327148, -7.094600200653076, -5.479899883270264, -7.492000102996826, -7.603400230407715, -6.643400192260742, -4.404699802398682, -6.023399829864502, -7.044600009918213, -5.398099899291992, -5.7779998779296875, -5.757299900054932, -5.138599872589111, -5.901100158691406, -5.609399795532227, -5.5152997970581055, -5.632800102233887, -6.0584001541137695, -4.631700038909912, -4.8404998779296875, -4.954599857330322, -5.380099773406982, -6.089000225067139, -5.246200084686279, -5.524799823760986, -4.4969000816345215, -4.988100051879883, -5.848499774932861, -4.948800086975098, -5.200799942016602, -4.228099822998047, -4.8282999992370605, -5.370800018310547, -4.817299842834473, -5.3125, -5.338600158691406, -5.126100063323975, -4.944499969482422, -5.4375, -5.14870023727417, -5.260799884796143, -5.078000068664551, -5.136000156402588, -5.385000228881836, -5.230500221252441, -5.241099834442139, -5.398900032043457, -5.3105998039245605, -5.4096999168396, -4.980199813842773, -5.276800155639648, -5.486299991607666, -5.556000232696533, -5.647900104522705, -6.155300140380859, -6.170000076293945, -6.188899993896484, -6.392199993133545, -6.42579984664917, -6.486199855804443, -6.59499979019165, -6.608799934387207, -6.668799877166748, -6.765100002288818, -6.767099857330322, -6.953000068664551, -6.980000019073486, -7.015699863433838, -7.038300037384033, -7.03980016708374, -7.066100120544434, -7.114299774169922, -7.162499904632568, -7.203400135040283, -7.209099769592285, -7.226399898529053, -7.3404998779296875, -7.422999858856201, -7.484899997711182, -5.741300106048584, -6.30709981918335, -5.599899768829346, -6.520599842071533, -2.6754000186920166, -5.86359977722168, -4.955599784851074, -5.917600154876709, -6.031799793243408, -6.684599876403809, -6.294300079345703, -4.489699840545654, -5.289000034332275, -5.3520002365112305, -3.841200113296509, -4.912899971008301, -4.617000102996826, -5.097400188446045, -4.979000091552734, -5.071499824523926, -5.341599941253662, -5.132199764251709, -4.112500190734863, -4.5040998458862305, -4.553800106048584, -4.386300086975098, -4.586999893188477, -4.604100227355957, -4.804500102996826, -4.94290018081665, -5.112299919128418, -4.980000019073486, -5.146599769592285, -5.075300216674805, -5.15939998626709, -5.207799911499023, -5.158899784088135, -5.232900142669678, -5.25029993057251, -5.245299816131592, -5.247799873352051, -5.357900142669678, -5.792300224304199, -6.076099872589111, -6.100800037384033, -6.151500225067139, -6.248600006103516, -6.271900177001953, -6.318399906158447, -6.3277997970581055, -6.355199813842773, -6.698599815368652, -6.71999979019165, -6.839099884033203, -6.844299793243408, -6.901700019836426, -6.980800151824951, -7.288000106811523, -5.910399913787842, -7.508699893951416, -7.51800012588501, -7.5493998527526855, -7.600299835205078, -7.603499889373779, -7.680600166320801, -7.703800201416016, -7.749300003051758, -7.764800071716309, -7.786600112915039, -7.790800094604492, -7.880300045013428, -5.117499828338623, -5.456699848175049, -5.087500095367432, -6.977200031280518, -4.901500225067139, -4.914299964904785, -6.752399921417236, -4.823800086975098, -4.468200206756592, -4.391900062561035, -6.7368998527526855, -5.031899929046631, -3.492000102996826, -4.016499996185303, -5.564700126647949, -4.258999824523926, -5.832499980926514, -5.288599967956543, -4.776400089263916, -5.318900108337402, -5.952300071716309, -4.151299953460693, -4.0366997718811035, -5.3470001220703125, -5.165500164031982, -4.7631001472473145, -4.700799942016602, -5.086699962615967, -4.955100059509277, -4.910399913787842, -4.830100059509277, -4.998600006103516, -5.303800106048584, -5.05649995803833, -5.184500217437744, -5.173600196838379, -5.2083001136779785, -5.154099941253662, -5.242199897766113, -5.3007001876831055, -4.66379976272583, -5.43179988861084, -5.628799915313721, -5.6554999351501465, -5.84499979019165, -6.07919979095459, -6.226099967956543, -6.0055999755859375, -6.6570000648498535, -6.690700054168701, -7.016600131988525, -7.028299808502197, -7.069300174713135, -7.069699764251709, -7.083600044250488, -7.411900043487549, -7.442200183868408, -7.52209997177124, -7.546999931335449, -7.605400085449219, -7.610599994659424, -7.621200084686279, -7.655099868774414, -7.747900009155273, -7.758900165557861, -7.7606000900268555, -7.862599849700928, -7.8628997802734375, -7.869500160217285, -7.898399829864502, -5.9197998046875, -5.604899883270264, -7.0640997886657715, -4.842599868774414, -6.374100208282471, -1.9865000247955322, -6.974299907684326, -5.457699775695801, -6.291100025177002, -6.9166998863220215, -6.78980016708374, -5.582499980926514, -3.9844000339508057, -5.55649995803833, -3.652100086212158, -4.986199855804443, -3.635999917984009, -5.38700008392334, -5.6554999351501465, -6.189000129699707, -3.924999952316284, -5.6732001304626465, -5.392899990081787, -4.139900207519531, -4.372300148010254, -5.114999771118164, -4.21120023727417, -5.299699783325195, -4.236700057983398, -4.582799911499023, -5.300600051879883, -4.4969000816345215, -4.267600059509277, -4.755499839782715, -4.768799781799316, -4.975900173187256, -4.606599807739258, -4.849599838256836, -4.968400001525879, -4.938700199127197, -5.3796000480651855, -5.046000003814697, -5.109000205993652, -5.217100143432617, -5.253499984741211, -5.2469000816345215, -5.284599781036377]}, \"token.table\": {\"Topic\": [1, 1, 2, 3, 4, 5, 6, 7, 8, 9, 1, 2, 3, 4, 5, 6, 7, 8, 9, 1, 2, 4, 6, 7, 1, 2, 3, 4, 5, 6, 7, 8, 1, 2, 3, 4, 5, 6, 7, 8, 9, 7, 8, 1, 4, 5, 6, 7, 9, 2, 4, 8, 1, 2, 7, 8, 8, 8, 1, 2, 3, 5, 6, 7, 3, 2, 5, 8, 1, 6, 1, 2, 3, 4, 5, 6, 7, 8, 9, 1, 4, 7, 9, 1, 2, 3, 4, 5, 6, 7, 8, 9, 3, 4, 3, 3, 6, 8, 5, 9, 5, 3, 5, 5, 1, 3, 5, 7, 9, 1, 2, 3, 5, 6, 7, 9, 1, 7, 3, 5, 8, 2, 2, 3, 1, 2, 3, 5, 6, 7, 8, 7, 1, 4, 6, 7, 8, 9, 6, 1, 2, 3, 4, 5, 6, 7, 8, 9, 4, 5, 9, 2, 6, 7, 3, 4, 5, 1, 2, 3, 4, 9, 6, 8, 6, 5, 7, 3, 2, 4, 1, 2, 3, 4, 5, 6, 7, 8, 9, 4, 7, 1, 2, 3, 5, 8, 9, 5, 3, 2, 8, 2, 2, 8, 1, 2, 6, 8, 1, 2, 3, 4, 5, 6, 7, 8, 9, 6, 8, 2, 5, 4, 7, 2, 5, 1, 2, 3, 4, 5, 6, 7, 8, 9, 1, 4, 6, 7, 8, 2, 5, 6, 7, 2, 9, 5, 9, 6, 7, 7, 7, 4, 7, 9, 6, 7, 2, 6, 8, 1, 2, 3, 4, 6, 8, 1, 6, 1, 2, 5, 7, 8, 9, 9, 5, 5, 2, 3, 5, 6, 7, 8, 9, 2, 3, 5, 6, 7, 9, 9, 2, 4, 6, 1, 2, 6, 8, 6, 1, 2, 3, 4, 6, 7, 8, 9, 1, 2, 3, 6, 7, 2, 1, 3, 6, 7, 1, 3, 4, 5, 7, 9, 1, 4, 6, 7, 1, 2, 3, 4, 5, 6, 7, 8, 9, 1, 2, 3, 5, 6, 7, 8, 9, 1, 5, 6, 7, 1, 4, 5, 7, 8, 1, 2, 3, 4, 5, 6, 7, 8, 9, 1, 2, 3, 6, 8, 9, 4, 5, 6, 7, 8, 6, 8, 6, 6, 8, 1, 1, 2, 3, 4, 5, 6, 7, 8, 9, 1, 2, 3, 4, 8, 9, 3, 8, 1, 2, 3, 4, 5, 6, 7, 8, 9, 1, 7, 2, 7, 1, 5, 7, 8, 9, 1, 2, 3, 4, 5, 6, 7, 8, 9, 2, 3, 4, 5, 7, 9, 5, 9, 9, 9, 3, 4, 5, 9, 6, 7, 1, 2, 3, 4, 5, 6, 7, 8, 9, 1, 3, 6, 8, 9, 1, 2, 3, 4, 5, 6, 7, 8, 2, 3, 1, 2, 3, 4, 5, 6, 7, 8, 9, 1, 2, 3, 4, 5, 7, 9, 2, 4, 3, 4, 8, 4, 6, 7, 9, 3, 5, 9, 4, 7, 2, 5, 6, 7, 8, 6, 8, 9, 1, 2, 3, 4, 5, 6, 7, 8, 9, 4, 5, 7, 1, 2, 3, 4, 5, 6, 7, 8, 9, 4, 5, 5, 1, 3, 4, 5, 6, 7, 9, 7, 1, 2, 3, 4, 5, 6, 7, 8, 9, 8, 7, 7, 1, 3, 4, 5, 6, 7, 8, 9, 5, 5, 1, 3, 9, 1, 9, 4, 5, 6, 7, 8, 9, 8, 1, 2, 3, 4, 5, 6, 7, 8, 9, 4, 3, 5, 5, 4, 5, 6, 7, 1, 3, 7, 9, 3, 1, 2, 3, 4, 6, 7, 8, 1, 2, 3, 4, 5, 6, 8, 9, 1, 2, 3, 4, 5, 6, 7, 9, 1, 2, 3, 4, 5, 6, 7, 8, 9, 1, 2, 3, 4, 5, 7, 9, 8, 1, 2, 3, 4, 5, 6, 7, 8, 9, 4, 6, 7, 1, 4, 6, 9, 9, 9, 8, 1, 2, 3, 4, 5, 6, 7, 8, 9, 1, 2, 3, 4, 5, 6, 7, 8, 9, 2, 9, 7, 1, 2, 4, 6, 7, 9, 1, 2, 5, 6, 7, 8, 2, 6, 2, 1, 2, 3, 4, 5, 6, 7, 8, 9, 1, 2, 5, 6, 9, 1, 2, 3, 4, 5, 6, 7, 8, 2, 2, 7, 1, 2, 3, 5, 6, 7, 8, 9, 2, 4, 1, 2, 3, 5, 6, 8, 9, 3, 1, 2, 3, 5, 7, 9, 2, 3, 4, 6, 8, 9, 3, 2, 3, 8, 1, 2, 3, 4, 5, 6, 7, 8, 9, 1, 2, 5, 6, 8, 6, 1, 7, 1, 2, 3, 4, 5, 6, 7, 8, 5, 6, 8, 1, 6, 8, 3, 6, 8, 7, 1, 2, 3, 4, 5, 6, 8, 9, 1, 2, 3, 4, 5, 6, 7, 8, 9, 1, 2, 3, 4, 5, 6, 8, 5, 9, 1, 9, 1, 2, 3, 4, 5, 6, 7, 8, 9, 6, 1, 3, 4, 6, 7, 6, 1, 8, 9, 2, 4, 7, 8, 1, 2, 3, 4, 5, 6, 7, 8, 9, 4, 3, 5, 1, 2, 3, 4, 5, 6, 7, 8, 9, 9, 1, 1, 3, 6, 8, 6, 9, 5, 7, 5, 7, 1, 2, 3, 4, 5, 6, 7, 8, 9, 7, 7, 8, 1, 1, 2, 3, 4, 5, 6, 7, 8, 9, 1, 2, 3, 4, 5, 6, 7, 8, 9, 4, 6, 7, 1, 2, 3, 4, 5, 6, 7, 8, 9, 8, 1, 2, 3, 4, 5, 6, 7, 8, 9, 1, 2, 3, 4, 6, 7, 8, 9, 9, 1, 2, 4, 5, 7, 9, 1, 2, 3, 4, 5, 7, 8, 9, 4, 5, 6, 1, 2, 3, 4, 5, 6, 7, 8, 9, 1, 2, 7, 8, 9, 7, 5, 8, 9, 7, 1, 2, 3, 4, 5, 6, 7, 8, 9, 3, 3, 5, 3, 5, 9, 3, 5, 3, 2, 3, 3, 5, 9, 3, 3, 5, 5, 9, 9, 1, 3, 5, 6, 3, 1, 6, 5, 6, 5, 4, 4, 8, 1, 2, 3, 5, 6, 7, 8, 9, 1, 2, 4, 5, 6, 7, 8, 1, 2, 3, 5, 6, 7, 8, 1, 2, 3, 4, 5, 6, 7, 8, 9, 6, 7, 1, 2, 3, 4, 5, 6, 7, 8, 9, 5, 2, 3, 4, 5, 6, 7, 8, 9, 3, 3, 4, 5, 7, 9, 1, 2, 3, 4, 5, 6, 7, 8, 9, 8, 1, 2, 3, 4, 5, 6, 7, 8, 9, 1, 2, 4, 6, 9, 1, 2, 6, 8, 2, 9, 6, 2, 3, 4, 6, 8, 9, 1, 2, 5, 6, 7, 3, 5, 6, 7, 9, 4, 7, 8, 1, 2, 3, 4, 5, 6, 7, 8, 9, 8, 9, 3, 5, 1, 3, 4, 5, 6, 7, 8, 9, 9, 3, 5, 2, 1, 7, 1, 2, 3, 5, 6, 7, 8, 2, 3, 4, 5, 6, 7, 8, 8, 1, 2, 3, 5, 6, 7, 8, 9, 1, 4, 5, 6, 7, 8, 9, 4, 5, 1, 5, 1, 2, 3, 4, 5, 6, 7, 8, 9, 3, 1, 4, 7, 8, 1, 2, 3, 5, 4, 2, 4, 5, 7, 7, 4, 3, 5, 9, 1, 6, 9, 1, 2, 3, 4, 5, 6, 7, 8, 6, 9, 6, 5, 5, 1, 2, 3, 4, 5, 6, 7, 8, 9, 1, 2, 4, 6, 7, 8, 9, 1, 2, 5, 7, 1, 2, 3, 4, 5, 6, 7, 8, 9, 1, 2, 3, 6, 8, 3, 4, 1, 2, 3, 7, 5, 1, 2, 3, 4, 5, 7, 8, 9, 3, 4, 5, 7, 6, 6, 5, 7, 4, 1, 3, 6, 7, 1, 2, 4, 6, 8, 1, 1, 1, 2, 3, 4, 5, 6, 7, 8, 9, 4, 1, 2, 3, 4, 5, 6, 7, 8, 9, 1, 6, 8, 9, 8, 8, 8, 9, 2, 3, 5, 6, 8, 9, 2, 7, 8, 1, 2, 3, 4, 5, 6, 7, 8, 9, 6, 1, 2, 3, 4, 5, 7, 8, 9, 6, 1, 1, 2, 1, 1, 2, 4, 6, 7, 9, 7, 9, 1, 1, 2, 3, 4, 7, 8, 4, 1, 2, 4, 6, 7, 8, 1, 2, 3, 4, 5, 6, 7, 8, 9, 7, 8, 9, 1, 2, 3, 4, 5, 6, 7, 8, 9, 1, 2, 3, 4, 5, 6, 7, 8, 9, 1, 2, 3, 4, 5, 6, 7, 8, 9, 1, 2, 3, 4, 5, 6, 7, 8, 9, 1, 2, 3, 4, 5, 6, 7, 8, 9, 1, 3, 5, 6, 9, 1, 2, 3, 4, 5, 6, 7, 8, 9, 2, 4, 6, 7, 2, 3, 6, 1, 2, 3, 4, 5, 6, 7, 8, 9, 5, 9, 3, 5, 7, 9, 9, 9, 4, 1, 2, 3, 4, 5, 6, 7, 8, 9, 3, 4, 9, 5, 4, 5, 3, 3, 1, 2, 6, 1, 2, 3, 4, 6, 1, 2, 5, 6, 8, 5, 3, 1, 2, 3, 5, 6, 7, 9, 1, 2, 3, 4, 5, 6, 7, 8, 9, 1, 2, 3, 4, 5, 6, 7, 8, 9, 6, 1, 3, 4, 6, 7, 8, 9, 1, 2, 3, 4, 5, 6, 7, 8, 9, 1, 2, 3, 4, 5, 6, 7, 8, 9, 6, 1, 2, 3, 4, 6, 7, 9, 1, 2, 3, 4, 5, 6, 7, 8, 9, 1, 2, 3, 4, 5, 6, 7, 8, 9, 3, 5, 4, 1, 2, 8, 1, 2, 7, 8, 1, 2, 3, 4, 5, 6, 7, 8, 9, 4, 5, 6, 7, 8, 4, 7, 8, 6, 7, 7, 1, 2, 6, 8, 9, 3, 8, 4, 6, 1, 2, 3, 5, 7, 8, 9, 4, 1, 3, 4, 6, 7, 8, 9, 6, 7, 7, 6, 7, 9, 1, 3, 4, 6, 7, 1, 3, 4, 5, 7, 8, 9, 3, 7, 2, 3, 4, 5, 6, 7, 3, 5, 8, 8, 2, 3, 4, 5, 9, 5, 2, 2, 3, 4, 5, 9, 7, 6, 8, 8, 8, 2, 2, 1, 1, 5, 7, 9, 4, 3, 5, 7, 2, 7, 8, 1, 2, 3, 4, 5, 6, 7, 8, 9, 5, 1, 2, 3, 4, 5, 7, 8, 9, 5, 5, 9, 1, 2, 4, 5, 6, 7, 8, 9, 3, 5, 3, 4, 5, 9, 1, 5, 1, 4, 9, 9, 9, 2, 3, 4, 5, 9, 1, 2, 3, 1, 2, 3, 5, 7, 8, 9, 8, 4, 6, 9, 1, 2, 3, 4, 5, 6, 7, 4, 5, 6, 7, 9, 1, 2, 3, 4, 5, 7, 8, 9, 1, 2, 3, 4, 5, 6, 7, 8, 9, 3, 1, 2, 3, 4, 5, 6, 7, 8, 2, 4, 1, 2, 3, 4, 5, 6, 7, 9, 9, 5, 9, 1, 2, 3, 4, 6, 7, 8, 9, 6, 8, 2, 3, 1, 2, 3, 4, 5, 6, 7, 8, 9, 4, 6, 1, 4, 9, 5, 1, 3, 4, 5, 6, 7, 8, 9, 7, 5, 9, 1, 4, 1, 2, 3, 4, 5, 6, 7, 8, 9, 1, 6, 8, 1, 2, 3, 4, 5, 6, 7, 8, 9, 1, 2, 5, 6, 7, 8, 9, 6, 1, 3, 4, 5, 6, 8, 9, 3, 1, 1, 2, 3, 4, 5, 6, 7, 8, 9, 1, 7, 1, 2, 3, 4, 5, 6, 7, 8, 9, 1, 2, 2, 9, 1, 3, 4, 5, 7, 9, 2, 1, 2, 3, 4, 7, 8, 9, 1, 2, 4, 5, 6, 8, 9, 2, 9, 4, 3, 6, 7, 1, 2, 3, 4, 6, 7, 2, 6, 7, 1, 2, 3, 4, 5, 7, 1, 2, 4, 6, 7, 3, 4, 6, 8, 9, 5, 1, 4, 4, 5, 4, 4, 7, 4, 3, 7, 4, 1, 2, 3, 4, 8, 6, 9, 2, 3, 2, 3, 4, 5, 7, 8, 3, 2, 3, 4, 5, 7, 8, 6, 3, 4, 5, 7, 8, 4, 6, 7, 2, 1, 2, 3, 4, 6, 7, 8, 8, 1, 4, 7, 3, 1, 2, 3, 4, 5, 6, 7, 8, 9, 3, 5, 7, 9], \"Freq\": [0.9990181922912598, 0.48853182792663574, 0.06079689785838127, 0.0881657749414444, 0.14069552719593048, 0.024750089272856712, 0.07471240311861038, 0.043030235916376114, 0.05627821013331413, 0.023004231974482536, 0.0393623448908329, 0.14712482690811157, 0.053881242871284485, 0.20874947309494019, 0.001935852924361825, 0.034200068563222885, 0.36490827798843384, 0.04387933388352394, 0.10550398379564285, 0.0014558655675500631, 0.02766144648194313, 0.10918992012739182, 0.7949026226997375, 0.06842568516731262, 0.28854063153266907, 0.19838759303092957, 0.039983123540878296, 0.06774210929870605, 0.0015280174557119608, 0.28548458218574524, 0.014516165480017662, 0.10390518605709076, 0.3543985188007355, 0.0637892335653305, 0.02908589504659176, 0.3094589412212372, 0.00836375541985035, 0.08064157515764236, 0.13094894587993622, 0.017476502805948257, 0.005867111962288618, 0.037571899592876434, 0.9580833911895752, 0.12645089626312256, 0.6702757477760315, 0.09720374643802643, 0.031483691185712814, 0.04782768338918686, 0.026494473218917847, 0.996799111366272, 0.015268228016793728, 0.9838464856147766, 0.022700661793351173, 0.9723449945449829, 0.0037834434770047665, 0.9980050325393677, 0.987419843673706, 0.9961268305778503, 0.34757235646247864, 0.1719246506690979, 0.40727394819259644, 0.07313113659620285, 0.17115825414657593, 0.8260246515274048, 0.9984906315803528, 0.9971333146095276, 0.9487072229385376, 0.04928349331021309, 0.9889693856239319, 0.9921468496322632, 0.4645669460296631, 0.0008070069015957415, 0.04156085476279259, 0.04075384885072708, 0.005918050650507212, 0.05084143206477165, 0.1460682451725006, 0.012777608819305897, 0.2365875095129013, 0.3400093913078308, 0.13129355013370514, 0.04964052513241768, 0.47905927896499634, 0.23858892917633057, 0.02868902124464512, 0.04181789606809616, 0.03338948264718056, 0.02560940943658352, 0.017667250707745552, 0.0423041507601738, 0.1277228742837906, 0.44411253929138184, 0.9171534776687622, 0.08208777010440826, 0.9997647404670715, 0.9978429079055786, 0.012210791930556297, 0.982968807220459, 0.9888964295387268, 0.010318919084966183, 0.9966524243354797, 0.6910989284515381, 0.30865299701690674, 0.9949849843978882, 0.051346492022275925, 0.06103106215596199, 0.4791121184825897, 0.011694574728608131, 0.39688462018966675, 0.12027900665998459, 0.0018997670849785209, 0.14877551794052124, 0.5724235773086548, 0.0007124126423150301, 0.10424972325563431, 0.05164991691708565, 0.9926857948303223, 0.9959906339645386, 0.9878976345062256, 0.9857481122016907, 0.9932686686515808, 0.9927421808242798, 0.9930580854415894, 0.999431848526001, 0.41556671261787415, 0.03400450944900513, 0.006721821613609791, 0.012257439084351063, 0.06365960091352463, 0.4357321858406067, 0.03202750161290169, 0.9931662082672119, 0.10618607699871063, 0.008116133511066437, 0.2664797008037567, 0.5775981545448303, 0.018937643617391586, 0.022319365292787552, 0.9902482032775879, 0.02177547477185726, 0.003008453641086817, 0.5201759934425354, 0.03481210768222809, 0.3515593111515045, 0.02678956463932991, 0.022061994299292564, 0.005587128456681967, 0.014325969852507114, 0.9951614737510681, 0.9974070191383362, 0.0024215439334511757, 0.9461092948913574, 0.03430549055337906, 0.018055520951747894, 0.0168769471347332, 0.013041278347373009, 0.9696573615074158, 0.9002989530563354, 0.028281642124056816, 0.06834730505943298, 0.9951979517936707, 0.003713425248861313, 0.9905915260314941, 0.9952293038368225, 0.9882175326347351, 0.9508149027824402, 0.0466085746884346, 0.9919159412384033, 0.9926903247833252, 0.006827306002378464, 0.2114235758781433, 0.3108697831630707, 0.1539086550474167, 0.04080668091773987, 0.14941027760505676, 0.005462311208248138, 0.0329345241189003, 0.07582973688840866, 0.019118089228868484, 0.9938262104988098, 0.9945138692855835, 0.013488583266735077, 0.26837629079818726, 0.07581514120101929, 0.25023648142814636, 0.023721301928162575, 0.3688429892063141, 0.985322892665863, 0.997323751449585, 0.05600348487496376, 0.9438453912734985, 0.9943695068359375, 0.9970858693122864, 0.9885426759719849, 0.8680137395858765, 0.016074327751994133, 0.04524625837802887, 0.07025077193975449, 0.09282431751489639, 0.23713020980358124, 0.21370264887809753, 0.015257444232702255, 0.28615090250968933, 0.05187530815601349, 0.006595153361558914, 0.048331644386053085, 0.04813477396965027, 0.03973964974284172, 0.9597499966621399, 0.998386800289154, 0.9978882670402527, 0.970490038394928, 0.022465046495199203, 0.9809361100196838, 0.018508227542042732, 0.5587424039840698, 0.13602645695209503, 0.010071059688925743, 0.19792990386486053, 0.0010742463637143373, 0.010608183220028877, 0.032495953142642975, 0.04511835053563118, 0.00805684830993414, 0.07337283343076706, 0.06451749056577682, 0.01771068386733532, 0.00885534193366766, 0.8336672186851501, 0.15606838464736938, 0.04167735204100609, 0.7581731081008911, 0.04256410524249077, 0.9829105734825134, 0.01585339568555355, 0.9862929582595825, 0.012201562523841858, 0.9942265152931213, 0.9950765371322632, 0.9930896162986755, 0.9977189302444458, 0.9991729259490967, 0.9924479722976685, 0.9923354387283325, 0.20474109053611755, 0.795171856880188, 0.04214070364832878, 0.9536285400390625, 0.004682300612330437, 0.1309468299150467, 0.7185673117637634, 0.015445712022483349, 0.06355978548526764, 0.016812589019536972, 0.054675087332725525, 0.2171502262353897, 0.7817407846450806, 0.0051130675710737705, 0.01150440238416195, 0.9551210403442383, 0.023264458402991295, 0.004473934415727854, 0.0006391334463842213, 0.9833506941795349, 0.9960839152336121, 0.9887251257896423, 0.9994862079620361, 0.7145724892616272, 0.07765141129493713, 0.12074120342731476, 0.003141964552924037, 0.00718163326382637, 0.0763048529624939, 0.021370932459831238, 0.7902424931526184, 0.12051278352737427, 0.012211961671710014, 0.008998287841677666, 0.046598274260759354, 0.9917600750923157, 0.9930319786071777, 0.0021053680684417486, 0.004561631008982658, 0.000579472747631371, 0.8031492233276367, 0.14834502339363098, 0.04751676693558693, 0.9932073354721069, 0.41020506620407104, 0.025652943179011345, 0.05275793746113777, 0.06413235515356064, 0.4007667303085327, 0.03194517269730568, 0.014520533382892609, 0.00024200888583436608, 0.14430862665176392, 0.018836745992302895, 0.002554135164245963, 0.4108964800834656, 0.4230286180973053, 0.9897757768630981, 0.20657646656036377, 0.0013864192878827453, 0.7348021864891052, 0.058229610323905945, 0.20127882063388824, 0.0010633597848936915, 0.5558333396911621, 0.19368340075016022, 0.038888588547706604, 0.00926642119884491, 0.9184723496437073, 0.020297730341553688, 0.027909379452466965, 0.03298381343483925, 0.03127652779221535, 0.2978861629962921, 0.11083430051803589, 0.09413324296474457, 0.020041270181536674, 0.3297699987888336, 0.00910966843366623, 0.09170399606227875, 0.015182781033217907, 0.24869507551193237, 0.5015698671340942, 0.0002612343232613057, 0.08059078454971313, 0.004571600817143917, 0.008359498344361782, 0.0009143201168626547, 0.1551731824874878, 0.020165620371699333, 0.7224036455154419, 0.15776631236076355, 0.09964188188314438, 0.04221527278423309, 0.0045084273442626, 0.058199696242809296, 0.021312564611434937, 0.8734053373336792, 0.17463229596614838, 0.00040754329529590905, 0.13204403221607208, 0.04727502167224884, 0.053999487310647964, 0.2151828557252884, 0.36312106251716614, 0.007539550773799419, 0.005705606192350388, 0.11189372837543488, 0.07883421331644058, 0.03221182897686958, 0.013562875799834728, 0.1000262126326561, 0.6637332439422607, 0.0577080175280571, 0.029728371649980545, 0.09792875498533249, 0.031477101147174835, 0.7834300398826599, 0.9985601902008057, 0.9967109560966492, 0.9965716004371643, 0.9742621779441833, 0.025109849870204926, 0.9850163459777832, 0.26699474453926086, 0.11678077280521393, 0.186825692653656, 0.06663096696138382, 0.055211879312992096, 0.016245713457465172, 0.01236086804419756, 0.17305216193199158, 0.10595030337572098, 0.05406613275408745, 0.2024150788784027, 0.03488996997475624, 0.057794831693172455, 0.6479945778846741, 0.0026633564848452806, 0.9201843738555908, 0.07951704412698746, 0.35006511211395264, 0.12309540808200836, 0.05980641767382622, 0.24290916323661804, 0.016408255323767662, 0.058466967195272446, 0.04647889733314514, 0.09208714962005615, 0.010715595446527004, 0.9927026033401489, 0.9993456602096558, 0.1227734237909317, 0.8756633996963501, 0.16061808168888092, 0.05436304211616516, 0.017297331243753433, 0.023474950343370438, 0.7437852621078491, 0.039991967380046844, 0.00961921364068985, 0.008456450887024403, 0.03925202786922455, 0.027518702670931816, 0.009760154411196709, 0.03340298309922218, 0.00035235212999396026, 0.831621527671814, 0.019090848043560982, 0.23309525847434998, 0.04552433267235756, 0.1005273312330246, 0.005874107126146555, 0.5956878662109375, 0.0626295953989029, 0.9346262216567993, 0.9913830161094666, 0.9966240525245667, 0.8536861538887024, 0.02373289316892624, 0.05654012784361839, 0.06561446934938431, 0.045778900384902954, 0.9542039632797241, 0.7132619023323059, 0.00988045334815979, 0.04219220578670502, 0.0008011177997104824, 0.09025927633047104, 0.01014749240130186, 0.06302126497030258, 0.04219220578670502, 0.028306161984801292, 0.9213679432868958, 0.018351422622799873, 0.0006328076706267893, 0.053788650780916214, 0.005695268977433443, 0.6747406721115112, 0.07595829665660858, 0.023986829444766045, 0.0035536044742912054, 0.20122285187244415, 0.017323821783065796, 0.00022210027964320034, 0.0031094038859009743, 0.9859621524810791, 0.011987381614744663, 0.5737984776496887, 0.01115824282169342, 0.08926594257354736, 0.07432524859905243, 0.06108665093779564, 0.037635430693626404, 0.0788641944527626, 0.06581471860408783, 0.00794315617531538, 0.14060147106647491, 0.003890159074217081, 0.10892445594072342, 0.19561943411827087, 0.48867806792259216, 0.05390648916363716, 0.007965563796460629, 0.010744284838438034, 0.9890114665031433, 0.04082585871219635, 0.9342475533485413, 0.02421068400144577, 0.04703371599316597, 0.01741989515721798, 0.8918986320495605, 0.04006575793027878, 0.014680810272693634, 0.9836142659187317, 0.00142072350718081, 0.9960509538650513, 0.9956263899803162, 0.09095332026481628, 0.027467384934425354, 0.020989228039979935, 0.05700778216123581, 0.8035506010055542, 0.0178256593644619, 0.023767545819282532, 0.9566437005996704, 0.3332793116569519, 0.1322786509990692, 0.07523488253355026, 0.0547979436814785, 0.02245817519724369, 0.24052704870700836, 0.05592085421085358, 0.07927735894918442, 0.006063707172870636, 0.9730145335197449, 0.006687385030090809, 0.020062156021595, 0.10065524280071259, 0.009960674680769444, 0.05504583567380905, 0.09593702852725983, 0.5158581137657166, 0.18243762850761414, 0.0068151988089084625, 0.024115318432450294, 0.008912183344364166, 0.8997603058815002, 0.09860387444496155, 0.9995467066764832, 0.49135246872901917, 0.11114808917045593, 0.13128091394901276, 0.0028761192224919796, 0.17330937087535858, 0.058914054185152054, 0.031080642715096474, 0.9993252158164978, 0.30578094720840454, 0.35484951734542847, 0.11130186915397644, 0.03799821808934212, 0.07315404713153839, 0.003889581421390176, 0.011668744497001171, 0.10038112103939056, 0.0008975957171060145, 0.9957975745201111, 0.9978137016296387, 0.9947153329849243, 0.3022751212120056, 0.07119453698396683, 0.23258893191814423, 0.00030167176737450063, 0.30649852752685547, 0.07059119641780853, 0.009351824410259724, 0.0072401221841573715, 0.9946900010108948, 0.9900778532028198, 0.9914156794548035, 0.9842658638954163, 0.01371799036860466, 0.03287554532289505, 0.9632534980773926, 0.0358002632856369, 0.02179146558046341, 0.032687198370695114, 0.05136559531092644, 0.7860492467880249, 0.07315705716609955, 0.9946272969245911, 0.5532270669937134, 0.10126619786024094, 0.0571545846760273, 0.1266193836927414, 0.005715458653867245, 0.03282724693417549, 0.05407702922821045, 0.05480978265404701, 0.014361920766532421, 0.9849048852920532, 0.9939190149307251, 0.9974820613861084, 0.9929958581924438, 0.013459480367600918, 0.008652523159980774, 0.9690825343132019, 0.007691131439059973, 0.9736514091491699, 0.00889179389923811, 0.00889179389923811, 0.013337690383195877, 0.9954493641853333, 0.0869450643658638, 0.7810564637184143, 0.033328939229249954, 0.03912527859210968, 0.020287180319428444, 0.0014490843750536442, 0.037676192820072174, 0.19736845791339874, 0.05189820006489754, 0.4858499765396118, 0.1700604259967804, 0.022778261452913284, 0.0016824852209538221, 0.03157895430922508, 0.038826581090688705, 0.013706713914871216, 0.06972076743841171, 0.2142888307571411, 0.08245613425970078, 0.29992881417274475, 0.18374551832675934, 0.12109395861625671, 0.01505579985678196, 0.6370708346366882, 0.01103520393371582, 0.030134595930576324, 0.11215587705373764, 0.003183231921866536, 0.07385098189115524, 0.08456785976886749, 0.04191255569458008, 0.006260356400161982, 0.21344293653964996, 0.10973703116178513, 0.08649513870477676, 0.12797750532627106, 0.27640199661254883, 0.1213579773902893, 0.06457715481519699, 0.9812567234039307, 0.17470331490039825, 0.11154605448246002, 0.15571530163288116, 0.2558957636356354, 0.15489861369132996, 0.036274585872888565, 0.046210963279008865, 0.030625823885202408, 0.03416480869054794, 0.01819414645433426, 0.9279015064239502, 0.05458243936300278, 0.9966078996658325, 0.4430752992630005, 0.5566727519035339, 0.9820042848587036, 0.9836616516113281, 0.9997055530548096, 0.986796498298645, 0.3705265522003174, 0.1602027714252472, 0.08845488727092743, 0.16635258495807648, 0.021216873079538345, 0.054835882037878036, 0.013529600575566292, 0.07092790305614471, 0.053913407027721405, 0.5404548645019531, 0.14149798452854156, 0.060228995978832245, 0.030837247148156166, 0.002248549135401845, 0.011563967913389206, 0.06954441219568253, 0.13796456158161163, 0.005621373187750578, 0.021148648113012314, 0.9770675301551819, 0.9955987930297852, 0.9063055515289307, 0.027539672330021858, 0.02002885192632675, 0.006509377155452967, 0.03605193644762039, 0.0030043278820812702, 0.02404254861176014, 0.019881337881088257, 0.019881337881088257, 0.004161210265010595, 0.01895662397146225, 0.912692129611969, 0.9972566366195679, 0.9946512579917908, 0.997485339641571, 0.18137137591838837, 0.09321776032447815, 0.10315848886966705, 0.16205260157585144, 0.03732461482286453, 0.10184556245803833, 0.10278336703777313, 0.16055211424827576, 0.05776875093579292, 0.28415435552597046, 0.07531802356243134, 0.10955348610877991, 0.025432059541344643, 0.5052176713943481, 0.07812795788049698, 0.6640876531600952, 0.03495198115706444, 0.06620316207408905, 0.1159583330154419, 0.02631678618490696, 0.005756796803325415, 0.008223995566368103, 0.9911078214645386, 0.9863031506538391, 0.9964956045150757, 0.11474835872650146, 0.0152997812256217, 0.15427279472351074, 0.008924872614443302, 0.593504011631012, 0.004462436307221651, 0.05864915996789932, 0.0490867979824543, 0.9940924048423767, 0.0055381194688379765, 0.01671546697616577, 0.1718558967113495, 0.035520367324352264, 0.03865451738238335, 0.7156308889389038, 0.018282542005181313, 0.003134150058031082, 0.9945067763328552, 0.049524661153554916, 0.006008506752550602, 0.7712737321853638, 0.09358704090118408, 0.065365269780159, 0.01401984877884388, 0.05796371027827263, 0.906684398651123, 0.004241247195750475, 0.0070687453262507915, 0.020734986290335655, 0.0037699975073337555, 0.9983314275741577, 0.9520716667175293, 0.00976483803242445, 0.03661813959479332, 0.575197696685791, 0.006563963368535042, 0.08622292429208755, 0.030145609751343727, 0.01734182983636856, 0.033468108624219894, 0.02414890192449093, 0.025283414870500565, 0.20153798162937164, 0.041966214776039124, 0.00633452320471406, 0.22566738724708557, 0.038007140159606934, 0.6880875825881958, 0.994724690914154, 0.9987844824790955, 0.9892226457595825, 0.053090643137693405, 0.21332785487174988, 0.0299238171428442, 0.018340403214097023, 0.014479266479611397, 0.6496363878250122, 0.007722275331616402, 0.012548697181046009, 0.9835147261619568, 0.994023323059082, 0.9852950572967529, 0.010702389292418957, 0.00668899342417717, 0.9832820296287537, 0.019165435805916786, 0.010951677337288857, 0.9701361060142517, 0.9926506280899048, 0.015467488206923008, 0.606895387172699, 0.13676515221595764, 0.06838257610797882, 0.04233207181096077, 0.032156094908714294, 0.06756849586963654, 0.030934976413846016, 0.17402102053165436, 0.5270889401435852, 0.002984114922583103, 0.09486344456672668, 0.016962338238954544, 0.031882911920547485, 0.044133491814136505, 0.10742814093828201, 0.0006282347603701055, 0.0029613703954964876, 0.6886831521987915, 0.07699562609195709, 0.06284686177968979, 0.03619452565908432, 0.02105863392353058, 0.11121591180562973, 0.1464090645313263, 0.8528908491134644, 0.024613147601485252, 0.9737576246261597, 0.0918840691447258, 0.08476775884628296, 0.24781489372253418, 0.10130270570516586, 0.3060011565685272, 0.024279160425066948, 0.025116372853517532, 0.025744283571839333, 0.09293058514595032, 0.9865344762802124, 0.9858631491661072, 0.011621640995144844, 0.9108461141586304, 0.02469598688185215, 0.05302373692393303, 0.9950847029685974, 0.9836884140968323, 0.015939395874738693, 0.9930423498153687, 0.9439555406570435, 0.018044551834464073, 0.030450180172920227, 0.006766706705093384, 0.10603038221597672, 0.46470800042152405, 0.0533662848174572, 0.27076366543769836, 0.017414260655641556, 0.0011235007550567389, 0.01923995092511177, 0.05659634992480278, 0.010813694447278976, 0.9956743121147156, 0.9811840057373047, 0.016184478998184204, 0.23916330933570862, 0.1772184818983078, 0.16252584755420685, 0.11826657503843307, 0.1335940659046173, 0.061309974640607834, 0.026755092665553093, 0.05949607118964195, 0.021676158532500267, 0.9969378113746643, 0.9869339466094971, 0.9948809146881104, 0.8717969655990601, 0.009671282023191452, 0.11812780052423477, 0.9899991750717163, 0.9923338890075684, 0.9824122786521912, 0.013457702472805977, 0.13040375709533691, 0.8686896562576294, 0.6239205598831177, 0.01598033867776394, 0.025946570560336113, 0.10447361320257187, 0.002921137260273099, 0.022509939968585968, 0.12165677547454834, 0.043473392724990845, 0.039177604019641876, 0.9906633496284485, 0.006373848766088486, 0.9921958446502686, 0.9960732460021973, 0.4375585913658142, 0.0035359670873731375, 0.10822832584381104, 0.1147456020116806, 0.1651504635810852, 0.004922620952129364, 0.08590320497751236, 0.017194507643580437, 0.06281541287899017, 0.5422319769859314, 0.10336648672819138, 0.08873763680458069, 0.03729552775621414, 0.08069980889558792, 0.043082766234874725, 0.05321042984724045, 0.03311585634946823, 0.018487008288502693, 0.57392817735672, 0.019742000848054886, 0.40565112233161926, 0.3156057894229889, 0.1281316876411438, 0.08774958550930023, 0.15860122442245483, 0.06213655322790146, 0.08222781121730804, 0.06293488293886185, 0.06486417353153229, 0.03772101178765297, 0.9950878024101257, 0.17505057156085968, 0.3971154987812042, 0.05175643786787987, 0.03671726584434509, 0.050537046045064926, 0.16421152651309967, 0.049453143030405045, 0.05880181863903999, 0.016394054517149925, 0.2717353403568268, 0.18709373474121094, 0.01265046652406454, 0.07823314517736435, 0.07881573587656021, 0.32208752632141113, 0.009404622949659824, 0.03994883969426155, 0.9982830882072449, 0.11329830437898636, 0.00017457365174777806, 0.35665398836135864, 0.4250868558883667, 0.10369674861431122, 0.0010474419686943293, 0.07083701342344284, 0.6988900899887085, 0.04134353622794151, 0.017906755208969116, 0.06083029881119728, 0.013430066406726837, 0.09638047218322754, 0.0007900038617663085, 0.9339656829833984, 0.009613936766982079, 0.05598704516887665, 0.2561013102531433, 0.016027646139264107, 0.20980870723724365, 0.01849999651312828, 0.22685939073562622, 0.005370966624468565, 0.08414514362812042, 0.019864050671458244, 0.1634308397769928, 0.006915476638823748, 0.07837540656328201, 0.39187702536582947, 0.02766190655529499, 0.4950328767299652, 0.9975539445877075, 0.8704851269721985, 0.03884054347872734, 0.08910477161407471, 0.9946267604827881, 0.39061978459358215, 0.013673333451151848, 0.08696240186691284, 0.457455039024353, 0.00010938666673609987, 0.012032533995807171, 0.02384629286825657, 0.000875093333888799, 0.01443903986364603, 0.993771493434906, 0.7248624563217163, 0.27498358488082886, 0.982431948184967, 0.017374996095895767, 0.9839170575141907, 0.27839672565460205, 0.7211878895759583, 0.9924332499504089, 0.9961901307106018, 0.999455988407135, 0.8685478568077087, 0.11616827547550201, 0.014113902114331722, 0.9957460165023804, 0.9889211058616638, 0.008751514367759228, 0.9761295914649963, 0.021492760628461838, 0.9955880641937256, 0.0025833763647824526, 0.0025833763647824526, 0.0012916881823912263, 0.9933081865310669, 0.9945501685142517, 0.9922841191291809, 0.9959995150566101, 0.9987218379974365, 0.9928627014160156, 0.9956507086753845, 0.9982929229736328, 0.9781273603439331, 0.01913207583129406, 0.48690739274024963, 0.19535623490810394, 0.038562726229429245, 0.15882758796215057, 0.026612520217895508, 0.028307585045695305, 0.045258235186338425, 0.020086519420146942, 0.22444117069244385, 0.694989025592804, 0.02606632001698017, 0.01049423310905695, 0.025050750002264977, 0.003046712838113308, 0.015572087839245796, 0.6709700226783752, 0.14476589858531952, 0.010890645906329155, 0.03904695063829422, 0.014343777671456337, 0.07464076578617096, 0.045156337320804596, 0.12213034182786942, 0.4891152083873749, 0.06294562667608261, 0.02375306561589241, 0.09699168801307678, 0.023357180878520012, 0.020585989579558372, 0.06670652329921722, 0.09402254968881607, 0.018637634813785553, 0.9810172915458679, 0.3588208854198456, 0.15365539491176605, 0.08169436454772949, 0.20964938402175903, 0.029746809974312782, 0.046588752418756485, 0.08530335128307343, 0.023841192945837975, 0.010717600584030151, 0.9976785778999329, 0.04665160924196243, 0.009764290414750576, 0.024953186511993408, 0.020613502711057663, 0.7843980193138123, 0.015188896097242832, 0.0922183021903038, 0.00650952709838748, 0.9890788197517395, 0.07922091335058212, 0.15915875136852264, 0.6538413763046265, 0.09642726182937622, 0.011112435720860958, 0.023735294118523598, 0.2521136999130249, 0.1928345113992691, 0.10568700730800629, 0.07876338809728622, 0.16378533840179443, 0.0009446883341297507, 0.143238365650177, 0.03861413523554802, 0.9856703281402588, 0.2447822391986847, 0.037753503769636154, 0.152450293302536, 0.3131078779697418, 0.023698531091213226, 0.07796919345855713, 0.07581478357315063, 0.03662500157952309, 0.0378560945391655, 0.20088498294353485, 0.028249450027942657, 0.032957691699266434, 0.7376245260238647, 0.9836186766624451, 0.007152033969759941, 0.16294199228286743, 0.015081462450325489, 0.8147099614143372, 0.013320368714630604, 0.9790470600128174, 0.9918373227119446, 0.8454831838607788, 0.03070589154958725, 0.03927497938275337, 0.0385608896613121, 0.010711357928812504, 0.03427634388208389, 0.8951389789581299, 0.014960539527237415, 0.03490792587399483, 0.012467116117477417, 0.0423881970345974, 0.019777530804276466, 0.0928022563457489, 0.8595619201660156, 0.007606742437928915, 0.016734832897782326, 0.03707446530461311, 0.03033365309238434, 0.9322542548179626, 0.6595304608345032, 0.0932922437787056, 0.03772956505417824, 0.06602673977613449, 0.00117904890794307, 0.0586576834321022, 0.034045036882162094, 0.04406695440411568, 0.005600482225418091, 0.09366310387849808, 0.9054099917411804, 0.27675506472587585, 0.7225208282470703, 0.24659664928913116, 0.13415969908237457, 0.4977116584777832, 0.0008689099922776222, 0.045183319598436356, 0.005734805949032307, 0.026588646695017815, 0.04292415454983711, 0.9874710440635681, 0.07805852591991425, 0.9210905432701111, 0.9948760271072388, 0.8698859810829163, 0.12706200778484344, 0.018929334357380867, 0.25652509927749634, 0.008485563099384308, 0.07637006789445877, 0.04177508130669594, 0.5939894318580627, 0.004569149576127529, 0.08986883610486984, 0.5472524166107178, 0.19122251868247986, 0.006029538810253143, 0.004019692540168762, 0.008900747634470463, 0.15274831652641296, 0.9939345717430115, 0.14424821734428406, 0.009547363966703415, 0.05417091026902199, 0.05334070697426796, 0.01411349419504404, 0.058321937918663025, 0.0020755138248205185, 0.6643719673156738, 0.18467925488948822, 0.40722161531448364, 0.14971382915973663, 0.07746483385562897, 0.1419866681098938, 0.016033867374062538, 0.022601958364248276, 0.9934661984443665, 0.9942205548286438, 0.02663622796535492, 0.9695587158203125, 0.5640910863876343, 0.04963421821594238, 0.04981536418199539, 0.07336444407701492, 0.09002994745969772, 0.0208318792283535, 0.04347522556781769, 0.06140875816345215, 0.04746045544743538, 0.9995903968811035, 0.9953322410583496, 0.9921858906745911, 0.9964685440063477, 0.9990336894989014, 0.01063571497797966, 0.008385851979255676, 0.9680545926094055, 0.012885577976703644, 0.9945276975631714, 0.07334256172180176, 0.7732750177383423, 0.003748619696125388, 0.14961881935596466, 0.997437059879303, 0.989821195602417, 0.11411643773317337, 0.7973520159721375, 0.0877818763256073, 0.9879692196846008, 0.9911004900932312, 0.993935763835907, 0.032695554196834564, 0.7605075240135193, 0.015228066593408585, 0.005822496023029089, 0.09181628376245499, 0.041205354034900665, 0.037174396216869354, 0.015228066593408585, 0.9910485744476318, 0.9903393387794495, 0.9939172863960266, 0.9930518269538879, 0.9949806928634644, 0.24090124666690826, 0.014819263480603695, 0.018083030357956886, 0.3252299129962921, 0.0894448384642601, 0.11961262673139572, 0.17597874999046326, 0.004145865328609943, 0.011908336542546749, 0.25040310621261597, 0.6230675578117371, 0.0205810759216547, 0.02548133209347725, 0.008330435492098331, 0.07178875803947449, 0.0002450128085911274, 0.04624992609024048, 0.01460523996502161, 0.9201301336288452, 0.01460523996502161, 0.48814156651496887, 0.2115815430879593, 0.006570855621248484, 0.08965567499399185, 0.01912849023938179, 0.046142008155584335, 0.0673147663474083, 0.06527049839496613, 0.00598677946254611, 0.0027626887895166874, 0.41958335041999817, 0.0003453360986895859, 0.5684232115745544, 0.008633402176201344, 0.9933762550354004, 0.9947457909584045, 0.8595844507217407, 0.0473041757941246, 0.07636245340108871, 0.015542800538241863, 0.9977513551712036, 0.3687399923801422, 0.4586624801158905, 0.002695749280974269, 0.012708532623946667, 0.025031957775354385, 0.005006391555070877, 0.12111616134643555, 0.005969159305095673, 0.019863834604620934, 0.8355225324630737, 0.03227873146533966, 0.1117340698838234, 0.997992217540741, 0.9876347780227661, 0.025569630786776543, 0.9679931402206421, 0.9974357485771179, 0.9786425828933716, 0.017398089170455933, 0.0660257488489151, 0.9284870624542236, 0.11154060065746307, 0.8430310487747192, 0.0053971256129443645, 0.011154060252010822, 0.028424862772226334, 0.9987524151802063, 0.9875312447547913, 0.24153056740760803, 0.040312618017196655, 0.15489985048770905, 0.1950053870677948, 0.05763876065611839, 0.13039475679397583, 0.06481771916151047, 0.014565004035830498, 0.10085057467222214, 0.9989035129547119, 0.07477173209190369, 0.39841389656066895, 0.06525935232639313, 0.12565191090106964, 0.01747623272240162, 0.23095174133777618, 0.00530923530459404, 0.0703473687171936, 0.0117245614528656, 0.04569659009575844, 0.9261175394058228, 0.02132507413625717, 0.006092878524214029, 0.9831709861755371, 0.9933252930641174, 0.9984374642372131, 0.9847199320793152, 0.13881011307239532, 0.000925400760024786, 0.7227379679679871, 0.019433416426181793, 0.010179407894611359, 0.10827188938856125, 0.9100960493087769, 0.04694939777255058, 0.043337903916835785, 0.678575873374939, 0.0385533906519413, 0.041177913546562195, 0.0512235164642334, 0.005158551968634129, 0.05764907971024513, 0.08181282877922058, 0.043530937284231186, 0.002353023737668991, 0.9968332648277283, 0.08958645164966583, 0.057830601930618286, 0.15266114473342896, 0.03525190427899361, 0.4776487350463867, 0.03306686878204346, 0.09046046435832977, 0.06322035938501358, 0.993586540222168, 0.9939001202583313, 0.9870468974113464, 0.008852438069880009, 0.9980968832969666, 0.22694338858127594, 0.02215542271733284, 0.2425120621919632, 0.1356271207332611, 0.37125304341316223, 0.0011975903762504458, 0.9929565191268921, 0.9926426410675049, 0.9925588965415955, 0.01280241273343563, 0.9025701284408569, 0.008001508191227913, 0.014402714557945728, 0.006401206366717815, 0.05601055547595024, 0.9989445805549622, 0.780394971370697, 0.008255235850811005, 0.11337190866470337, 0.011557330377399921, 0.02256431244313717, 0.06384049355983734, 0.7796763777732849, 0.04772157222032547, 0.015459100715816021, 0.0530986487865448, 0.0033606740180402994, 0.010082022286951542, 0.04032808914780617, 0.049737975001335144, 0.0006721348036080599, 0.9822149276733398, 0.011941822245717049, 0.005970911122858524, 0.3275558352470398, 0.05384192615747452, 0.11124537885189056, 0.41156601905822754, 0.011627341620624065, 0.016026876866817474, 0.01361760776489973, 0.013827109709382057, 0.040643323212862015, 0.5979605913162231, 0.015309141017496586, 0.03851393982768059, 0.0321250855922699, 0.06551589071750641, 0.10023268312215805, 0.06244200840592384, 0.013621519319713116, 0.0743156373500824, 0.3950965106487274, 0.05414564162492752, 0.15060769021511078, 0.06118941307067871, 0.11157120764255524, 0.05333910137414932, 0.005376925691962242, 0.16340476274490356, 0.005323156248778105, 0.2701045572757721, 0.4511161744594574, 0.06416022032499313, 0.05701284110546112, 0.002493273001164198, 0.07446575164794922, 0.06066964194178581, 0.017951564863324165, 0.0018284001853317022, 0.35225242376327515, 0.10702774673700333, 0.224175363779068, 0.004533701576292515, 0.037645917385816574, 0.05739990249276161, 0.1536601036787033, 0.018053848296403885, 0.04525605961680412, 0.15985187888145447, 0.07527908682823181, 0.028810514137148857, 0.0037174855824559927, 0.7314152717590332, 0.8234276175498962, 0.008488252758979797, 0.02059995010495186, 0.01751331239938736, 0.00610617408528924, 0.02935660630464554, 0.003522792598232627, 0.03334910422563553, 0.05763959884643555, 0.3030652403831482, 0.006813290063291788, 0.5738304257392883, 0.11633061617612839, 0.19937554001808167, 0.008668501861393452, 0.7913103699684143, 0.34220048785209656, 0.17500819265842438, 0.030130859464406967, 0.21697618067264557, 0.02095567248761654, 0.07776253670454025, 0.10222970694303513, 0.01580171100795269, 0.018916742876172066, 0.9844575524330139, 0.013673021458089352, 0.11033666133880615, 0.6985752582550049, 0.019116077572107315, 0.1717093288898468, 0.9880483150482178, 0.9897752404212952, 0.9892008304595947, 0.012290911749005318, 0.34076550602912903, 0.019358186051249504, 0.019665459170937538, 0.004301819019019604, 0.5669183135032654, 0.007989092729985714, 0.028269095346331596, 0.0006145455990917981, 0.23155085742473602, 0.0534815639257431, 0.7141004204750061, 0.9896655678749084, 0.9946163892745972, 0.9941983222961426, 0.9997525811195374, 0.9978635907173157, 0.010702373459935188, 0.24437086284160614, 0.7455987334251404, 0.00026677886489778757, 0.21982578933238983, 0.00026677886489778757, 0.018140962347388268, 0.761120080947876, 0.11318835616111755, 0.8269343376159668, 0.013186993077397346, 0.010439702309668064, 0.03626422956585884, 0.9969571232795715, 0.9971344470977783, 0.039145130664110184, 0.19544804096221924, 0.09189388900995255, 0.17434853315353394, 0.4419790804386139, 0.0005552500952035189, 0.05691313371062279, 0.27242350578308105, 0.029015522450208664, 0.13048924505710602, 0.17828425765037537, 0.04900399222970009, 0.08414501696825027, 0.1190442368388176, 0.041024722158908844, 0.09639601409435272, 0.30307871103286743, 0.0066645583137869835, 0.055855344980955124, 0.05902894213795662, 0.06474142521619797, 0.0717233419418335, 0.3376709520816803, 0.08441773802042007, 0.01682007499039173, 0.995049238204956, 0.4412479102611542, 0.003225833410397172, 0.05841062590479851, 0.09066895395517349, 0.07638312131166458, 0.03606020659208298, 0.29389646649360657, 0.5667439699172974, 0.023667706176638603, 0.11839953064918518, 0.03611155226826668, 0.030255623161792755, 0.07618805021047592, 0.06874614208936691, 0.01238284632563591, 0.06752616167068481, 0.22084420919418335, 0.019617386162281036, 0.025264816358685493, 0.1093817874789238, 0.030615011230111122, 0.12335174530744553, 0.12899917364120483, 0.2921801507472992, 0.04993516579270363, 0.998349666595459, 0.33333703875541687, 0.025573477149009705, 0.08789045363664627, 0.5335156321525574, 0.017342932522296906, 0.0005878960364498198, 0.001469740062020719, 0.6870925426483154, 0.08619265258312225, 0.015426525846123695, 0.08619265258312225, 0.0666034147143364, 0.025466011837124825, 0.015671391040086746, 0.005142175126820803, 0.012243274599313736, 0.37090227007865906, 0.04533134028315544, 0.11667075753211975, 0.12095320969820023, 0.03760203346610069, 0.06726586073637009, 0.13432282209396362, 0.07353286445140839, 0.03331958130002022, 0.8311147093772888, 0.16876274347305298, 0.9961978793144226, 0.9935886859893799, 0.9824729561805725, 0.015311267226934433, 0.5088135600090027, 0.017996620386838913, 0.47282031178474426, 0.9970350861549377, 0.22675064206123352, 0.18079142272472382, 0.1406463086605072, 0.1649179458618164, 0.10243923962116241, 0.011997388675808907, 0.025102227926254272, 0.08896525204181671, 0.058325767517089844, 0.8136812448501587, 0.08116001635789871, 0.048904113471508026, 0.02289128676056862, 0.03433693200349808, 0.9832131266593933, 0.016359619796276093, 0.9959819912910461, 0.9865996241569519, 0.012666757218539715, 0.9965062737464905, 0.19552120566368103, 0.13734960556030273, 0.08079388737678528, 0.5861596465110779, 0.9987587332725525, 0.9885730743408203, 0.005431720055639744, 0.015029112808406353, 0.9768922924995422, 0.14313752949237823, 0.303966224193573, 0.02975330874323845, 0.4893212914466858, 0.01286629494279623, 0.010453864932060242, 0.010453864932060242, 0.9962206482887268, 0.6609322428703308, 0.011989003047347069, 0.11866039037704468, 0.1426384001970291, 0.020596493035554886, 0.01352605503052473, 0.03166326507925987, 0.977907121181488, 0.008430233225226402, 0.9988401532173157, 0.09573885053396225, 0.0770580992102623, 0.8242881894111633, 0.8712830543518066, 0.021700698882341385, 0.021158181130886078, 0.06510209292173386, 0.02061566337943077, 0.03022381290793419, 0.2949044108390808, 0.14934119582176208, 0.3642413914203644, 0.01533414050936699, 0.011778397485613823, 0.1340070515871048, 0.9930701851844788, 0.9978651404380798, 0.0010502340737730265, 0.0091239083558321, 0.06452375650405884, 0.09242060035467148, 0.017788339406251907, 0.8150472640991211, 0.9933021068572998, 0.004999842960387468, 0.9916611909866333, 0.996697187423706, 0.992226779460907, 0.249556764960289, 0.5693881511688232, 0.06333544105291367, 0.1177130788564682, 0.9887409806251526, 0.9995148777961731, 0.994240939617157, 0.06452731043100357, 0.006452730856835842, 0.7575505971908569, 0.17164264619350433, 0.9962262511253357, 0.024202754721045494, 0.9729506969451904, 0.9944579005241394, 0.9972833395004272, 0.9936832189559937, 0.99033123254776, 0.9825937151908875, 0.15404760837554932, 0.03610491007566452, 0.09748325496912003, 0.7112666964530945, 0.9958497881889343, 0.8515536189079285, 0.14756163954734802, 0.9973546266555786, 0.09301692992448807, 0.021283533424139023, 0.8852373957633972, 0.11736375838518143, 0.0416526272892952, 0.47396549582481384, 0.1816606968641281, 0.11819221079349518, 0.01403762586414814, 0.03764845430850983, 0.011414200998842716, 0.004142250400036573, 0.9911139011383057, 0.3226712942123413, 0.19181887805461884, 0.11521874368190765, 0.0832652673125267, 0.18245826661586761, 0.03141438215970993, 0.007155226077884436, 0.06601431220769882, 0.9853381514549255, 0.21855582296848297, 0.7802208065986633, 0.0993957370519638, 0.018444569781422615, 0.15934059023857117, 0.011271681636571884, 0.07787707448005676, 0.034327395260334015, 0.15934059023857117, 0.4395955801010132, 0.8383264541625977, 0.1609879583120346, 0.41638442873954773, 0.017660483717918396, 0.028446417301893234, 0.5375187397003174, 0.9931756854057312, 0.9897869229316711, 0.9798743724822998, 0.018488196656107903, 0.991797149181366, 0.9982494711875916, 0.9977760314941406, 0.22324736416339874, 0.5242825150489807, 0.03941711410880089, 0.20720146596431732, 0.005930008366703987, 0.06978034973144531, 0.9198318719863892, 0.01014986913651228, 0.8464668989181519, 0.03913506865501404, 0.0032840617932379246, 0.016693979501724243, 0.008210154250264168, 0.07307036966085434, 0.012862575240433216, 0.985421359539032, 0.032255664467811584, 0.1637595295906067, 0.8026698231697083, 0.23345538973808289, 0.3410833477973938, 0.005334330257028341, 0.00031378414132632315, 0.00031378414132632315, 0.4082331657409668, 0.011296228505671024, 0.6721610426902771, 0.29562342166900635, 0.021662062034010887, 0.0006371194613166153, 0.010193911381065845, 0.43130120635032654, 0.18050312995910645, 0.006751492153853178, 0.022438783198595047, 0.06453631818294525, 0.05381336435675621, 0.21128198504447937, 0.029388848692178726, 0.2928481996059418, 0.11382855474948883, 0.19671693444252014, 0.11358777433633804, 0.11707907915115356, 0.015169114805758, 0.018299249932169914, 0.06988628208637238, 0.062602698802948, 0.9957652688026428, 0.22978173196315765, 0.2827082574367523, 0.014174425043165684, 0.030819620937108994, 0.028218809515237808, 0.026788363233208656, 0.0351109616458416, 0.3524100184440613, 0.9892598986625671, 0.9992589354515076, 0.2008916288614273, 0.0016736866673454642, 0.08314284682273865, 0.2891539931297302, 0.10445773601531982, 0.056757669895887375, 0.1452169269323349, 0.1186840757727623, 0.999153196811676, 0.05528233200311661, 0.945327877998352, 0.03030962310731411, 0.77501380443573, 0.08408475667238235, 0.022813694551587105, 0.02053232491016388, 0.00260727945715189, 0.06192288547754288, 0.00260727945715189, 0.9979709386825562, 0.9983022809028625, 0.01927841827273369, 0.9776911735534668, 0.46251237392425537, 0.03743433952331543, 0.11254484206438065, 0.22025319933891296, 0.08376779407262802, 0.015234905295073986, 0.05010591074824333, 0.002128050196915865, 0.016008742153644562, 0.8174564242362976, 0.18253034353256226, 0.9872317314147949, 0.9946878552436829, 0.9969735145568848, 0.9967268109321594, 0.20969921350479126, 0.6600966453552246, 0.03215067833662033, 0.00019194436026737094, 0.03464595600962639, 0.045586783438920975, 0.0008637495920993388, 0.016747144982218742, 0.9989048838615417, 0.9717915654182434, 0.024917732924222946, 0.04767337441444397, 0.951633870601654, 0.2899036407470703, 0.1968134641647339, 0.1304064691066742, 0.15026839077472687, 0.022269412875175476, 0.09660110622644424, 0.017354093492031097, 0.06720948964357376, 0.029090674594044685, 0.8927478194236755, 0.022123489528894424, 0.08458980917930603, 0.16126748919487, 0.055400531738996506, 0.21251298487186432, 0.06431655585765839, 0.21640832722187042, 0.016620159149169922, 0.08327392488718033, 0.061979345977306366, 0.1281137317419052, 0.10448087006807327, 0.6046187877655029, 0.07407864928245544, 0.011989608407020569, 0.0008564005838707089, 0.020125413313508034, 0.1841261237859726, 0.9956635236740112, 0.03386267274618149, 0.10177204757928848, 0.7804977893829346, 0.03588707000017166, 0.013250610791146755, 0.00036807250580750406, 0.03423074260354042, 0.9970521926879883, 0.987447202205658, 0.3184962272644043, 0.05300004035234451, 0.2051980048418045, 0.12484768778085709, 0.11655756831169128, 0.021610978990793228, 0.03174334019422531, 0.06674604117870331, 0.061786141246557236, 0.9856120944023132, 0.9981237053871155, 0.2081013023853302, 0.098788321018219, 0.3573601543903351, 0.002152772154659033, 0.005979922600090504, 0.27531564235687256, 0.04162025824189186, 0.003827150445431471, 0.006936709862202406, 0.9883574843406677, 0.9923861026763916, 0.9882556796073914, 0.9974080324172974, 0.13841398060321808, 0.016220388934016228, 0.8061532974243164, 0.024330582469701767, 0.0010813592234626412, 0.012976310215890408, 0.9885544180870056, 0.3440954089164734, 0.0009437613771297038, 0.1552487462759018, 0.3110637664794922, 0.0038694217801094055, 0.14760428667068481, 0.03708982467651367, 0.33141452074050903, 0.5486254096031189, 0.021646445617079735, 0.0313500240445137, 0.02052680030465126, 0.03844109922647476, 0.007837506011128426, 0.9970670938491821, 0.9861375093460083, 0.9936695694923401, 0.036084048449993134, 0.9248911142349243, 0.038932789117097855, 0.08134403824806213, 0.05729449912905693, 0.04526972770690918, 0.023342203348875046, 0.747657835483551, 0.044562388211488724, 0.8925269246101379, 0.0425591841340065, 0.06444676965475082, 0.047187406569719315, 0.019273728132247925, 0.0013292226940393448, 0.6805620193481445, 0.2060295194387436, 0.04519357159733772, 0.02356579154729843, 0.9385076761245728, 0.01472861971706152, 0.011193751357495785, 0.011782895773649216, 0.2927123010158539, 0.03563062101602554, 0.002706123050302267, 0.36983680725097656, 0.29857558012008667, 0.9944122433662415, 0.9944681525230408, 0.9908460378646851, 0.9720804691314697, 0.027583496645092964, 0.9980499148368835, 0.9838006496429443, 0.013921706937253475, 0.9930501580238342, 0.9976598024368286, 0.9991008043289185, 0.9982483983039856, 0.01924409344792366, 0.8410382270812988, 0.05131758376955986, 0.05559404939413071, 0.032786235213279724, 0.04434492066502571, 0.955175518989563, 0.9972875714302063, 0.9959596395492554, 0.003402380971238017, 0.7468226552009583, 0.018713096156716347, 0.08806162327528, 0.016011204570531845, 0.12698887288570404, 0.9905864596366882, 0.057390037924051285, 0.20006805658340454, 0.019130012020468712, 0.032680436968803406, 0.01833292841911316, 0.6719416975975037, 0.9882175326347351, 0.06653457134962082, 0.8931620121002197, 0.028212539851665497, 0.011755225248634815, 0.9980953335762024, 0.9557155966758728, 0.04040423408150673, 0.0031080180779099464, 0.9975134134292603, 0.2593673765659332, 0.002825352596119046, 0.015821974724531174, 0.0497262068092823, 0.6080158948898315, 0.014691834338009357, 0.0497262068092823, 0.9929687976837158, 0.9985024333000183, 0.9966038465499878, 0.002783809555694461, 0.991423487663269, 0.3316470682621002, 0.015660814940929413, 0.2451397031545639, 0.10003745555877686, 0.024396780878305435, 0.06754392385482788, 0.03643536567687988, 0.09694790840148926, 0.08203284442424774, 0.8545408844947815, 0.05958266928792, 0.003919912502169609, 0.08075019717216492], \"Term\": [\"abap\", \"abil\", \"abil\", \"abil\", \"abil\", \"abil\", \"abil\", \"abil\", \"abil\", \"abil\", \"access\", \"access\", \"access\", \"access\", \"access\", \"access\", \"access\", \"access\", \"access\", \"accommod\", \"accommod\", \"accommod\", \"accommod\", \"accommod\", \"account\", \"account\", \"account\", \"account\", \"account\", \"account\", \"account\", \"account\", \"activ\", \"activ\", \"activ\", \"activ\", \"activ\", \"activ\", \"activ\", \"activ\", \"activ\", \"ad\", \"ad\", \"administr\", \"administr\", \"administr\", \"administr\", \"administr\", \"administr\", \"admir\", \"adob\", \"adob\", \"adp\", \"adp\", \"adp\", \"advertis\", \"adword\", \"aem\", \"agil\", \"agil\", \"agil\", \"agil\", \"air\", \"air\", \"ajax\", \"allstat\", \"amazon\", \"amazon\", \"amnesti\", \"analog\", \"analysi\", \"analysi\", \"analysi\", \"analysi\", \"analysi\", \"analysi\", \"analysi\", \"analysi\", \"analysi\", \"analyst\", \"analyst\", \"analyst\", \"analyst\", \"analyt\", \"analyt\", \"analyt\", \"analyt\", \"analyt\", \"analyt\", \"analyt\", \"analyt\", \"analyt\", \"android\", \"android\", \"angular\", \"angularj\", \"anim\", \"anim\", \"ansibl\", \"ansibl\", \"apex\", \"api\", \"api\", \"apige\", \"architect\", \"architect\", \"architect\", \"architect\", \"architect\", \"architectur\", \"architectur\", \"architectur\", \"architectur\", \"architectur\", \"architectur\", \"architectur\", \"ariba\", \"armi\", \"arthur\", \"artifactori\", \"artist\", \"ascent\", \"asg\", \"asp\", \"assess\", \"assess\", \"assess\", \"assess\", \"assess\", \"assess\", \"assess\", \"attack\", \"audit\", \"audit\", \"audit\", \"audit\", \"audit\", \"audit\", \"autocad\", \"autom\", \"autom\", \"autom\", \"autom\", \"autom\", \"autom\", \"autom\", \"autom\", \"autom\", \"avaya\", \"aw\", \"aw\", \"award\", \"award\", \"award\", \"azur\", \"azur\", \"azur\", \"backlog\", \"backlog\", \"backlog\", \"backup\", \"backup\", \"badg\", \"banner\", \"barri\", \"bash\", \"bash\", \"bdd\", \"believ\", \"believ\", \"best\", \"best\", \"best\", \"best\", \"best\", \"best\", \"best\", \"best\", \"best\", \"bgp\", \"bhge\", \"big\", \"big\", \"big\", \"big\", \"big\", \"big\", \"boomi\", \"bootstrap\", \"brand\", \"brand\", \"breakthrough\", \"brilliant\", \"brochur\", \"budget\", \"budget\", \"budget\", \"budget\", \"build\", \"build\", \"build\", \"build\", \"build\", \"build\", \"build\", \"build\", \"build\", \"campaign\", \"campaign\", \"career\", \"cassandra\", \"ccnp\", \"ccnp\", \"cgi\", \"cgi\", \"chang\", \"chang\", \"chang\", \"chang\", \"chang\", \"chang\", \"chang\", \"chang\", \"chang\", \"channel\", \"channel\", \"channel\", \"channel\", \"channel\", \"characterist\", \"characterist\", \"characterist\", \"characterist\", \"chase\", \"chase\", \"chef\", \"chef\", \"chemic\", \"cisa\", \"cism\", \"cissp\", \"citrix\", \"civilian\", \"cleans\", \"clearanc\", \"clearanc\", \"click\", \"click\", \"click\", \"client\", \"client\", \"client\", \"client\", \"client\", \"client\", \"clinic\", \"clinic\", \"cloud\", \"cloud\", \"cloud\", \"cloud\", \"cloud\", \"cloud\", \"cloudera\", \"cloudform\", \"cloudwatch\", \"coast\", \"cod\", \"cod\", \"cod\", \"cod\", \"cod\", \"cod\", \"code\", \"code\", \"code\", \"code\", \"code\", \"code\", \"cogno\", \"compani\", \"compani\", \"compani\", \"competit\", \"competit\", \"competit\", \"competit\", \"complaint\", \"complet\", \"complet\", \"complet\", \"complet\", \"complet\", \"complet\", \"complet\", \"complet\", \"complianc\", \"complianc\", \"complianc\", \"complianc\", \"complianc\", \"compucom\", \"condit\", \"condit\", \"condit\", \"condit\", \"configur\", \"configur\", \"configur\", \"configur\", \"configur\", \"configur\", \"conflict\", \"conflict\", \"conflict\", \"conflict\", \"consider\", \"consider\", \"consider\", \"consider\", \"consider\", \"consider\", \"consider\", \"consider\", \"consider\", \"consult\", \"consult\", \"consult\", \"consult\", \"consult\", \"consult\", \"consult\", \"consult\", \"contain\", \"contain\", \"contain\", \"contain\", \"content\", \"content\", \"content\", \"content\", \"content\", \"control\", \"control\", \"control\", \"control\", \"control\", \"control\", \"control\", \"control\", \"control\", \"convers\", \"convers\", \"convers\", \"convers\", \"convers\", \"convers\", \"copi\", \"copi\", \"copi\", \"copi\", \"copi\", \"copyright\", \"copywrit\", \"court\", \"cpa\", \"cpa\", \"cpq\", \"creat\", \"creat\", \"creat\", \"creat\", \"creat\", \"creat\", \"creat\", \"creat\", \"creat\", \"creativ\", \"creativ\", \"creativ\", \"creativ\", \"creativ\", \"creativ\", \"css\", \"css\", \"custom\", \"custom\", \"custom\", \"custom\", \"custom\", \"custom\", \"custom\", \"custom\", \"custom\", \"cutter\", \"cyber\", \"cybersecur\", \"cybersecur\", \"dashboard\", \"dashboard\", \"dashboard\", \"dashboard\", \"dashboard\", \"data\", \"data\", \"data\", \"data\", \"data\", \"data\", \"data\", \"data\", \"data\", \"databas\", \"databas\", \"databas\", \"databas\", \"databas\", \"databas\", \"dataset\", \"dataset\", \"datastag\", \"dba\", \"debug\", \"debug\", \"debug\", \"debug\", \"defens\", \"defens\", \"defin\", \"defin\", \"defin\", \"defin\", \"defin\", \"defin\", \"defin\", \"defin\", \"defin\", \"deliver\", \"deliver\", \"deliver\", \"deliver\", \"deliver\", \"deliveri\", \"deliveri\", \"deliveri\", \"deliveri\", \"deliveri\", \"deliveri\", \"deliveri\", \"deliveri\", \"deloitt\", \"deloitt\", \"demonstr\", \"demonstr\", \"demonstr\", \"demonstr\", \"demonstr\", \"demonstr\", \"demonstr\", \"demonstr\", \"demonstr\", \"deploy\", \"deploy\", \"deploy\", \"deploy\", \"deploy\", \"deploy\", \"deploy\", \"desk\", \"desk\", \"desktop\", \"desktop\", \"desktop\", \"detect\", \"detect\", \"detect\", \"detect\", \"devop\", \"devop\", \"devop\", \"dhcp\", \"dhs\", \"digit\", \"digit\", \"digit\", \"digit\", \"digit\", \"dimension\", \"dimension\", \"dimension\", \"direct\", \"direct\", \"direct\", \"direct\", \"direct\", \"direct\", \"direct\", \"direct\", \"direct\", \"directori\", \"directori\", \"directori\", \"distribut\", \"distribut\", \"distribut\", \"distribut\", \"distribut\", \"distribut\", \"distribut\", \"distribut\", \"distribut\", \"dns\", \"dns\", \"docker\", \"document\", \"document\", \"document\", \"document\", \"document\", \"document\", \"document\", \"dod\", \"drive\", \"drive\", \"drive\", \"drive\", \"drive\", \"drive\", \"drive\", \"drive\", \"drive\", \"drupal\", \"dsa\", \"dss\", \"duti\", \"duti\", \"duti\", \"duti\", \"duti\", \"duti\", \"duti\", \"duti\", \"dynamodb\", \"dynatrac\", \"eclaro\", \"eclips\", \"eclips\", \"edi\", \"edi\", \"edit\", \"edit\", \"edit\", \"edit\", \"edit\", \"edit\", \"editori\", \"effect\", \"effect\", \"effect\", \"effect\", \"effect\", \"effect\", \"effect\", \"effect\", \"effect\", \"eigrp\", \"ejb\", \"elast\", \"elasticsearch\", \"electr\", \"electr\", \"electr\", \"electr\", \"elicit\", \"elicit\", \"elicit\", \"elicit\", \"ember\", \"encourag\", \"encourag\", \"encourag\", \"encourag\", \"encourag\", \"encourag\", \"encourag\", \"end\", \"end\", \"end\", \"end\", \"end\", \"end\", \"end\", \"end\", \"engin\", \"engin\", \"engin\", \"engin\", \"engin\", \"engin\", \"engin\", \"engin\", \"ensur\", \"ensur\", \"ensur\", \"ensur\", \"ensur\", \"ensur\", \"ensur\", \"ensur\", \"ensur\", \"enterpris\", \"enterpris\", \"enterpris\", \"enterpris\", \"enterpris\", \"enterpris\", \"enterpris\", \"entrepreneur\", \"environ\", \"environ\", \"environ\", \"environ\", \"environ\", \"environ\", \"environ\", \"environ\", \"environ\", \"environment\", \"environment\", \"environment\", \"epic\", \"equip\", \"equip\", \"erwin\", \"essbas\", \"etl\", \"euromonitor\", \"excel\", \"excel\", \"excel\", \"excel\", \"excel\", \"excel\", \"excel\", \"excel\", \"excel\", \"execut\", \"execut\", \"execut\", \"execut\", \"execut\", \"execut\", \"execut\", \"execut\", \"execut\", \"extract\", \"extract\", \"faa\", \"facilit\", \"facilit\", \"facilit\", \"facilit\", \"facilit\", \"facilit\", \"factor\", \"factor\", \"factor\", \"factor\", \"factor\", \"factor\", \"fastest\", \"fda\", \"femal\", \"field\", \"field\", \"field\", \"field\", \"field\", \"field\", \"field\", \"field\", \"field\", \"financ\", \"financ\", \"financ\", \"financ\", \"financ\", \"firm\", \"firm\", \"firm\", \"firm\", \"firm\", \"firm\", \"firm\", \"firm\", \"fiserv\", \"forb\", \"forens\", \"form\", \"form\", \"form\", \"form\", \"form\", \"form\", \"form\", \"form\", \"fortun\", \"fortun\", \"forward\", \"forward\", \"forward\", \"forward\", \"forward\", \"forward\", \"forward\", \"fpga\", \"framework\", \"framework\", \"framework\", \"framework\", \"framework\", \"framework\", \"front\", \"front\", \"front\", \"front\", \"front\", \"front\", \"frontend\", \"fun\", \"fun\", \"fun\", \"function\", \"function\", \"function\", \"function\", \"function\", \"function\", \"function\", \"function\", \"function\", \"fund\", \"fund\", \"fund\", \"fund\", \"fund\", \"gas\", \"genesi\", \"giac\", \"go\", \"go\", \"go\", \"go\", \"go\", \"go\", \"go\", \"go\", \"golang\", \"gov\", \"grammar\", \"grant\", \"grant\", \"grant\", \"graphic\", \"graphic\", \"graphic\", \"grc\", \"great\", \"great\", \"great\", \"great\", \"great\", \"great\", \"great\", \"great\", \"group\", \"group\", \"group\", \"group\", \"group\", \"group\", \"group\", \"group\", \"group\", \"grow\", \"grow\", \"grow\", \"grow\", \"grow\", \"grow\", \"grow\", \"hadoop\", \"hadoop\", \"hana\", \"hana\", \"hand\", \"hand\", \"hand\", \"hand\", \"hand\", \"hand\", \"hand\", \"hand\", \"hand\", \"harass\", \"hardship\", \"hardwar\", \"hardwar\", \"hardwar\", \"hardwar\", \"hazard\", \"hcm\", \"hcm\", \"hdfs\", \"headquart\", \"headquart\", \"headquart\", \"headquart\", \"help\", \"help\", \"help\", \"help\", \"help\", \"help\", \"help\", \"help\", \"help\", \"helpdesk\", \"hibern\", \"hibern\", \"high\", \"high\", \"high\", \"high\", \"high\", \"high\", \"high\", \"high\", \"high\", \"hive\", \"hris\", \"htc\", \"html\", \"html\", \"html\", \"hvac\", \"hyperion\", \"iaa\", \"iaa\", \"iam\", \"iam\", \"identifi\", \"identifi\", \"identifi\", \"identifi\", \"identifi\", \"identifi\", \"identifi\", \"identifi\", \"identifi\", \"idm\", \"illustr\", \"illustr\", \"impedi\", \"implement\", \"implement\", \"implement\", \"implement\", \"implement\", \"implement\", \"implement\", \"implement\", \"implement\", \"improv\", \"improv\", \"improv\", \"improv\", \"improv\", \"improv\", \"improv\", \"improv\", \"improv\", \"incid\", \"incid\", \"incid\", \"includ\", \"includ\", \"includ\", \"includ\", \"includ\", \"includ\", \"includ\", \"includ\", \"includ\", \"indesign\", \"industri\", \"industri\", \"industri\", \"industri\", \"industri\", \"industri\", \"industri\", \"industri\", \"industri\", \"inform\", \"inform\", \"inform\", \"inform\", \"inform\", \"inform\", \"inform\", \"inform\", \"informatica\", \"infrastructur\", \"infrastructur\", \"infrastructur\", \"infrastructur\", \"infrastructur\", \"infrastructur\", \"innov\", \"innov\", \"innov\", \"innov\", \"innov\", \"innov\", \"innov\", \"innov\", \"instal\", \"instal\", \"instal\", \"integr\", \"integr\", \"integr\", \"integr\", \"integr\", \"integr\", \"integr\", \"integr\", \"integr\", \"intellig\", \"intellig\", \"intellig\", \"intellig\", \"intellig\", \"intrus\", \"iot\", \"iot\", \"iot\", \"ip\", \"issu\", \"issu\", \"issu\", \"issu\", \"issu\", \"issu\", \"issu\", \"issu\", \"issu\", \"jasmin\", \"java\", \"java\", \"javascript\", \"javascript\", \"jcl\", \"jenkin\", \"jenkin\", \"jpa\", \"jpmorgan\", \"jqueri\", \"json\", \"json\", \"json\", \"jsp\", \"junit\", \"junit\", \"kafka\", \"kafka\", \"kelli\", \"kforc\", \"kforc\", \"kforc\", \"kforc\", \"knockout\", \"krono\", \"kso\", \"kubernet\", \"laboratori\", \"lambda\", \"lan\", \"laptop\", \"laptop\", \"lead\", \"lead\", \"lead\", \"lead\", \"lead\", \"lead\", \"lead\", \"lead\", \"leader\", \"leader\", \"leader\", \"leader\", \"leader\", \"leader\", \"leader\", \"leadership\", \"leadership\", \"leadership\", \"leadership\", \"leadership\", \"leadership\", \"leadership\", \"learn\", \"learn\", \"learn\", \"learn\", \"learn\", \"learn\", \"learn\", \"learn\", \"learn\", \"leido\", \"leido\", \"level\", \"level\", \"level\", \"level\", \"level\", \"level\", \"level\", \"level\", \"level\", \"lightn\", \"link\", \"link\", \"link\", \"link\", \"link\", \"link\", \"link\", \"link\", \"linq\", \"linux\", \"linux\", \"linux\", \"linux\", \"linux\", \"look\", \"look\", \"look\", \"look\", \"look\", \"look\", \"look\", \"look\", \"look\", \"magento\", \"maintain\", \"maintain\", \"maintain\", \"maintain\", \"maintain\", \"maintain\", \"maintain\", \"maintain\", \"maintain\", \"manufactur\", \"manufactur\", \"manufactur\", \"manufactur\", \"mapreduc\", \"market\", \"market\", \"market\", \"market\", \"mart\", \"mart\", \"mastech\", \"match\", \"match\", \"match\", \"match\", \"match\", \"match\", \"matrix\", \"matrix\", \"matrix\", \"matrix\", \"matrix\", \"mechan\", \"mechan\", \"mechan\", \"mechan\", \"mechan\", \"media\", \"media\", \"media\", \"meet\", \"meet\", \"meet\", \"meet\", \"meet\", \"meet\", \"meet\", \"meet\", \"meet\", \"metadata\", \"metadata\", \"microservic\", \"microservic\", \"microsoft\", \"microsoft\", \"microsoft\", \"microsoft\", \"microsoft\", \"microsoft\", \"microsoft\", \"microsoft\", \"microstrategi\", \"middlewar\", \"middlewar\", \"midmarket\", \"mileston\", \"mileston\", \"mission\", \"mission\", \"mission\", \"mission\", \"mission\", \"mission\", \"mission\", \"mobil\", \"mobil\", \"mobil\", \"mobil\", \"mobil\", \"mobil\", \"mobil\", \"mockup\", \"model\", \"model\", \"model\", \"model\", \"model\", \"model\", \"model\", \"model\", \"monitor\", \"monitor\", \"monitor\", \"monitor\", \"monitor\", \"monitor\", \"monitor\", \"mpls\", \"mule\", \"mulesoft\", \"mulesoft\", \"multipl\", \"multipl\", \"multipl\", \"multipl\", \"multipl\", \"multipl\", \"multipl\", \"multipl\", \"multipl\", \"mvc\", \"mwbe\", \"nas\", \"navi\", \"nbsp\", \"net\", \"net\", \"net\", \"net\", \"netapp\", \"network\", \"network\", \"network\", \"network\", \"nist\", \"noc\", \"nosql\", \"nosql\", \"nosql\", \"ntt\", \"nurs\", \"obie\", \"offer\", \"offer\", \"offer\", \"offer\", \"offer\", \"offer\", \"offer\", \"offer\", \"oil\", \"olap\", \"oncolog\", \"openshift\", \"openstack\", \"oper\", \"oper\", \"oper\", \"oper\", \"oper\", \"oper\", \"oper\", \"oper\", \"oper\", \"opportun\", \"opportun\", \"opportun\", \"opportun\", \"opportun\", \"opportun\", \"opportun\", \"orchestr\", \"orchestr\", \"orchestr\", \"orchestr\", \"organ\", \"organ\", \"organ\", \"organ\", \"organ\", \"organ\", \"organ\", \"organ\", \"organ\", \"origin\", \"origin\", \"origin\", \"origin\", \"origin\", \"orm\", \"ospf\", \"owner\", \"owner\", \"owner\", \"owner\", \"paa\", \"partner\", \"partner\", \"partner\", \"partner\", \"partner\", \"partner\", \"partner\", \"partner\", \"patch\", \"patch\", \"patch\", \"patch\", \"patient\", \"pcb\", \"pci\", \"pci\", \"pcs\", \"pega\", \"pega\", \"penetr\", \"penetr\", \"peopl\", \"peopl\", \"peopl\", \"peopl\", \"peopl\", \"peoplesoft\", \"percent\", \"perform\", \"perform\", \"perform\", \"perform\", \"perform\", \"perform\", \"perform\", \"perform\", \"perform\", \"peripher\", \"person\", \"person\", \"person\", \"person\", \"person\", \"person\", \"person\", \"person\", \"person\", \"pharmaceut\", \"pharmaceut\", \"pharmaceut\", \"pharmaceut\", \"photograph\", \"photographi\", \"photoshop\", \"pig\", \"pipelin\", \"pipelin\", \"pipelin\", \"pipelin\", \"pipelin\", \"pipelin\", \"placement\", \"placement\", \"placement\", \"plan\", \"plan\", \"plan\", \"plan\", \"plan\", \"plan\", \"plan\", \"plan\", \"plan\", \"plant\", \"platform\", \"platform\", \"platform\", \"platform\", \"platform\", \"platform\", \"platform\", \"platform\", \"plc\", \"pmi\", \"pmo\", \"pmo\", \"pmp\", \"polici\", \"polici\", \"polici\", \"polici\", \"polici\", \"polici\", \"postur\", \"powerbi\", \"ppm\", \"presenc\", \"presenc\", \"presenc\", \"presenc\", \"presenc\", \"presenc\", \"printer\", \"priorit\", \"priorit\", \"priorit\", \"priorit\", \"priorit\", \"priorit\", \"prioriti\", \"prioriti\", \"prioriti\", \"prioriti\", \"prioriti\", \"prioriti\", \"prioriti\", \"prioriti\", \"prioriti\", \"privaci\", \"privaci\", \"privaci\", \"problem\", \"problem\", \"problem\", \"problem\", \"problem\", \"problem\", \"problem\", \"problem\", \"problem\", \"process\", \"process\", \"process\", \"process\", \"process\", \"process\", \"process\", \"process\", \"process\", \"product\", \"product\", \"product\", \"product\", \"product\", \"product\", \"product\", \"product\", \"product\", \"profession\", \"profession\", \"profession\", \"profession\", \"profession\", \"profession\", \"profession\", \"profession\", \"profession\", \"program\", \"program\", \"program\", \"program\", \"program\", \"program\", \"program\", \"program\", \"program\", \"programm\", \"programm\", \"programm\", \"programm\", \"programm\", \"project\", \"project\", \"project\", \"project\", \"project\", \"project\", \"project\", \"project\", \"project\", \"protect\", \"protect\", \"protect\", \"protect\", \"proud\", \"proud\", \"proud\", \"provid\", \"provid\", \"provid\", \"provid\", \"provid\", \"provid\", \"provid\", \"provid\", \"provid\", \"puppet\", \"puppet\", \"python\", \"python\", \"python\", \"python\", \"qlik\", \"qlikview\", \"qos\", \"qualifi\", \"qualifi\", \"qualifi\", \"qualifi\", \"qualifi\", \"qualifi\", \"qualifi\", \"qualifi\", \"qualifi\", \"queri\", \"queri\", \"queri\", \"rabbitmq\", \"rack\", \"rds\", \"react\", \"reactj\", \"reason\", \"reason\", \"reason\", \"receiv\", \"receiv\", \"receiv\", \"receiv\", \"receiv\", \"recruit\", \"recruit\", \"recruit\", \"recruit\", \"recruit\", \"redi\", \"redux\", \"regard\", \"regard\", \"regard\", \"regard\", \"regard\", \"regard\", \"regard\", \"relat\", \"relat\", \"relat\", \"relat\", \"relat\", \"relat\", \"relat\", \"relat\", \"relat\", \"relev\", \"relev\", \"relev\", \"relev\", \"relev\", \"relev\", \"relev\", \"relev\", \"relev\", \"religi\", \"report\", \"report\", \"report\", \"report\", \"report\", \"report\", \"report\", \"requir\", \"requir\", \"requir\", \"requir\", \"requir\", \"requir\", \"requir\", \"requir\", \"requir\", \"research\", \"research\", \"research\", \"research\", \"research\", \"research\", \"research\", \"research\", \"research\", \"reserv\", \"resolv\", \"resolv\", \"resolv\", \"resolv\", \"resolv\", \"resolv\", \"resolv\", \"resourc\", \"resourc\", \"resourc\", \"resourc\", \"resourc\", \"resourc\", \"resourc\", \"resourc\", \"resourc\", \"respons\", \"respons\", \"respons\", \"respons\", \"respons\", \"respons\", \"respons\", \"respons\", \"respons\", \"rest\", \"rest\", \"restor\", \"revit\", \"reward\", \"reward\", \"risk\", \"risk\", \"risk\", \"rodan\", \"role\", \"role\", \"role\", \"role\", \"role\", \"role\", \"role\", \"role\", \"role\", \"rout\", \"rout\", \"rout\", \"rout\", \"rout\", \"router\", \"router\", \"rsp\", \"safeti\", \"safeti\", \"sailpoint\", \"sale\", \"sale\", \"sale\", \"sale\", \"sas\", \"sass\", \"sass\", \"scada\", \"scada\", \"scale\", \"scale\", \"scale\", \"scale\", \"scale\", \"scale\", \"scale\", \"sccm\", \"schedul\", \"schedul\", \"schedul\", \"schedul\", \"schedul\", \"schedul\", \"schedul\", \"schemat\", \"schemat\", \"sci\", \"scientist\", \"scientist\", \"scientist\", \"scope\", \"scope\", \"scope\", \"scope\", \"scope\", \"script\", \"script\", \"script\", \"script\", \"script\", \"script\", \"script\", \"sdet\", \"secret\", \"secur\", \"secur\", \"secur\", \"secur\", \"secur\", \"secur\", \"selenium\", \"selenium\", \"sem\", \"seo\", \"servant\", \"server\", \"server\", \"server\", \"server\", \"serverless\", \"sga\", \"sgainc\", \"shell\", \"shell\", \"shell\", \"shell\", \"siem\", \"sketch\", \"sketch\", \"skin\", \"skincar\", \"skyrocket\", \"smarter\", \"smci\", \"sme\", \"sme\", \"sme\", \"sme\", \"snmp\", \"soap\", \"soap\", \"soc\", \"social\", \"social\", \"social\", \"softwar\", \"softwar\", \"softwar\", \"softwar\", \"softwar\", \"softwar\", \"softwar\", \"softwar\", \"softwar\", \"solr\", \"solut\", \"solut\", \"solut\", \"solut\", \"solut\", \"solut\", \"solut\", \"solut\", \"soql\", \"spark\", \"spark\", \"specialist\", \"specialist\", \"specialist\", \"specialist\", \"specialist\", \"specialist\", \"specialist\", \"specialist\", \"spring\", \"spring\", \"sql\", \"sql\", \"sql\", \"sql\", \"squir\", \"sre\", \"srm\", \"srm\", \"ssas\", \"ssis\", \"ssrs\", \"stack\", \"stack\", \"stack\", \"stack\", \"stack\", \"staff\", \"staff\", \"staff\", \"stakehold\", \"stakehold\", \"stakehold\", \"stakehold\", \"stakehold\", \"stakehold\", \"stakehold\", \"stanford\", \"statist\", \"statist\", \"statist\", \"status\", \"status\", \"status\", \"status\", \"status\", \"status\", \"status\", \"storag\", \"storag\", \"storag\", \"storag\", \"storag\", \"strategi\", \"strategi\", \"strategi\", \"strategi\", \"strategi\", \"strategi\", \"strategi\", \"strategi\", \"strong\", \"strong\", \"strong\", \"strong\", \"strong\", \"strong\", \"strong\", \"strong\", \"strong\", \"strut\", \"success\", \"success\", \"success\", \"success\", \"success\", \"success\", \"success\", \"success\", \"surefir\", \"switch\", \"system\", \"system\", \"system\", \"system\", \"system\", \"system\", \"system\", \"system\", \"tableau\", \"talend\", \"talend\", \"talent\", \"talent\", \"talent\", \"talent\", \"talent\", \"talent\", \"talent\", \"talent\", \"tax\", \"tcg\", \"tdd\", \"tdd\", \"technic\", \"technic\", \"technic\", \"technic\", \"technic\", \"technic\", \"technic\", \"technic\", \"technic\", \"technician\", \"technician\", \"tel\", \"telephoni\", \"teradata\", \"terraform\", \"test\", \"test\", \"test\", \"test\", \"test\", \"test\", \"test\", \"test\", \"threat\", \"tibco\", \"tibco\", \"ticket\", \"ticket\", \"time\", \"time\", \"time\", \"time\", \"time\", \"time\", \"time\", \"time\", \"time\", \"timelin\", \"timelin\", \"timelin\", \"tool\", \"tool\", \"tool\", \"tool\", \"tool\", \"tool\", \"tool\", \"tool\", \"tool\", \"transform\", \"transform\", \"transform\", \"transform\", \"transform\", \"transform\", \"transform\", \"trial\", \"troubleshoot\", \"troubleshoot\", \"troubleshoot\", \"troubleshoot\", \"troubleshoot\", \"troubleshoot\", \"troubleshoot\", \"typescript\", \"unavail\", \"understand\", \"understand\", \"understand\", \"understand\", \"understand\", \"understand\", \"understand\", \"understand\", \"understand\", \"undu\", \"unisi\", \"unit\", \"unit\", \"unit\", \"unit\", \"unit\", \"unit\", \"unit\", \"unit\", \"unit\", \"unlaw\", \"unlock\", \"unsolicit\", \"unstructur\", \"upgrad\", \"upgrad\", \"upgrad\", \"upgrad\", \"upgrad\", \"upgrad\", \"usaa\", \"user\", \"user\", \"user\", \"user\", \"user\", \"user\", \"user\", \"valu\", \"valu\", \"valu\", \"valu\", \"valu\", \"valu\", \"valu\", \"vanderhouwen\", \"vba\", \"vdi\", \"verif\", \"verif\", \"verif\", \"verifi\", \"verifi\", \"verifi\", \"verifi\", \"verifi\", \"verifi\", \"veteran\", \"veteran\", \"veteran\", \"virtual\", \"virtual\", \"virtual\", \"virtual\", \"virtual\", \"virtual\", \"visit\", \"visit\", \"visit\", \"visit\", \"visit\", \"visual\", \"visual\", \"visual\", \"visual\", \"visual\", \"visualforc\", \"viva\", \"vlan\", \"vmware\", \"vmware\", \"voip\", \"vpn\", \"vpn\", \"vsphere\", \"vue\", \"vulner\", \"wan\", \"want\", \"want\", \"want\", \"want\", \"want\", \"warehous\", \"warehous\", \"wbe\", \"wcf\", \"web\", \"web\", \"web\", \"web\", \"web\", \"web\", \"webpack\", \"websit\", \"websit\", \"websit\", \"websit\", \"websit\", \"websit\", \"wehmil\", \"window\", \"window\", \"window\", \"window\", \"wirefram\", \"wireless\", \"wireless\", \"wireless\", \"women\", \"word\", \"word\", \"word\", \"word\", \"word\", \"word\", \"word\", \"wordpress\", \"workday\", \"workstat\", \"workstat\", \"wpf\", \"write\", \"write\", \"write\", \"write\", \"write\", \"write\", \"write\", \"write\", \"write\", \"xml\", \"xml\", \"xml\", \"xml\"]}, \"R\": 30, \"lambda.step\": 0.01, \"plot.opts\": {\"xlab\": \"PC1\", \"ylab\": \"PC2\"}, \"topic.order\": [3, 1, 4, 6, 5, 8, 2, 9, 7]};\n",
       "\n",
       "function LDAvis_load_lib(url, callback){\n",
       "  var s = document.createElement('script');\n",
       "  s.src = url;\n",
       "  s.async = true;\n",
       "  s.onreadystatechange = s.onload = callback;\n",
       "  s.onerror = function(){console.warn(\"failed to load library \" + url);};\n",
       "  document.getElementsByTagName(\"head\")[0].appendChild(s);\n",
       "}\n",
       "\n",
       "if(typeof(LDAvis) !== \"undefined\"){\n",
       "   // already loaded: just create the visualization\n",
       "   !function(LDAvis){\n",
       "       new LDAvis(\"#\" + \"ldavis_el350347169072808998828143\", ldavis_el350347169072808998828143_data);\n",
       "   }(LDAvis);\n",
       "}else if(typeof define === \"function\" && define.amd){\n",
       "   // require.js is available: use it to load d3/LDAvis\n",
       "   require.config({paths: {d3: \"https://cdnjs.cloudflare.com/ajax/libs/d3/3.5.5/d3.min\"}});\n",
       "   require([\"d3\"], function(d3){\n",
       "      window.d3 = d3;\n",
       "      LDAvis_load_lib(\"https://cdn.rawgit.com/bmabey/pyLDAvis/files/ldavis.v1.0.0.js\", function(){\n",
       "        new LDAvis(\"#\" + \"ldavis_el350347169072808998828143\", ldavis_el350347169072808998828143_data);\n",
       "      });\n",
       "    });\n",
       "}else{\n",
       "    // require.js not available: dynamically load d3 & LDAvis\n",
       "    LDAvis_load_lib(\"https://cdnjs.cloudflare.com/ajax/libs/d3/3.5.5/d3.min.js\", function(){\n",
       "         LDAvis_load_lib(\"https://cdn.rawgit.com/bmabey/pyLDAvis/files/ldavis.v1.0.0.js\", function(){\n",
       "                 new LDAvis(\"#\" + \"ldavis_el350347169072808998828143\", ldavis_el350347169072808998828143_data);\n",
       "            })\n",
       "         });\n",
       "}\n",
       "</script>"
      ],
      "text/plain": [
       "<IPython.core.display.HTML object>"
      ]
     },
     "execution_count": 40,
     "metadata": {},
     "output_type": "execute_result"
    }
   ],
   "source": [
    "#visualize the topics in order to better label \n",
    "#you may need to pip install pyLDAvis by uncommenting and \n",
    "#running the line below\n",
    "#!pip install pyLDAvis\n",
    "%matplotlib inline\n",
    "import pyLDAvis\n",
    "import pyLDAvis.gensim\n",
    "vis = pyLDAvis.gensim.prepare(topic_model=pickled_lda, \n",
    "                              corpus=bow2doc_corpus, \n",
    "                              dictionary=dictionary)\n",
    "pyLDAvis.enable_notebook()\n",
    "pyLDAvis.display(vis)"
   ]
  },
  {
   "cell_type": "code",
   "execution_count": 41,
   "metadata": {},
   "outputs": [],
   "source": [
    "#show topics and descriptions\n",
    "df_topic_sents_keywords = show_topics_sentences(ldamodel=pickled_lda, \n",
    "                                                corpus=bow2doc_corpus, \n",
    "                                                texts=df['job_description'])\n",
    "\n",
    "\n",
    "df_dominant_topic = df_topic_sents_keywords.reset_index()\n",
    "df_dominant_topic.columns = ['Document_No', 'Dominant_Topic', \n",
    "                             'Topic_Perc_Contrib', 'Keywords', \n",
    "                             'Text']"
   ]
  },
  {
   "cell_type": "code",
   "execution_count": 42,
   "metadata": {},
   "outputs": [
    {
     "data": {
      "text/html": [
       "<div>\n",
       "<style scoped>\n",
       "    .dataframe tbody tr th:only-of-type {\n",
       "        vertical-align: middle;\n",
       "    }\n",
       "\n",
       "    .dataframe tbody tr th {\n",
       "        vertical-align: top;\n",
       "    }\n",
       "\n",
       "    .dataframe thead th {\n",
       "        text-align: right;\n",
       "    }\n",
       "</style>\n",
       "<table border=\"1\" class=\"dataframe\">\n",
       "  <thead>\n",
       "    <tr style=\"text-align: right;\">\n",
       "      <th></th>\n",
       "      <th>Document_No</th>\n",
       "      <th>Dominant_Topic</th>\n",
       "      <th>Topic_Perc_Contrib</th>\n",
       "      <th>Keywords</th>\n",
       "      <th>Text</th>\n",
       "    </tr>\n",
       "  </thead>\n",
       "  <tbody>\n",
       "    <tr>\n",
       "      <th>0</th>\n",
       "      <td>0</td>\n",
       "      <td>3.0</td>\n",
       "      <td>0.7037</td>\n",
       "      <td>test, softwar, web, java, code, net, framework...</td>\n",
       "      <td>'2+ years of experience developing java / j2ee...</td>\n",
       "    </tr>\n",
       "    <tr>\n",
       "      <th>1</th>\n",
       "      <td>1</td>\n",
       "      <td>0.0</td>\n",
       "      <td>0.9259</td>\n",
       "      <td>client, solut, consult, group, help, provid, i...</td>\n",
       "      <td>'passion for technology and learning, a natura...</td>\n",
       "    </tr>\n",
       "    <tr>\n",
       "      <th>2</th>\n",
       "      <td>2</td>\n",
       "      <td>0.0</td>\n",
       "      <td>0.7992</td>\n",
       "      <td>client, solut, consult, group, help, provid, i...</td>\n",
       "      <td>'we enjoy approved it vendor status with sever...</td>\n",
       "    </tr>\n",
       "    <tr>\n",
       "      <th>3</th>\n",
       "      <td>3</td>\n",
       "      <td>0.0</td>\n",
       "      <td>0.7992</td>\n",
       "      <td>client, solut, consult, group, help, provid, i...</td>\n",
       "      <td>'we enjoy approved it vendor status with sever...</td>\n",
       "    </tr>\n",
       "    <tr>\n",
       "      <th>4</th>\n",
       "      <td>4</td>\n",
       "      <td>5.0</td>\n",
       "      <td>0.5330</td>\n",
       "      <td>network, system, technic, server, troubleshoot...</td>\n",
       "      <td>'sme in linux operating system with strong vir...</td>\n",
       "    </tr>\n",
       "  </tbody>\n",
       "</table>\n",
       "</div>"
      ],
      "text/plain": [
       "   Document_No  Dominant_Topic  Topic_Perc_Contrib  \\\n",
       "0            0             3.0              0.7037   \n",
       "1            1             0.0              0.9259   \n",
       "2            2             0.0              0.7992   \n",
       "3            3             0.0              0.7992   \n",
       "4            4             5.0              0.5330   \n",
       "\n",
       "                                            Keywords  \\\n",
       "0  test, softwar, web, java, code, net, framework...   \n",
       "1  client, solut, consult, group, help, provid, i...   \n",
       "2  client, solut, consult, group, help, provid, i...   \n",
       "3  client, solut, consult, group, help, provid, i...   \n",
       "4  network, system, technic, server, troubleshoot...   \n",
       "\n",
       "                                                Text  \n",
       "0  '2+ years of experience developing java / j2ee...  \n",
       "1  'passion for technology and learning, a natura...  \n",
       "2  'we enjoy approved it vendor status with sever...  \n",
       "3  'we enjoy approved it vendor status with sever...  \n",
       "4  'sme in linux operating system with strong vir...  "
      ]
     },
     "execution_count": 42,
     "metadata": {},
     "output_type": "execute_result"
    }
   ],
   "source": [
    "df_dominant_topic.head()"
   ]
  },
  {
   "cell_type": "markdown",
   "metadata": {},
   "source": [
    "---"
   ]
  },
  {
   "cell_type": "markdown",
   "metadata": {},
   "source": [
    "**Create df for topic scores for each jobtitle**"
   ]
  },
  {
   "cell_type": "code",
   "execution_count": 43,
   "metadata": {},
   "outputs": [],
   "source": [
    "#get probabilities of a document belonging to each topic and append to list\n",
    "topic_vecs = []\n",
    "for i in range(len(bow2doc_corpus)):\n",
    "    top_topics = pickled_lda.get_document_topics(bow2doc_corpus[i], \n",
    "                                                 minimum_probability=0.0)\n",
    "    #i in range(amount of topics)\n",
    "    topic_vec = [top_topics[i][1] for i in range(9)]\n",
    "    topic_vecs.append(topic_vec)"
   ]
  },
  {
   "cell_type": "code",
   "execution_count": 44,
   "metadata": {},
   "outputs": [
    {
     "data": {
      "text/html": [
       "<div>\n",
       "<style scoped>\n",
       "    .dataframe tbody tr th:only-of-type {\n",
       "        vertical-align: middle;\n",
       "    }\n",
       "\n",
       "    .dataframe tbody tr th {\n",
       "        vertical-align: top;\n",
       "    }\n",
       "\n",
       "    .dataframe thead th {\n",
       "        text-align: right;\n",
       "    }\n",
       "</style>\n",
       "<table border=\"1\" class=\"dataframe\">\n",
       "  <thead>\n",
       "    <tr style=\"text-align: right;\">\n",
       "      <th></th>\n",
       "      <th>0</th>\n",
       "      <th>1</th>\n",
       "      <th>2</th>\n",
       "      <th>3</th>\n",
       "      <th>4</th>\n",
       "      <th>5</th>\n",
       "      <th>6</th>\n",
       "      <th>7</th>\n",
       "      <th>8</th>\n",
       "    </tr>\n",
       "  </thead>\n",
       "  <tbody>\n",
       "    <tr>\n",
       "      <th>0</th>\n",
       "      <td>0.037037</td>\n",
       "      <td>0.037038</td>\n",
       "      <td>0.037037</td>\n",
       "      <td>0.703682</td>\n",
       "      <td>0.037050</td>\n",
       "      <td>0.037038</td>\n",
       "      <td>0.037037</td>\n",
       "      <td>0.037037</td>\n",
       "      <td>0.037043</td>\n",
       "    </tr>\n",
       "    <tr>\n",
       "      <th>1</th>\n",
       "      <td>0.925890</td>\n",
       "      <td>0.009262</td>\n",
       "      <td>0.009264</td>\n",
       "      <td>0.009264</td>\n",
       "      <td>0.009264</td>\n",
       "      <td>0.009265</td>\n",
       "      <td>0.009263</td>\n",
       "      <td>0.009263</td>\n",
       "      <td>0.009266</td>\n",
       "    </tr>\n",
       "    <tr>\n",
       "      <th>2</th>\n",
       "      <td>0.799170</td>\n",
       "      <td>0.002366</td>\n",
       "      <td>0.002367</td>\n",
       "      <td>0.002366</td>\n",
       "      <td>0.002366</td>\n",
       "      <td>0.002366</td>\n",
       "      <td>0.002366</td>\n",
       "      <td>0.184267</td>\n",
       "      <td>0.002366</td>\n",
       "    </tr>\n",
       "    <tr>\n",
       "      <th>3</th>\n",
       "      <td>0.799178</td>\n",
       "      <td>0.002366</td>\n",
       "      <td>0.002367</td>\n",
       "      <td>0.002366</td>\n",
       "      <td>0.002366</td>\n",
       "      <td>0.002366</td>\n",
       "      <td>0.002366</td>\n",
       "      <td>0.184260</td>\n",
       "      <td>0.002366</td>\n",
       "    </tr>\n",
       "    <tr>\n",
       "      <th>4</th>\n",
       "      <td>0.001020</td>\n",
       "      <td>0.001020</td>\n",
       "      <td>0.001020</td>\n",
       "      <td>0.001020</td>\n",
       "      <td>0.411041</td>\n",
       "      <td>0.532986</td>\n",
       "      <td>0.049853</td>\n",
       "      <td>0.001020</td>\n",
       "      <td>0.001020</td>\n",
       "    </tr>\n",
       "    <tr>\n",
       "      <th>5</th>\n",
       "      <td>0.011124</td>\n",
       "      <td>0.011136</td>\n",
       "      <td>0.011131</td>\n",
       "      <td>0.011120</td>\n",
       "      <td>0.209851</td>\n",
       "      <td>0.011122</td>\n",
       "      <td>0.712269</td>\n",
       "      <td>0.011126</td>\n",
       "      <td>0.011121</td>\n",
       "    </tr>\n",
       "    <tr>\n",
       "      <th>6</th>\n",
       "      <td>0.002647</td>\n",
       "      <td>0.002647</td>\n",
       "      <td>0.248674</td>\n",
       "      <td>0.002648</td>\n",
       "      <td>0.596378</td>\n",
       "      <td>0.002647</td>\n",
       "      <td>0.139064</td>\n",
       "      <td>0.002647</td>\n",
       "      <td>0.002649</td>\n",
       "    </tr>\n",
       "    <tr>\n",
       "      <th>7</th>\n",
       "      <td>0.037075</td>\n",
       "      <td>0.037057</td>\n",
       "      <td>0.037067</td>\n",
       "      <td>0.037072</td>\n",
       "      <td>0.367976</td>\n",
       "      <td>0.372550</td>\n",
       "      <td>0.037086</td>\n",
       "      <td>0.037070</td>\n",
       "      <td>0.037047</td>\n",
       "    </tr>\n",
       "    <tr>\n",
       "      <th>8</th>\n",
       "      <td>0.799164</td>\n",
       "      <td>0.002366</td>\n",
       "      <td>0.002367</td>\n",
       "      <td>0.002366</td>\n",
       "      <td>0.002366</td>\n",
       "      <td>0.002366</td>\n",
       "      <td>0.002366</td>\n",
       "      <td>0.184274</td>\n",
       "      <td>0.002366</td>\n",
       "    </tr>\n",
       "    <tr>\n",
       "      <th>9</th>\n",
       "      <td>0.799176</td>\n",
       "      <td>0.002366</td>\n",
       "      <td>0.002367</td>\n",
       "      <td>0.002366</td>\n",
       "      <td>0.002366</td>\n",
       "      <td>0.002366</td>\n",
       "      <td>0.002366</td>\n",
       "      <td>0.184262</td>\n",
       "      <td>0.002366</td>\n",
       "    </tr>\n",
       "  </tbody>\n",
       "</table>\n",
       "</div>"
      ],
      "text/plain": [
       "          0         1         2         3         4         5         6  \\\n",
       "0  0.037037  0.037038  0.037037  0.703682  0.037050  0.037038  0.037037   \n",
       "1  0.925890  0.009262  0.009264  0.009264  0.009264  0.009265  0.009263   \n",
       "2  0.799170  0.002366  0.002367  0.002366  0.002366  0.002366  0.002366   \n",
       "3  0.799178  0.002366  0.002367  0.002366  0.002366  0.002366  0.002366   \n",
       "4  0.001020  0.001020  0.001020  0.001020  0.411041  0.532986  0.049853   \n",
       "5  0.011124  0.011136  0.011131  0.011120  0.209851  0.011122  0.712269   \n",
       "6  0.002647  0.002647  0.248674  0.002648  0.596378  0.002647  0.139064   \n",
       "7  0.037075  0.037057  0.037067  0.037072  0.367976  0.372550  0.037086   \n",
       "8  0.799164  0.002366  0.002367  0.002366  0.002366  0.002366  0.002366   \n",
       "9  0.799176  0.002366  0.002367  0.002366  0.002366  0.002366  0.002366   \n",
       "\n",
       "          7         8  \n",
       "0  0.037037  0.037043  \n",
       "1  0.009263  0.009266  \n",
       "2  0.184267  0.002366  \n",
       "3  0.184260  0.002366  \n",
       "4  0.001020  0.001020  \n",
       "5  0.011126  0.011121  \n",
       "6  0.002647  0.002649  \n",
       "7  0.037070  0.037047  \n",
       "8  0.184274  0.002366  \n",
       "9  0.184262  0.002366  "
      ]
     },
     "execution_count": 44,
     "metadata": {},
     "output_type": "execute_result"
    }
   ],
   "source": [
    "#create a dataframe for topic scores\n",
    "df_topic_vecs = pd.DataFrame(topic_vecs)\n",
    "df_topic_vecs.head(10)"
   ]
  },
  {
   "cell_type": "code",
   "execution_count": 45,
   "metadata": {},
   "outputs": [
    {
     "data": {
      "text/html": [
       "<div>\n",
       "<style scoped>\n",
       "    .dataframe tbody tr th:only-of-type {\n",
       "        vertical-align: middle;\n",
       "    }\n",
       "\n",
       "    .dataframe tbody tr th {\n",
       "        vertical-align: top;\n",
       "    }\n",
       "\n",
       "    .dataframe thead th {\n",
       "        text-align: right;\n",
       "    }\n",
       "</style>\n",
       "<table border=\"1\" class=\"dataframe\">\n",
       "  <thead>\n",
       "    <tr style=\"text-align: right;\">\n",
       "      <th></th>\n",
       "      <th>Analyst</th>\n",
       "      <th>Security</th>\n",
       "      <th>Leadership</th>\n",
       "      <th>Software/Web Dev</th>\n",
       "      <th>Cloud Computing</th>\n",
       "      <th>Computer Network</th>\n",
       "      <th>Database Admin</th>\n",
       "      <th>Computer Support</th>\n",
       "      <th>WebDev</th>\n",
       "    </tr>\n",
       "  </thead>\n",
       "  <tbody>\n",
       "    <tr>\n",
       "      <th>0</th>\n",
       "      <td>0.037037</td>\n",
       "      <td>0.037038</td>\n",
       "      <td>0.037037</td>\n",
       "      <td>0.703682</td>\n",
       "      <td>0.037050</td>\n",
       "      <td>0.037038</td>\n",
       "      <td>0.037037</td>\n",
       "      <td>0.037037</td>\n",
       "      <td>0.037043</td>\n",
       "    </tr>\n",
       "    <tr>\n",
       "      <th>1</th>\n",
       "      <td>0.925890</td>\n",
       "      <td>0.009262</td>\n",
       "      <td>0.009264</td>\n",
       "      <td>0.009264</td>\n",
       "      <td>0.009264</td>\n",
       "      <td>0.009265</td>\n",
       "      <td>0.009263</td>\n",
       "      <td>0.009263</td>\n",
       "      <td>0.009266</td>\n",
       "    </tr>\n",
       "    <tr>\n",
       "      <th>2</th>\n",
       "      <td>0.799170</td>\n",
       "      <td>0.002366</td>\n",
       "      <td>0.002367</td>\n",
       "      <td>0.002366</td>\n",
       "      <td>0.002366</td>\n",
       "      <td>0.002366</td>\n",
       "      <td>0.002366</td>\n",
       "      <td>0.184267</td>\n",
       "      <td>0.002366</td>\n",
       "    </tr>\n",
       "    <tr>\n",
       "      <th>3</th>\n",
       "      <td>0.799178</td>\n",
       "      <td>0.002366</td>\n",
       "      <td>0.002367</td>\n",
       "      <td>0.002366</td>\n",
       "      <td>0.002366</td>\n",
       "      <td>0.002366</td>\n",
       "      <td>0.002366</td>\n",
       "      <td>0.184260</td>\n",
       "      <td>0.002366</td>\n",
       "    </tr>\n",
       "    <tr>\n",
       "      <th>4</th>\n",
       "      <td>0.001020</td>\n",
       "      <td>0.001020</td>\n",
       "      <td>0.001020</td>\n",
       "      <td>0.001020</td>\n",
       "      <td>0.411041</td>\n",
       "      <td>0.532986</td>\n",
       "      <td>0.049853</td>\n",
       "      <td>0.001020</td>\n",
       "      <td>0.001020</td>\n",
       "    </tr>\n",
       "  </tbody>\n",
       "</table>\n",
       "</div>"
      ],
      "text/plain": [
       "    Analyst  Security  Leadership  Software/Web Dev  Cloud Computing  \\\n",
       "0  0.037037  0.037038    0.037037          0.703682         0.037050   \n",
       "1  0.925890  0.009262    0.009264          0.009264         0.009264   \n",
       "2  0.799170  0.002366    0.002367          0.002366         0.002366   \n",
       "3  0.799178  0.002366    0.002367          0.002366         0.002366   \n",
       "4  0.001020  0.001020    0.001020          0.001020         0.411041   \n",
       "\n",
       "   Computer Network  Database Admin  Computer Support    WebDev  \n",
       "0          0.037038        0.037037          0.037037  0.037043  \n",
       "1          0.009265        0.009263          0.009263  0.009266  \n",
       "2          0.002366        0.002366          0.184267  0.002366  \n",
       "3          0.002366        0.002366          0.184260  0.002366  \n",
       "4          0.532986        0.049853          0.001020  0.001020  "
      ]
     },
     "execution_count": 45,
     "metadata": {},
     "output_type": "execute_result"
    }
   ],
   "source": [
    "#name columns for dataframe\n",
    "\n",
    "col_names=['Analyst', 'Security', 'Leadership', 'Software/Web Dev', \n",
    "           'Cloud Computing', 'Computer Network', 'Database Admin', \n",
    "           'Computer Support', 'WebDev']\n",
    "\n",
    "df_topic_vecs.columns = col_names\n",
    "df_topic_vecs.head()"
   ]
  },
  {
   "cell_type": "markdown",
   "metadata": {},
   "source": [
    "---"
   ]
  },
  {
   "cell_type": "markdown",
   "metadata": {},
   "source": [
    "# Nearest Neighbors"
   ]
  },
  {
   "cell_type": "code",
   "execution_count": 46,
   "metadata": {},
   "outputs": [],
   "source": [
    "#next step merge df_topic_vecs with original df of job titles and job descriptions\n",
    "#pickle the merged df"
   ]
  },
  {
   "cell_type": "code",
   "execution_count": 47,
   "metadata": {},
   "outputs": [],
   "source": [
    "df_final = pd.merge(df, df_topic_vecs, \n",
    "                    left_index=True, \n",
    "                    right_index=True)"
   ]
  },
  {
   "cell_type": "code",
   "execution_count": 48,
   "metadata": {},
   "outputs": [
    {
     "data": {
      "text/html": [
       "<div>\n",
       "<style scoped>\n",
       "    .dataframe tbody tr th:only-of-type {\n",
       "        vertical-align: middle;\n",
       "    }\n",
       "\n",
       "    .dataframe tbody tr th {\n",
       "        vertical-align: top;\n",
       "    }\n",
       "\n",
       "    .dataframe thead th {\n",
       "        text-align: right;\n",
       "    }\n",
       "</style>\n",
       "<table border=\"1\" class=\"dataframe\">\n",
       "  <thead>\n",
       "    <tr style=\"text-align: right;\">\n",
       "      <th></th>\n",
       "      <th>job_description</th>\n",
       "      <th>job_title</th>\n",
       "      <th>Analyst</th>\n",
       "      <th>Security</th>\n",
       "      <th>Leadership</th>\n",
       "      <th>Software/Web Dev</th>\n",
       "      <th>Cloud Computing</th>\n",
       "      <th>Computer Network</th>\n",
       "      <th>Database Admin</th>\n",
       "      <th>Computer Support</th>\n",
       "      <th>WebDev</th>\n",
       "    </tr>\n",
       "  </thead>\n",
       "  <tbody>\n",
       "    <tr>\n",
       "      <th>0</th>\n",
       "      <td>'2+ years of experience developing java / j2ee...</td>\n",
       "      <td>java developer</td>\n",
       "      <td>0.037037</td>\n",
       "      <td>0.037038</td>\n",
       "      <td>0.037037</td>\n",
       "      <td>0.703682</td>\n",
       "      <td>0.037050</td>\n",
       "      <td>0.037038</td>\n",
       "      <td>0.037037</td>\n",
       "      <td>0.037037</td>\n",
       "      <td>0.037043</td>\n",
       "    </tr>\n",
       "    <tr>\n",
       "      <th>1</th>\n",
       "      <td>'passion for technology and learning, a natura...</td>\n",
       "      <td>ios developer mobile</td>\n",
       "      <td>0.925890</td>\n",
       "      <td>0.009262</td>\n",
       "      <td>0.009264</td>\n",
       "      <td>0.009264</td>\n",
       "      <td>0.009264</td>\n",
       "      <td>0.009265</td>\n",
       "      <td>0.009263</td>\n",
       "      <td>0.009263</td>\n",
       "      <td>0.009266</td>\n",
       "    </tr>\n",
       "    <tr>\n",
       "      <th>2</th>\n",
       "      <td>'we enjoy approved it vendor status with sever...</td>\n",
       "      <td>euc engineer</td>\n",
       "      <td>0.799141</td>\n",
       "      <td>0.002366</td>\n",
       "      <td>0.002367</td>\n",
       "      <td>0.002366</td>\n",
       "      <td>0.002366</td>\n",
       "      <td>0.002366</td>\n",
       "      <td>0.002366</td>\n",
       "      <td>0.184296</td>\n",
       "      <td>0.002366</td>\n",
       "    </tr>\n",
       "    <tr>\n",
       "      <th>3</th>\n",
       "      <td>'we enjoy approved it vendor status with sever...</td>\n",
       "      <td>software developer rpg</td>\n",
       "      <td>0.799154</td>\n",
       "      <td>0.002366</td>\n",
       "      <td>0.002367</td>\n",
       "      <td>0.002366</td>\n",
       "      <td>0.002366</td>\n",
       "      <td>0.002366</td>\n",
       "      <td>0.002366</td>\n",
       "      <td>0.184283</td>\n",
       "      <td>0.002366</td>\n",
       "    </tr>\n",
       "    <tr>\n",
       "      <th>4</th>\n",
       "      <td>'sme in linux operating system with strong vir...</td>\n",
       "      <td>linux consultant with weblogic exp</td>\n",
       "      <td>0.001020</td>\n",
       "      <td>0.001020</td>\n",
       "      <td>0.001020</td>\n",
       "      <td>0.001020</td>\n",
       "      <td>0.411034</td>\n",
       "      <td>0.532981</td>\n",
       "      <td>0.049865</td>\n",
       "      <td>0.001020</td>\n",
       "      <td>0.001020</td>\n",
       "    </tr>\n",
       "  </tbody>\n",
       "</table>\n",
       "</div>"
      ],
      "text/plain": [
       "                                     job_description  \\\n",
       "0  '2+ years of experience developing java / j2ee...   \n",
       "1  'passion for technology and learning, a natura...   \n",
       "2  'we enjoy approved it vendor status with sever...   \n",
       "3  'we enjoy approved it vendor status with sever...   \n",
       "4  'sme in linux operating system with strong vir...   \n",
       "\n",
       "                            job_title   Analyst  Security  Leadership  \\\n",
       "0                      java developer  0.037037  0.037038    0.037037   \n",
       "1                ios developer mobile  0.925890  0.009262    0.009264   \n",
       "2                        euc engineer  0.799141  0.002366    0.002367   \n",
       "3              software developer rpg  0.799154  0.002366    0.002367   \n",
       "4  linux consultant with weblogic exp  0.001020  0.001020    0.001020   \n",
       "\n",
       "   Software/Web Dev  Cloud Computing  Computer Network  Database Admin  \\\n",
       "0          0.703682         0.037050          0.037038        0.037037   \n",
       "1          0.009264         0.009264          0.009265        0.009263   \n",
       "2          0.002366         0.002366          0.002366        0.002366   \n",
       "3          0.002366         0.002366          0.002366        0.002366   \n",
       "4          0.001020         0.411034          0.532981        0.049865   \n",
       "\n",
       "   Computer Support    WebDev  \n",
       "0          0.037037  0.037043  \n",
       "1          0.009263  0.009266  \n",
       "2          0.184296  0.002366  \n",
       "3          0.184283  0.002366  \n",
       "4          0.001020  0.001020  "
      ]
     },
     "execution_count": 48,
     "metadata": {},
     "output_type": "execute_result"
    }
   ],
   "source": [
    "#pickle.dump(df_final, open('dreamjobber_web/webapp/pickled_models/df_final.pkl', 'wb'))\n",
    "pickled_df_final = pickle.load(open('dreamjobber_web/webapp/pickled_models/df_final.pkl', 'rb'))\n",
    "pickled_df_final.head()"
   ]
  },
  {
   "cell_type": "code",
   "execution_count": 49,
   "metadata": {},
   "outputs": [],
   "source": [
    "topics = pickled_df_final.drop(['job_description', 'job_title'], axis=1)\n",
    "jobs = pickled_df_final['job_title']"
   ]
  },
  {
   "cell_type": "code",
   "execution_count": 50,
   "metadata": {},
   "outputs": [],
   "source": [
    "#pickle jobs for use in webapp\n",
    "#pickle.dump(jobs, open('dreamjobber_web/webapp/pickled_models/jobs.pkl', 'wb'))\n",
    "jobs = pickle.load(open('dreamjobber_web/webapp/pickled_models/jobs.pkl', 'rb'))"
   ]
  },
  {
   "cell_type": "code",
   "execution_count": 51,
   "metadata": {},
   "outputs": [
    {
     "data": {
      "text/plain": [
       "NearestNeighbors(algorithm='auto', leaf_size=30, metric='minkowski',\n",
       "         metric_params=None, n_jobs=None, n_neighbors=50, p=2, radius=1.0)"
      ]
     },
     "execution_count": 51,
     "metadata": {},
     "output_type": "execute_result"
    }
   ],
   "source": [
    "nearest_neighbor = NearestNeighbors(n_neighbors=50)\n",
    "nearest_neighbor.fit(topics)"
   ]
  },
  {
   "cell_type": "code",
   "execution_count": 52,
   "metadata": {},
   "outputs": [],
   "source": [
    "#pickle nearest_neighbor model for use in webapp\n",
    "#pickle.dump(nearest_neighbor, open('dreamjobber_web/webapp/pickled_models/nn_model.pkl', 'wb'))\n",
    "nearest_neighbor = pickle.load(open('dreamjobber_web/webapp/pickled_models/nn_model.pkl', 'rb'))"
   ]
  },
  {
   "cell_type": "markdown",
   "metadata": {},
   "source": [
    "---"
   ]
  },
  {
   "cell_type": "markdown",
   "metadata": {},
   "source": [
    "**Make Recommendations**"
   ]
  },
  {
   "cell_type": "code",
   "execution_count": 53,
   "metadata": {
    "scrolled": true
   },
   "outputs": [
    {
     "name": "stdout",
     "output_type": "stream",
     "text": [
      "Scale of 0-10.\n",
      "    0 is Do NOT agree and 10 is agree\n",
      "Agree or Disagree: I am/I like Analyst: 8\n",
      "Agree or Disagree: I am/I like Security: 5\n",
      "Agree or Disagree: I am/I like Leadership: 4\n",
      "Agree or Disagree: I am/I like Software/App Dev: 5\n",
      "Agree or Disagree: I am/I like Cloud Computing: 3\n",
      "Agree or Disagree: I am/I like Computer Network: 3\n",
      "Agree or Disagree: I am/I like Database Admin: 7\n",
      "Agree or Disagree: I am/I like Computer Support: 0\n",
      "Agree or Disagree: I am/I like WebDev: 5\n",
      "\n",
      "\n",
      "['1. c++ quant developer elite global wealth management team', '2. data conversion analyst', '3. lead application developer', '4. data architect', '5. data modeler c++ mortgage backed securities', '6. business intelligence engineer', '7. data engineer', '8. level data engineer', '9. data scientist', '10. software engineer']\n",
      "How did you like your recommendations? bad, okay, or goodokay\n"
     ]
    }
   ],
   "source": [
    "show_to_user(nearest_neighbor, jobs)"
   ]
  }
 ],
 "metadata": {
  "kernelspec": {
   "display_name": "Python [conda env:root]",
   "language": "python",
   "name": "conda-root-py"
  },
  "language_info": {
   "codemirror_mode": {
    "name": "ipython",
    "version": 3
   },
   "file_extension": ".py",
   "mimetype": "text/x-python",
   "name": "python",
   "nbconvert_exporter": "python",
   "pygments_lexer": "ipython3",
   "version": "3.7.1"
  }
 },
 "nbformat": 4,
 "nbformat_minor": 2
}
