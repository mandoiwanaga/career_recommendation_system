{
 "cells": [
  {
   "cell_type": "markdown",
   "metadata": {},
   "source": [
    "# DreamJobber"
   ]
  },
  {
   "cell_type": "markdown",
   "metadata": {},
   "source": [
    "---"
   ]
  },
  {
   "cell_type": "markdown",
   "metadata": {},
   "source": [
    "**Process**\n",
    "1. Clean text\n",
    "2. Bag of Words\n",
    "3. LDA model (Latent Dirichlet allocation) \n",
    "4. Define Topics from LDA model\n",
    "5. Tf-idf and K-means Clustering for job titles??"
   ]
  },
  {
   "cell_type": "markdown",
   "metadata": {},
   "source": [
    "---"
   ]
  },
  {
   "cell_type": "markdown",
   "metadata": {},
   "source": [
    "**Import Necessary Libraries**"
   ]
  },
  {
   "cell_type": "code",
   "execution_count": 1,
   "metadata": {},
   "outputs": [],
   "source": [
    "import pandas as pd\n",
    "import gensim\n",
    "from gensim.utils import simple_preprocess\n",
    "from gensim.parsing.preprocessing import STOPWORDS\n",
    "from nltk.stem import WordNetLemmatizer, SnowballStemmer\n",
    "from nltk.stem.porter import *\n",
    "import numpy as np\n",
    "import nltk\n",
    "from functions import *\n",
    "import pickle"
   ]
  },
  {
   "cell_type": "code",
   "execution_count": 2,
   "metadata": {},
   "outputs": [
    {
     "name": "stderr",
     "output_type": "stream",
     "text": [
      "[nltk_data] Downloading package wordnet to /Users/admin/nltk_data...\n",
      "[nltk_data]   Package wordnet is already up-to-date!\n"
     ]
    },
    {
     "data": {
      "text/plain": [
       "True"
      ]
     },
     "execution_count": 2,
     "metadata": {},
     "output_type": "execute_result"
    }
   ],
   "source": [
    "#nltk.download('wordnet')"
   ]
  },
  {
   "cell_type": "markdown",
   "metadata": {},
   "source": [
    "---"
   ]
  },
  {
   "cell_type": "markdown",
   "metadata": {},
   "source": [
    "**Load Data**"
   ]
  },
  {
   "cell_type": "code",
   "execution_count": 3,
   "metadata": {},
   "outputs": [],
   "source": [
    "df = pd.read_csv('data/combined.csv')"
   ]
  },
  {
   "cell_type": "code",
   "execution_count": 4,
   "metadata": {},
   "outputs": [
    {
     "data": {
      "text/html": [
       "<div>\n",
       "<style scoped>\n",
       "    .dataframe tbody tr th:only-of-type {\n",
       "        vertical-align: middle;\n",
       "    }\n",
       "\n",
       "    .dataframe tbody tr th {\n",
       "        vertical-align: top;\n",
       "    }\n",
       "\n",
       "    .dataframe thead th {\n",
       "        text-align: right;\n",
       "    }\n",
       "</style>\n",
       "<table border=\"1\" class=\"dataframe\">\n",
       "  <thead>\n",
       "    <tr style=\"text-align: right;\">\n",
       "      <th></th>\n",
       "      <th>job_description</th>\n",
       "      <th>job_title</th>\n",
       "    </tr>\n",
       "  </thead>\n",
       "  <tbody>\n",
       "    <tr>\n",
       "      <th>0</th>\n",
       "      <td>DOJ offers a range of opportunities for experi...</td>\n",
       "      <td>Attorney and Assistant United States Attorney</td>\n",
       "    </tr>\n",
       "    <tr>\n",
       "      <th>1</th>\n",
       "      <td>As an FBI Special Agent with a military or law...</td>\n",
       "      <td>Special Agent - Law Enforcement or Military Ve...</td>\n",
       "    </tr>\n",
       "    <tr>\n",
       "      <th>2</th>\n",
       "      <td>As an FBI Special Agent with expertise in educ...</td>\n",
       "      <td>Special Agent - Education/Teaching Background</td>\n",
       "    </tr>\n",
       "    <tr>\n",
       "      <th>3</th>\n",
       "      <td>As an FBI Special Agent with Accounting/Financ...</td>\n",
       "      <td>Special Agent - Accounting/Finance Background</td>\n",
       "    </tr>\n",
       "    <tr>\n",
       "      <th>4</th>\n",
       "      <td>As an FBI Special Agent, your STEM background ...</td>\n",
       "      <td>Special Agent - Science, Technology, Engineeri...</td>\n",
       "    </tr>\n",
       "  </tbody>\n",
       "</table>\n",
       "</div>"
      ],
      "text/plain": [
       "                                     job_description  \\\n",
       "0  DOJ offers a range of opportunities for experi...   \n",
       "1  As an FBI Special Agent with a military or law...   \n",
       "2  As an FBI Special Agent with expertise in educ...   \n",
       "3  As an FBI Special Agent with Accounting/Financ...   \n",
       "4  As an FBI Special Agent, your STEM background ...   \n",
       "\n",
       "                                           job_title  \n",
       "0      Attorney and Assistant United States Attorney  \n",
       "1  Special Agent - Law Enforcement or Military Ve...  \n",
       "2      Special Agent - Education/Teaching Background  \n",
       "3      Special Agent - Accounting/Finance Background  \n",
       "4  Special Agent - Science, Technology, Engineeri...  "
      ]
     },
     "execution_count": 4,
     "metadata": {},
     "output_type": "execute_result"
    }
   ],
   "source": [
    "df.head()"
   ]
  },
  {
   "cell_type": "code",
   "execution_count": 5,
   "metadata": {},
   "outputs": [
    {
     "data": {
      "text/plain": [
       "job_description    5\n",
       "job_title          0\n",
       "dtype: int64"
      ]
     },
     "execution_count": 5,
     "metadata": {},
     "output_type": "execute_result"
    }
   ],
   "source": [
    "#check for missing values\n",
    "df.isna().sum()"
   ]
  },
  {
   "cell_type": "code",
   "execution_count": 6,
   "metadata": {},
   "outputs": [
    {
     "name": "stdout",
     "output_type": "stream",
     "text": [
      "<class 'pandas.core.frame.DataFrame'>\n",
      "RangeIndex: 32000 entries, 0 to 31999\n",
      "Data columns (total 2 columns):\n",
      "job_description    31995 non-null object\n",
      "job_title          32000 non-null object\n",
      "dtypes: object(2)\n",
      "memory usage: 500.1+ KB\n"
     ]
    }
   ],
   "source": [
    "#looks like there are 5 rows that have no job description\n",
    "df.info()"
   ]
  },
  {
   "cell_type": "code",
   "execution_count": 7,
   "metadata": {},
   "outputs": [],
   "source": [
    "#drop rows with no job descriptions\n",
    "df = df[pd.notnull(df['job_description'])]"
   ]
  },
  {
   "cell_type": "code",
   "execution_count": 8,
   "metadata": {},
   "outputs": [
    {
     "name": "stdout",
     "output_type": "stream",
     "text": [
      "<class 'pandas.core.frame.DataFrame'>\n",
      "Int64Index: 31995 entries, 0 to 31999\n",
      "Data columns (total 2 columns):\n",
      "job_description    31995 non-null object\n",
      "job_title          31995 non-null object\n",
      "dtypes: object(2)\n",
      "memory usage: 749.9+ KB\n"
     ]
    }
   ],
   "source": [
    "#sanity check, looks good\n",
    "df.info()"
   ]
  },
  {
   "cell_type": "markdown",
   "metadata": {},
   "source": [
    "---"
   ]
  },
  {
   "cell_type": "markdown",
   "metadata": {},
   "source": [
    "## Text Cleaning"
   ]
  },
  {
   "cell_type": "markdown",
   "metadata": {},
   "source": [
    "1. Tokenize\n",
    "2. Remove words with fewer than 3 characters\n",
    "3. Remove stop words\n",
    "4. Normalize words (Lemmatize and Stem)"
   ]
  },
  {
   "cell_type": "markdown",
   "metadata": {},
   "source": [
    "**Test the functions on one row of text**"
   ]
  },
  {
   "cell_type": "code",
   "execution_count": 9,
   "metadata": {},
   "outputs": [],
   "source": [
    "stemmer = SnowballStemmer('english')"
   ]
  },
  {
   "cell_type": "code",
   "execution_count": 10,
   "metadata": {},
   "outputs": [
    {
     "name": "stdout",
     "output_type": "stream",
     "text": [
      "original text: \n",
      "['Newly', 'appointed', 'employee(s)', 'or', 'employee(s)', 'converted', 'to', 'permanent', 'status,', 'selected', 'under', 'this', 'announcement,', 'may', 'be', 'eligible', 'to', 'apply', 'for', 'an', 'award', 'up', 'to', 'the', 'maximum', 'limitation', 'under', 'the', 'provisions', 'of', 'the', 'Education', 'Debt', 'Reduction', 'Program', '(EDRP).', 'Funding,', 'on', 'the', 'final', 'award', 'amount,', 'is', 'contingent', 'on', 'the', 'availability', 'of', 'EDRP', 'funds.', 'Employee(s)', 'must', 'apply', 'for', 'EDRP', 'within', 'four', '(4)', 'months', 'of', 'appointment', 'or', 'conversion.']\n",
      "\n",
      "\n",
      " tokenized and lemmatized text: \n",
      "['newli', 'appoint', 'convert', 'perman', 'status', 'select', 'announc', 'elig', 'appli', 'award', 'maximum', 'limit', 'provis', 'educ', 'debt', 'reduct', 'program', 'edrp', 'fund', 'final', 'award', 'conting', 'avail', 'edrp', 'fund', 'appli', 'edrp', 'month', 'appoint', 'convers']\n"
     ]
    }
   ],
   "source": [
    "text_sample = df[df.index == 5000].values[0][0]\n",
    "\n",
    "print('original text: ')\n",
    "words = []\n",
    "for word in text_sample.split(' '):\n",
    "    words.append(word)\n",
    "print(words)\n",
    "print('\\n\\n tokenized and lemmatized text: ')\n",
    "print(preprocess(text_sample))"
   ]
  },
  {
   "cell_type": "markdown",
   "metadata": {},
   "source": [
    "**Apply functions to job_description**"
   ]
  },
  {
   "cell_type": "code",
   "execution_count": 11,
   "metadata": {},
   "outputs": [
    {
     "data": {
      "text/plain": [
       "0    [offer, rang, opportun, experi, attorney, work...\n",
       "1    [special, agent, militari, enforc, background,...\n",
       "2    [special, agent, expertis, educ, gift, relat, ...\n",
       "3    [special, agent, account, financi, expertis, e...\n",
       "4    [special, agent, stem, background, provid, ski...\n",
       "Name: job_description, dtype: object"
      ]
     },
     "execution_count": 11,
     "metadata": {},
     "output_type": "execute_result"
    }
   ],
   "source": [
    "#apply function and display first 5 rows\n",
    "processed_text = df['job_description'].map(preprocess)\n",
    "processed_text[:5]"
   ]
  },
  {
   "cell_type": "markdown",
   "metadata": {},
   "source": [
    "---"
   ]
  },
  {
   "cell_type": "markdown",
   "metadata": {},
   "source": [
    "## Bag of Words"
   ]
  },
  {
   "cell_type": "code",
   "execution_count": 12,
   "metadata": {},
   "outputs": [],
   "source": [
    "#I'll use bag of words to extract features from text for use in modeling"
   ]
  },
  {
   "cell_type": "code",
   "execution_count": 26,
   "metadata": {},
   "outputs": [],
   "source": [
    "dictionary = gensim.corpora.Dictionary(processed_text)"
   ]
  },
  {
   "cell_type": "code",
   "execution_count": 27,
   "metadata": {},
   "outputs": [
    {
     "data": {
      "text/plain": [
       "56095"
      ]
     },
     "execution_count": 27,
     "metadata": {},
     "output_type": "execute_result"
    }
   ],
   "source": [
    "#check the length before I filter out the extremes\n",
    "len(dictionary)"
   ]
  },
  {
   "cell_type": "code",
   "execution_count": 28,
   "metadata": {},
   "outputs": [],
   "source": [
    "dictionary.filter_extremes(no_below=5, no_above=0.5, keep_n=100000)"
   ]
  },
  {
   "cell_type": "code",
   "execution_count": 29,
   "metadata": {},
   "outputs": [
    {
     "data": {
      "text/plain": [
       "11379"
      ]
     },
     "execution_count": 29,
     "metadata": {},
     "output_type": "execute_result"
    }
   ],
   "source": [
    "#check length after filtering out extremes\n",
    "len(dictionary)"
   ]
  },
  {
   "cell_type": "code",
   "execution_count": 30,
   "metadata": {},
   "outputs": [],
   "source": [
    "#bow2doc: counts the number of occurrences of each distinct word, \n",
    "#converts the word to its integer word id and returns the result as a sparse vector\n",
    "\n",
    "bow2doc_corpus = [dictionary.doc2bow(text) for text in processed_text]"
   ]
  },
  {
   "cell_type": "code",
   "execution_count": 31,
   "metadata": {},
   "outputs": [
    {
     "name": "stdout",
     "output_type": "stream",
     "text": [
      "Word 46 (\"militari\") appears 2 time.\n",
      "Word 85 (\"area\") appears 4 time.\n",
      "Word 97 (\"follow\") appears 1 time.\n",
      "Word 163 (\"local\") appears 1 time.\n",
      "Word 186 (\"announc\") appears 2 time.\n",
      "Word 189 (\"day\") appears 1 time.\n",
      "Word 197 (\"open\") appears 1 time.\n",
      "Word 248 (\"includ\") appears 1 time.\n",
      "Word 278 (\"defin\") appears 1 time.\n",
      "Word 301 (\"close\") appears 1 time.\n",
      "Word 308 (\"consider\") appears 2 time.\n",
      "Word 309 (\"date\") appears 1 time.\n",
      "Word 403 (\"vacanc\") appears 2 time.\n",
      "Word 620 (\"claim\") appears 1 time.\n",
      "Word 624 (\"prefer\") appears 1 time.\n",
      "Word 634 (\"member\") appears 1 time.\n",
      "Word 641 (\"commut\") appears 1 time.\n",
      "Word 673 (\"separ\") appears 1 time.\n",
      "Word 693 (\"armi\") appears 1 time.\n",
      "Word 876 (\"counti\") appears 1 time.\n",
      "Word 1154 (\"move\") appears 1 time.\n",
      "Word 1620 (\"citizen\") appears 1 time.\n",
      "Word 2099 (\"involuntarili\") appears 1 time.\n",
      "Word 2104 (\"spous\") appears 1 time.\n",
      "Word 2137 (\"monterey\") appears 2 time.\n",
      "Word 2726 (\"garrison\") appears 1 time.\n",
      "Word 3439 (\"cruz\") appears 1 time.\n",
      "Word 3440 (\"presidio\") appears 1 time.\n",
      "Word 3441 (\"santa\") appears 1 time.\n"
     ]
    }
   ],
   "source": [
    "#let's take a look\n",
    "bow_doc_5000 = bow2doc_corpus[5000]\n",
    "\n",
    "for i in range(len(bow_doc_5000)):\n",
    "    print(\"Word {} (\\\"{}\\\") appears {} time.\".format(bow_doc_5000[i][0], \n",
    "                                                     dictionary[bow_doc_5000[i][0]], \n",
    "                                                     bow_doc_5000[i][1]))"
   ]
  },
  {
   "cell_type": "markdown",
   "metadata": {},
   "source": [
    "---"
   ]
  },
  {
   "cell_type": "markdown",
   "metadata": {},
   "source": [
    "## LDA model with Bag of Words"
   ]
  },
  {
   "cell_type": "code",
   "execution_count": 32,
   "metadata": {},
   "outputs": [],
   "source": [
    "lda_model = gensim.models.LdaMulticore(bow2doc_corpus, \n",
    "                                       num_topics=6, \n",
    "                                       id2word=dictionary, \n",
    "                                       passes=10, \n",
    "                                       workers=4)\n"
   ]
  },
  {
   "cell_type": "code",
   "execution_count": 33,
   "metadata": {},
   "outputs": [
    {
     "name": "stdout",
     "output_type": "stream",
     "text": [
      "Topic: 0 \n",
      "Words: 0.016*\"custom\" + 0.012*\"product\" + 0.010*\"safeti\" + 0.010*\"food\" + 0.010*\"manag\" + 0.010*\"equip\" + 0.009*\"maintain\" + 0.009*\"time\" + 0.008*\"abil\" + 0.008*\"perform\"\n",
      "Topic: 1 \n",
      "Words: 0.015*\"manag\" + 0.012*\"develop\" + 0.012*\"sale\" + 0.011*\"project\" + 0.011*\"custom\" + 0.010*\"busi\" + 0.010*\"market\" + 0.009*\"product\" + 0.009*\"skill\" + 0.009*\"team\"\n",
      "Topic: 2 \n",
      "Words: 0.034*\"care\" + 0.028*\"patient\" + 0.024*\"nurs\" + 0.015*\"medic\" + 0.015*\"health\" + 0.012*\"provid\" + 0.011*\"clinic\" + 0.009*\"home\" + 0.008*\"assist\" + 0.007*\"resid\"\n",
      "Topic: 3 \n",
      "Words: 0.036*\"store\" + 0.031*\"manag\" + 0.019*\"assist\" + 0.018*\"custom\" + 0.015*\"abil\" + 0.013*\"perform\" + 0.011*\"associ\" + 0.009*\"duti\" + 0.008*\"product\" + 0.008*\"mainten\"\n",
      "Topic: 4 \n",
      "Words: 0.019*\"manag\" + 0.012*\"account\" + 0.010*\"skill\" + 0.009*\"includ\" + 0.008*\"offic\" + 0.008*\"abil\" + 0.008*\"process\" + 0.007*\"report\" + 0.007*\"year\" + 0.007*\"assist\"\n",
      "Topic: 5 \n",
      "Words: 0.014*\"benefit\" + 0.011*\"opportun\" + 0.011*\"compani\" + 0.009*\"train\" + 0.009*\"career\" + 0.008*\"insur\" + 0.008*\"year\" + 0.008*\"time\" + 0.007*\"team\" + 0.007*\"nation\"\n"
     ]
    }
   ],
   "source": [
    "for idx, topic in lda_model.print_topics(-1):\n",
    "    print('Topic: {} \\nWords: {}'.format(idx, topic))"
   ]
  },
  {
   "cell_type": "markdown",
   "metadata": {},
   "source": [
    "**Pickled LDA model results**"
   ]
  },
  {
   "cell_type": "code",
   "execution_count": 24,
   "metadata": {},
   "outputs": [],
   "source": [
    "# pickle.dump(lda_model, open('lda_model.pkl', 'wb'))\n",
    "pickled_lda = pickle.load(open('lda_model.pkl', 'rb'))"
   ]
  },
  {
   "cell_type": "code",
   "execution_count": 25,
   "metadata": {},
   "outputs": [
    {
     "name": "stdout",
     "output_type": "stream",
     "text": [
      "Topic: 0 \n",
      "Words: 0.031*\"care\" + 0.025*\"patient\" + 0.021*\"nurs\" + 0.016*\"health\" + 0.015*\"medic\" + 0.013*\"provid\" + 0.011*\"clinic\" + 0.008*\"assist\" + 0.008*\"home\" + 0.007*\"manag\"\n",
      "Topic: 1 \n",
      "Words: 0.016*\"busi\" + 0.016*\"manag\" + 0.013*\"develop\" + 0.012*\"account\" + 0.009*\"team\" + 0.008*\"year\" + 0.008*\"client\" + 0.008*\"compani\" + 0.008*\"skill\" + 0.008*\"provid\"\n",
      "Topic: 2 \n",
      "Words: 0.020*\"custom\" + 0.017*\"sale\" + 0.010*\"manag\" + 0.010*\"time\" + 0.010*\"compani\" + 0.009*\"product\" + 0.008*\"opportun\" + 0.007*\"team\" + 0.007*\"train\" + 0.007*\"includ\"\n",
      "Topic: 3 \n",
      "Words: 0.014*\"locat\" + 0.014*\"applic\" + 0.010*\"test\" + 0.009*\"appli\" + 0.009*\"href\" + 0.008*\"area\" + 0.008*\"attr\" + 0.008*\"offic\" + 0.007*\"famili\" + 0.007*\"hire\"\n",
      "Topic: 4 \n",
      "Words: 0.022*\"manag\" + 0.018*\"store\" + 0.016*\"custom\" + 0.014*\"abil\" + 0.013*\"perform\" + 0.013*\"assist\" + 0.011*\"product\" + 0.009*\"ensur\" + 0.008*\"duti\" + 0.008*\"maintain\"\n",
      "Topic: 5 \n",
      "Words: 0.019*\"project\" + 0.015*\"manag\" + 0.011*\"skill\" + 0.009*\"applic\" + 0.009*\"engin\" + 0.009*\"support\" + 0.008*\"client\" + 0.008*\"develop\" + 0.007*\"year\" + 0.007*\"design\"\n"
     ]
    }
   ],
   "source": [
    "for idx, topic in pickled_lda.print_topics(-1):\n",
    "    print('Topic: {} \\nWords: {}'.format(idx, topic))"
   ]
  },
  {
   "cell_type": "code",
   "execution_count": null,
   "metadata": {},
   "outputs": [],
   "source": [
    "#next-steps\n",
    "#add dicejobs data\n",
    "#find optimal lda model parameters to get a good seperation or topics\n",
    "#figure out the topics\n",
    "#use word probability \n",
    "#figure out what to do with job titles, tfidf and k-means clustering in order to match lda model topics?"
   ]
  },
  {
   "cell_type": "code",
   "execution_count": 28,
   "metadata": {},
   "outputs": [],
   "source": [
    "#!pip install pyLDAvis"
   ]
  },
  {
   "cell_type": "code",
   "execution_count": 21,
   "metadata": {},
   "outputs": [
    {
     "name": "stderr",
     "output_type": "stream",
     "text": [
      "/anaconda3/envs/learn-env/lib/python3.6/site-packages/pyLDAvis/_prepare.py:257: FutureWarning: Sorting because non-concatenation axis is not aligned. A future version\n",
      "of pandas will change to not sort by default.\n",
      "\n",
      "To accept the future behavior, pass 'sort=False'.\n",
      "\n",
      "To retain the current behavior and silence the warning, pass 'sort=True'.\n",
      "\n",
      "  return pd.concat([default_term_info] + list(topic_dfs))\n"
     ]
    },
    {
     "data": {
      "text/html": [
       "\n",
       "<link rel=\"stylesheet\" type=\"text/css\" href=\"https://cdn.rawgit.com/bmabey/pyLDAvis/files/ldavis.v1.0.0.css\">\n",
       "\n",
       "\n",
       "<div id=\"ldavis_el73546005966643539572887\"></div>\n",
       "<script type=\"text/javascript\">\n",
       "\n",
       "var ldavis_el73546005966643539572887_data = {\"mdsDat\": {\"x\": [0.05472470965888971, 0.13965044630831416, 0.012366325168191198, 0.0210111639610088, -0.012199916962332608, -0.21555272813407148], \"y\": [-0.053170477274335236, 0.0040413541131399215, -0.02821418941632754, -0.08501800127441089, 0.19413559590106474, -0.031774282049131436], \"topics\": [1, 2, 3, 4, 5, 6], \"cluster\": [1, 1, 1, 1, 1, 1], \"Freq\": [24.3598690032959, 21.71849250793457, 18.475196838378906, 16.961782455444336, 10.545568466186523, 7.939090728759766]}, \"tinfo\": {\"Category\": [\"Default\", \"Default\", \"Default\", \"Default\", \"Default\", \"Default\", \"Default\", \"Default\", \"Default\", \"Default\", \"Default\", \"Default\", \"Default\", \"Default\", \"Default\", \"Default\", \"Default\", \"Default\", \"Default\", \"Default\", \"Default\", \"Default\", \"Default\", \"Default\", \"Default\", \"Default\", \"Default\", \"Default\", \"Default\", \"Default\", \"Topic1\", \"Topic1\", \"Topic1\", \"Topic1\", \"Topic1\", \"Topic1\", \"Topic1\", \"Topic1\", \"Topic1\", \"Topic1\", \"Topic1\", \"Topic1\", \"Topic1\", \"Topic1\", \"Topic1\", \"Topic1\", \"Topic1\", \"Topic1\", \"Topic1\", \"Topic1\", \"Topic1\", \"Topic1\", \"Topic1\", \"Topic1\", \"Topic1\", \"Topic1\", \"Topic1\", \"Topic1\", \"Topic1\", \"Topic1\", \"Topic1\", \"Topic1\", \"Topic1\", \"Topic1\", \"Topic1\", \"Topic1\", \"Topic1\", \"Topic1\", \"Topic1\", \"Topic1\", \"Topic1\", \"Topic1\", \"Topic1\", \"Topic1\", \"Topic1\", \"Topic1\", \"Topic1\", \"Topic1\", \"Topic1\", \"Topic1\", \"Topic1\", \"Topic1\", \"Topic1\", \"Topic1\", \"Topic1\", \"Topic1\", \"Topic1\", \"Topic1\", \"Topic1\", \"Topic1\", \"Topic1\", \"Topic1\", \"Topic1\", \"Topic1\", \"Topic1\", \"Topic1\", \"Topic1\", \"Topic1\", \"Topic1\", \"Topic1\", \"Topic1\", \"Topic1\", \"Topic1\", \"Topic1\", \"Topic1\", \"Topic1\", \"Topic1\", \"Topic1\", \"Topic1\", \"Topic1\", \"Topic1\", \"Topic1\", \"Topic1\", \"Topic1\", \"Topic1\", \"Topic1\", \"Topic1\", \"Topic1\", \"Topic1\", \"Topic1\", \"Topic1\", \"Topic1\", \"Topic1\", \"Topic1\", \"Topic1\", \"Topic1\", \"Topic2\", \"Topic2\", \"Topic2\", \"Topic2\", \"Topic2\", \"Topic2\", \"Topic2\", \"Topic2\", \"Topic2\", \"Topic2\", \"Topic2\", \"Topic2\", \"Topic2\", \"Topic2\", \"Topic2\", \"Topic2\", \"Topic2\", \"Topic2\", \"Topic2\", \"Topic2\", \"Topic2\", \"Topic2\", \"Topic2\", \"Topic2\", \"Topic2\", \"Topic2\", \"Topic2\", \"Topic2\", \"Topic2\", \"Topic2\", \"Topic2\", \"Topic2\", \"Topic2\", \"Topic2\", \"Topic2\", \"Topic2\", \"Topic2\", \"Topic2\", \"Topic2\", \"Topic2\", \"Topic2\", \"Topic2\", \"Topic2\", \"Topic2\", \"Topic2\", \"Topic2\", \"Topic2\", \"Topic2\", \"Topic2\", \"Topic2\", \"Topic2\", \"Topic2\", \"Topic2\", \"Topic2\", \"Topic2\", \"Topic2\", \"Topic2\", \"Topic2\", \"Topic2\", \"Topic2\", \"Topic2\", \"Topic2\", \"Topic2\", \"Topic2\", \"Topic2\", \"Topic2\", \"Topic2\", \"Topic2\", \"Topic2\", \"Topic2\", \"Topic2\", \"Topic2\", \"Topic2\", \"Topic2\", \"Topic2\", \"Topic2\", \"Topic2\", \"Topic2\", \"Topic2\", \"Topic2\", \"Topic2\", \"Topic2\", \"Topic2\", \"Topic2\", \"Topic2\", \"Topic2\", \"Topic2\", \"Topic2\", \"Topic2\", \"Topic2\", \"Topic2\", \"Topic2\", \"Topic3\", \"Topic3\", \"Topic3\", \"Topic3\", \"Topic3\", \"Topic3\", \"Topic3\", \"Topic3\", \"Topic3\", \"Topic3\", \"Topic3\", \"Topic3\", \"Topic3\", \"Topic3\", \"Topic3\", \"Topic3\", \"Topic3\", \"Topic3\", \"Topic3\", \"Topic3\", \"Topic3\", \"Topic3\", \"Topic3\", \"Topic3\", \"Topic3\", \"Topic3\", \"Topic3\", \"Topic3\", \"Topic3\", \"Topic3\", \"Topic3\", \"Topic3\", \"Topic3\", \"Topic3\", \"Topic3\", \"Topic3\", \"Topic3\", \"Topic3\", \"Topic3\", \"Topic3\", \"Topic3\", \"Topic3\", \"Topic3\", \"Topic3\", \"Topic3\", \"Topic3\", \"Topic3\", \"Topic3\", \"Topic3\", \"Topic3\", \"Topic3\", \"Topic3\", \"Topic3\", \"Topic3\", \"Topic3\", \"Topic3\", \"Topic3\", \"Topic3\", \"Topic3\", \"Topic3\", \"Topic3\", \"Topic3\", \"Topic3\", \"Topic3\", \"Topic3\", \"Topic3\", \"Topic3\", \"Topic3\", \"Topic3\", \"Topic3\", \"Topic3\", \"Topic3\", \"Topic3\", \"Topic3\", \"Topic3\", \"Topic3\", \"Topic3\", \"Topic3\", \"Topic3\", \"Topic3\", \"Topic3\", \"Topic3\", \"Topic3\", \"Topic3\", \"Topic3\", \"Topic3\", \"Topic3\", \"Topic3\", \"Topic3\", \"Topic3\", \"Topic3\", \"Topic3\", \"Topic3\", \"Topic4\", \"Topic4\", \"Topic4\", \"Topic4\", \"Topic4\", \"Topic4\", \"Topic4\", \"Topic4\", \"Topic4\", \"Topic4\", \"Topic4\", \"Topic4\", \"Topic4\", \"Topic4\", \"Topic4\", \"Topic4\", \"Topic4\", \"Topic4\", \"Topic4\", \"Topic4\", \"Topic4\", \"Topic4\", \"Topic4\", \"Topic4\", \"Topic4\", \"Topic4\", \"Topic4\", \"Topic4\", \"Topic4\", \"Topic4\", \"Topic4\", \"Topic4\", \"Topic4\", \"Topic4\", \"Topic4\", \"Topic4\", \"Topic4\", \"Topic4\", \"Topic4\", \"Topic4\", \"Topic4\", \"Topic4\", \"Topic4\", \"Topic4\", \"Topic4\", \"Topic4\", \"Topic4\", \"Topic4\", \"Topic4\", \"Topic4\", \"Topic4\", \"Topic4\", \"Topic4\", \"Topic4\", \"Topic4\", \"Topic4\", \"Topic4\", \"Topic4\", \"Topic4\", \"Topic4\", \"Topic4\", \"Topic4\", \"Topic4\", \"Topic4\", \"Topic4\", \"Topic4\", \"Topic4\", \"Topic4\", \"Topic4\", \"Topic4\", \"Topic4\", \"Topic4\", \"Topic4\", \"Topic4\", \"Topic4\", \"Topic4\", \"Topic4\", \"Topic4\", \"Topic4\", \"Topic4\", \"Topic4\", \"Topic4\", \"Topic4\", \"Topic4\", \"Topic4\", \"Topic4\", \"Topic4\", \"Topic4\", \"Topic4\", \"Topic4\", \"Topic4\", \"Topic4\", \"Topic5\", \"Topic5\", \"Topic5\", \"Topic5\", \"Topic5\", \"Topic5\", \"Topic5\", \"Topic5\", \"Topic5\", \"Topic5\", \"Topic5\", \"Topic5\", \"Topic5\", \"Topic5\", \"Topic5\", \"Topic5\", \"Topic5\", \"Topic5\", \"Topic5\", \"Topic5\", \"Topic5\", \"Topic5\", \"Topic5\", \"Topic5\", \"Topic5\", \"Topic5\", \"Topic5\", \"Topic5\", \"Topic5\", \"Topic5\", \"Topic5\", \"Topic5\", \"Topic5\", \"Topic5\", \"Topic5\", \"Topic5\", \"Topic5\", \"Topic5\", \"Topic5\", \"Topic5\", \"Topic5\", \"Topic5\", \"Topic5\", \"Topic5\", \"Topic5\", \"Topic5\", \"Topic5\", \"Topic5\", \"Topic5\", \"Topic5\", \"Topic5\", \"Topic5\", \"Topic5\", \"Topic5\", \"Topic5\", \"Topic5\", \"Topic5\", \"Topic5\", \"Topic5\", \"Topic5\", \"Topic5\", \"Topic5\", \"Topic5\", \"Topic5\", \"Topic5\", \"Topic5\", \"Topic5\", \"Topic5\", \"Topic5\", \"Topic5\", \"Topic5\", \"Topic5\", \"Topic5\", \"Topic6\", \"Topic6\", \"Topic6\", \"Topic6\", \"Topic6\", \"Topic6\", \"Topic6\", \"Topic6\", \"Topic6\", \"Topic6\", \"Topic6\", \"Topic6\", \"Topic6\", \"Topic6\", \"Topic6\", \"Topic6\", \"Topic6\", \"Topic6\", \"Topic6\", \"Topic6\", \"Topic6\", \"Topic6\", \"Topic6\", \"Topic6\", \"Topic6\", \"Topic6\", \"Topic6\", \"Topic6\", \"Topic6\", \"Topic6\", \"Topic6\", \"Topic6\", \"Topic6\", \"Topic6\", \"Topic6\", \"Topic6\", \"Topic6\", \"Topic6\", \"Topic6\", \"Topic6\", \"Topic6\", \"Topic6\", \"Topic6\", \"Topic6\", \"Topic6\", \"Topic6\", \"Topic6\", \"Topic6\", \"Topic6\", \"Topic6\", \"Topic6\", \"Topic6\", \"Topic6\", \"Topic6\", \"Topic6\", \"Topic6\", \"Topic6\", \"Topic6\", \"Topic6\", \"Topic6\", \"Topic6\", \"Topic6\", \"Topic6\", \"Topic6\", \"Topic6\", \"Topic6\", \"Topic6\", \"Topic6\", \"Topic6\", \"Topic6\", \"Topic6\", \"Topic6\"], \"Freq\": [16716.0, 12560.0, 20532.0, 10523.0, 22866.0, 25196.0, 42526.0, 10881.0, 11656.0, 20637.0, 24124.0, 5535.0, 12865.0, 16380.0, 12007.0, 10621.0, 6469.0, 27082.0, 3232.0, 7138.0, 26038.0, 13136.0, 6583.0, 6110.0, 26638.0, 2942.0, 6811.0, 12854.0, 15013.0, 6059.0, 4060.0185546875, 372.5603942871094, 329.524169921875, 280.83270263671875, 249.36172485351562, 507.8791809082031, 227.29954528808594, 244.82028198242188, 244.3444061279297, 256.4429016113281, 170.91493225097656, 171.64654541015625, 171.6453094482422, 161.89723205566406, 188.35450744628906, 190.96450805664062, 118.8199234008789, 115.8901138305664, 114.30381774902344, 113.65555572509766, 113.6555404663086, 113.65550231933594, 113.6554183959961, 113.65520477294922, 114.88045501708984, 223.181640625, 128.03868103027344, 128.9206085205078, 102.4407958984375, 96.3274154663086, 563.2384643554688, 1776.4095458984375, 826.6004638671875, 2539.58251953125, 2158.733154296875, 145.94972229003906, 810.9716186523438, 209.76780700683594, 179.58486938476562, 152.2759246826172, 13641.3359375, 2729.88916015625, 403.1688537597656, 513.3995361328125, 255.88446044921875, 1551.30859375, 18239.794921875, 508.14654541015625, 6316.728515625, 774.015380859375, 562.9039916992188, 703.8291625976562, 3830.454833984375, 2582.875732421875, 882.2360229492188, 15504.71484375, 2696.013427734375, 2723.028564453125, 3450.958251953125, 984.4052734375, 5993.12158203125, 1866.4803466796875, 3136.6064453125, 5773.36572265625, 2459.5400390625, 9514.7109375, 4719.37109375, 1706.208251953125, 4122.5693359375, 3315.15869140625, 4134.845703125, 5379.359375, 3716.010498046875, 6833.57080078125, 8181.09228515625, 10612.1162109375, 18085.130859375, 9571.2451171875, 9463.4482421875, 5096.38427734375, 7504.29150390625, 7851.67724609375, 9249.7431640625, 5265.09814453125, 9322.2490234375, 7794.7978515625, 4708.84228515625, 8297.9833984375, 6021.83544921875, 5831.08251953125, 6069.5625, 5064.65185546875, 6122.5234375, 6670.56591796875, 5311.3271484375, 5592.439453125, 1187.66650390625, 941.986083984375, 480.1579895019531, 480.0460205078125, 433.2007141113281, 307.6920166015625, 288.208740234375, 227.7493133544922, 284.9007263183594, 243.07278442382812, 190.92581176757812, 185.09422302246094, 191.87945556640625, 511.0027770996094, 154.34707641601562, 247.50453186035156, 123.15192413330078, 104.85469055175781, 127.2063217163086, 89.69999694824219, 85.81941986083984, 83.26673889160156, 80.35997772216797, 81.28085327148438, 96.7138442993164, 76.55492401123047, 76.04145050048828, 75.95690155029297, 75.27985382080078, 75.27985382080078, 502.52850341796875, 1058.39501953125, 509.8835144042969, 289.1847839355469, 135.68988037109375, 204.44635009765625, 19023.6953125, 683.1178588867188, 478.5641174316406, 202.94024658203125, 1318.5107421875, 5849.8046875, 505.3674621582031, 1129.4661865234375, 949.4505004882812, 2495.659423828125, 2010.254638671875, 952.8956298828125, 3723.8486328125, 410.6175842285156, 1578.523681640625, 3021.68408203125, 1843.7781982421875, 2693.301513671875, 7869.73291015625, 1645.755859375, 5741.720703125, 5935.13525390625, 990.3292846679688, 4421.01318359375, 1598.5419921875, 13733.0205078125, 5415.84912109375, 13515.1552734375, 9787.34375, 2966.78515625, 8253.3447265625, 2885.948486328125, 14518.3896484375, 4787.86328125, 6640.0439453125, 7165.80908203125, 11783.9453125, 23013.87890625, 16546.205078125, 6129.59033203125, 8176.974609375, 6153.23974609375, 3669.97802734375, 4949.61181640625, 7992.84423828125, 6001.318359375, 7549.22021484375, 6085.607421875, 6409.54150390625, 4419.08984375, 4552.60107421875, 7478.08935546875, 5350.72412109375, 6404.27978515625, 6162.1025390625, 5196.79150390625, 2320.477783203125, 457.3279113769531, 484.10528564453125, 518.1286010742188, 343.3456726074219, 198.6403350830078, 221.32281494140625, 176.47604370117188, 159.46107482910156, 147.29690551757812, 143.67221069335938, 535.190185546875, 121.8460922241211, 142.50747680664062, 121.23330688476562, 1312.3533935546875, 276.3739318847656, 217.98919677734375, 104.6228256225586, 233.35801696777344, 89.3485336303711, 113.120361328125, 81.6252212524414, 305.6492004394531, 80.71316528320312, 90.53486633300781, 73.63153076171875, 69.98831939697266, 68.8777847290039, 69.98955535888672, 1538.3538818359375, 426.6316223144531, 381.30560302734375, 150.42237854003906, 353.3599548339844, 1136.5107421875, 547.3038330078125, 339.2481384277344, 291.2579345703125, 598.8939208984375, 3304.731689453125, 705.9908447265625, 389.6152038574219, 1954.4229736328125, 253.4192657470703, 386.87164306640625, 5030.23779296875, 5599.5869140625, 1147.8927001953125, 2471.440185546875, 14670.5439453125, 2036.855224609375, 609.6983032226562, 3285.020263671875, 641.720947265625, 17533.357421875, 1502.4970703125, 4114.04736328125, 2909.069091796875, 2341.37255859375, 2802.562744140625, 2318.962646484375, 8891.6728515625, 3487.276123046875, 1744.721923828125, 2806.304443359375, 8582.9482421875, 6044.75927734375, 2706.44775390625, 2464.703857421875, 3728.430419921875, 3352.240478515625, 7699.83740234375, 6623.27734375, 3883.65771484375, 5562.4873046875, 3450.935546875, 6436.7861328125, 3830.261962890625, 8897.9267578125, 4359.84130859375, 4950.14794921875, 5747.89111328125, 4163.00390625, 5485.82177734375, 5440.37646484375, 5045.39208984375, 3232.942138671875, 4084.08056640625, 3934.202392578125, 3459.627197265625, 3446.668212890625, 3405.489013671875, 2696.230224609375, 1207.221435546875, 857.2730102539062, 596.722900390625, 470.5378112792969, 456.8816833496094, 455.5570068359375, 455.5545349121094, 456.32183837890625, 455.51641845703125, 455.489013671875, 456.6067199707031, 421.0943603515625, 285.217041015625, 198.98733520507812, 176.3614501953125, 467.7500305175781, 158.18557739257812, 393.7395324707031, 108.6850357055664, 185.20327758789062, 103.50101470947266, 101.33699798583984, 103.63943481445312, 99.98960876464844, 154.84669494628906, 99.57965850830078, 675.777099609375, 93.0153579711914, 138.57627868652344, 482.3617248535156, 375.0865173339844, 158.1595001220703, 554.96142578125, 231.1858367919922, 226.73135375976562, 198.95669555664062, 1590.677490234375, 404.5808410644531, 493.27606201171875, 2070.12744140625, 5294.30908203125, 581.0587768554688, 350.52154541015625, 1748.7926025390625, 503.2851257324219, 562.6490478515625, 15436.634765625, 7293.7392578125, 1246.4500732421875, 1852.214599609375, 3882.11376953125, 5550.36181640625, 3630.9267578125, 1849.893310546875, 5424.79150390625, 2177.328857421875, 3577.886962890625, 1699.7476806640625, 1210.47705078125, 1117.1429443359375, 3660.58642578125, 7444.36865234375, 1990.3873291015625, 6984.34375, 1998.742431640625, 5141.91748046875, 5050.03564453125, 4091.06884765625, 2324.052490234375, 9268.20703125, 6193.10888671875, 11824.259765625, 3061.396728515625, 3398.493408203125, 5092.841796875, 5332.1376953125, 6169.0615234375, 4039.061279296875, 4664.96923828125, 5618.4990234375, 3365.70068359375, 3864.14404296875, 5399.26318359375, 5166.73779296875, 3746.271484375, 4272.2275390625, 3731.0546875, 3631.85791015625, 3879.728515625, 3689.014892578125, 3641.075439453125, 10521.6240234375, 12556.474609375, 1266.8035888671875, 1120.3675537109375, 1175.3814697265625, 1431.347412109375, 956.5247192382812, 1526.89306640625, 548.3087158203125, 691.0506591796875, 2673.72119140625, 351.0020751953125, 436.6459655761719, 439.2242126464844, 339.69024658203125, 333.7926025390625, 319.8900451660156, 932.1469116210938, 277.93817138671875, 277.2416687011719, 270.5382995605469, 272.8824462890625, 247.74037170410156, 282.49749755859375, 261.3067321777344, 243.76429748535156, 550.7714233398438, 229.5228729248047, 198.22657775878906, 181.3470458984375, 5414.84912109375, 623.1083984375, 677.2355346679688, 738.4327392578125, 322.6672058105469, 15785.80078125, 918.3084716796875, 631.8277587890625, 2286.82177734375, 562.169677734375, 501.0374450683594, 475.67010498046875, 3072.886962890625, 8056.39453125, 605.615234375, 601.7702026367188, 7728.0673828125, 2610.27685546875, 887.4434204101562, 2919.921630859375, 3764.973388671875, 1228.8953857421875, 2485.137939453125, 2711.48193359375, 2163.6474609375, 6459.939453125, 3351.757080078125, 3260.73291015625, 2584.02490234375, 2442.819580078125, 1901.4189453125, 3682.846435546875, 3666.671875, 2176.61767578125, 3948.233154296875, 3470.85888671875, 2645.84814453125, 2188.381591796875, 3320.14697265625, 3031.843505859375, 3690.2099609375, 2997.567138671875, 2209.764404296875, 2510.170654296875, 3231.673828125, 2941.71923828125, 1615.4931640625, 1847.613037109375, 1292.4176025390625, 2162.6416015625, 754.5663452148438, 1222.4913330078125, 832.808837890625, 321.66925048828125, 324.7085876464844, 323.1576843261719, 323.1533203125, 516.7374267578125, 210.66632080078125, 245.51910400390625, 187.0939178466797, 168.54489135742188, 212.19378662109375, 155.1595001220703, 151.33148193359375, 144.29893493652344, 128.4248809814453, 124.872314453125, 122.56642150878906, 113.5751953125, 106.24158477783203, 105.33722686767578, 101.07429504394531, 1551.4432373046875, 167.4458770751953, 740.3170776367188, 804.3945922851562, 370.4013366699219, 379.0101318359375, 1417.5738525390625, 2203.4873046875, 323.50860595703125, 908.4490356445312, 583.33642578125, 2321.20947265625, 402.34246826171875, 1019.1314086914062, 433.0323181152344, 587.5198974609375, 1488.74755859375, 5133.5859375, 2136.6728515625, 2648.70361328125, 1027.2904052734375, 3696.949951171875, 5121.7685546875, 1974.19384765625, 1255.140625, 2586.791259765625, 3264.114013671875, 2416.014892578125, 3000.55224609375, 2852.853271484375, 1693.672607421875, 1958.1558837890625, 2119.46728515625, 1330.1041259765625, 1880.3189697265625, 1728.6722412109375, 2114.18212890625, 1832.71240234375, 1807.8924560546875, 1658.6614990234375, 1684.7078857421875, 1579.635009765625], \"Term\": [\"care\", \"patient\", \"store\", \"nurs\", \"project\", \"sale\", \"custom\", \"health\", \"medic\", \"applic\", \"busi\", \"clinic\", \"locat\", \"account\", \"test\", \"engin\", \"famili\", \"product\", \"href\", \"food\", \"assist\", \"offic\", \"merchandis\", \"construct\", \"develop\", \"attr\", \"home\", \"appli\", \"market\", \"retail\", \"aflac\", \"parkerlynch\", \"sanofi\", \"lynch\", \"gaap\", \"cogniz\", \"paysm\", \"ismp\", \"involuntarili\", \"policyhold\", \"espanol\", \"muhanna\", \"rami\", \"genzym\", \"agfa\", \"treasuri\", \"duck\", \"compensationat\", \"reap\", \"leaderb\", \"everwel\", \"aflacin\", \"consultantyou\", \"backwhen\", \"trailblaz\", \"casualti\", \"fight\", \"watson\", \"chubb\", \"moroch\", \"ledger\", \"claim\", \"payabl\", \"strateg\", \"financ\", \"kemper\", \"reconcili\", \"vest\", \"ventur\", \"geographi\", \"account\", \"global\", \"ciber\", \"magazin\", \"worksit\", \"revenu\", \"busi\", \"cancer\", \"financi\", \"forecast\", \"insight\", \"renew\", \"analysi\", \"analyt\", \"worldwid\", \"develop\", \"partner\", \"strategi\", \"bachelor\", \"invest\", \"solut\", \"risk\", \"consult\", \"lead\", \"research\", \"client\", \"technolog\", \"analyst\", \"intern\", \"relationship\", \"execut\", \"degre\", \"role\", \"market\", \"process\", \"team\", \"manag\", \"year\", \"compani\", \"data\", \"support\", \"opportun\", \"provid\", \"strong\", \"skill\", \"sale\", \"industri\", \"includ\", \"report\", \"plan\", \"communic\", \"excel\", \"product\", \"custom\", \"program\", \"abil\", \"gram\", \"unavail\", \"inlin\", \"outdat\", \"rite\", \"cardboard\", \"stockroom\", \"tot\", \"countertop\", \"carton\", \"sidewalk\", \"bail\", \"shrink\", \"unexpect\", \"markdown\", \"refund\", \"revers\", \"discomfort\", \"stocker\", \"emit\", \"oldermust\", \"smoothi\", \"brewer\", \"straighten\", \"dusti\", \"deterg\", \"mea\", \"conditionsmay\", \"surfaceth\", \"changesfloor\", \"cap\", \"circumst\", \"tobacco\", \"restroom\", \"checkout\", \"unpack\", \"store\", \"drawer\", \"dust\", \"overrid\", \"urgenc\", \"merchandis\", \"pleas\", \"complaint\", \"fire\", \"machin\", \"floor\", \"describ\", \"inventori\", \"shelv\", \"manual\", \"cash\", \"shop\", \"inspect\", \"procedur\", \"display\", \"safeti\", \"task\", \"remov\", \"accord\", \"sens\", \"perform\", \"control\", \"assist\", \"ensur\", \"involv\", \"duti\", \"proper\", \"abil\", \"mainten\", \"associ\", \"qualiti\", \"product\", \"manag\", \"custom\", \"equip\", \"maintain\", \"function\", \"supervis\", \"standard\", \"oper\", \"assign\", \"process\", \"direct\", \"knowledg\", \"polici\", \"order\", \"skill\", \"environ\", \"provid\", \"includ\", \"compani\", \"aramark\", \"armk\", \"fargo\", \"nourish\", \"servicemast\", \"sear\", \"harder\", \"terminix\", \"sentenc\", \"reentri\", \"imprison\", \"trugreen\", \"bridal\", \"memor\", \"termit\", \"cook\", \"culinari\", \"ulin\", \"kenan\", \"shopper\", \"prudenti\", \"david\", \"cricket\", \"hertz\", \"hibu\", \"disabilitiesto\", \"brink\", \"pretti\", \"parttim\", \"sous\", \"guest\", \"lawn\", \"banker\", \"corral\", \"utensil\", \"uniform\", \"groceri\", \"ambassador\", \"dealership\", \"club\", \"restaur\", \"din\", \"cater\", \"advantag\", \"pest\", \"recip\", \"retail\", \"food\", \"kitchen\", \"vehicl\", \"sale\", \"consum\", \"beverag\", \"event\", \"outgo\", \"custom\", \"holiday\", \"peopl\", \"great\", \"brand\", \"clean\", \"repair\", \"time\", \"hour\", \"passion\", \"promot\", \"compani\", \"train\", \"pay\", \"driver\", \"offer\", \"drive\", \"product\", \"opportun\", \"career\", \"employ\", \"person\", \"team\", \"abl\", \"manag\", \"market\", \"need\", \"includ\", \"high\", \"abil\", \"skill\", \"provid\", \"look\", \"year\", \"perform\", \"benefit\", \"environ\", \"level\", \"null\", \"caption\", \"newjob\", \"xcybercx\", \"employerapex\", \"apexsystemsinc\", \"nationalguard\", \"planstud\", \"traininga\", \"billretir\", \"servicelow\", \"standardsmust\", \"horizont\", \"stlight\", \"memoranda\", \"grader\", \"gedmust\", \"presidenti\", \"emb\", \"backfil\", \"learnget\", \"learninstead\", \"runway\", \"dam\", \"roadb\", \"photoshop\", \"timber\", \"soldier\", \"revit\", \"mathwork\", \"paraleg\", \"apex\", \"teamsoft\", \"cisco\", \"cybercod\", \"vmware\", \"voip\", \"loan\", \"appleon\", \"subcontractor\", \"media\", \"construct\", \"desktop\", \"directori\", \"server\", \"repay\", \"litig\", \"project\", \"engin\", \"configur\", \"user\", \"softwar\", \"design\", \"network\", \"subject\", \"system\", \"firm\", \"qualifi\", \"websit\", \"window\", \"infrastructur\", \"administr\", \"applic\", \"guard\", \"support\", \"legal\", \"candid\", \"offic\", \"technic\", \"microsoft\", \"skill\", \"client\", \"manag\", \"status\", \"learn\", \"employ\", \"communic\", \"develop\", \"benefit\", \"train\", \"year\", \"nation\", \"meet\", \"team\", \"includ\", \"excel\", \"opportun\", \"market\", \"level\", \"assist\", \"time\", \"knowledg\", \"nurs\", \"patient\", \"hospic\", \"kindr\", \"therapist\", \"therapi\", \"surgic\", \"brookdal\", \"inpati\", \"rehabilit\", \"physician\", \"acl\", \"surg\", \"surgeri\", \"telemetri\", \"caregiv\", \"palliat\", \"outpati\", \"homecar\", \"cardiac\", \"ortho\", \"geriatr\", \"gentiva\", \"psychiatr\", \"pediatr\", \"orthoped\", \"rehab\", \"christus\", \"psychosoci\", \"adolesc\", \"clinic\", \"intervent\", \"admiss\", \"acut\", \"oncolog\", \"care\", \"pharmaci\", \"medicin\", \"treatment\", \"child\", \"therapeut\", \"girl\", \"resid\", \"health\", \"diseas\", \"licensur\", \"medic\", \"hospit\", \"children\", \"healthcar\", \"home\", \"accredit\", \"regist\", \"licens\", \"communiti\", \"provid\", \"educ\", \"staff\", \"center\", \"famili\", \"assess\", \"program\", \"plan\", \"certif\", \"assist\", \"need\", \"state\", \"appropri\", \"includ\", \"time\", \"manag\", \"skill\", \"team\", \"nbsp\", \"href\", \"attr\", \"mns_rt\", \"oldcastl\", \"nonjob\", \"font\", \"england\", \"beacon\", \"whelan\", \"fareast\", \"googleplus\", \"tolowercas\", \"homepag\", \"roman\", \"bidi\", \"naval\", \"indent\", \"bullet\", \"veredus\", \"orphan\", \"widow\", \"lincoln\", \"brentwood\", \"shipyard\", \"frisco\", \"transforc\", \"cambria\", \"petco\", \"charset\", \"vacanc\", \"pinterest\", \"youtub\", \"fort\", \"default\", \"arizona\", \"hill\", \"announc\", \"swift\", \"linkedin\", \"trackingjobbodi\", \"break\", \"spous\", \"fill\", \"oklahoma\", \"span\", \"militari\", \"locat\", \"case\", \"famili\", \"facebook\", \"test\", \"applic\", \"driver\", \"truck\", \"hire\", \"appli\", \"secur\", \"area\", \"offic\", \"open\", \"nation\", \"candid\", \"guard\", \"state\", \"career\", \"time\", \"opportun\", \"includ\", \"oper\", \"compani\", \"inform\"], \"Total\": [16716.0, 12560.0, 20532.0, 10523.0, 22866.0, 25196.0, 42526.0, 10881.0, 11656.0, 20637.0, 24124.0, 5535.0, 12865.0, 16380.0, 12007.0, 10621.0, 6469.0, 27082.0, 3232.0, 7138.0, 26038.0, 13136.0, 6583.0, 6110.0, 26638.0, 2942.0, 6811.0, 12854.0, 15013.0, 6059.0, 4060.95263671875, 373.4197692871094, 330.3774108886719, 281.71929931640625, 250.2177276611328, 509.63446044921875, 228.09912109375, 245.73081970214844, 245.2617645263672, 257.43426513671875, 171.71353149414062, 172.49957275390625, 172.49977111816406, 162.72622680664062, 189.4276580810547, 192.18568420410156, 119.6201400756836, 116.68700408935547, 115.09993743896484, 114.45145416259766, 114.45148468017578, 114.45145416259766, 114.45145416259766, 114.45145416259766, 115.68814086914062, 224.78221130371094, 128.95962524414062, 129.8903045654297, 103.26506042480469, 97.15283966064453, 568.7930297851562, 1816.8912353515625, 846.6093139648438, 2682.695068359375, 2282.53515625, 147.5234375, 858.2947998046875, 213.93775939941406, 182.73716735839844, 154.28323364257812, 16380.5478515625, 3091.1875, 422.76416015625, 544.15576171875, 263.85186767578125, 1753.742919921875, 24124.091796875, 545.2721557617188, 8118.71484375, 861.3538818359375, 613.248291015625, 781.40625, 4876.837890625, 3337.861328125, 1037.1492919921875, 26638.837890625, 3677.38720703125, 3803.4677734375, 5032.59619140625, 1199.7728271484375, 9768.16015625, 2548.1455078125, 4693.138671875, 10374.740234375, 3688.356201171875, 19671.37890625, 8307.24609375, 2382.056884765625, 7224.26953125, 5612.349609375, 7475.5546875, 10581.779296875, 6731.45361328125, 15013.544921875, 19399.06640625, 28565.59765625, 65751.609375, 26416.251953125, 27086.7734375, 10793.9853515625, 19881.814453125, 22458.951171875, 31116.619140625, 12273.3017578125, 34988.57421875, 25196.041015625, 10168.474609375, 30502.75390625, 16636.474609375, 17424.08984375, 20243.580078125, 13808.9267578125, 27082.123046875, 42526.5390625, 17566.994140625, 30376.55078125, 1188.4808349609375, 942.8256225585938, 480.9590759277344, 480.8476257324219, 434.0054931640625, 308.5074462890625, 289.016845703125, 228.5431365966797, 285.90997314453125, 243.95494079589844, 191.71444702148438, 185.8808135986328, 192.79669189453125, 513.4828491210938, 155.1385955810547, 248.975341796875, 123.98406219482422, 105.65048217773438, 128.20863342285156, 90.48846435546875, 86.60781860351562, 84.0724868774414, 81.14921569824219, 82.09831237792969, 97.68859100341797, 77.34217071533203, 76.8274154663086, 76.7432632446289, 76.0660171508789, 76.0660171508789, 510.63311767578125, 1084.265380859375, 519.6773681640625, 294.8633728027344, 137.37655639648438, 208.37144470214844, 20532.830078125, 705.4920654296875, 494.019775390625, 206.9835968017578, 1398.78564453125, 6583.05517578125, 527.491455078125, 1217.5155029296875, 1027.405517578125, 2813.54296875, 2256.753662109375, 1042.4964599609375, 4432.9345703125, 432.3124084472656, 1819.657958984375, 3726.52001953125, 2208.798095703125, 3345.69482421875, 11415.67578125, 2026.5400390625, 8414.1875, 8901.4365234375, 1164.19140625, 6416.3984375, 2017.26806640625, 25531.69140625, 8671.921875, 26038.046875, 17715.357421875, 4295.1533203125, 15000.884765625, 4214.29736328125, 30376.55078125, 7878.67529296875, 12676.6220703125, 14123.220703125, 27082.123046875, 65751.609375, 42526.5390625, 11825.55078125, 17950.87890625, 12329.3876953125, 5956.87744140625, 9300.685546875, 19483.408203125, 13035.3076171875, 19399.06640625, 14545.8447265625, 17520.88671875, 8703.697265625, 9386.04296875, 34988.57421875, 15296.7724609375, 31116.619140625, 30502.75390625, 27086.7734375, 2322.5732421875, 458.2685852050781, 485.225341796875, 519.5626831054688, 344.5909118652344, 199.44686889648438, 222.2600555419922, 177.29611206054688, 160.2786865234375, 148.11587524414062, 144.47637939453125, 538.3307495117188, 122.64716339111328, 143.47030639648438, 122.06680297851562, 1322.334716796875, 278.615234375, 219.75735473632812, 105.49935913085938, 235.40115356445312, 90.14691925048828, 114.17621612548828, 82.42047119140625, 308.68829345703125, 81.5468521118164, 91.52020263671875, 74.43448638916016, 70.79387664794922, 69.67864990234375, 70.80692291259766, 1566.4630126953125, 434.60870361328125, 388.8501892089844, 152.66574096679688, 361.76239013671875, 1188.70751953125, 564.6133422851562, 348.73236083984375, 298.80816650390625, 624.7031860351562, 3589.15087890625, 741.3011474609375, 403.4242248535156, 2186.329345703125, 260.3836975097656, 405.2845458984375, 6059.00830078125, 7138.25146484375, 1320.97705078125, 3032.362060546875, 25196.041015625, 2734.675537109375, 699.72119140625, 4815.5048828125, 747.3974609375, 42526.5390625, 2176.891357421875, 7974.08837890625, 5290.4921875, 4124.27099609375, 5223.283203125, 4127.7568359375, 24817.20703125, 7215.6787109375, 2846.646728515625, 5680.6875, 27086.7734375, 17680.5390625, 5550.583984375, 4897.3603515625, 8971.90234375, 7694.7470703125, 27082.123046875, 22458.951171875, 9777.29296875, 17946.306640625, 8941.03515625, 28565.59765625, 11348.693359375, 65751.609375, 15013.544921875, 20668.42578125, 30502.75390625, 15167.216796875, 30376.55078125, 34988.57421875, 31116.619140625, 8524.490234375, 26416.251953125, 25531.69140625, 13034.70703125, 15296.7724609375, 14860.4453125, 2698.037841796875, 1208.4544677734375, 858.3001708984375, 597.6110229492188, 471.5189514160156, 457.9187316894531, 456.6253356933594, 456.62432861328125, 457.41217041015625, 456.6220703125, 456.62127685546875, 457.8342590332031, 422.4296875, 286.22393798828125, 199.833740234375, 177.21878051757812, 470.0286560058594, 158.98655700683594, 396.5859375, 109.48535919189453, 186.59881591796875, 104.28986358642578, 102.12581634521484, 104.45175170898438, 100.77761840820312, 156.07203674316406, 100.40788269042969, 681.5648803710938, 93.81539154052734, 139.8004150390625, 489.1679992675781, 381.21240234375, 159.61727905273438, 567.6658325195312, 235.10617065429688, 231.38734436035156, 202.60166931152344, 1691.3753662109375, 418.6167297363281, 513.7938232421875, 2273.27392578125, 6110.54931640625, 615.484619140625, 366.09942626953125, 2065.720703125, 541.6071166992188, 612.7108154296875, 22866.794921875, 10621.9453125, 1515.12646484375, 2510.536865234375, 6599.3876953125, 10431.5185546875, 6281.79443359375, 2797.375732421875, 11218.31640625, 3555.6455078125, 6905.2626953125, 2611.16943359375, 1665.732666015625, 1499.97314453125, 7568.11328125, 20637.7890625, 3400.9306640625, 19881.814453125, 3508.896240234375, 13209.63671875, 13136.673828125, 9847.4150390625, 4370.99462890625, 34988.57421875, 19671.37890625, 65751.609375, 7085.458984375, 8716.458984375, 17946.306640625, 20243.580078125, 26638.837890625, 13034.70703125, 17680.5390625, 26416.251953125, 9268.443359375, 13053.748046875, 28565.59765625, 30502.75390625, 13808.9267578125, 22458.951171875, 15013.544921875, 14860.4453125, 26038.046875, 24817.20703125, 17520.88671875, 10523.017578125, 12560.76171875, 1267.6387939453125, 1121.1712646484375, 1176.2640380859375, 1432.464599609375, 957.7521362304688, 1528.9354248046875, 549.1477661132812, 692.4080810546875, 2679.2568359375, 351.79254150390625, 437.65032958984375, 440.2617492675781, 340.50360107421875, 334.6031188964844, 320.66900634765625, 934.438232421875, 278.716552734375, 278.0208435058594, 271.3119812011719, 273.67181396484375, 248.51609802246094, 283.3829040527344, 262.1297302246094, 244.56007385253906, 552.595947265625, 230.3239288330078, 199.0152587890625, 182.13330078125, 5535.3671875, 626.6411743164062, 684.5764770507812, 748.5992431640625, 324.41387939453125, 16716.22265625, 933.9566650390625, 645.15380859375, 2431.119873046875, 577.7684326171875, 519.0557861328125, 491.92724609375, 3742.291015625, 10881.2880859375, 644.057861328125, 643.2257690429688, 11656.271484375, 3653.3681640625, 1024.0286865234375, 4481.29541015625, 6811.18603515625, 1632.2540283203125, 4408.67431640625, 6015.81884765625, 4737.212890625, 31116.619140625, 10986.513671875, 10541.0615234375, 7143.8486328125, 6469.482421875, 4243.09326171875, 17566.994140625, 17424.08984375, 6002.03955078125, 26038.046875, 20668.42578125, 10796.0634765625, 6950.72216796875, 30502.75390625, 24817.20703125, 65751.609375, 34988.57421875, 28565.59765625, 2511.092041015625, 3232.89404296875, 2942.95263671875, 1616.474853515625, 1848.9287109375, 1293.3470458984375, 2164.65625, 755.56298828125, 1224.9288330078125, 834.5715942382812, 322.43505859375, 325.50872802734375, 323.9584045410156, 323.9577941894531, 518.5646362304688, 211.43206787109375, 246.4115753173828, 187.8607635498047, 169.3208465576172, 213.21470642089844, 155.93833923339844, 152.1026611328125, 145.1029510498047, 129.21170043945312, 125.65758514404297, 123.37271118164062, 114.34351348876953, 107.00814819335938, 106.10308837890625, 101.83976745605469, 1571.0704345703125, 168.7938995361328, 758.9364624023438, 833.9468994140625, 380.4425964355469, 392.28515625, 1556.4915771484375, 2591.8076171875, 342.4921875, 1046.15673828125, 655.6116943359375, 3122.04443359375, 450.59814453125, 1351.0299072265625, 495.9537048339844, 733.3070068359375, 2395.293701171875, 12865.37890625, 4731.3779296875, 6469.482421875, 1734.6739501953125, 12007.3798828125, 20637.7890625, 4897.3603515625, 2497.3720703125, 8335.1494140625, 12854.392578125, 7979.6533203125, 13202.5625, 13136.673828125, 5137.2255859375, 9268.443359375, 13209.63671875, 3400.9306640625, 10796.0634765625, 9777.29296875, 24817.20703125, 22458.951171875, 30502.75390625, 19483.408203125, 27086.7734375, 16305.861328125], \"loglift\": [30.0, 29.0, 28.0, 27.0, 26.0, 25.0, 24.0, 23.0, 22.0, 21.0, 20.0, 19.0, 18.0, 17.0, 16.0, 15.0, 14.0, 13.0, 12.0, 11.0, 10.0, 9.0, 8.0, 7.0, 6.0, 5.0, 4.0, 3.0, 2.0, 1.0, 1.4119999408721924, 1.4098999500274658, 1.409600019454956, 1.40910005569458, 1.4088000059127808, 1.4088000059127808, 1.4086999893188477, 1.4084999561309814, 1.4084999561309814, 1.408400058746338, 1.4076000452041626, 1.4072999954223633, 1.4072999954223633, 1.407099962234497, 1.406599998474121, 1.405900001525879, 1.405500054359436, 1.405400037765503, 1.4053000211715698, 1.4053000211715698, 1.4053000211715698, 1.4053000211715698, 1.4053000211715698, 1.4053000211715698, 1.4052000045776367, 1.4050999879837036, 1.4050999879837036, 1.4047000408172607, 1.4041999578475952, 1.4036999940872192, 1.402400016784668, 1.3897000551223755, 1.3882999420166016, 1.3573999404907227, 1.3565000295639038, 1.4014999866485596, 1.3554999828338623, 1.3925000429153442, 1.3947999477386475, 1.3990999460220337, 1.229200005531311, 1.2878999710083008, 1.364799976348877, 1.354099988937378, 1.381600022315979, 1.2896000146865845, 1.132599949836731, 1.3416999578475952, 1.1612999439239502, 1.305299997329712, 1.3265999555587769, 1.3077000379562378, 1.170699954032898, 1.1557999849319458, 1.250499963760376, 0.8709999918937683, 1.1017999649047852, 1.0780999660491943, 1.0348999500274658, 1.214400053024292, 0.9236999750137329, 1.1009000539779663, 1.0092999935150146, 0.8260999917984009, 1.0069999694824219, 0.6858999729156494, 0.8468000292778015, 1.0785000324249268, 0.8513000011444092, 0.8858000040054321, 0.8199999928474426, 0.7357000112533569, 0.8180999755859375, 0.6251000165939331, 0.548799991607666, 0.421999990940094, 0.12139999866485596, 0.3970000147819519, 0.36059999465942383, 0.6618000268936157, 0.43790000677108765, 0.361299991607666, 0.19910000264644623, 0.5659000277519226, 0.08959999680519104, 0.23899999260902405, 0.6424000263214111, 0.1103999987244606, 0.3959999978542328, 0.3176000118255615, 0.2076999992132187, 0.4092000126838684, -0.0746999979019165, -0.44020000100135803, 0.21610000729560852, -0.2800000011920929, 1.5262999534606934, 1.5261000394821167, 1.5253000259399414, 1.5253000259399414, 1.5252000093460083, 1.524399995803833, 1.5241999626159668, 1.5234999656677246, 1.5234999656677246, 1.5233999490737915, 1.5228999853134155, 1.5227999687194824, 1.5221999883651733, 1.5221999883651733, 1.5219000577926636, 1.5211000442504883, 1.520300030708313, 1.5194000005722046, 1.5191999673843384, 1.5183000564575195, 1.517899990081787, 1.5174000263214111, 1.517199993133545, 1.5169999599456787, 1.5169999599456787, 1.516800045967102, 1.516700029373169, 1.516700029373169, 1.5166000127792358, 1.5166000127792358, 1.5110000371932983, 1.5029000043869019, 1.5080000162124634, 1.507599949836731, 1.5147000551223755, 1.5080000162124634, 1.450700044631958, 1.4947999715805054, 1.4952000379562378, 1.5073000192642212, 1.467900037765503, 1.4089000225067139, 1.4842000007629395, 1.4519000053405762, 1.448099970817566, 1.407099962234497, 1.4112999439239502, 1.4371000528335571, 1.3526999950408936, 1.4754999876022339, 1.3847999572753906, 1.3172999620437622, 1.3464000225067139, 1.3100999593734741, 1.1549999713897705, 1.3188999891281128, 1.1447999477386475, 1.1217000484466553, 1.3653000593185425, 1.1545000076293945, 1.2943999767303467, 0.9068999886512756, 1.0562000274658203, 0.8712999820709229, 0.9337000250816345, 1.156999945640564, 0.9294999837875366, 1.1483999490737915, 0.7888000011444092, 1.0289000272750854, 0.8804000020027161, 0.8485000133514404, 0.6948999762535095, 0.4772000014781952, 0.5830000042915344, 0.8698999881744385, 0.7407000064849854, 0.8320000171661377, 1.0426000356674194, 0.8962000012397766, 0.6359999775886536, 0.7512999773025513, 0.5831999778747559, 0.6556000113487244, 0.521399974822998, 0.8492000102996826, 0.8034999966621399, -0.01600000075995922, 0.4765999913215637, -0.05380000174045563, -0.07240000367164612, -0.12399999797344208, 1.6878000497817993, 1.6866999864578247, 1.686400055885315, 1.6859999895095825, 1.6850999593734741, 1.6847000122070312, 1.684499979019165, 1.6841000318527222, 1.6835999488830566, 1.6832000017166138, 1.6832000017166138, 1.6828999519348145, 1.6821999549865723, 1.6820000410079956, 1.6819000244140625, 1.6812000274658203, 1.6806999444961548, 1.6806999444961548, 1.680400013923645, 1.6799999475479126, 1.679800033569336, 1.6794999837875366, 1.6790000200271606, 1.6787999868392944, 1.6785000562667847, 1.677899956703186, 1.677899956703186, 1.677299976348877, 1.6771999597549438, 1.6770999431610107, 1.6706000566482544, 1.670199990272522, 1.669100046157837, 1.6739000082015991, 1.6651999950408936, 1.6438000202178955, 1.6576000452041626, 1.6612000465393066, 1.663100004196167, 1.6464999914169312, 1.6061999797821045, 1.6398999691009521, 1.6539000272750854, 1.5765999555587769, 1.6615999937057495, 1.642199993133545, 1.5026999711990356, 1.4459999799728394, 1.54830002784729, 1.4842000007629395, 1.1478999853134155, 1.3940999507904053, 1.5509999990463257, 1.3063000440597534, 1.5362999439239502, 0.8026999831199646, 1.3179999589920044, 1.0269999504089355, 1.0907000303268433, 1.1225999593734741, 1.066100001335144, 1.1121000051498413, 0.6622999906539917, 0.9616000056266785, 1.1992000341415405, 0.9835000038146973, 0.5394999980926514, 0.6154999732971191, 0.9704999923706055, 1.0020999908447266, 0.8105999827384949, 0.8578000068664551, 0.4311000108718872, 0.4675999879837036, 0.765500009059906, 0.5174000263214111, 0.7366999983787537, 0.19859999418258667, 0.6025999784469604, -0.31130000948905945, 0.4521999955177307, 0.2596000134944916, 0.01979999989271164, 0.39579999446868896, -0.02280000038444996, -0.17239999771118164, -0.13050000369548798, 0.7192000150680542, -0.17810000479221344, -0.18150000274181366, 0.36230000853538513, 0.19850000739097595, 0.21539999544620514, 1.7734999656677246, 1.7732000350952148, 1.7730000019073486, 1.7726999521255493, 1.7720999717712402, 1.7719000577926636, 1.7719000577926636, 1.7719000577926636, 1.7718000411987305, 1.7718000411987305, 1.7717000246047974, 1.7714999914169312, 1.7710000276565552, 1.7706999778747559, 1.7699999809265137, 1.7694000005722046, 1.7692999839782715, 1.7691999673843384, 1.7669999599456787, 1.7668999433517456, 1.766700029373169, 1.7666000127792358, 1.7664999961853027, 1.7663999795913696, 1.7663999795913696, 1.7662999629974365, 1.7659000158309937, 1.7656999826431274, 1.7655999660491943, 1.7654000520706177, 1.760200023651123, 1.7580000162124634, 1.7649999856948853, 1.7516000270843506, 1.7574000358581543, 1.7539000511169434, 1.756100058555603, 1.7128000259399414, 1.7401000261306763, 1.7335000038146973, 1.6806000471115112, 1.6308000087738037, 1.716599941253662, 1.7307000160217285, 1.607699990272522, 1.7007999420166016, 1.6890000104904175, 1.3812999725341797, 1.398300051689148, 1.5789999961853027, 1.4701000452041626, 1.2436000108718872, 1.1432000398635864, 1.2259999513626099, 1.360700011253357, 1.0476000308990479, 1.2838000059127808, 1.1167000532150269, 1.3449000120162964, 1.4550000429153442, 1.4795000553131104, 1.0478999614715576, 0.7544999718666077, 1.2384999990463257, 0.7281000018119812, 1.211400032043457, 0.8306999802589417, 0.8181999921798706, 0.895799994468689, 1.1425000429153442, 0.4458000063896179, 0.6184999942779541, 0.05849999934434891, 0.9350000023841858, 0.8323000073432922, 0.5146999955177307, 0.4401000142097473, 0.31139999628067017, 0.6025999784469604, 0.44179999828338623, 0.22630000114440918, 0.7612000107765198, 0.5569000244140625, 0.10830000042915344, -0.00139999995008111, 0.46970000863075256, 0.11469999700784683, 0.38190001249313354, 0.365200012922287, -0.12960000336170197, -0.13199999928474426, 0.20309999585151672, 2.249300003051758, 2.2490999698638916, 2.248800039291382, 2.248699903488159, 2.248699903488159, 2.248699903488159, 2.248199939727783, 2.2481000423431396, 2.2479000091552734, 2.247499942779541, 2.2474000453948975, 2.2472000122070312, 2.2472000122070312, 2.2471001148223877, 2.2471001148223877, 2.246999979019165, 2.246999979019165, 2.246999979019165, 2.2467000484466553, 2.2467000484466553, 2.2465999126434326, 2.2465999126434326, 2.246299982070923, 2.246299982070923, 2.246299982070923, 2.2462000846862793, 2.2462000846862793, 2.246000051498413, 2.245500087738037, 2.2451000213623047, 2.2274999618530273, 2.243799924850464, 2.2386999130249023, 2.23580002784729, 2.2441000938415527, 2.192199945449829, 2.232599973678589, 2.228600025177002, 2.1882998943328857, 2.222100019454956, 2.214099884033203, 2.21589994430542, 2.0524001121520996, 1.9488999843597412, 2.1879000663757324, 2.182800054550171, 1.8385000228881836, 1.9133000373840332, 2.106300115585327, 1.8210999965667725, 1.656599998474121, 1.9656000137329102, 1.676200032234192, 1.4526000022888184, 1.4658000469207764, 0.677299976348877, 1.0622999668121338, 1.0760999917984009, 1.2325999736785889, 1.2755000591278076, 1.4467999935150146, 0.6870999932289124, 0.6909000277519226, 1.2351000308990479, 0.36320000886917114, 0.4652999937534332, 0.8432999849319458, 1.0937999486923218, 0.031700000166893005, 0.14710000157356262, -0.6306999921798706, -0.2078000009059906, -0.3098999857902527, 2.5329999923706055, 2.5329999923706055, 2.5329999923706055, 2.5327999591827393, 2.5327000617980957, 2.5327000617980957, 2.532399892807007, 2.532099962234497, 2.531399965286255, 2.5313000679016113, 2.5309998989105225, 2.530900001525879, 2.530900001525879, 2.530900001525879, 2.5297999382019043, 2.5297000408172607, 2.5297000408172607, 2.5292999744415283, 2.5288000106811523, 2.528599977493286, 2.52839994430542, 2.5283000469207764, 2.5278000831604004, 2.5272998809814453, 2.527100086212158, 2.5267999172210693, 2.526599884033203, 2.52620005607605, 2.526099920272827, 2.5257999897003174, 2.5208001136779785, 2.525399923324585, 2.508500099182129, 2.497299909591675, 2.5065999031066895, 2.4988999366760254, 2.4398999214172363, 2.3710999488830566, 2.476300001144409, 2.392199993133545, 2.416599988937378, 2.236999988555908, 2.420099973678589, 2.251499891281128, 2.397700071334839, 2.3117001056671143, 2.057800054550171, 1.6145999431610107, 1.7383999824523926, 1.6403000354766846, 2.009500026702881, 1.3553999662399292, 1.1397000551223755, 1.6247999668121338, 1.8453999757766724, 1.3632999658584595, 1.1627000570297241, 1.3386000394821167, 1.051800012588501, 1.0062999725341797, 1.423799991607666, 0.9787999987602234, 0.7035999894142151, 1.594599962234497, 0.7856000065803528, 0.8007000088691711, 0.07050000131130219, 0.027499999850988388, -0.2922999858856201, 0.0697999969124794, -0.24410000443458557, 0.19900000095367432], \"logprob\": [30.0, 29.0, 28.0, 27.0, 26.0, 25.0, 24.0, 23.0, 22.0, 21.0, 20.0, 19.0, 18.0, 17.0, 16.0, 15.0, 14.0, 13.0, 12.0, 11.0, 10.0, 9.0, 8.0, 7.0, 6.0, 5.0, 4.0, 3.0, 2.0, 1.0, -5.6539998054504395, -8.04259967803955, -8.165300369262695, -8.325200080871582, -8.444100379943848, -7.732699871063232, -8.536700248718262, -8.462499618530273, -8.464400291442871, -8.416099548339844, -8.821800231933594, -8.817500114440918, -8.81760025024414, -8.87600040435791, -8.724699974060059, -8.71090030670166, -9.185400009155273, -9.21030044555664, -9.224100112915039, -9.2298002243042, -9.2298002243042, -9.2298002243042, -9.2298002243042, -9.2298002243042, -9.219099998474121, -8.555000305175781, -9.110699653625488, -9.103799819946289, -9.333700180053711, -9.3951997756958, -7.629300117492676, -6.480599880218506, -7.245699882507324, -6.123199939727783, -6.285699844360352, -8.979700088500977, -7.264800071716309, -8.616999626159668, -8.772299766540527, -8.937299728393555, -4.4421000480651855, -6.051000118255615, -7.963600158691406, -7.72189998626709, -8.418299674987793, -6.616099834442139, -4.151599884033203, -7.7322001457214355, -5.211999893188477, -7.311399936676025, -7.629899978637695, -7.406499862670898, -5.712200164794922, -6.106299877166748, -7.180500030517578, -4.3140997886657715, -6.063499927520752, -6.053500175476074, -5.8165998458862305, -7.070899963378906, -5.264599800109863, -6.43120002746582, -5.912099838256836, -5.302000045776367, -6.155300140380859, -4.8024001121521, -5.503600120544434, -6.520999908447266, -5.638800144195557, -5.8566999435424805, -5.635799884796143, -5.372700214385986, -5.742599964141846, -5.133399963378906, -4.953400135040283, -4.69320011138916, -4.160099983215332, -4.796500205993652, -4.807799816131592, -5.426700115203857, -5.03980016708374, -4.994500160217285, -4.830599784851074, -5.394100189208984, -4.822800159454346, -5.001800060272217, -5.505799770355225, -4.939199924468994, -5.259799957275391, -5.291999816894531, -5.2519001960754395, -5.4328999519348145, -5.243299961090088, -5.15749979019165, -5.38539981842041, -5.333799839019775, -6.768499851226807, -7.000199794769287, -7.674099922180176, -7.674300193786621, -7.7769999504089355, -8.119099617004395, -8.184499740600586, -8.420000076293945, -8.196100234985352, -8.354900360107422, -8.59630012512207, -8.627300262451172, -8.591300010681152, -7.611800193786621, -8.809000015258789, -8.336799621582031, -9.034799575805664, -9.195599555969238, -9.002400398254395, -9.351699829101562, -9.395999908447266, -9.426199913024902, -9.461700439453125, -9.450300216674805, -9.27649974822998, -9.510199546813965, -9.516900062561035, -9.517999649047852, -9.527000427246094, -9.527000427246094, -7.628600120544434, -6.883699893951416, -7.613999843597412, -8.181099891662598, -8.937800407409668, -8.527899742126465, -3.994800090789795, -7.321499824523926, -7.6774001121521, -8.535300254821777, -6.664000034332275, -5.173999786376953, -7.622900009155273, -6.818699836730957, -6.992300033569336, -6.025899887084961, -6.242199897766113, -6.988699913024902, -5.625699996948242, -7.830599784851074, -6.484000205993652, -5.83459997177124, -6.32859992980957, -5.949699878692627, -4.877399921417236, -6.442299842834473, -5.192699909210205, -5.159599781036377, -6.950200080871582, -5.454100131988525, -6.471399784088135, -4.320700168609619, -5.251100063323975, -4.336599826812744, -4.65939998626709, -5.853000164031982, -4.829800128936768, -5.8805999755859375, -4.264999866485596, -5.3744001388549805, -5.047299861907959, -4.971099853515625, -4.473700046539307, -3.8043999671936035, -4.134300231933594, -5.127299785614014, -4.839099884033203, -5.123499870300293, -5.6402997970581055, -5.341100215911865, -4.8618998527526855, -5.148499965667725, -4.919000148773193, -5.134500026702881, -5.082699775695801, -5.454500198364258, -5.424799919128418, -4.928500175476074, -5.263199806213379, -5.083499908447266, -5.122000217437744, -5.292399883270264, -5.936999797821045, -7.561100006103516, -7.504199981689453, -7.436299800872803, -7.847700119018555, -8.395000457763672, -8.28689956665039, -8.513299942016602, -8.614700317382812, -8.694000244140625, -8.718899726867676, -7.403900146484375, -8.883700370788574, -8.727100372314453, -8.888799667358398, -6.506899833679199, -8.06470012664795, -8.302000045776367, -9.036100387573242, -8.23390007019043, -9.193900108337402, -8.958000183105469, -9.284299850463867, -7.964000225067139, -9.295599937438965, -9.180700302124023, -9.387399673461914, -9.438199996948242, -9.454099655151367, -9.43809986114502, -6.3480000495910645, -7.6305999755859375, -7.7428998947143555, -8.67300033569336, -7.818999767303467, -6.6508002281188965, -7.381499767303467, -7.8597002029418945, -8.012299537658691, -7.291399955749512, -5.583399772644043, -7.1269001960754395, -7.72130012512207, -6.10860013961792, -8.151399612426758, -7.728400230407715, -5.163300037384033, -5.056000232696533, -6.6407999992370605, -5.873899936676025, -4.092899799346924, -6.067299842834473, -7.273499965667725, -5.589399814605713, -7.222300052642822, -3.914599895477295, -6.371600151062012, -5.364299774169922, -5.710899829864502, -5.927999973297119, -5.748199939727783, -5.937600135803223, -4.593599796295166, -5.529600143432617, -6.222099781036377, -5.7469000816345215, -4.628900051116943, -4.979499816894531, -5.783100128173828, -5.876699924468994, -5.462699890136719, -5.5690999031066895, -4.737500190734863, -4.8881001472473145, -5.421899795532227, -5.062699794769287, -5.54010009765625, -4.9166998863220215, -5.435800075531006, -4.592899799346924, -5.306300163269043, -5.179299831390381, -5.029900074005127, -5.352499961853027, -5.076600074768066, -5.08489990234375, -5.160200119018555, -5.605299949645996, -5.371600151062012, -5.408999919891357, -5.537600040435791, -5.541299819946289, -5.553299903869629, -5.701399803161621, -6.504899978637695, -6.847300052642822, -7.20959997177124, -7.4471001625061035, -7.476600170135498, -7.479499816894531, -7.479499816894531, -7.477799892425537, -7.479599952697754, -7.479599952697754, -7.477200031280518, -7.558199882507324, -7.947800159454346, -8.30780029296875, -8.428500175476074, -7.453100204467773, -8.537199974060059, -7.62529993057251, -8.912599563598633, -8.379599571228027, -8.961400032043457, -8.982600212097168, -8.960100173950195, -8.99590015411377, -8.558600425720215, -9.000100135803223, -7.085100173950195, -9.06820011138916, -8.669599533081055, -7.422299861907959, -7.673900127410889, -8.537400245666504, -7.282100200653076, -8.15779972076416, -8.177200317382812, -8.307900428771973, -6.229100227355957, -7.598199844360352, -7.399899959564209, -5.96560001373291, -5.026599884033203, -7.236199855804443, -7.741600036621094, -6.134300231933594, -7.379899978637695, -7.268400192260742, -3.9565000534057617, -4.706200122833252, -6.4730000495910645, -6.076900005340576, -5.336900234222412, -4.979400157928467, -5.403800010681152, -6.078100204467773, -5.002299785614014, -5.915200233459473, -5.418499946594238, -6.162799835205078, -6.502200126647949, -6.582499980926514, -5.395599842071533, -4.685800075531006, -6.004899978637695, -4.749599933624268, -6.000699996948242, -5.055799961090088, -5.07390022277832, -5.2845001220703125, -5.849899768829346, -4.466700077056885, -4.869800090789795, -4.223100185394287, -5.574399948120117, -5.469900131225586, -5.065400123596191, -5.019499778747559, -4.873700141906738, -5.2972002029418945, -5.153200149536133, -4.967199802398682, -5.479599952697754, -5.3414998054504395, -5.006999969482422, -5.051000118255615, -5.372499942779541, -5.241099834442139, -5.3765997886657715, -5.403500080108643, -5.337500095367432, -5.387899875640869, -5.401000022888184, -3.8645999431610107, -3.6877999305725098, -5.981500148773193, -6.104300022125244, -6.056399822235107, -5.859399795532227, -6.262400150299072, -5.7947998046875, -6.818900108337402, -6.587500095367432, -5.234499931335449, -7.264999866485596, -7.046599864959717, -7.0406999588012695, -7.297699928283691, -7.315199851989746, -7.357800006866455, -6.288300037384033, -7.4984002113342285, -7.500899791717529, -7.525300025939941, -7.51669979095459, -7.613399982452393, -7.482100009918213, -7.560100078582764, -7.6296000480651855, -6.8144001960754395, -7.689799785614014, -7.836299896240234, -7.925300121307373, -4.528900146484375, -6.690999984741211, -6.607699871063232, -6.521200180053711, -7.349100112915039, -3.458899974822998, -6.303199768066406, -6.67710018157959, -5.3907999992370605, -6.794000148773193, -6.90910005569458, -6.960999965667725, -5.095399856567383, -4.131499767303467, -6.7195000648498535, -6.725900173187256, -4.173099994659424, -5.258500099182129, -6.337399959564209, -5.146399974822998, -4.892300128936768, -6.011899948120117, -5.307700157165527, -5.2204999923706055, -5.446199893951416, -4.352399826049805, -5.008500099182129, -5.035999774932861, -5.268700122833252, -5.32480001449585, -5.575399875640869, -4.914299964904785, -4.918700218200684, -5.440199851989746, -4.844699859619141, -4.973599910736084, -5.244999885559082, -5.434800148010254, -5.01800012588501, -5.108799934387207, -4.912300109863281, -5.120200157165527, -5.425099849700928, -5.013700008392334, -4.761099815368652, -4.855100154876709, -5.454500198364258, -5.320199966430664, -5.677599906921387, -5.162799835205078, -6.215700149536133, -5.7332000732421875, -6.117000102996826, -7.068299770355225, -7.058899879455566, -7.063700199127197, -7.063700199127197, -6.594299793243408, -7.491600036621094, -7.338500022888184, -7.610199928283691, -7.714600086212158, -7.484300136566162, -7.797399997711182, -7.822400093078613, -7.869999885559082, -7.986499786376953, -8.014599800109863, -8.03320026397705, -8.109399795532227, -8.17609977722168, -8.184700012207031, -8.22599983215332, -5.494900226593018, -7.721199989318848, -6.234799861907959, -6.151800155639648, -6.927299976348877, -6.904300212860107, -5.585100173950195, -5.144100189208984, -7.062600135803223, -6.030099868774414, -6.473100185394287, -5.0920000076293945, -6.8445000648498535, -5.91510009765625, -6.770999908447266, -6.46589994430542, -5.536200046539307, -4.298299789428711, -5.174799919128418, -4.960000038146973, -5.907199859619141, -4.6265997886657715, -4.300600051879883, -5.253900051116943, -5.7067999839782715, -4.983699798583984, -4.751100063323975, -5.052000045776367, -4.835299968719482, -4.885799884796143, -5.407199859619141, -5.2621002197265625, -5.1828999519348145, -5.648799896240234, -5.302700042724609, -5.38670015335083, -5.185400009155273, -5.3282999992370605, -5.341899871826172, -5.428100109100342, -5.412499904632568, -5.476900100708008]}, \"token.table\": {\"Topic\": [1, 2, 3, 4, 5, 6, 1, 2, 3, 4, 5, 6, 1, 2, 3, 4, 5, 6, 1, 2, 3, 4, 5, 6, 1, 2, 3, 4, 5, 6, 5, 1, 5, 1, 2, 3, 4, 5, 6, 1, 4, 5, 6, 5, 1, 2, 3, 4, 5, 1, 1, 1, 1, 2, 3, 4, 1, 2, 3, 4, 5, 6, 1, 2, 4, 6, 1, 2, 3, 4, 5, 6, 1, 2, 3, 4, 5, 6, 1, 4, 4, 3, 4, 1, 2, 3, 4, 5, 6, 1, 2, 3, 4, 5, 6, 1, 2, 3, 4, 5, 6, 2, 3, 1, 2, 3, 4, 5, 6, 1, 4, 5, 6, 3, 1, 2, 3, 4, 5, 6, 1, 2, 3, 4, 5, 6, 1, 2, 3, 4, 5, 6, 1, 2, 3, 4, 5, 6, 6, 1, 2, 3, 4, 5, 6, 4, 1, 2, 1, 3, 5, 6, 1, 2, 3, 4, 5, 6, 2, 3, 6, 4, 1, 2, 3, 4, 6, 1, 2, 3, 4, 5, 6, 6, 2, 3, 3, 3, 5, 6, 1, 2, 3, 4, 5, 6, 6, 1, 5, 1, 2, 3, 4, 5, 6, 1, 2, 3, 4, 2, 5, 1, 2, 3, 4, 5, 6, 1, 2, 3, 4, 5, 6, 5, 2, 1, 2, 3, 4, 5, 6, 1, 2, 3, 4, 5, 6, 1, 4, 1, 2, 3, 4, 1, 2, 3, 4, 5, 6, 1, 2, 3, 4, 5, 6, 2, 6, 2, 3, 1, 2, 4, 5, 6, 1, 5, 5, 1, 1, 2, 1, 2, 5, 6, 2, 4, 1, 2, 3, 4, 5, 6, 1, 2, 3, 4, 5, 6, 1, 2, 3, 4, 5, 6, 1, 2, 4, 5, 6, 1, 2, 3, 4, 1, 2, 1, 2, 3, 4, 5, 6, 1, 2, 3, 4, 5, 6, 1, 2, 3, 4, 5, 6, 1, 1, 2, 3, 4, 5, 2, 1, 2, 4, 6, 1, 2, 3, 4, 5, 6, 1, 2, 3, 4, 5, 6, 1, 1, 2, 3, 4, 5, 6, 1, 2, 3, 4, 5, 6, 2, 3, 3, 6, 2, 3, 2, 3, 1, 2, 3, 4, 5, 6, 1, 4, 6, 4, 1, 2, 3, 4, 5, 6, 3, 1, 3, 6, 1, 2, 4, 6, 1, 2, 3, 4, 5, 6, 1, 2, 3, 4, 5, 6, 1, 2, 3, 4, 5, 6, 1, 2, 4, 6, 2, 1, 2, 3, 4, 5, 6, 2, 3, 5, 1, 2, 3, 4, 5, 6, 1, 2, 4, 3, 2, 1, 5, 6, 1, 2, 3, 4, 5, 6, 2, 3, 1, 2, 3, 4, 5, 6, 1, 2, 3, 4, 5, 6, 1, 2, 3, 6, 2, 1, 2, 3, 4, 5, 6, 1, 2, 3, 4, 5, 6, 2, 3, 4, 2, 1, 2, 3, 4, 5, 6, 4, 1, 2, 3, 4, 5, 6, 6, 1, 2, 3, 4, 5, 6, 1, 2, 3, 4, 5, 6, 1, 2, 3, 4, 5, 6, 1, 1, 2, 3, 4, 5, 6, 1, 1, 2, 3, 4, 5, 6, 1, 2, 3, 4, 5, 6, 1, 2, 3, 4, 6, 1, 2, 3, 4, 5, 6, 6, 3, 1, 1, 2, 3, 4, 5, 6, 1, 2, 3, 4, 5, 6, 1, 2, 3, 4, 5, 6, 2, 4, 1, 2, 3, 4, 5, 6, 1, 2, 3, 4, 5, 6, 1, 6, 1, 2, 3, 4, 5, 1, 2, 3, 4, 1, 2, 3, 4, 5, 6, 6, 1, 2, 3, 4, 5, 6, 1, 3, 4, 5, 1, 1, 4, 5, 3, 5, 1, 2, 3, 4, 5, 6, 6, 4, 2, 1, 2, 3, 4, 5, 6, 2, 3, 4, 1, 3, 4, 6, 2, 3, 4, 6, 3, 1, 2, 3, 4, 5, 6, 1, 2, 3, 4, 5, 6, 1, 3, 3, 1, 2, 3, 4, 5, 6, 1, 2, 3, 4, 5, 6, 1, 2, 3, 4, 5, 6, 1, 2, 3, 4, 5, 6, 1, 2, 3, 4, 5, 6, 5, 6, 2, 4, 5, 1, 2, 3, 4, 5, 6, 1, 2, 3, 4, 5, 6, 6, 3, 1, 2, 3, 4, 5, 6, 6, 1, 2, 3, 4, 5, 6, 1, 2, 3, 4, 5, 6, 1, 2, 4, 6, 2, 5, 1, 2, 3, 4, 1, 2, 3, 4, 5, 6, 1, 2, 3, 4, 5, 6, 1, 4, 5, 1, 2, 3, 4, 5, 6, 1, 2, 3, 4, 5, 6, 1, 1, 2, 3, 4, 5, 6, 1, 1, 4, 3, 5, 2, 3, 1, 2, 3, 4, 5, 6, 2, 3, 1, 2, 3, 4, 5, 6, 1, 1, 2, 3, 4, 5, 6, 3, 4, 4, 1, 2, 3, 6, 1, 2, 3, 4, 5, 6, 1, 2, 3, 4, 5, 6, 1, 2, 3, 4, 5, 6, 1, 3, 5, 6, 1, 3, 4, 5, 6, 1, 4, 6, 1, 2, 3, 4, 5, 1, 2, 3, 4, 5, 6, 1, 2, 3, 4, 5, 6, 1, 1, 2, 3, 4, 6, 1, 3, 4, 1, 2, 3, 4, 5, 6, 1, 2, 3, 4, 5, 6, 1, 2, 3, 4, 5, 6, 1, 2, 3, 4, 5, 6, 2, 1, 2, 3, 4, 5, 6, 2, 4, 2, 1, 2, 3, 4, 5, 6, 1, 2, 3, 4, 5, 6, 1, 5, 6, 1, 2, 3, 4, 5, 6, 3, 4, 2, 3, 4, 1, 2, 3, 4, 5, 6, 1, 2, 3, 4, 5, 6, 6, 1, 1, 1, 2, 3, 4, 5, 6, 4, 6, 6, 1, 2, 3, 4, 5, 6, 1, 2, 3, 4, 5, 6, 4, 6, 2, 3, 3, 4, 5, 1, 2, 3, 4, 5, 6, 1, 2, 3, 4, 5, 6, 1, 3, 5, 6, 6, 2, 1, 5, 1, 2, 3, 4, 5, 6, 1, 2, 3, 4, 5, 6, 1, 2, 3, 4, 5, 6, 1, 2, 3, 4, 5, 6, 6, 5, 5, 2, 1, 2, 3, 4, 6, 5, 6, 2, 6, 5, 1, 4, 6, 1, 1, 2, 3, 4, 5, 6, 3, 1, 2, 3, 4, 5, 6, 1, 2, 5, 6, 1, 2, 3, 4, 5, 6, 1, 2, 3, 4, 6, 1, 5, 1, 2, 3, 4, 5, 6, 1, 2, 3, 4, 5, 6, 1, 2, 3, 4, 5, 6, 2, 3, 6, 1, 2, 5, 4, 1, 5, 6, 4, 6, 1, 2, 3, 4, 5, 6, 4, 1, 2, 3, 5, 1, 2, 3, 4, 5, 6, 1, 4, 3, 1, 2, 3, 4, 5, 6, 1, 2, 3, 4, 5, 6, 1, 2, 3, 4, 5, 6, 1, 2, 3, 4, 5, 6, 1, 2, 3, 4, 5, 6, 1, 2, 3, 4, 5, 6, 1, 2, 3, 4, 5, 6, 1, 2, 3, 4, 5, 6, 3, 5, 5, 1, 2, 3, 4, 5, 6, 1, 2, 3, 4, 5, 6, 1, 1, 2, 3, 1, 2, 3, 4, 5, 6, 3, 1, 2, 1, 2, 3, 4, 5, 6, 4, 5, 5, 1, 2, 3, 4, 5, 6, 1, 2, 3, 4, 5, 6, 1, 2, 3, 4, 5, 1, 2, 3, 4, 5, 6, 3, 4, 5, 1, 2, 3, 4, 5, 6, 1, 2, 3, 4, 5, 6, 1, 2, 3, 4, 5, 6, 2, 3, 4, 2, 3, 1, 2, 3, 4, 5, 6, 1, 2, 3, 4, 5, 6, 2, 4, 1, 2, 3, 4, 5, 6, 2, 4, 1, 2, 3, 4, 5, 6, 3, 6, 4, 1, 2, 3, 4, 5, 6, 1, 2, 3, 4, 5, 6, 1, 3, 1, 2, 3, 4, 5, 6, 1, 2, 3, 4, 5, 6, 3, 1, 2, 3, 4, 6, 4, 2, 3, 2, 3, 6, 1, 2, 3, 4, 6, 2, 3, 4, 2, 2, 1, 2, 3, 4, 5, 6, 2, 1, 2, 3, 4, 5, 6, 3, 4, 5, 6, 1, 2, 3, 4, 5, 6, 3, 1, 2, 3, 4, 5, 6, 1, 6, 1, 2, 3, 4, 5, 6, 1, 2, 3, 4, 5, 6, 3, 4, 1, 2, 3, 4, 5, 6, 1, 2, 3, 4, 5, 6, 4, 2, 2, 1, 2, 3, 4, 6, 2, 1, 2, 3, 4, 5, 1, 2, 3, 4, 5, 1, 2, 3, 4, 5, 6, 1, 2, 3, 4, 6, 1, 2, 3, 4, 5, 6, 1, 2, 3, 4, 5, 6, 1, 2, 3, 4, 5, 6, 2, 5, 5, 5, 1, 2, 3, 4, 6, 1, 2, 3, 4, 5, 6, 1, 2, 3, 4, 5, 6, 1, 2, 3, 4, 5, 6, 1, 4, 1, 2, 3, 4, 5, 6, 1, 2, 3, 4, 5, 6, 5, 3, 3, 1, 2, 3, 4, 5, 6, 1, 5, 5, 5, 4, 1, 2, 3, 4, 5, 6, 1, 2, 3, 5, 6, 2, 1, 2, 3, 4, 5, 6, 1, 1, 2, 3, 4, 5, 6, 4, 6, 1, 1, 2, 3, 4, 5, 6, 2, 3, 6, 2, 3, 1, 3, 2, 2, 3, 1, 2, 3, 6, 2, 3, 6, 1, 2, 3, 4, 1, 2, 3, 4, 5, 2, 3, 1, 5, 6, 1, 2, 3, 4, 5, 6, 1, 3, 4, 6, 1, 6, 1, 2, 4, 2, 4, 1, 1, 2, 3, 4, 5, 6, 3, 6, 6, 1, 2, 3, 4, 6, 1, 6, 1, 2, 3, 4, 6, 4, 1, 2, 3, 4, 5, 6, 1, 3, 4, 6], \"Freq\": [0.18408936262130737, 0.47793444991111755, 0.18059983849525452, 0.10945942997932434, 0.037923987954854965, 0.009974799118936062, 0.0579802431166172, 0.2819707989692688, 0.33748379349708557, 0.21993722021579742, 0.06925907731056213, 0.033395916223526, 0.02493610791862011, 0.689015805721283, 0.09553646296262741, 0.008260085247457027, 0.1739293485879898, 0.00841593649238348, 0.8327560424804688, 0.10634564608335495, 0.03736138716340065, 0.009828731417655945, 0.010683403350412846, 0.00293030496686697, 0.15071183443069458, 0.03675898537039757, 0.01592889241874218, 0.03675898537039757, 0.7529465556144714, 0.0067391470074653625, 0.9977471232414246, 0.012022454291582108, 0.9858412146568298, 0.21696291863918304, 0.063688263297081, 0.03911146521568298, 0.4837401211261749, 0.1230161264538765, 0.07359826564788818, 0.002921514445915818, 0.002921514445915818, 0.9889326095581055, 0.004382271319627762, 0.9937776327133179, 0.06769336760044098, 0.011892078444361687, 0.893735408782959, 0.0260710958391428, 0.00045738762128166854, 0.9997653961181641, 0.9960554838180542, 0.9924632906913757, 0.008602585643529892, 0.0028675284702330828, 0.9720921516418457, 0.014337643049657345, 0.7853449583053589, 0.101910300552845, 0.0004101018130313605, 0.10601131618022919, 0.004101017955690622, 0.002050508977845311, 0.7161877751350403, 0.0071366894990205765, 0.260699063539505, 0.01595260016620159, 0.773848831653595, 0.08328686654567719, 0.0005991860525682569, 0.14140790700912476, 0.0005991860525682569, 0.0005991860525682569, 0.013889919966459274, 0.062118809670209885, 0.0003858311101794243, 0.07176458835601807, 0.0019291555508971214, 0.8499858975410461, 0.013116047717630863, 0.9837035536766052, 0.9979937076568604, 0.031054658815264702, 0.9674720764160156, 0.17682671546936035, 0.11342426389455795, 0.2496422827243805, 0.1758153885602951, 0.03049541264772415, 0.2539209723472595, 0.1553460955619812, 0.12104009836912155, 0.0669645369052887, 0.36069753766059875, 0.04777643457055092, 0.24818550050258636, 0.19221024215221405, 0.36686834692955017, 0.06718726456165314, 0.04819643124938011, 0.31478744745254517, 0.010646375827491283, 0.00043055691639892757, 0.998892068862915, 0.16989126801490784, 0.21556420624256134, 0.22048750519752502, 0.0839231014251709, 0.08286270499229431, 0.2273043543100357, 0.01784416288137436, 0.005098332185298204, 0.007647498045116663, 0.9661339521408081, 0.9972317814826965, 0.22577868402004242, 0.09521355479955673, 0.06174740567803383, 0.04666407033801079, 0.4480222165584564, 0.12231642752885818, 0.15059100091457367, 0.46036505699157715, 0.0984249860048294, 0.13018488883972168, 0.14107836782932281, 0.01933210901916027, 0.07492881268262863, 0.5190481543540955, 0.0851830393075943, 0.1490127146244049, 0.15162427723407745, 0.02020120806992054, 0.12905646860599518, 0.5237988233566284, 0.17149679362773895, 0.03865383192896843, 0.12353448569774628, 0.01341051235795021, 0.9996762871742249, 0.6857295632362366, 0.043913714587688446, 0.003576682647690177, 0.18280823528766632, 0.07987924665212631, 0.004172796383500099, 0.9955669045448303, 0.9960554838180542, 0.9952614307403564, 0.018001791089773178, 0.9798117876052856, 0.0016327479388564825, 0.9976089596748352, 0.2641409635543823, 0.002224829513579607, 0.26544517278671265, 0.3098650276660919, 0.07349608838558197, 0.08477367460727692, 0.12719352543354034, 0.8717758059501648, 0.9979564547538757, 0.9986376762390137, 0.19470107555389404, 0.14790493249893188, 0.5676154494285583, 0.08510594815015793, 0.004364407621324062, 0.005765452980995178, 0.02274150773882866, 0.2062750905752182, 0.011851208284497261, 0.00960908830165863, 0.7434231042861938, 0.990622341632843, 0.9858382344245911, 0.994723379611969, 0.9941628575325012, 0.0006540498579852283, 0.9987341165542603, 0.9981051087379456, 0.7560906410217285, 0.03079908713698387, 0.12696850299835205, 0.07026170939207077, 0.0017409982392564416, 0.014135247096419334, 0.9905787706375122, 0.931644856929779, 0.06602207571268082, 0.22256478667259216, 0.07032744586467743, 0.13808101415634155, 0.38926127552986145, 0.019379790872335434, 0.16041319072246552, 0.011750118806958199, 0.9850516319274902, 0.003916706424206495, 0.9987964034080505, 0.9983551502227783, 0.9963281750679016, 0.008075986988842487, 0.0005982212605886161, 0.03685043007135391, 0.0018544859485700727, 0.9443520903587341, 0.00831527542322874, 0.2192835956811905, 0.03170611709356308, 0.39724695682525635, 0.12293791025876999, 0.05205940082669258, 0.17683830857276917, 0.9981974959373474, 0.9960855841636658, 0.07862403243780136, 0.047343503683805466, 0.0010567746357992291, 0.12892650067806244, 0.29251521825790405, 0.451665461063385, 0.10224016010761261, 0.8109442591667175, 0.08533430844545364, 0.00026834686286747456, 0.0013417343143373728, 0.00026834686286747456, 0.9920713901519775, 0.004448750521987677, 0.009915120899677277, 0.0074363406747579575, 0.9667242765426636, 0.014872681349515915, 0.2472056895494461, 0.10400556027889252, 0.1350812464952469, 0.07013026624917984, 0.3617098033428192, 0.08174864947795868, 0.10946279019117355, 0.19759950041770935, 0.10796330124139786, 0.19726628065109253, 0.36271002888679504, 0.024991504848003387, 0.9859856367111206, 0.9917540550231934, 0.9899796843528748, 0.007279262412339449, 0.01730797253549099, 0.0017307972302660346, 0.0017307972302660346, 0.9727080464363098, 0.006923188921064138, 0.13280877470970154, 0.8661866784095764, 0.9985935688018799, 0.9877493977546692, 0.9532501697540283, 0.04494231566786766, 0.0009222834487445652, 0.9757758975028992, 0.0018445668974891305, 0.021212518215179443, 0.021139197051525116, 0.9776878952980042, 0.9774938225746155, 0.009356641210615635, 0.0016511720605194569, 0.007705469615757465, 0.0027519534341990948, 0.001100781373679638, 0.00019145046826452017, 0.41927650570869446, 0.5366356372833252, 0.0005743514047935605, 0.03694994002580643, 0.006509315688163042, 0.48369765281677246, 0.020537452772259712, 0.0864199697971344, 0.31482288241386414, 0.028111908584833145, 0.06644170731306076, 0.015717115253210068, 0.0003613129665609449, 0.0043357559479773045, 0.9782549142837524, 0.0014452518662437797, 0.03521672636270523, 0.0016007601516321301, 0.958855390548706, 0.004802280571311712, 0.9967928528785706, 0.0019621907267719507, 0.29984813928604126, 0.2224408984184265, 0.13263463973999023, 0.2633921504020691, 0.07716026157140732, 0.004594048950821161, 0.2986988425254822, 0.0012665675021708012, 0.1589542180299759, 0.030397620052099228, 0.4568086862564087, 0.05404021590948105, 0.3493587076663971, 0.19186486303806305, 0.3168705105781555, 0.061912134289741516, 0.017794663086533546, 0.062207482755184174, 0.9941124320030212, 0.020533619448542595, 0.9272982478141785, 0.026283033192157745, 0.008213447406888008, 0.016426894813776016, 0.9903149604797363, 0.05346088483929634, 0.122762031853199, 0.8223735690116882, 0.0006600109045393765, 0.003600331023335457, 0.014728627167642117, 0.037967126816511154, 0.8663705587387085, 0.00032730281236581504, 0.0769161581993103, 0.6684226393699646, 0.005540002603083849, 0.08139542490243912, 0.14020468294620514, 0.0862961933016777, 0.018111547455191612, 0.9960554838180542, 0.1755235642194748, 0.019015053287148476, 0.7448781132698059, 0.054119765758514404, 0.006216459441930056, 0.0003656740882433951, 0.20318448543548584, 0.6245443820953369, 0.0546591654419899, 0.05016189068555832, 0.03021244890987873, 0.037246644496917725, 0.006806143559515476, 0.9921845197677612, 0.9825387001037598, 0.013100516051054, 0.9968172907829285, 0.9948984384536743, 0.007178358267992735, 0.9906134605407715, 0.15686674416065216, 0.3890746831893921, 0.412283718585968, 0.030639691278338432, 0.0026806790847331285, 0.008465302176773548, 0.004253397695720196, 0.9825348258018494, 0.012760192155838013, 0.9956750273704529, 0.47211477160453796, 0.12942393124103546, 0.010005571879446507, 0.30980217456817627, 0.023716911673545837, 0.05493800342082977, 0.9896982312202454, 0.010039886459708214, 0.9738689661026001, 0.013386514969170094, 0.002628517337143421, 0.015771104022860527, 0.005257034674286842, 0.9725514650344849, 0.5083265900611877, 0.14647820591926575, 0.04432146996259689, 0.1925952136516571, 0.08552437275648117, 0.02277499809861183, 0.021103188395500183, 0.9141517877578735, 0.019184717908501625, 0.019184717908501625, 0.0028777075931429863, 0.023980896919965744, 0.24895703792572021, 0.1584620624780655, 0.011695325374603271, 0.5320414304733276, 0.026650002226233482, 0.02224029041826725, 0.009748416021466255, 0.03736892715096474, 0.943971574306488, 0.008123680017888546, 0.9955759048461914, 0.5820448994636536, 0.08405021578073502, 0.04673627391457558, 0.23157916963100433, 0.04936401546001434, 0.0062315030954778194, 0.001348979421891272, 0.9523794651031494, 0.04586530104279518, 0.2122943103313446, 0.4184012711048126, 0.062285829335451126, 0.10855333507061005, 0.13240894675254822, 0.06606698036193848, 0.005462996661663055, 0.03550947830080986, 0.9587559700012207, 0.9943159818649292, 0.9938430786132812, 0.05744825303554535, 0.9409092664718628, 0.0015526554780080914, 0.011349393054842949, 0.8122218251228333, 0.1218826174736023, 0.017764268442988396, 0.0029607112519443035, 0.034048181027173996, 0.9681186079978943, 0.031183907762169838, 0.35920608043670654, 0.08252383023500443, 0.43562185764312744, 0.05614219605922699, 0.010396703146398067, 0.055882278829813004, 0.03001616895198822, 0.014701797626912594, 0.5033323764801025, 0.004900599364191294, 0.04390120133757591, 0.4030742943286896, 0.9948157668113708, 0.969596803188324, 0.004048421047627926, 0.026314735412597656, 0.9929511547088623, 0.05819656699895859, 0.5501675605773926, 0.1623237580060959, 0.08986136317253113, 0.08759483695030212, 0.05186360701918602, 0.13197998702526093, 0.22473007440567017, 0.15746578574180603, 0.056978948414325714, 0.30510133504867554, 0.12378813326358795, 0.002521521644666791, 0.002521521644666791, 0.9934794902801514, 0.9946019053459167, 0.17764100432395935, 0.05449589341878891, 0.30992448329925537, 0.2837909758090973, 0.09171803295612335, 0.08241250365972519, 0.9988994002342224, 0.11325608938932419, 0.13924002647399902, 0.0018828943138942122, 0.6866915225982666, 9.414471423951909e-05, 0.058934591710567474, 0.9992548823356628, 0.2111162543296814, 0.5524585247039795, 0.12825030088424683, 0.05385158210992813, 0.052271030843257904, 0.001975686987861991, 0.17029736936092377, 0.3498123586177826, 0.22534164786338806, 0.17461200058460236, 0.05210249498486519, 0.02784901112318039, 0.0010993145406246185, 0.5183690786361694, 0.27897220849990845, 0.10714088380336761, 0.04997653141617775, 0.04447995871305466, 0.9958446621894836, 0.0739278644323349, 0.026580804958939552, 0.6821714639663696, 0.2026786506175995, 0.010590789839625359, 0.004153250716626644, 0.9960552453994751, 0.3667917251586914, 0.07531359791755676, 0.20588131248950958, 0.27127379179000854, 0.07075133174657822, 0.010065952315926552, 0.5531362295150757, 0.10928954929113388, 0.07370690256357193, 0.24747326970100403, 0.009497622959315777, 0.006956005468964577, 0.01729431562125683, 0.0005764772067777812, 0.38739269971847534, 0.002305908827111125, 0.592042088508606, 0.0460624173283577, 0.00046371560893021524, 0.14653412997722626, 0.01993977092206478, 0.37761908769607544, 0.4094608724117279, 0.9986507296562195, 0.9974746704101562, 0.9925587177276611, 0.012582993134856224, 0.13619239628314972, 0.07105690240859985, 0.016283873468637466, 0.008882112801074982, 0.7542393803596497, 0.9458780884742737, 0.0030667653772979975, 0.017086265608668327, 0.019714921712875366, 0.0008762187208048999, 0.013143280521035194, 0.7780787944793701, 0.11652090400457382, 0.07501187175512314, 0.019091691821813583, 0.004064682871103287, 0.007267159875482321, 0.9236859083175659, 0.07494606077671051, 0.35183486342430115, 0.002812428865581751, 0.02081197313964367, 0.6122657656669617, 0.0002812428865581751, 0.011812200769782066, 0.0008862287504598498, 0.8906599283218384, 0.08862287551164627, 0.0035449150018393993, 0.014179660007357597, 0.0022155719343572855, 0.0004619671090040356, 0.9992348551750183, 0.0001400903274770826, 0.2084544152021408, 0.7845058441162109, 0.0001400903274770826, 0.006724335718899965, 0.8985853791236877, 0.018575407564640045, 0.03715081512928009, 0.04527755826711655, 0.016787638887763023, 0.002398234326392412, 0.007194702513515949, 0.001199117163196206, 0.007194702513515949, 0.9640901684761047, 0.9969789981842041, 0.24940411746501923, 0.4990515410900116, 0.0640745535492897, 0.07705167680978775, 0.08491905778646469, 0.025386499240994453, 0.9951333403587341, 0.004255059640854597, 0.9956839680671692, 0.9979232549667358, 0.9955371022224426, 0.9852010011672974, 0.006481585558503866, 0.9975451827049255, 0.03252513334155083, 0.9676227569580078, 0.8831557631492615, 0.03137952461838722, 0.017792515456676483, 0.06340605020523071, 0.0009705008124001324, 0.0032350027468055487, 0.9984371066093445, 0.9931227564811707, 0.9995954036712646, 0.20073746144771576, 0.003024293342605233, 0.5498543381690979, 0.14478804171085358, 0.015121466480195522, 0.08638137578964233, 0.02479572966694832, 0.9688045978546143, 0.0035422472283244133, 0.01558396965265274, 0.007644966244697571, 0.585133969783783, 0.3910694122314453, 0.015959521755576134, 0.9818297624588013, 0.0006383808795362711, 0.0006383808795362711, 0.9943307042121887, 0.11910354346036911, 0.008454881608486176, 0.050637386739254, 0.022240014746785164, 0.740353524684906, 0.05918417125940323, 0.1865531951189041, 0.0006694492767564952, 0.0013388985535129905, 0.15799002349376678, 0.6515973210334778, 0.002008347772061825, 0.006479027681052685, 0.9912912249565125, 0.9932940006256104, 0.2359035313129425, 0.1762353628873825, 0.27447354793548584, 0.18368564546108246, 0.06368999928236008, 0.0660635381937027, 0.0032123527489602566, 0.003854823298752308, 0.0314810574054718, 0.0025698821991682053, 0.04754282161593437, 0.9110232591629028, 0.14144916832447052, 0.19771690666675568, 0.1286119669675827, 0.18955868482589722, 0.03227296844124794, 0.31037235260009766, 0.04042461887001991, 0.058799441903829575, 0.6899747252464294, 0.029859092086553574, 0.14516112208366394, 0.03583091124892235, 0.02319713495671749, 0.017177624627947807, 0.2999477684497833, 0.05828647315502167, 0.5527671575546265, 0.04859652742743492, 0.9974290728569031, 0.9970434308052063, 0.0023672578390687704, 0.9966155886650085, 0.9994961023330688, 0.007937880232930183, 0.0005474400240927935, 0.18120265007019043, 0.036678481847047806, 0.7144092321395874, 0.059397242963314056, 0.019125020131468773, 0.24543775618076324, 0.48325321078300476, 0.09493216127157211, 0.07650008052587509, 0.08065769076347351, 0.9997234344482422, 0.9967027306556702, 0.2720410227775574, 0.20201455056667328, 0.18844200670719147, 0.16939453780651093, 0.108842633664608, 0.059273336082696915, 0.9954180717468262, 0.4630979895591736, 0.103457011282444, 0.2341550886631012, 0.09372103959321976, 0.0017701770411804318, 0.10385038703680038, 0.2741958796977997, 0.26579397916793823, 0.06194091588258743, 0.21575063467025757, 0.08542940020561218, 0.0968976691365242, 0.2113371193408966, 0.030000537633895874, 0.7446799874305725, 0.013333572074770927, 0.9980059266090393, 0.9979099035263062, 0.9180620908737183, 0.0016306608449667692, 0.0016306608449667692, 0.07827172428369522, 0.0020922410767525434, 0.8049150109291077, 0.11716549843549728, 0.04752375930547714, 0.00029889156576246023, 0.027796916663646698, 0.5707151293754578, 0.25511229038238525, 0.01937912218272686, 0.12084266543388367, 0.013565385714173317, 0.0203480776399374, 0.0031916191801428795, 0.0015958095900714397, 0.9941893815994263, 0.015565309673547745, 0.8400755524635315, 0.13467377424240112, 0.008346615359187126, 0.00045116839464753866, 0.0009023367892950773, 0.8201552629470825, 0.005000946577638388, 0.14419396221637726, 0.01833680458366871, 0.007501420099288225, 0.005000946577638388, 0.9948554635047913, 0.09941437840461731, 0.6907786130905151, 0.0924297645688057, 0.06984616816043854, 0.040277957916259766, 0.007217437494546175, 0.9970259070396423, 0.9896732568740845, 0.006778583861887455, 0.9952667355537415, 0.9989553093910217, 0.1302066594362259, 0.8690537214279175, 0.26642486453056335, 0.3658490777015686, 0.08578333258628845, 0.20780912041664124, 0.06820431351661682, 0.00593577278777957, 0.016106441617012024, 0.982492983341217, 0.5564476847648621, 0.11123169958591461, 0.1821732372045517, 0.10689423978328705, 0.028434446081519127, 0.014747356995940208, 0.9960554838180542, 0.08524103462696075, 0.1270011067390442, 0.3088410198688507, 0.38983720541000366, 0.07950476557016373, 0.009522215463221073, 0.005359090864658356, 0.9914317727088928, 0.9972205758094788, 0.9898152351379395, 0.0017581087304279208, 0.0017581087304279208, 0.007032434921711683, 0.19977791607379913, 0.06383773684501648, 0.02536410093307495, 0.5696948170661926, 0.009974646382033825, 0.13166533410549164, 0.2204509973526001, 0.165001779794693, 0.2291317582130432, 0.24440720677375793, 0.047239501029253006, 0.09373877942562103, 0.07663130015134811, 0.049702294170856476, 0.30336683988571167, 0.013298273086547852, 0.45064520835876465, 0.10621995478868484, 0.0062186564318835735, 0.057522572576999664, 0.935907781124115, 0.9923988580703735, 0.08029389381408691, 0.012426435947418213, 0.027720510959625244, 0.010514676570892334, 0.867938756942749, 0.05059482902288437, 0.9188674092292786, 0.029377643018960953, 0.01241593062877655, 0.0005912348278798163, 0.041977670043706894, 0.9406545758247375, 0.004138643853366375, 0.12638570368289948, 0.08487895876169205, 0.21048738062381744, 0.09164129942655563, 0.08759944140911102, 0.39905548095703125, 0.26535311341285706, 0.0057481443509459496, 0.37926021218299866, 0.23555660247802734, 0.045985154807567596, 0.06803926080465317, 0.9974467754364014, 0.0007108474965207279, 0.8871377110481262, 0.07783780246973038, 0.0028433899860829115, 0.031632713973522186, 0.942744791507721, 0.02756563574075699, 0.02756563574075699, 0.1355922520160675, 0.4555208683013916, 0.18840302526950836, 0.13096851110458374, 0.08205725997686386, 0.007464815396815538, 0.014469437301158905, 0.6077163815498352, 0.1955912560224533, 0.08237425237894058, 0.006473169196397066, 0.0934167206287384, 0.2750503122806549, 0.35001423954963684, 0.13532748818397522, 0.17982830107212067, 0.05612029880285263, 0.0036501006688922644, 0.00989196915179491, 0.8677455186843872, 0.04506341367959976, 0.03407233580946922, 0.020883046090602875, 0.02253170683979988, 0.9926607608795166, 0.45518895983695984, 0.001598556526005268, 0.29040443897247314, 0.24850893020629883, 0.00379657163284719, 0.000532852194737643, 0.00715305469930172, 0.9942746162414551, 0.989230215549469, 0.06906338781118393, 0.0030792593024671078, 0.011877142824232578, 0.9105809926986694, 0.0004398941819090396, 0.004838835913687944, 0.12491130083799362, 0.0062627228908240795, 0.09050921350717545, 0.02487931028008461, 0.6629907488822937, 0.09042342752218246, 0.013950161635875702, 0.979611337184906, 0.006200071889907122, 0.20476877689361572, 0.1689170002937317, 0.18722592294216156, 0.2960069477558136, 0.09491527080535889, 0.0481087863445282, 0.9967219233512878, 0.995827853679657, 0.8886451125144958, 0.11089076101779938, 0.0004557154607027769, 0.30702394247055054, 0.11713580787181854, 0.03385956957936287, 0.5316867828369141, 0.008007330819964409, 0.002287808805704117, 0.09518665820360184, 0.000417485338402912, 0.02838900312781334, 0.18828588724136353, 0.06638016551733017, 0.6216356754302979, 0.9990876317024231, 0.9881337285041809, 0.9971039295196533, 0.198091521859169, 0.0012947157956659794, 0.13605305552482605, 0.36316779255867004, 0.09009063988924026, 0.21125446259975433, 0.9986305236816406, 0.9983296990394592, 0.9995651245117188, 0.21346570551395416, 0.19967655837535858, 0.23949573934078217, 0.14839059114456177, 0.16793732345104218, 0.03101348876953125, 0.25693294405937195, 0.06829258799552917, 0.03199722617864609, 0.5780195593833923, 0.006526797544211149, 0.05826360732316971, 0.9984852075576782, 0.9989584684371948, 0.0019246955635026097, 0.996992290019989, 0.0003706397255882621, 0.9992446899414062, 0.9999033212661743, 0.2215806543827057, 0.00891672633588314, 0.41551944613456726, 0.14924371242523193, 0.12360811978578568, 0.08103075623512268, 0.22174562513828278, 0.06196393445134163, 0.06759701669216156, 0.3844199776649475, 0.04704387113451958, 0.21717825531959534, 0.016130538657307625, 0.018146855756640434, 0.09073427319526672, 0.8730653524398804, 0.9994977116584778, 0.9929819703102112, 0.0030824821442365646, 0.9956417679786682, 0.12730607390403748, 0.18395143747329712, 0.18784458935260773, 0.14015346765518188, 0.030950557440519333, 0.3297499716281891, 0.21587598323822021, 0.41024649143218994, 0.15833985805511475, 0.08597058802843094, 0.04444807395339012, 0.0851493701338768, 0.34961560368537903, 0.03717894107103348, 0.2948935627937317, 0.19021369516849518, 0.0464848056435585, 0.08161556720733643, 0.05369674786925316, 0.4850819408893585, 0.17291632294654846, 0.16002483665943146, 0.09578051418066025, 0.03270813822746277, 0.9939826130867004, 0.9988501071929932, 0.9977098703384399, 0.9982372522354126, 0.004013928584754467, 0.024083571508526802, 0.8589807152748108, 0.10570012032985687, 0.006689880974590778, 0.9973906874656677, 0.0021403233986347914, 0.980754017829895, 0.014493902213871479, 0.9979137182235718, 0.008177150040864944, 0.9853465557098389, 0.004088575020432472, 0.9988758563995361, 0.7331292033195496, 0.028824813663959503, 0.10034298151731491, 0.07450942695140839, 0.026105491444468498, 0.03698277845978737, 0.9902603030204773, 0.3052714467048645, 0.004566776566207409, 0.6130019426345825, 0.028805822134017944, 0.028805822134017944, 0.019672269001603127, 0.00015922600869089365, 7.961300434544683e-05, 0.9996209144592285, 7.961300434544683e-05, 0.09638625383377075, 0.0005404836847446859, 0.48751628398895264, 0.24069538712501526, 0.08359480649232864, 0.09098141640424728, 0.9768378138542175, 0.0011811823351308703, 0.007087094243615866, 0.0023623646702617407, 0.014174188487231731, 0.9951813817024231, 0.9956901669502258, 0.2905661165714264, 0.05981874838471413, 0.5159210562705994, 0.02320014499127865, 0.04652569442987442, 0.06395715475082397, 0.13301116228103638, 0.537880539894104, 0.1540830135345459, 0.0777856782078743, 0.07641483843326569, 0.02079768292605877, 0.15356163680553436, 0.06800107657909393, 0.3859732151031494, 0.13678506016731262, 0.14707469940185547, 0.10871224105358124, 0.023042917251586914, 0.9716430306434631, 0.9896036386489868, 0.010707135312259197, 0.004282854031771421, 0.9829149842262268, 0.993131160736084, 0.0003732378245331347, 0.9980379343032837, 0.0014929512981325388, 0.0059243845753371716, 0.9893722534179688, 0.3346516191959381, 0.1929512619972229, 0.08138158172369003, 0.1618448942899704, 0.2104557603597641, 0.018709728494286537, 0.9986327290534973, 0.00379153061658144, 0.9573614597320557, 0.026540713384747505, 0.01137459184974432, 0.20083418488502502, 0.5077152848243713, 0.06525962054729462, 0.0646851509809494, 0.1490171253681183, 0.012408520095050335, 0.9944286346435547, 0.9937947392463684, 0.9887861013412476, 0.06727591156959534, 0.6894028782844543, 0.04625219106674194, 0.04178464785218239, 0.14672806859016418, 0.008584686554968357, 0.42172133922576904, 0.3891424238681793, 0.015619308687746525, 0.10160282999277115, 0.040259670466184616, 0.03165100887417793, 0.22609010338783264, 0.43512097001075745, 0.2843203842639923, 0.048851415514945984, 0.0002953978255391121, 0.005354085471481085, 0.30232831835746765, 0.10388800501823425, 0.10644962638616562, 0.19764336943626404, 0.2096545398235321, 0.080036461353302, 0.21306003630161285, 0.10854166746139526, 0.0004810468526557088, 0.6750836968421936, 0.00013119459617882967, 0.002711354987695813, 0.19715923070907593, 0.06759744882583618, 0.49395430088043213, 0.11055000126361847, 0.10403670370578766, 0.026405254378914833, 0.03511854633688927, 0.6848116517066956, 0.21830448508262634, 0.012101661413908005, 0.03962700814008713, 0.010203361511230469, 0.297268807888031, 0.2058064192533493, 0.16213200986385345, 0.10576342046260834, 0.20760610699653625, 0.021403353661298752, 0.9872772097587585, 0.9951199889183044, 0.9948986172676086, 0.1226600706577301, 0.02070884220302105, 0.15466465055942535, 0.5181555151939392, 0.08616616576910019, 0.09760671108961105, 0.20859265327453613, 0.5073913335800171, 0.09579967707395554, 0.050767455250024796, 0.12001511454582214, 0.017488928511738777, 0.9971027970314026, 0.9904436469078064, 0.044413238763809204, 0.9548846483230591, 0.9448968172073364, 0.013981210067868233, 0.002330201677978039, 0.004660403355956078, 0.024467118084430695, 0.009320806711912155, 0.9924662113189697, 0.004016461782157421, 0.996082603931427, 0.002721906639635563, 0.4028421938419342, 0.023816682398319244, 0.00022682554845232517, 0.563661515712738, 0.007031592074781656, 0.0018096404382959008, 0.9971119165420532, 0.9979664087295532, 0.5906617045402527, 0.07162775099277496, 0.1739022135734558, 0.07928942888975143, 0.04222830384969711, 0.04205012321472168, 0.0025768957566469908, 0.8503756523132324, 0.05755067244172096, 0.03521757572889328, 0.019756201654672623, 0.03435860946774483, 0.9009398221969604, 0.002559488173574209, 0.08830233663320541, 0.005118976347148418, 0.002559488173574209, 0.0004845246730837971, 0.30791541934013367, 0.561806321144104, 0.05208640173077583, 0.0007267870241776109, 0.07728168368339539, 0.06462249159812927, 0.9287174940109253, 0.005539070349186659, 0.3619757294654846, 0.29447343945503235, 0.06786293536424637, 0.16445791721343994, 0.07140935957431793, 0.03985219448804855, 0.6669637560844421, 0.043379757553339005, 0.0016267409082502127, 0.23072609305381775, 0.0447353757917881, 0.012471680529415607, 0.009619775228202343, 0.010421423241496086, 0.06733842939138412, 0.028057679533958435, 0.8211547136306763, 0.06333018839359283, 0.07857011258602142, 0.9208306074142456, 0.0005572348600253463, 0.9801149368286133, 0.016957005485892296, 0.015184002928435802, 0.13797637820243835, 0.8301688432693481, 0.015018959529697895, 0.000660174060612917, 0.0009902610909193754, 0.8843941688537598, 0.015395643189549446, 0.0832505151629448, 0.012544598430395126, 0.0011404179967939854, 0.003421253990381956, 0.9920629858970642, 0.9913085699081421, 0.7322972416877747, 0.08908439427614212, 0.04984016716480255, 0.09536346793174744, 0.029825612902641296, 0.00313953822478652, 0.9976832270622253, 0.992283821105957, 0.5520352721214294, 0.03966453671455383, 0.14588230848312378, 0.19327177107334137, 0.05437161400914192, 0.014855632558465004, 0.0019283998990431428, 0.996982753276825, 0.9889761805534363, 0.0027334783226251602, 0.6824188232421875, 0.22509600222110748, 0.003327712882310152, 0.03517867997288704, 0.05122300982475281, 0.30937400460243225, 0.09124449640512466, 0.5822740197181702, 0.016153331845998764, 0.0008334642625413835, 0.00011906632425962016, 0.9988576173782349, 0.9977594614028931, 0.22457115352153778, 0.2907394468784332, 0.016166115179657936, 0.16529540717601776, 0.0005012748879380524, 0.30277004837989807, 0.057007793337106705, 0.7926561832427979, 0.11401558667421341, 0.02776031568646431, 0.0074357991106808186, 0.00198287982493639, 0.9920220971107483, 0.007261388003826141, 0.07648662477731705, 0.06874114274978638, 0.846677839756012, 0.0004840925394091755, 0.9964494109153748, 0.002901991829276085, 0.9953832030296326, 0.9507013559341431, 0.048575982451438904, 0.9947668313980103, 0.008601963520050049, 0.8348431587219238, 0.12676577270030975, 0.0013582047540694475, 0.028069565072655678, 0.004248067736625671, 0.9897997379302979, 0.004248067736625671, 0.9958677291870117, 0.996273398399353, 0.2664298415184021, 0.21372690796852112, 0.1554793268442154, 0.2648864686489105, 0.0856851115822792, 0.01377592608332634, 0.9872432947158813, 0.2822989225387573, 0.12258712947368622, 0.003939759451895952, 0.588236391544342, 0.001060704467818141, 0.0016668213065713644, 0.0014672117540612817, 0.9918351173400879, 0.004401635378599167, 0.0014672117540612817, 0.6135239005088806, 0.06879494339227676, 0.1706565022468567, 0.14240142703056335, 0.002968829357996583, 0.0015356013318523765, 0.9886038899421692, 0.09273060411214828, 0.001363685354590416, 0.001363685354590416, 0.0722753256559372, 0.03136476129293442, 0.801846981048584, 0.10652507096529007, 0.8921474814414978, 0.3013927936553955, 0.08737260103225708, 0.08964941650629044, 0.150838702917099, 0.30936163663864136, 0.061284150928258896, 0.15009646117687225, 0.5322188138961792, 0.1398821622133255, 0.050211351364851, 0.11526031792163849, 0.01236467994749546, 0.0021841966081410646, 0.9981778264045715, 0.16857996582984924, 0.2300838679075241, 0.12476769834756851, 0.057335712015628815, 0.2450893372297287, 0.17413754761219025, 0.2812803089618683, 0.04205796867609024, 0.14198091626167297, 0.43201154470443726, 0.06139334291219711, 0.04107002913951874, 0.9957238435745239, 0.9905729293823242, 0.996481716632843, 9.740498353494331e-05, 0.9265162348747253, 0.0731024444103241, 0.00019480996706988662, 9.740498353494331e-05, 0.9866219758987427, 0.9468090534210205, 0.01789245381951332, 0.002236556727439165, 0.031311795115470886, 0.0014910378959029913, 0.7159256339073181, 0.1779954582452774, 0.0042066872119903564, 0.10017174482345581, 0.0018404257716611028, 0.42897993326187134, 0.17794722318649292, 0.11089110374450684, 0.25038087368011475, 0.025339554995298386, 0.006518213544040918, 0.0019463059725239873, 0.027248283848166466, 0.007785223890095949, 0.9595288634300232, 0.0019463059725239873, 0.11081814765930176, 0.042539868503808975, 0.09830642491579056, 0.6613340973854065, 0.022878585383296013, 0.06398854404687881, 0.04499001428484917, 0.6160945892333984, 0.05556602403521538, 0.059762854129076004, 0.21672429144382477, 0.0067149274982512, 0.37743034958839417, 0.12146778404712677, 0.042299963533878326, 0.351275771856308, 0.07710564136505127, 0.03037952072918415, 0.9859856367111206, 0.9985140562057495, 0.9971340894699097, 0.9992147088050842, 0.035037294030189514, 0.005839549470692873, 0.014598873443901539, 0.0029197747353464365, 0.9460069537162781, 0.23586426675319672, 0.2268611341714859, 0.020680464804172516, 0.48358413577079773, 0.004813556559383869, 0.028168220072984695, 0.04853149130940437, 0.6667463183403015, 0.11896955966949463, 0.14975111186504364, 0.013593311421573162, 0.0022468282841145992, 0.3714958131313324, 0.10288599878549576, 0.22534099221229553, 0.1890035718679428, 0.07736578583717346, 0.033921923488378525, 0.006264986004680395, 0.9898677468299866, 0.3727881908416748, 0.18928825855255127, 0.006296068429946899, 0.4154389798641205, 0.00670226663351059, 0.009545652195811272, 0.5680583119392395, 0.04333566129207611, 0.06428123265504837, 0.29456213116645813, 0.008546755649149418, 0.02118632383644581, 0.9985210299491882, 0.9926895499229431, 0.9912604689598083, 0.14815887808799744, 0.31497296690940857, 0.010077135637402534, 0.1891336888074875, 0.02981499768793583, 0.3078939914703369, 0.03275178000330925, 0.965214192867279, 0.998977541923523, 0.9989253878593445, 0.9959377646446228, 0.1079895868897438, 0.17773957550525665, 0.35829979181289673, 0.14864686131477356, 0.12217329442501068, 0.08518283069133759, 0.001924270880408585, 0.9813781380653381, 0.00384854176081717, 0.013469895347952843, 0.9970415830612183, 0.9976235032081604, 0.007626465521752834, 0.004575879313051701, 0.0015252931043505669, 0.0030505862087011337, 0.09304288029670715, 0.889245867729187, 0.9940517544746399, 0.15740470588207245, 0.14592315256595612, 0.34190133213996887, 0.2638494074344635, 0.06470391154289246, 0.0262435432523489, 0.9969127178192139, 0.996995747089386, 0.9938305020332336, 0.03002731315791607, 0.0032906646374613047, 0.024679984897375107, 0.0008226661593653262, 0.9407187104225159, 0.0008226661593653262, 0.18539488315582275, 0.3119278848171234, 0.5025282502174377, 0.0037151880096644163, 0.9938127994537354, 0.004550473298877478, 0.9920032024383545, 0.99912428855896, 0.995164692401886, 0.00389496935531497, 0.0016824996564537287, 0.02271374501287937, 0.9565010666847229, 0.018507495522499084, 0.979020893573761, 0.009598243981599808, 0.004799121990799904, 0.027166420593857765, 0.942960798740387, 0.027881326153874397, 0.0014298115856945515, 0.2131018340587616, 0.04819686338305473, 0.00039832116453908384, 0.737690806388855, 0.00039832116453908384, 0.022113962098956108, 0.9757785797119141, 0.011457156389951706, 0.0006365086883306503, 0.9872249960899353, 0.004946638830006123, 0.036934904754161835, 0.8148763179779053, 0.05309392511844635, 0.002638207282871008, 0.08739061653614044, 0.9850212931632996, 0.0054723406210541725, 0.0054723406210541725, 0.9943028688430786, 0.981593906879425, 0.014022770337760448, 0.0043217577040195465, 0.012965272180736065, 0.9810389876365662, 0.014807380735874176, 0.9822229146957397, 0.9931457042694092, 0.17961300909519196, 0.0015318806981667876, 0.01493583619594574, 0.6510493159294128, 0.020680388435721397, 0.13250768184661865, 0.0011982196010649204, 0.9981169104576111, 0.9927505254745483, 0.02761547639966011, 0.1080605536699295, 0.13087333738803864, 0.7264070510864258, 0.006003364454954863, 0.970241367816925, 0.026530038565397263, 0.8504079580307007, 0.032782167196273804, 0.06652851402759552, 0.0019283626461401582, 0.048209067434072495, 0.998977541923523, 0.3623148500919342, 0.13756683468818665, 0.1546017974615097, 0.21267211437225342, 0.07412103563547134, 0.05867600068449974, 0.011858699843287468, 0.009223433211445808, 0.0013176333159208298, 0.9750486612319946], \"Term\": [\"abil\", \"abil\", \"abil\", \"abil\", \"abil\", \"abil\", \"abl\", \"abl\", \"abl\", \"abl\", \"abl\", \"abl\", \"accord\", \"accord\", \"accord\", \"accord\", \"accord\", \"accord\", \"account\", \"account\", \"account\", \"account\", \"account\", \"account\", \"accredit\", \"accredit\", \"accredit\", \"accredit\", \"accredit\", \"accredit\", \"acl\", \"acut\", \"acut\", \"administr\", \"administr\", \"administr\", \"administr\", \"administr\", \"administr\", \"admiss\", \"admiss\", \"admiss\", \"admiss\", \"adolesc\", \"advantag\", \"advantag\", \"advantag\", \"advantag\", \"advantag\", \"aflac\", \"aflacin\", \"agfa\", \"ambassador\", \"ambassador\", \"ambassador\", \"ambassador\", \"analysi\", \"analysi\", \"analysi\", \"analysi\", \"analysi\", \"analysi\", \"analyst\", \"analyst\", \"analyst\", \"analyst\", \"analyt\", \"analyt\", \"analyt\", \"analyt\", \"analyt\", \"analyt\", \"announc\", \"announc\", \"announc\", \"announc\", \"announc\", \"announc\", \"apex\", \"apex\", \"apexsystemsinc\", \"appleon\", \"appleon\", \"appli\", \"appli\", \"appli\", \"appli\", \"appli\", \"appli\", \"applic\", \"applic\", \"applic\", \"applic\", \"applic\", \"applic\", \"appropri\", \"appropri\", \"appropri\", \"appropri\", \"appropri\", \"appropri\", \"aramark\", \"aramark\", \"area\", \"area\", \"area\", \"area\", \"area\", \"area\", \"arizona\", \"arizona\", \"arizona\", \"arizona\", \"armk\", \"assess\", \"assess\", \"assess\", \"assess\", \"assess\", \"assess\", \"assign\", \"assign\", \"assign\", \"assign\", \"assign\", \"assign\", \"assist\", \"assist\", \"assist\", \"assist\", \"assist\", \"assist\", \"associ\", \"associ\", \"associ\", \"associ\", \"associ\", \"associ\", \"attr\", \"bachelor\", \"bachelor\", \"bachelor\", \"bachelor\", \"bachelor\", \"bachelor\", \"backfil\", \"backwhen\", \"bail\", \"banker\", \"banker\", \"beacon\", \"beacon\", \"benefit\", \"benefit\", \"benefit\", \"benefit\", \"benefit\", \"benefit\", \"beverag\", \"beverag\", \"bidi\", \"billretir\", \"brand\", \"brand\", \"brand\", \"brand\", \"brand\", \"break\", \"break\", \"break\", \"break\", \"break\", \"break\", \"brentwood\", \"brewer\", \"bridal\", \"brink\", \"brookdal\", \"brookdal\", \"bullet\", \"busi\", \"busi\", \"busi\", \"busi\", \"busi\", \"busi\", \"cambria\", \"cancer\", \"cancer\", \"candid\", \"candid\", \"candid\", \"candid\", \"candid\", \"candid\", \"cap\", \"cap\", \"cap\", \"caption\", \"cardboard\", \"cardiac\", \"care\", \"care\", \"care\", \"care\", \"care\", \"care\", \"career\", \"career\", \"career\", \"career\", \"career\", \"career\", \"caregiv\", \"carton\", \"case\", \"case\", \"case\", \"case\", \"case\", \"case\", \"cash\", \"cash\", \"cash\", \"cash\", \"cash\", \"cash\", \"casualti\", \"casualti\", \"cater\", \"cater\", \"cater\", \"cater\", \"center\", \"center\", \"center\", \"center\", \"center\", \"center\", \"certif\", \"certif\", \"certif\", \"certif\", \"certif\", \"certif\", \"changesfloor\", \"charset\", \"checkout\", \"checkout\", \"child\", \"child\", \"child\", \"child\", \"child\", \"children\", \"children\", \"christus\", \"chubb\", \"ciber\", \"ciber\", \"circumst\", \"circumst\", \"circumst\", \"circumst\", \"cisco\", \"cisco\", \"claim\", \"claim\", \"claim\", \"claim\", \"claim\", \"claim\", \"clean\", \"clean\", \"clean\", \"clean\", \"clean\", \"clean\", \"client\", \"client\", \"client\", \"client\", \"client\", \"client\", \"clinic\", \"clinic\", \"clinic\", \"clinic\", \"clinic\", \"club\", \"club\", \"club\", \"club\", \"cogniz\", \"cogniz\", \"communic\", \"communic\", \"communic\", \"communic\", \"communic\", \"communic\", \"communiti\", \"communiti\", \"communiti\", \"communiti\", \"communiti\", \"communiti\", \"compani\", \"compani\", \"compani\", \"compani\", \"compani\", \"compani\", \"compensationat\", \"complaint\", \"complaint\", \"complaint\", \"complaint\", \"complaint\", \"conditionsmay\", \"configur\", \"configur\", \"configur\", \"configur\", \"construct\", \"construct\", \"construct\", \"construct\", \"construct\", \"construct\", \"consult\", \"consult\", \"consult\", \"consult\", \"consult\", \"consult\", \"consultantyou\", \"consum\", \"consum\", \"consum\", \"consum\", \"consum\", \"consum\", \"control\", \"control\", \"control\", \"control\", \"control\", \"control\", \"cook\", \"cook\", \"corral\", \"corral\", \"countertop\", \"cricket\", \"culinari\", \"culinari\", \"custom\", \"custom\", \"custom\", \"custom\", \"custom\", \"custom\", \"cybercod\", \"cybercod\", \"cybercod\", \"dam\", \"data\", \"data\", \"data\", \"data\", \"data\", \"data\", \"david\", \"dealership\", \"dealership\", \"dealership\", \"default\", \"default\", \"default\", \"default\", \"degre\", \"degre\", \"degre\", \"degre\", \"degre\", \"degre\", \"describ\", \"describ\", \"describ\", \"describ\", \"describ\", \"describ\", \"design\", \"design\", \"design\", \"design\", \"design\", \"design\", \"desktop\", \"desktop\", \"desktop\", \"desktop\", \"deterg\", \"develop\", \"develop\", \"develop\", \"develop\", \"develop\", \"develop\", \"din\", \"din\", \"din\", \"direct\", \"direct\", \"direct\", \"direct\", \"direct\", \"direct\", \"directori\", \"directori\", \"directori\", \"disabilitiesto\", \"discomfort\", \"diseas\", \"diseas\", \"diseas\", \"display\", \"display\", \"display\", \"display\", \"display\", \"display\", \"drawer\", \"drawer\", \"drive\", \"drive\", \"drive\", \"drive\", \"drive\", \"drive\", \"driver\", \"driver\", \"driver\", \"driver\", \"driver\", \"driver\", \"duck\", \"dust\", \"dust\", \"dust\", \"dusti\", \"duti\", \"duti\", \"duti\", \"duti\", \"duti\", \"duti\", \"educ\", \"educ\", \"educ\", \"educ\", \"educ\", \"educ\", \"emb\", \"emb\", \"emb\", \"emit\", \"employ\", \"employ\", \"employ\", \"employ\", \"employ\", \"employ\", \"employerapex\", \"engin\", \"engin\", \"engin\", \"engin\", \"engin\", \"engin\", \"england\", \"ensur\", \"ensur\", \"ensur\", \"ensur\", \"ensur\", \"ensur\", \"environ\", \"environ\", \"environ\", \"environ\", \"environ\", \"environ\", \"equip\", \"equip\", \"equip\", \"equip\", \"equip\", \"equip\", \"espanol\", \"event\", \"event\", \"event\", \"event\", \"event\", \"event\", \"everwel\", \"excel\", \"excel\", \"excel\", \"excel\", \"excel\", \"excel\", \"execut\", \"execut\", \"execut\", \"execut\", \"execut\", \"execut\", \"facebook\", \"facebook\", \"facebook\", \"facebook\", \"facebook\", \"famili\", \"famili\", \"famili\", \"famili\", \"famili\", \"famili\", \"fareast\", \"fargo\", \"fight\", \"fill\", \"fill\", \"fill\", \"fill\", \"fill\", \"fill\", \"financ\", \"financ\", \"financ\", \"financ\", \"financ\", \"financ\", \"financi\", \"financi\", \"financi\", \"financi\", \"financi\", \"financi\", \"fire\", \"fire\", \"firm\", \"firm\", \"firm\", \"firm\", \"firm\", \"firm\", \"floor\", \"floor\", \"floor\", \"floor\", \"floor\", \"floor\", \"font\", \"font\", \"food\", \"food\", \"food\", \"food\", \"food\", \"forecast\", \"forecast\", \"forecast\", \"forecast\", \"fort\", \"fort\", \"fort\", \"fort\", \"fort\", \"fort\", \"frisco\", \"function\", \"function\", \"function\", \"function\", \"function\", \"function\", \"gaap\", \"gedmust\", \"gedmust\", \"gentiva\", \"genzym\", \"geographi\", \"geographi\", \"geriatr\", \"girl\", \"girl\", \"global\", \"global\", \"global\", \"global\", \"global\", \"global\", \"googleplus\", \"grader\", \"gram\", \"great\", \"great\", \"great\", \"great\", \"great\", \"great\", \"groceri\", \"groceri\", \"groceri\", \"guard\", \"guard\", \"guard\", \"guard\", \"guest\", \"guest\", \"guest\", \"guest\", \"harder\", \"health\", \"health\", \"health\", \"health\", \"health\", \"health\", \"healthcar\", \"healthcar\", \"healthcar\", \"healthcar\", \"healthcar\", \"healthcar\", \"hertz\", \"hertz\", \"hibu\", \"high\", \"high\", \"high\", \"high\", \"high\", \"high\", \"hill\", \"hill\", \"hill\", \"hill\", \"hill\", \"hill\", \"hire\", \"hire\", \"hire\", \"hire\", \"hire\", \"hire\", \"holiday\", \"holiday\", \"holiday\", \"holiday\", \"holiday\", \"holiday\", \"home\", \"home\", \"home\", \"home\", \"home\", \"home\", \"homecar\", \"homepag\", \"horizont\", \"horizont\", \"hospic\", \"hospit\", \"hospit\", \"hospit\", \"hospit\", \"hospit\", \"hospit\", \"hour\", \"hour\", \"hour\", \"hour\", \"hour\", \"hour\", \"href\", \"imprison\", \"includ\", \"includ\", \"includ\", \"includ\", \"includ\", \"includ\", \"indent\", \"industri\", \"industri\", \"industri\", \"industri\", \"industri\", \"industri\", \"inform\", \"inform\", \"inform\", \"inform\", \"inform\", \"inform\", \"infrastructur\", \"infrastructur\", \"infrastructur\", \"infrastructur\", \"inlin\", \"inpati\", \"insight\", \"insight\", \"insight\", \"insight\", \"inspect\", \"inspect\", \"inspect\", \"inspect\", \"inspect\", \"inspect\", \"intern\", \"intern\", \"intern\", \"intern\", \"intern\", \"intern\", \"intervent\", \"intervent\", \"intervent\", \"inventori\", \"inventori\", \"inventori\", \"inventori\", \"inventori\", \"inventori\", \"invest\", \"invest\", \"invest\", \"invest\", \"invest\", \"invest\", \"involuntarili\", \"involv\", \"involv\", \"involv\", \"involv\", \"involv\", \"involv\", \"ismp\", \"kemper\", \"kemper\", \"kenan\", \"kindr\", \"kitchen\", \"kitchen\", \"knowledg\", \"knowledg\", \"knowledg\", \"knowledg\", \"knowledg\", \"knowledg\", \"lawn\", \"lawn\", \"lead\", \"lead\", \"lead\", \"lead\", \"lead\", \"lead\", \"leaderb\", \"learn\", \"learn\", \"learn\", \"learn\", \"learn\", \"learn\", \"learnget\", \"learnget\", \"learninstead\", \"ledger\", \"ledger\", \"ledger\", \"ledger\", \"legal\", \"legal\", \"legal\", \"legal\", \"legal\", \"legal\", \"level\", \"level\", \"level\", \"level\", \"level\", \"level\", \"licens\", \"licens\", \"licens\", \"licens\", \"licens\", \"licens\", \"licensur\", \"licensur\", \"licensur\", \"lincoln\", \"linkedin\", \"linkedin\", \"linkedin\", \"linkedin\", \"linkedin\", \"litig\", \"litig\", \"litig\", \"loan\", \"loan\", \"loan\", \"loan\", \"loan\", \"locat\", \"locat\", \"locat\", \"locat\", \"locat\", \"locat\", \"look\", \"look\", \"look\", \"look\", \"look\", \"look\", \"lynch\", \"machin\", \"machin\", \"machin\", \"machin\", \"machin\", \"magazin\", \"magazin\", \"magazin\", \"maintain\", \"maintain\", \"maintain\", \"maintain\", \"maintain\", \"maintain\", \"mainten\", \"mainten\", \"mainten\", \"mainten\", \"mainten\", \"mainten\", \"manag\", \"manag\", \"manag\", \"manag\", \"manag\", \"manag\", \"manual\", \"manual\", \"manual\", \"manual\", \"manual\", \"manual\", \"markdown\", \"market\", \"market\", \"market\", \"market\", \"market\", \"market\", \"mathwork\", \"mathwork\", \"mea\", \"media\", \"media\", \"media\", \"media\", \"media\", \"media\", \"medic\", \"medic\", \"medic\", \"medic\", \"medic\", \"medic\", \"medicin\", \"medicin\", \"medicin\", \"meet\", \"meet\", \"meet\", \"meet\", \"meet\", \"meet\", \"memor\", \"memoranda\", \"merchandis\", \"merchandis\", \"merchandis\", \"microsoft\", \"microsoft\", \"microsoft\", \"microsoft\", \"microsoft\", \"microsoft\", \"militari\", \"militari\", \"militari\", \"militari\", \"militari\", \"militari\", \"mns_rt\", \"moroch\", \"muhanna\", \"nation\", \"nation\", \"nation\", \"nation\", \"nation\", \"nation\", \"nationalguard\", \"naval\", \"nbsp\", \"need\", \"need\", \"need\", \"need\", \"need\", \"need\", \"network\", \"network\", \"network\", \"network\", \"network\", \"network\", \"newjob\", \"nonjob\", \"nourish\", \"nourish\", \"null\", \"null\", \"nurs\", \"offer\", \"offer\", \"offer\", \"offer\", \"offer\", \"offer\", \"offic\", \"offic\", \"offic\", \"offic\", \"offic\", \"offic\", \"oklahoma\", \"oklahoma\", \"oklahoma\", \"oklahoma\", \"oldcastl\", \"oldermust\", \"oncolog\", \"oncolog\", \"open\", \"open\", \"open\", \"open\", \"open\", \"open\", \"oper\", \"oper\", \"oper\", \"oper\", \"oper\", \"oper\", \"opportun\", \"opportun\", \"opportun\", \"opportun\", \"opportun\", \"opportun\", \"order\", \"order\", \"order\", \"order\", \"order\", \"order\", \"orphan\", \"ortho\", \"orthoped\", \"outdat\", \"outgo\", \"outgo\", \"outgo\", \"outgo\", \"outgo\", \"outpati\", \"outpati\", \"overrid\", \"overrid\", \"palliat\", \"paraleg\", \"paraleg\", \"paraleg\", \"parkerlynch\", \"partner\", \"partner\", \"partner\", \"partner\", \"partner\", \"partner\", \"parttim\", \"passion\", \"passion\", \"passion\", \"passion\", \"passion\", \"passion\", \"patient\", \"patient\", \"patient\", \"patient\", \"pay\", \"pay\", \"pay\", \"pay\", \"pay\", \"pay\", \"payabl\", \"payabl\", \"payabl\", \"payabl\", \"payabl\", \"paysm\", \"pediatr\", \"peopl\", \"peopl\", \"peopl\", \"peopl\", \"peopl\", \"peopl\", \"perform\", \"perform\", \"perform\", \"perform\", \"perform\", \"perform\", \"person\", \"person\", \"person\", \"person\", \"person\", \"person\", \"pest\", \"pest\", \"petco\", \"pharmaci\", \"pharmaci\", \"pharmaci\", \"photoshop\", \"physician\", \"physician\", \"physician\", \"pinterest\", \"pinterest\", \"plan\", \"plan\", \"plan\", \"plan\", \"plan\", \"plan\", \"planstud\", \"pleas\", \"pleas\", \"pleas\", \"pleas\", \"polici\", \"polici\", \"polici\", \"polici\", \"polici\", \"polici\", \"policyhold\", \"presidenti\", \"pretti\", \"procedur\", \"procedur\", \"procedur\", \"procedur\", \"procedur\", \"procedur\", \"process\", \"process\", \"process\", \"process\", \"process\", \"process\", \"product\", \"product\", \"product\", \"product\", \"product\", \"product\", \"program\", \"program\", \"program\", \"program\", \"program\", \"program\", \"project\", \"project\", \"project\", \"project\", \"project\", \"project\", \"promot\", \"promot\", \"promot\", \"promot\", \"promot\", \"promot\", \"proper\", \"proper\", \"proper\", \"proper\", \"proper\", \"proper\", \"provid\", \"provid\", \"provid\", \"provid\", \"provid\", \"provid\", \"prudenti\", \"psychiatr\", \"psychosoci\", \"qualifi\", \"qualifi\", \"qualifi\", \"qualifi\", \"qualifi\", \"qualifi\", \"qualiti\", \"qualiti\", \"qualiti\", \"qualiti\", \"qualiti\", \"qualiti\", \"rami\", \"reap\", \"recip\", \"recip\", \"reconcili\", \"reconcili\", \"reconcili\", \"reconcili\", \"reconcili\", \"reconcili\", \"reentri\", \"refund\", \"refund\", \"regist\", \"regist\", \"regist\", \"regist\", \"regist\", \"regist\", \"rehab\", \"rehab\", \"rehabilit\", \"relationship\", \"relationship\", \"relationship\", \"relationship\", \"relationship\", \"relationship\", \"remov\", \"remov\", \"remov\", \"remov\", \"remov\", \"remov\", \"renew\", \"renew\", \"renew\", \"renew\", \"renew\", \"repair\", \"repair\", \"repair\", \"repair\", \"repair\", \"repair\", \"repay\", \"repay\", \"repay\", \"report\", \"report\", \"report\", \"report\", \"report\", \"report\", \"research\", \"research\", \"research\", \"research\", \"research\", \"research\", \"resid\", \"resid\", \"resid\", \"resid\", \"resid\", \"resid\", \"restaur\", \"restaur\", \"restaur\", \"restroom\", \"restroom\", \"retail\", \"retail\", \"retail\", \"retail\", \"retail\", \"retail\", \"revenu\", \"revenu\", \"revenu\", \"revenu\", \"revenu\", \"revenu\", \"revers\", \"revit\", \"risk\", \"risk\", \"risk\", \"risk\", \"risk\", \"risk\", \"rite\", \"roadb\", \"role\", \"role\", \"role\", \"role\", \"role\", \"role\", \"roman\", \"roman\", \"runway\", \"safeti\", \"safeti\", \"safeti\", \"safeti\", \"safeti\", \"safeti\", \"sale\", \"sale\", \"sale\", \"sale\", \"sale\", \"sale\", \"sanofi\", \"sear\", \"secur\", \"secur\", \"secur\", \"secur\", \"secur\", \"secur\", \"sens\", \"sens\", \"sens\", \"sens\", \"sens\", \"sens\", \"sentenc\", \"server\", \"server\", \"server\", \"server\", \"server\", \"servicelow\", \"servicemast\", \"servicemast\", \"shelv\", \"shelv\", \"shipyard\", \"shop\", \"shop\", \"shop\", \"shop\", \"shop\", \"shopper\", \"shopper\", \"shopper\", \"shrink\", \"sidewalk\", \"skill\", \"skill\", \"skill\", \"skill\", \"skill\", \"skill\", \"smoothi\", \"softwar\", \"softwar\", \"softwar\", \"softwar\", \"softwar\", \"softwar\", \"soldier\", \"soldier\", \"soldier\", \"soldier\", \"solut\", \"solut\", \"solut\", \"solut\", \"solut\", \"solut\", \"sous\", \"span\", \"span\", \"span\", \"span\", \"span\", \"span\", \"spous\", \"spous\", \"staff\", \"staff\", \"staff\", \"staff\", \"staff\", \"staff\", \"standard\", \"standard\", \"standard\", \"standard\", \"standard\", \"standard\", \"standardsmust\", \"standardsmust\", \"state\", \"state\", \"state\", \"state\", \"state\", \"state\", \"status\", \"status\", \"status\", \"status\", \"status\", \"status\", \"stlight\", \"stocker\", \"stockroom\", \"store\", \"store\", \"store\", \"store\", \"store\", \"straighten\", \"strateg\", \"strateg\", \"strateg\", \"strateg\", \"strateg\", \"strategi\", \"strategi\", \"strategi\", \"strategi\", \"strategi\", \"strong\", \"strong\", \"strong\", \"strong\", \"strong\", \"strong\", \"subcontractor\", \"subcontractor\", \"subcontractor\", \"subcontractor\", \"subcontractor\", \"subject\", \"subject\", \"subject\", \"subject\", \"subject\", \"subject\", \"supervis\", \"supervis\", \"supervis\", \"supervis\", \"supervis\", \"supervis\", \"support\", \"support\", \"support\", \"support\", \"support\", \"support\", \"surfaceth\", \"surg\", \"surgeri\", \"surgic\", \"swift\", \"swift\", \"swift\", \"swift\", \"swift\", \"system\", \"system\", \"system\", \"system\", \"system\", \"system\", \"task\", \"task\", \"task\", \"task\", \"task\", \"task\", \"team\", \"team\", \"team\", \"team\", \"team\", \"team\", \"teamsoft\", \"teamsoft\", \"technic\", \"technic\", \"technic\", \"technic\", \"technic\", \"technic\", \"technolog\", \"technolog\", \"technolog\", \"technolog\", \"technolog\", \"technolog\", \"telemetri\", \"terminix\", \"termit\", \"test\", \"test\", \"test\", \"test\", \"test\", \"test\", \"therapeut\", \"therapeut\", \"therapi\", \"therapist\", \"timber\", \"time\", \"time\", \"time\", \"time\", \"time\", \"time\", \"tobacco\", \"tobacco\", \"tobacco\", \"tobacco\", \"tolowercas\", \"tot\", \"trackingjobbodi\", \"trackingjobbodi\", \"trackingjobbodi\", \"trackingjobbodi\", \"trackingjobbodi\", \"trackingjobbodi\", \"trailblaz\", \"train\", \"train\", \"train\", \"train\", \"train\", \"train\", \"traininga\", \"transforc\", \"treasuri\", \"treatment\", \"treatment\", \"treatment\", \"treatment\", \"treatment\", \"treatment\", \"truck\", \"truck\", \"truck\", \"trugreen\", \"trugreen\", \"ulin\", \"ulin\", \"unavail\", \"unexpect\", \"unexpect\", \"uniform\", \"uniform\", \"uniform\", \"uniform\", \"unpack\", \"unpack\", \"unpack\", \"urgenc\", \"urgenc\", \"urgenc\", \"urgenc\", \"user\", \"user\", \"user\", \"user\", \"user\", \"utensil\", \"utensil\", \"vacanc\", \"vacanc\", \"vacanc\", \"vehicl\", \"vehicl\", \"vehicl\", \"vehicl\", \"vehicl\", \"vehicl\", \"ventur\", \"ventur\", \"ventur\", \"veredus\", \"vest\", \"vest\", \"vmware\", \"vmware\", \"vmware\", \"voip\", \"voip\", \"watson\", \"websit\", \"websit\", \"websit\", \"websit\", \"websit\", \"websit\", \"whelan\", \"whelan\", \"widow\", \"window\", \"window\", \"window\", \"window\", \"window\", \"worksit\", \"worksit\", \"worldwid\", \"worldwid\", \"worldwid\", \"worldwid\", \"worldwid\", \"xcybercx\", \"year\", \"year\", \"year\", \"year\", \"year\", \"year\", \"youtub\", \"youtub\", \"youtub\", \"youtub\"]}, \"R\": 30, \"lambda.step\": 0.01, \"plot.opts\": {\"xlab\": \"PC1\", \"ylab\": \"PC2\"}, \"topic.order\": [2, 5, 3, 6, 1, 4]};\n",
       "\n",
       "function LDAvis_load_lib(url, callback){\n",
       "  var s = document.createElement('script');\n",
       "  s.src = url;\n",
       "  s.async = true;\n",
       "  s.onreadystatechange = s.onload = callback;\n",
       "  s.onerror = function(){console.warn(\"failed to load library \" + url);};\n",
       "  document.getElementsByTagName(\"head\")[0].appendChild(s);\n",
       "}\n",
       "\n",
       "if(typeof(LDAvis) !== \"undefined\"){\n",
       "   // already loaded: just create the visualization\n",
       "   !function(LDAvis){\n",
       "       new LDAvis(\"#\" + \"ldavis_el73546005966643539572887\", ldavis_el73546005966643539572887_data);\n",
       "   }(LDAvis);\n",
       "}else if(typeof define === \"function\" && define.amd){\n",
       "   // require.js is available: use it to load d3/LDAvis\n",
       "   require.config({paths: {d3: \"https://cdnjs.cloudflare.com/ajax/libs/d3/3.5.5/d3.min\"}});\n",
       "   require([\"d3\"], function(d3){\n",
       "      window.d3 = d3;\n",
       "      LDAvis_load_lib(\"https://cdn.rawgit.com/bmabey/pyLDAvis/files/ldavis.v1.0.0.js\", function(){\n",
       "        new LDAvis(\"#\" + \"ldavis_el73546005966643539572887\", ldavis_el73546005966643539572887_data);\n",
       "      });\n",
       "    });\n",
       "}else{\n",
       "    // require.js not available: dynamically load d3 & LDAvis\n",
       "    LDAvis_load_lib(\"https://cdnjs.cloudflare.com/ajax/libs/d3/3.5.5/d3.min.js\", function(){\n",
       "         LDAvis_load_lib(\"https://cdn.rawgit.com/bmabey/pyLDAvis/files/ldavis.v1.0.0.js\", function(){\n",
       "                 new LDAvis(\"#\" + \"ldavis_el73546005966643539572887\", ldavis_el73546005966643539572887_data);\n",
       "            })\n",
       "         });\n",
       "}\n",
       "</script>"
      ],
      "text/plain": [
       "<IPython.core.display.HTML object>"
      ]
     },
     "execution_count": 21,
     "metadata": {},
     "output_type": "execute_result"
    }
   ],
   "source": [
    "#visualize the topics in order to better label \n",
    "%matplotlib inline\n",
    "import pyLDAvis\n",
    "import pyLDAvis.gensim\n",
    "vis = pyLDAvis.gensim.prepare(topic_model=lda_model, corpus=bow2doc_corpus, dictionary=dictionary)\n",
    "pyLDAvis.enable_notebook()\n",
    "pyLDAvis.display(vis)"
   ]
  },
  {
   "cell_type": "markdown",
   "metadata": {},
   "source": [
    "---"
   ]
  },
  {
   "cell_type": "markdown",
   "metadata": {},
   "source": [
    "## LDA model with tf-idf"
   ]
  },
  {
   "cell_type": "code",
   "execution_count": null,
   "metadata": {},
   "outputs": [],
   "source": [
    "#from gensim import corpora, models\n",
    "#tfidf = models.TfidfModel(bow2doc_corpus)\n",
    "#corpus_tfidf = tfidf[bow2doc_corpus]\n",
    "#from pprint import pprint\n",
    "#for doc in corpus_tfidf:\n",
    "#    pprint(doc)\n",
    "#    break"
   ]
  },
  {
   "cell_type": "code",
   "execution_count": null,
   "metadata": {},
   "outputs": [],
   "source": [
    "#lda_model_tfidf = gensim.models.LdaMulticore(corpus_tfidf, \n",
    " #                                            num_topics=25, \n",
    "  #                                           id2word=dictionary, \n",
    "   #                                          passes=10, \n",
    "    #                                         workers=4)\n",
    "#for idx, topic in lda_model_tfidf.print_topics(-1):\n",
    "#    print('Topic: {} Word: {}'.format(idx, topic))"
   ]
  },
  {
   "cell_type": "code",
   "execution_count": null,
   "metadata": {},
   "outputs": [],
   "source": []
  }
 ],
 "metadata": {
  "kernelspec": {
   "display_name": "learn-env",
   "language": "python",
   "name": "learn-env"
  },
  "language_info": {
   "codemirror_mode": {
    "name": "ipython",
    "version": 3
   },
   "file_extension": ".py",
   "mimetype": "text/x-python",
   "name": "python",
   "nbconvert_exporter": "python",
   "pygments_lexer": "ipython3",
   "version": "3.6.6"
  }
 },
 "nbformat": 4,
 "nbformat_minor": 2
}
