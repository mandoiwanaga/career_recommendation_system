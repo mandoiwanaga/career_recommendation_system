{
 "cells": [
  {
   "cell_type": "markdown",
   "metadata": {},
   "source": [
    "# DreamJobber"
   ]
  },
  {
   "cell_type": "markdown",
   "metadata": {},
   "source": [
    "---"
   ]
  },
  {
   "cell_type": "markdown",
   "metadata": {},
   "source": [
    "**Process**\n",
    "1. Clean text\n",
    "2. Bag of Words\n",
    "3. LDA model (Latent Dirichlet allocation) \n",
    "4. Classification model"
   ]
  },
  {
   "cell_type": "markdown",
   "metadata": {},
   "source": [
    "---"
   ]
  },
  {
   "cell_type": "markdown",
   "metadata": {},
   "source": [
    "**Import Necessary Libraries**"
   ]
  },
  {
   "cell_type": "code",
   "execution_count": 1,
   "metadata": {},
   "outputs": [],
   "source": [
    "import pandas as pd\n",
    "import gensim\n",
    "from gensim.utils import simple_preprocess\n",
    "from gensim.parsing.preprocessing import STOPWORDS\n",
    "from nltk.stem import WordNetLemmatizer, SnowballStemmer\n",
    "from nltk.stem.porter import *\n",
    "import numpy as np\n",
    "import nltk"
   ]
  },
  {
   "cell_type": "code",
   "execution_count": 2,
   "metadata": {},
   "outputs": [
    {
     "name": "stderr",
     "output_type": "stream",
     "text": [
      "[nltk_data] Downloading package wordnet to /Users/admin/nltk_data...\n",
      "[nltk_data]   Package wordnet is already up-to-date!\n"
     ]
    },
    {
     "data": {
      "text/plain": [
       "True"
      ]
     },
     "execution_count": 2,
     "metadata": {},
     "output_type": "execute_result"
    }
   ],
   "source": [
    "#nltk.download('wordnet')"
   ]
  },
  {
   "cell_type": "markdown",
   "metadata": {},
   "source": [
    "---"
   ]
  },
  {
   "cell_type": "markdown",
   "metadata": {},
   "source": [
    "**Load Data**"
   ]
  },
  {
   "cell_type": "code",
   "execution_count": 3,
   "metadata": {},
   "outputs": [],
   "source": [
    "df = pd.read_csv('data/combined.csv')"
   ]
  },
  {
   "cell_type": "code",
   "execution_count": 4,
   "metadata": {},
   "outputs": [
    {
     "data": {
      "text/html": [
       "<div>\n",
       "<style scoped>\n",
       "    .dataframe tbody tr th:only-of-type {\n",
       "        vertical-align: middle;\n",
       "    }\n",
       "\n",
       "    .dataframe tbody tr th {\n",
       "        vertical-align: top;\n",
       "    }\n",
       "\n",
       "    .dataframe thead th {\n",
       "        text-align: right;\n",
       "    }\n",
       "</style>\n",
       "<table border=\"1\" class=\"dataframe\">\n",
       "  <thead>\n",
       "    <tr style=\"text-align: right;\">\n",
       "      <th></th>\n",
       "      <th>job_description</th>\n",
       "      <th>job_title</th>\n",
       "    </tr>\n",
       "  </thead>\n",
       "  <tbody>\n",
       "    <tr>\n",
       "      <th>0</th>\n",
       "      <td>DOJ offers a range of opportunities for experi...</td>\n",
       "      <td>Attorney and Assistant United States Attorney</td>\n",
       "    </tr>\n",
       "    <tr>\n",
       "      <th>1</th>\n",
       "      <td>As an FBI Special Agent with a military or law...</td>\n",
       "      <td>Special Agent - Law Enforcement or Military Ve...</td>\n",
       "    </tr>\n",
       "    <tr>\n",
       "      <th>2</th>\n",
       "      <td>As an FBI Special Agent with expertise in educ...</td>\n",
       "      <td>Special Agent - Education/Teaching Background</td>\n",
       "    </tr>\n",
       "    <tr>\n",
       "      <th>3</th>\n",
       "      <td>As an FBI Special Agent with Accounting/Financ...</td>\n",
       "      <td>Special Agent - Accounting/Finance Background</td>\n",
       "    </tr>\n",
       "    <tr>\n",
       "      <th>4</th>\n",
       "      <td>As an FBI Special Agent, your STEM background ...</td>\n",
       "      <td>Special Agent - Science, Technology, Engineeri...</td>\n",
       "    </tr>\n",
       "  </tbody>\n",
       "</table>\n",
       "</div>"
      ],
      "text/plain": [
       "                                     job_description  \\\n",
       "0  DOJ offers a range of opportunities for experi...   \n",
       "1  As an FBI Special Agent with a military or law...   \n",
       "2  As an FBI Special Agent with expertise in educ...   \n",
       "3  As an FBI Special Agent with Accounting/Financ...   \n",
       "4  As an FBI Special Agent, your STEM background ...   \n",
       "\n",
       "                                           job_title  \n",
       "0      Attorney and Assistant United States Attorney  \n",
       "1  Special Agent - Law Enforcement or Military Ve...  \n",
       "2      Special Agent - Education/Teaching Background  \n",
       "3      Special Agent - Accounting/Finance Background  \n",
       "4  Special Agent - Science, Technology, Engineeri...  "
      ]
     },
     "execution_count": 4,
     "metadata": {},
     "output_type": "execute_result"
    }
   ],
   "source": [
    "df.head()"
   ]
  },
  {
   "cell_type": "code",
   "execution_count": 5,
   "metadata": {},
   "outputs": [
    {
     "data": {
      "text/plain": [
       "job_description    5\n",
       "job_title          0\n",
       "dtype: int64"
      ]
     },
     "execution_count": 5,
     "metadata": {},
     "output_type": "execute_result"
    }
   ],
   "source": [
    "#check for missing values\n",
    "df.isna().sum()"
   ]
  },
  {
   "cell_type": "code",
   "execution_count": 6,
   "metadata": {},
   "outputs": [
    {
     "name": "stdout",
     "output_type": "stream",
     "text": [
      "<class 'pandas.core.frame.DataFrame'>\n",
      "RangeIndex: 32000 entries, 0 to 31999\n",
      "Data columns (total 2 columns):\n",
      "job_description    31995 non-null object\n",
      "job_title          32000 non-null object\n",
      "dtypes: object(2)\n",
      "memory usage: 500.1+ KB\n"
     ]
    }
   ],
   "source": [
    "#looks like there are 5 rows that have no job description\n",
    "df.info()"
   ]
  },
  {
   "cell_type": "code",
   "execution_count": 7,
   "metadata": {},
   "outputs": [],
   "source": [
    "#drop rows with no job descriptions\n",
    "df = df[pd.notnull(df['job_description'])]"
   ]
  },
  {
   "cell_type": "code",
   "execution_count": 8,
   "metadata": {},
   "outputs": [
    {
     "name": "stdout",
     "output_type": "stream",
     "text": [
      "<class 'pandas.core.frame.DataFrame'>\n",
      "Int64Index: 31995 entries, 0 to 31999\n",
      "Data columns (total 2 columns):\n",
      "job_description    31995 non-null object\n",
      "job_title          31995 non-null object\n",
      "dtypes: object(2)\n",
      "memory usage: 749.9+ KB\n"
     ]
    }
   ],
   "source": [
    "#sanity check, looks good\n",
    "df.info()"
   ]
  },
  {
   "cell_type": "markdown",
   "metadata": {},
   "source": [
    "---"
   ]
  },
  {
   "cell_type": "markdown",
   "metadata": {},
   "source": [
    "## Text Cleaning"
   ]
  },
  {
   "cell_type": "markdown",
   "metadata": {},
   "source": [
    "1. Tokenize\n",
    "2. Remove words with fewer than 3 characters\n",
    "3. Remove stop words\n",
    "4. Normalize words (Lemmatize and Stem)"
   ]
  },
  {
   "cell_type": "code",
   "execution_count": 9,
   "metadata": {},
   "outputs": [],
   "source": [
    "def lemmatize_stemming(text):\n",
    "    return stemmer.stem(WordNetLemmatizer().lemmatize(text, pos='v'))\n",
    "def preprocess(text):\n",
    "    result = []\n",
    "    for token in gensim.utils.simple_preprocess(text):\n",
    "        if token not in gensim.parsing.preprocessing.STOPWORDS and len(token) > 3:\n",
    "            result.append(lemmatize_stemming(token))\n",
    "    return result"
   ]
  },
  {
   "cell_type": "markdown",
   "metadata": {},
   "source": [
    "**Test the functions on one row of text**"
   ]
  },
  {
   "cell_type": "code",
   "execution_count": 10,
   "metadata": {},
   "outputs": [],
   "source": [
    "stemmer = SnowballStemmer('english')"
   ]
  },
  {
   "cell_type": "code",
   "execution_count": 11,
   "metadata": {},
   "outputs": [
    {
     "name": "stdout",
     "output_type": "stream",
     "text": [
      "original text: \n",
      "['Newly', 'appointed', 'employee(s)', 'or', 'employee(s)', 'converted', 'to', 'permanent', 'status,', 'selected', 'under', 'this', 'announcement,', 'may', 'be', 'eligible', 'to', 'apply', 'for', 'an', 'award', 'up', 'to', 'the', 'maximum', 'limitation', 'under', 'the', 'provisions', 'of', 'the', 'Education', 'Debt', 'Reduction', 'Program', '(EDRP).', 'Funding,', 'on', 'the', 'final', 'award', 'amount,', 'is', 'contingent', 'on', 'the', 'availability', 'of', 'EDRP', 'funds.', 'Employee(s)', 'must', 'apply', 'for', 'EDRP', 'within', 'four', '(4)', 'months', 'of', 'appointment', 'or', 'conversion.']\n",
      "\n",
      "\n",
      " tokenized and lemmatized text: \n",
      "['newli', 'appoint', 'employe', 'employe', 'convert', 'perman', 'status', 'select', 'announc', 'elig', 'appli', 'award', 'maximum', 'limit', 'provis', 'educ', 'debt', 'reduct', 'program', 'edrp', 'fund', 'final', 'award', 'conting', 'avail', 'edrp', 'fund', 'employe', 'appli', 'edrp', 'month', 'appoint', 'convers']\n"
     ]
    }
   ],
   "source": [
    "text_sample = df[df.index == 5000].values[0][0]\n",
    "\n",
    "print('original text: ')\n",
    "words = []\n",
    "for word in text_sample.split(' '):\n",
    "    words.append(word)\n",
    "print(words)\n",
    "print('\\n\\n tokenized and lemmatized text: ')\n",
    "print(preprocess(text_sample))"
   ]
  },
  {
   "cell_type": "markdown",
   "metadata": {},
   "source": [
    "**Apply functions to job_description**"
   ]
  },
  {
   "cell_type": "code",
   "execution_count": 12,
   "metadata": {},
   "outputs": [
    {
     "data": {
      "text/plain": [
       "0    [offer, rang, opportun, experi, attorney, work...\n",
       "1    [special, agent, militari, enforc, background,...\n",
       "2    [special, agent, expertis, educ, gift, relat, ...\n",
       "3    [special, agent, account, financi, expertis, e...\n",
       "4    [special, agent, stem, background, provid, ski...\n",
       "Name: job_description, dtype: object"
      ]
     },
     "execution_count": 12,
     "metadata": {},
     "output_type": "execute_result"
    }
   ],
   "source": [
    "#apply function and display first 5 rows\n",
    "processed_text = df['job_description'].map(preprocess)\n",
    "processed_text[:5]"
   ]
  },
  {
   "cell_type": "markdown",
   "metadata": {},
   "source": [
    "---"
   ]
  },
  {
   "cell_type": "markdown",
   "metadata": {},
   "source": [
    "## Bag of Words"
   ]
  },
  {
   "cell_type": "code",
   "execution_count": 13,
   "metadata": {},
   "outputs": [],
   "source": [
    "#I'll use bag of words to extract features from text for use in modeling"
   ]
  },
  {
   "cell_type": "code",
   "execution_count": 31,
   "metadata": {},
   "outputs": [],
   "source": [
    "dictionary = gensim.corpora.Dictionary(processed_text)"
   ]
  },
  {
   "cell_type": "code",
   "execution_count": 32,
   "metadata": {},
   "outputs": [
    {
     "data": {
      "text/plain": [
       "56095"
      ]
     },
     "execution_count": 32,
     "metadata": {},
     "output_type": "execute_result"
    }
   ],
   "source": [
    "#check the length before I filter out the extremes\n",
    "len(dictionary)"
   ]
  },
  {
   "cell_type": "code",
   "execution_count": 33,
   "metadata": {},
   "outputs": [],
   "source": [
    "dictionary.filter_extremes(no_below=2, no_above=0.5, keep_n=100000)"
   ]
  },
  {
   "cell_type": "code",
   "execution_count": 34,
   "metadata": {},
   "outputs": [
    {
     "data": {
      "text/plain": [
       "24149"
      ]
     },
     "execution_count": 34,
     "metadata": {},
     "output_type": "execute_result"
    }
   ],
   "source": [
    "#check length after filtering out extremes\n",
    "len(dictionary)"
   ]
  },
  {
   "cell_type": "code",
   "execution_count": 35,
   "metadata": {},
   "outputs": [],
   "source": [
    "#bow2doc: counts the number of occurrences of each distinct word, \n",
    "#converts the word to its integer word id and returns the result as a sparse vector\n",
    "\n",
    "bow2doc_corpus = [dictionary.doc2bow(text) for text in processed_text]"
   ]
  },
  {
   "cell_type": "code",
   "execution_count": 36,
   "metadata": {},
   "outputs": [
    {
     "name": "stdout",
     "output_type": "stream",
     "text": [
      "Word 47 (\"militari\") appears 2 time.\n",
      "Word 86 (\"area\") appears 4 time.\n",
      "Word 98 (\"follow\") appears 1 time.\n",
      "Word 168 (\"local\") appears 1 time.\n",
      "Word 193 (\"announc\") appears 2 time.\n",
      "Word 196 (\"day\") appears 1 time.\n",
      "Word 204 (\"open\") appears 1 time.\n",
      "Word 255 (\"includ\") appears 1 time.\n",
      "Word 285 (\"defin\") appears 1 time.\n",
      "Word 308 (\"close\") appears 1 time.\n",
      "Word 315 (\"consider\") appears 2 time.\n",
      "Word 316 (\"date\") appears 1 time.\n",
      "Word 413 (\"vacanc\") appears 2 time.\n",
      "Word 638 (\"claim\") appears 1 time.\n",
      "Word 642 (\"prefer\") appears 1 time.\n",
      "Word 652 (\"member\") appears 1 time.\n",
      "Word 659 (\"commut\") appears 1 time.\n",
      "Word 691 (\"separ\") appears 1 time.\n",
      "Word 712 (\"armi\") appears 1 time.\n",
      "Word 905 (\"counti\") appears 1 time.\n",
      "Word 1192 (\"move\") appears 1 time.\n",
      "Word 1705 (\"citizen\") appears 1 time.\n",
      "Word 2246 (\"involuntarili\") appears 1 time.\n",
      "Word 2252 (\"spous\") appears 1 time.\n",
      "Word 2290 (\"monterey\") appears 2 time.\n",
      "Word 2968 (\"garrison\") appears 1 time.\n",
      "Word 3887 (\"cruz\") appears 1 time.\n",
      "Word 3888 (\"presidio\") appears 1 time.\n",
      "Word 3889 (\"santa\") appears 1 time.\n"
     ]
    }
   ],
   "source": [
    "#let's take a look\n",
    "bow_doc_5000 = bow2doc_corpus[5000]\n",
    "\n",
    "for i in range(len(bow_doc_5000)):\n",
    "    print(\"Word {} (\\\"{}\\\") appears {} time.\".format(bow_doc_5000[i][0], \n",
    "                                                     dictionary[bow_doc_5000[i][0]], \n",
    "                                                     bow_doc_5000[i][1]))"
   ]
  },
  {
   "cell_type": "markdown",
   "metadata": {},
   "source": [
    "---"
   ]
  },
  {
   "cell_type": "markdown",
   "metadata": {},
   "source": [
    "## LDA model with Bag of Words"
   ]
  },
  {
   "cell_type": "code",
   "execution_count": 37,
   "metadata": {},
   "outputs": [],
   "source": [
    "import time"
   ]
  },
  {
   "cell_type": "code",
   "execution_count": 38,
   "metadata": {},
   "outputs": [
    {
     "name": "stdout",
     "output_type": "stream",
     "text": [
      "CPU times: user 4 µs, sys: 0 ns, total: 4 µs\n",
      "Wall time: 8.11 µs\n"
     ]
    }
   ],
   "source": [
    "lda_model = gensim.models.LdaMulticore(bow2doc_corpus, \n",
    "                                       num_topics=25, \n",
    "                                       id2word=dictionary, \n",
    "                                       passes=10, \n",
    "                                       workers=4)"
   ]
  },
  {
   "cell_type": "code",
   "execution_count": 39,
   "metadata": {},
   "outputs": [
    {
     "name": "stdout",
     "output_type": "stream",
     "text": [
      "Topic: 0 \n",
      "Words: 0.016*\"compani\" + 0.013*\"employ\" + 0.013*\"oper\" + 0.010*\"hour\" + 0.010*\"opportun\" + 0.010*\"employe\" + 0.010*\"includ\" + 0.009*\"shift\" + 0.008*\"disabl\" + 0.008*\"applic\"\n",
      "Topic: 1 \n",
      "Words: 0.025*\"manag\" + 0.023*\"project\" + 0.012*\"process\" + 0.012*\"develop\" + 0.012*\"qualiti\" + 0.011*\"busi\" + 0.011*\"skill\" + 0.010*\"team\" + 0.009*\"product\" + 0.009*\"support\"\n",
      "Topic: 2 \n",
      "Words: 0.013*\"offic\" + 0.013*\"skill\" + 0.011*\"client\" + 0.010*\"includ\" + 0.009*\"assist\" + 0.009*\"excel\" + 0.009*\"year\" + 0.009*\"account\" + 0.009*\"prepar\" + 0.008*\"administr\"\n",
      "Topic: 3 \n",
      "Words: 0.036*\"health\" + 0.031*\"locat\" + 0.027*\"center\" + 0.021*\"care\" + 0.015*\"serv\" + 0.014*\"provid\" + 0.014*\"clinic\" + 0.014*\"area\" + 0.014*\"veteran\" + 0.013*\"medic\"\n",
      "Topic: 4 \n",
      "Words: 0.053*\"care\" + 0.048*\"nurs\" + 0.022*\"home\" + 0.020*\"patient\" + 0.019*\"health\" + 0.012*\"manag\" + 0.012*\"regist\" + 0.011*\"medic\" + 0.010*\"assist\" + 0.010*\"provid\"\n",
      "Topic: 5 \n",
      "Words: 0.032*\"secur\" + 0.025*\"employe\" + 0.022*\"program\" + 0.019*\"safeti\" + 0.017*\"feder\" + 0.014*\"manag\" + 0.014*\"facil\" + 0.013*\"complianc\" + 0.012*\"human\" + 0.012*\"state\"\n",
      "Topic: 6 \n",
      "Words: 0.034*\"font\" + 0.021*\"hill\" + 0.021*\"famili\" + 0.019*\"level\" + 0.018*\"beacon\" + 0.013*\"medic\" + 0.012*\"time\" + 0.011*\"staff\" + 0.008*\"margin\" + 0.008*\"list\"\n",
      "Topic: 7 \n",
      "Words: 0.023*\"aflac\" + 0.023*\"insur\" + 0.022*\"compani\" + 0.019*\"benefit\" + 0.018*\"help\" + 0.014*\"team\" + 0.014*\"opportun\" + 0.014*\"provid\" + 0.012*\"peopl\" + 0.012*\"year\"\n",
      "Topic: 8 \n",
      "Words: 0.031*\"driver\" + 0.015*\"truck\" + 0.015*\"drive\" + 0.015*\"pay\" + 0.014*\"time\" + 0.014*\"benefit\" + 0.013*\"compani\" + 0.012*\"year\" + 0.011*\"appli\" + 0.011*\"hour\"\n",
      "Topic: 9 \n",
      "Words: 0.043*\"food\" + 0.014*\"maintain\" + 0.014*\"clean\" + 0.013*\"aramark\" + 0.013*\"ensur\" + 0.013*\"custom\" + 0.012*\"area\" + 0.011*\"prepar\" + 0.010*\"serv\" + 0.009*\"equip\"\n",
      "Topic: 10 \n",
      "Words: 0.068*\"store\" + 0.055*\"manag\" + 0.037*\"assist\" + 0.022*\"custom\" + 0.017*\"associ\" + 0.017*\"abil\" + 0.017*\"account\" + 0.013*\"merchandis\" + 0.012*\"task\" + 0.012*\"direct\"\n",
      "Topic: 11 \n",
      "Words: 0.026*\"develop\" + 0.024*\"test\" + 0.019*\"design\" + 0.017*\"system\" + 0.016*\"softwar\" + 0.016*\"applic\" + 0.014*\"technic\" + 0.013*\"engin\" + 0.012*\"technolog\" + 0.012*\"support\"\n",
      "Topic: 12 \n",
      "Words: 0.026*\"employ\" + 0.020*\"opportun\" + 0.017*\"status\" + 0.015*\"applic\" + 0.013*\"disabl\" + 0.012*\"veteran\" + 0.012*\"equal\" + 0.011*\"protect\" + 0.011*\"qualifi\" + 0.010*\"year\"\n",
      "Topic: 13 \n",
      "Words: 0.052*\"construct\" + 0.044*\"null\" + 0.039*\"project\" + 0.022*\"media\" + 0.020*\"caption\" + 0.020*\"titl\" + 0.017*\"text\" + 0.015*\"manag\" + 0.014*\"report\" + 0.014*\"newjob\"\n",
      "Topic: 14 \n",
      "Words: 0.026*\"train\" + 0.024*\"benefit\" + 0.021*\"learn\" + 0.020*\"guard\" + 0.018*\"construct\" + 0.017*\"earn\" + 0.016*\"meet\" + 0.016*\"skill\" + 0.015*\"engin\" + 0.014*\"nation\"\n",
      "Topic: 15 \n",
      "Words: 0.053*\"custom\" + 0.015*\"sale\" + 0.012*\"skill\" + 0.011*\"team\" + 0.010*\"time\" + 0.010*\"includ\" + 0.010*\"need\" + 0.010*\"abil\" + 0.010*\"retail\" + 0.009*\"product\"\n",
      "Topic: 16 \n",
      "Words: 0.035*\"nbsp\" + 0.025*\"oldcastl\" + 0.017*\"educ\" + 0.015*\"program\" + 0.012*\"famili\" + 0.011*\"career\" + 0.009*\"children\" + 0.008*\"opportun\" + 0.007*\"state\" + 0.007*\"appli\"\n",
      "Topic: 17 \n",
      "Words: 0.051*\"sale\" + 0.028*\"market\" + 0.021*\"busi\" + 0.021*\"custom\" + 0.013*\"account\" + 0.011*\"develop\" + 0.011*\"client\" + 0.010*\"product\" + 0.010*\"opportun\" + 0.009*\"compani\"\n",
      "Topic: 18 \n",
      "Words: 0.058*\"manag\" + 0.017*\"restaur\" + 0.014*\"develop\" + 0.013*\"custom\" + 0.013*\"team\" + 0.010*\"train\" + 0.010*\"busi\" + 0.010*\"oper\" + 0.009*\"compani\" + 0.008*\"sale\"\n",
      "Topic: 19 \n",
      "Words: 0.047*\"nation\" + 0.035*\"guard\" + 0.027*\"applic\" + 0.022*\"locat\" + 0.021*\"announc\" + 0.019*\"open\" + 0.018*\"titl\" + 0.016*\"date\" + 0.015*\"vacanc\" + 0.015*\"except\"\n",
      "Topic: 20 \n",
      "Words: 0.020*\"equip\" + 0.019*\"perform\" + 0.016*\"abil\" + 0.015*\"custom\" + 0.012*\"mainten\" + 0.011*\"product\" + 0.011*\"duti\" + 0.010*\"repair\" + 0.010*\"maintain\" + 0.010*\"skill\"\n",
      "Topic: 21 \n",
      "Words: 0.034*\"market\" + 0.025*\"event\" + 0.024*\"product\" + 0.024*\"sale\" + 0.017*\"retail\" + 0.015*\"time\" + 0.014*\"consum\" + 0.013*\"brand\" + 0.012*\"entri\" + 0.012*\"advantag\"\n",
      "Topic: 22 \n",
      "Words: 0.033*\"patient\" + 0.019*\"care\" + 0.016*\"medic\" + 0.013*\"provid\" + 0.011*\"clinic\" + 0.010*\"nurs\" + 0.010*\"perform\" + 0.009*\"need\" + 0.008*\"assist\" + 0.008*\"procedur\"\n",
      "Topic: 23 \n",
      "Words: 0.026*\"area\" + 0.023*\"prefer\" + 0.021*\"announc\" + 0.021*\"consider\" + 0.020*\"militari\" + 0.020*\"manag\" + 0.020*\"author\" + 0.020*\"includ\" + 0.019*\"offic\" + 0.019*\"applic\"\n",
      "Topic: 24 \n",
      "Words: 0.053*\"href\" + 0.049*\"attr\" + 0.041*\"break\" + 0.037*\"case\" + 0.037*\"test\" + 0.027*\"mns_rt\" + 0.021*\"nonjob\" + 0.021*\"import\" + 0.020*\"inform\" + 0.017*\"click\"\n"
     ]
    }
   ],
   "source": [
    "for idx, topic in lda_model.print_topics(-1):\n",
    "    print('Topic: {} \\nWords: {}'.format(idx, topic))"
   ]
  },
  {
   "cell_type": "code",
   "execution_count": 40,
   "metadata": {},
   "outputs": [],
   "source": [
    "#next-steps\n",
    "#figure out the topics\n",
    "#use word probability \n"
   ]
  },
  {
   "cell_type": "code",
   "execution_count": null,
   "metadata": {},
   "outputs": [],
   "source": []
  },
  {
   "cell_type": "markdown",
   "metadata": {},
   "source": [
    "---"
   ]
  },
  {
   "cell_type": "markdown",
   "metadata": {},
   "source": [
    "## LDA model with tf-idf"
   ]
  },
  {
   "cell_type": "code",
   "execution_count": null,
   "metadata": {},
   "outputs": [],
   "source": [
    "#from gensim import corpora, models\n",
    "#tfidf = models.TfidfModel(bow2doc_corpus)\n",
    "#corpus_tfidf = tfidf[bow2doc_corpus]\n",
    "#from pprint import pprint\n",
    "#for doc in corpus_tfidf:\n",
    "#    pprint(doc)\n",
    "#    break"
   ]
  },
  {
   "cell_type": "code",
   "execution_count": null,
   "metadata": {},
   "outputs": [],
   "source": [
    "#lda_model_tfidf = gensim.models.LdaMulticore(corpus_tfidf, \n",
    " #                                            num_topics=25, \n",
    "  #                                           id2word=dictionary, \n",
    "   #                                          passes=10, \n",
    "    #                                         workers=4)\n",
    "#for idx, topic in lda_model_tfidf.print_topics(-1):\n",
    "#    print('Topic: {} Word: {}'.format(idx, topic))"
   ]
  },
  {
   "cell_type": "code",
   "execution_count": null,
   "metadata": {},
   "outputs": [],
   "source": []
  }
 ],
 "metadata": {
  "kernelspec": {
   "display_name": "learn-env",
   "language": "python",
   "name": "learn-env"
  },
  "language_info": {
   "codemirror_mode": {
    "name": "ipython",
    "version": 3
   },
   "file_extension": ".py",
   "mimetype": "text/x-python",
   "name": "python",
   "nbconvert_exporter": "python",
   "pygments_lexer": "ipython3",
   "version": "3.6.6"
  }
 },
 "nbformat": 4,
 "nbformat_minor": 2
}
