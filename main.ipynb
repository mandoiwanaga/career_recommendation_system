{
 "cells": [
  {
   "cell_type": "markdown",
   "metadata": {},
   "source": [
    "# DreamJobber"
   ]
  },
  {
   "cell_type": "markdown",
   "metadata": {},
   "source": [
    "---"
   ]
  },
  {
   "cell_type": "markdown",
   "metadata": {},
   "source": [
    "**Process**\n",
    "1. Clean text\n",
    "2. Bag of Words\n",
    "3. LDA model (Latent Dirichlet allocation) \n",
    "4. Classification model"
   ]
  },
  {
   "cell_type": "markdown",
   "metadata": {},
   "source": [
    "---"
   ]
  },
  {
   "cell_type": "markdown",
   "metadata": {},
   "source": [
    "**Import Necessary Libraries**"
   ]
  },
  {
   "cell_type": "code",
   "execution_count": 1,
   "metadata": {},
   "outputs": [],
   "source": [
    "import pandas as pd\n",
    "import gensim\n",
    "from gensim.utils import simple_preprocess\n",
    "from gensim.parsing.preprocessing import STOPWORDS\n",
    "from nltk.stem import WordNetLemmatizer, SnowballStemmer\n",
    "from nltk.stem.porter import *\n",
    "import numpy as np\n",
    "import nltk\n",
    "from functions import *"
   ]
  },
  {
   "cell_type": "code",
   "execution_count": 2,
   "metadata": {},
   "outputs": [
    {
     "name": "stderr",
     "output_type": "stream",
     "text": [
      "[nltk_data] Downloading package wordnet to /Users/admin/nltk_data...\n",
      "[nltk_data]   Package wordnet is already up-to-date!\n"
     ]
    },
    {
     "data": {
      "text/plain": [
       "True"
      ]
     },
     "execution_count": 2,
     "metadata": {},
     "output_type": "execute_result"
    }
   ],
   "source": [
    "nltk.download('wordnet')"
   ]
  },
  {
   "cell_type": "markdown",
   "metadata": {},
   "source": [
    "---"
   ]
  },
  {
   "cell_type": "markdown",
   "metadata": {},
   "source": [
    "**Load Data**"
   ]
  },
  {
   "cell_type": "code",
   "execution_count": 3,
   "metadata": {},
   "outputs": [],
   "source": [
    "df = pd.read_csv('data/combined.csv')"
   ]
  },
  {
   "cell_type": "code",
   "execution_count": 4,
   "metadata": {},
   "outputs": [
    {
     "data": {
      "text/html": [
       "<div>\n",
       "<style scoped>\n",
       "    .dataframe tbody tr th:only-of-type {\n",
       "        vertical-align: middle;\n",
       "    }\n",
       "\n",
       "    .dataframe tbody tr th {\n",
       "        vertical-align: top;\n",
       "    }\n",
       "\n",
       "    .dataframe thead th {\n",
       "        text-align: right;\n",
       "    }\n",
       "</style>\n",
       "<table border=\"1\" class=\"dataframe\">\n",
       "  <thead>\n",
       "    <tr style=\"text-align: right;\">\n",
       "      <th></th>\n",
       "      <th>job_description</th>\n",
       "      <th>job_title</th>\n",
       "    </tr>\n",
       "  </thead>\n",
       "  <tbody>\n",
       "    <tr>\n",
       "      <th>0</th>\n",
       "      <td>DOJ offers a range of opportunities for experi...</td>\n",
       "      <td>Attorney and Assistant United States Attorney</td>\n",
       "    </tr>\n",
       "    <tr>\n",
       "      <th>1</th>\n",
       "      <td>As an FBI Special Agent with a military or law...</td>\n",
       "      <td>Special Agent - Law Enforcement or Military Ve...</td>\n",
       "    </tr>\n",
       "    <tr>\n",
       "      <th>2</th>\n",
       "      <td>As an FBI Special Agent with expertise in educ...</td>\n",
       "      <td>Special Agent - Education/Teaching Background</td>\n",
       "    </tr>\n",
       "    <tr>\n",
       "      <th>3</th>\n",
       "      <td>As an FBI Special Agent with Accounting/Financ...</td>\n",
       "      <td>Special Agent - Accounting/Finance Background</td>\n",
       "    </tr>\n",
       "    <tr>\n",
       "      <th>4</th>\n",
       "      <td>As an FBI Special Agent, your STEM background ...</td>\n",
       "      <td>Special Agent - Science, Technology, Engineeri...</td>\n",
       "    </tr>\n",
       "  </tbody>\n",
       "</table>\n",
       "</div>"
      ],
      "text/plain": [
       "                                     job_description  \\\n",
       "0  DOJ offers a range of opportunities for experi...   \n",
       "1  As an FBI Special Agent with a military or law...   \n",
       "2  As an FBI Special Agent with expertise in educ...   \n",
       "3  As an FBI Special Agent with Accounting/Financ...   \n",
       "4  As an FBI Special Agent, your STEM background ...   \n",
       "\n",
       "                                           job_title  \n",
       "0      Attorney and Assistant United States Attorney  \n",
       "1  Special Agent - Law Enforcement or Military Ve...  \n",
       "2      Special Agent - Education/Teaching Background  \n",
       "3      Special Agent - Accounting/Finance Background  \n",
       "4  Special Agent - Science, Technology, Engineeri...  "
      ]
     },
     "execution_count": 4,
     "metadata": {},
     "output_type": "execute_result"
    }
   ],
   "source": [
    "df.head()"
   ]
  },
  {
   "cell_type": "code",
   "execution_count": 5,
   "metadata": {},
   "outputs": [
    {
     "data": {
      "text/plain": [
       "job_description    5\n",
       "job_title          0\n",
       "dtype: int64"
      ]
     },
     "execution_count": 5,
     "metadata": {},
     "output_type": "execute_result"
    }
   ],
   "source": [
    "#check for missing values\n",
    "df.isna().sum()"
   ]
  },
  {
   "cell_type": "code",
   "execution_count": 6,
   "metadata": {},
   "outputs": [
    {
     "name": "stdout",
     "output_type": "stream",
     "text": [
      "<class 'pandas.core.frame.DataFrame'>\n",
      "RangeIndex: 32000 entries, 0 to 31999\n",
      "Data columns (total 2 columns):\n",
      "job_description    31995 non-null object\n",
      "job_title          32000 non-null object\n",
      "dtypes: object(2)\n",
      "memory usage: 500.1+ KB\n"
     ]
    }
   ],
   "source": [
    "#looks like there are 5 rows that have no job description\n",
    "df.info()"
   ]
  },
  {
   "cell_type": "code",
   "execution_count": 7,
   "metadata": {},
   "outputs": [],
   "source": [
    "#drop rows with no job descriptions\n",
    "df = df[pd.notnull(df['job_description'])]"
   ]
  },
  {
   "cell_type": "code",
   "execution_count": 8,
   "metadata": {},
   "outputs": [
    {
     "name": "stdout",
     "output_type": "stream",
     "text": [
      "<class 'pandas.core.frame.DataFrame'>\n",
      "Int64Index: 31995 entries, 0 to 31999\n",
      "Data columns (total 2 columns):\n",
      "job_description    31995 non-null object\n",
      "job_title          31995 non-null object\n",
      "dtypes: object(2)\n",
      "memory usage: 749.9+ KB\n"
     ]
    }
   ],
   "source": [
    "#sanity check, looks good\n",
    "df.info()"
   ]
  },
  {
   "cell_type": "markdown",
   "metadata": {},
   "source": [
    "---"
   ]
  },
  {
   "cell_type": "markdown",
   "metadata": {},
   "source": [
    "## Text Cleaning"
   ]
  },
  {
   "cell_type": "markdown",
   "metadata": {},
   "source": [
    "1. Tokenize\n",
    "2. Remove words with fewer than 3 characters\n",
    "3. Remove stop words\n",
    "4. Normalize words (Lemmatize and Stem)"
   ]
  },
  {
   "cell_type": "markdown",
   "metadata": {},
   "source": [
    "**Test the functions on one row of text**"
   ]
  },
  {
   "cell_type": "code",
   "execution_count": 10,
   "metadata": {},
   "outputs": [],
   "source": [
    "stemmer = SnowballStemmer('english')"
   ]
  },
  {
   "cell_type": "code",
   "execution_count": 11,
   "metadata": {},
   "outputs": [
    {
     "name": "stdout",
     "output_type": "stream",
     "text": [
      "original text: \n",
      "['Newly', 'appointed', 'employee(s)', 'or', 'employee(s)', 'converted', 'to', 'permanent', 'status,', 'selected', 'under', 'this', 'announcement,', 'may', 'be', 'eligible', 'to', 'apply', 'for', 'an', 'award', 'up', 'to', 'the', 'maximum', 'limitation', 'under', 'the', 'provisions', 'of', 'the', 'Education', 'Debt', 'Reduction', 'Program', '(EDRP).', 'Funding,', 'on', 'the', 'final', 'award', 'amount,', 'is', 'contingent', 'on', 'the', 'availability', 'of', 'EDRP', 'funds.', 'Employee(s)', 'must', 'apply', 'for', 'EDRP', 'within', 'four', '(4)', 'months', 'of', 'appointment', 'or', 'conversion.']\n",
      "\n",
      "\n",
      " tokenized and lemmatized text: \n",
      "['newli', 'appoint', 'employe', 'employe', 'convert', 'perman', 'status', 'select', 'announc', 'elig', 'appli', 'award', 'maximum', 'limit', 'provis', 'educ', 'debt', 'reduct', 'program', 'edrp', 'fund', 'final', 'award', 'conting', 'avail', 'edrp', 'fund', 'employe', 'appli', 'edrp', 'month', 'appoint', 'convers']\n"
     ]
    }
   ],
   "source": [
    "text_sample = df[df.index == 5000].values[0][0]\n",
    "\n",
    "print('original text: ')\n",
    "words = []\n",
    "for word in text_sample.split(' '):\n",
    "    words.append(word)\n",
    "print(words)\n",
    "print('\\n\\n tokenized and lemmatized text: ')\n",
    "print(preprocess(text_sample))"
   ]
  },
  {
   "cell_type": "markdown",
   "metadata": {},
   "source": [
    "**Apply functions to job_description**"
   ]
  },
  {
   "cell_type": "code",
   "execution_count": 12,
   "metadata": {},
   "outputs": [
    {
     "data": {
      "text/plain": [
       "0    [offer, rang, opportun, experi, attorney, work...\n",
       "1    [special, agent, militari, enforc, background,...\n",
       "2    [special, agent, expertis, educ, gift, relat, ...\n",
       "3    [special, agent, account, financi, expertis, e...\n",
       "4    [special, agent, stem, background, provid, ski...\n",
       "Name: job_description, dtype: object"
      ]
     },
     "execution_count": 12,
     "metadata": {},
     "output_type": "execute_result"
    }
   ],
   "source": [
    "#apply function and display first 5 rows\n",
    "processed_text = df['job_description'].map(preprocess)\n",
    "processed_text[:5]"
   ]
  },
  {
   "cell_type": "markdown",
   "metadata": {},
   "source": [
    "---"
   ]
  },
  {
   "cell_type": "markdown",
   "metadata": {},
   "source": [
    "## Bag of Words"
   ]
  },
  {
   "cell_type": "code",
   "execution_count": 13,
   "metadata": {},
   "outputs": [],
   "source": [
    "#I'll use bag of words to extract features from text for use in modeling"
   ]
  },
  {
   "cell_type": "code",
   "execution_count": 14,
   "metadata": {},
   "outputs": [],
   "source": [
    "dictionary = gensim.corpora.Dictionary(processed_text)"
   ]
  },
  {
   "cell_type": "code",
   "execution_count": 15,
   "metadata": {},
   "outputs": [
    {
     "data": {
      "text/plain": [
       "56095"
      ]
     },
     "execution_count": 15,
     "metadata": {},
     "output_type": "execute_result"
    }
   ],
   "source": [
    "#check the length before I filter out the extremes\n",
    "len(dictionary)"
   ]
  },
  {
   "cell_type": "code",
   "execution_count": 16,
   "metadata": {},
   "outputs": [],
   "source": [
    "dictionary.filter_extremes(no_below=2, no_above=0.5, keep_n=100000)"
   ]
  },
  {
   "cell_type": "code",
   "execution_count": 17,
   "metadata": {},
   "outputs": [
    {
     "data": {
      "text/plain": [
       "24149"
      ]
     },
     "execution_count": 17,
     "metadata": {},
     "output_type": "execute_result"
    }
   ],
   "source": [
    "#check length after filtering out extremes\n",
    "len(dictionary)"
   ]
  },
  {
   "cell_type": "code",
   "execution_count": 18,
   "metadata": {},
   "outputs": [],
   "source": [
    "#bow2doc: counts the number of occurrences of each distinct word, \n",
    "#converts the word to its integer word id and returns the result as a sparse vector\n",
    "\n",
    "bow2doc_corpus = [dictionary.doc2bow(text) for text in processed_text]"
   ]
  },
  {
   "cell_type": "code",
   "execution_count": 19,
   "metadata": {},
   "outputs": [
    {
     "name": "stdout",
     "output_type": "stream",
     "text": [
      "Word 47 (\"militari\") appears 2 time.\n",
      "Word 86 (\"area\") appears 4 time.\n",
      "Word 98 (\"follow\") appears 1 time.\n",
      "Word 168 (\"local\") appears 1 time.\n",
      "Word 193 (\"announc\") appears 2 time.\n",
      "Word 196 (\"day\") appears 1 time.\n",
      "Word 204 (\"open\") appears 1 time.\n",
      "Word 255 (\"includ\") appears 1 time.\n",
      "Word 285 (\"defin\") appears 1 time.\n",
      "Word 308 (\"close\") appears 1 time.\n",
      "Word 315 (\"consider\") appears 2 time.\n",
      "Word 316 (\"date\") appears 1 time.\n",
      "Word 413 (\"vacanc\") appears 2 time.\n",
      "Word 638 (\"claim\") appears 1 time.\n",
      "Word 642 (\"prefer\") appears 1 time.\n",
      "Word 652 (\"member\") appears 1 time.\n",
      "Word 659 (\"commut\") appears 1 time.\n",
      "Word 691 (\"separ\") appears 1 time.\n",
      "Word 712 (\"armi\") appears 1 time.\n",
      "Word 905 (\"counti\") appears 1 time.\n",
      "Word 1192 (\"move\") appears 1 time.\n",
      "Word 1705 (\"citizen\") appears 1 time.\n",
      "Word 2246 (\"involuntarili\") appears 1 time.\n",
      "Word 2252 (\"spous\") appears 1 time.\n",
      "Word 2290 (\"monterey\") appears 2 time.\n",
      "Word 2968 (\"garrison\") appears 1 time.\n",
      "Word 3887 (\"cruz\") appears 1 time.\n",
      "Word 3888 (\"presidio\") appears 1 time.\n",
      "Word 3889 (\"santa\") appears 1 time.\n"
     ]
    }
   ],
   "source": [
    "#let's take a look\n",
    "bow_doc_5000 = bow2doc_corpus[5000]\n",
    "\n",
    "for i in range(len(bow_doc_5000)):\n",
    "    print(\"Word {} (\\\"{}\\\") appears {} time.\".format(bow_doc_5000[i][0], \n",
    "                                                     dictionary[bow_doc_5000[i][0]], \n",
    "                                                     bow_doc_5000[i][1]))"
   ]
  },
  {
   "cell_type": "markdown",
   "metadata": {},
   "source": [
    "---"
   ]
  },
  {
   "cell_type": "markdown",
   "metadata": {},
   "source": [
    "## LDA model with Bag of Words"
   ]
  },
  {
   "cell_type": "code",
   "execution_count": 22,
   "metadata": {},
   "outputs": [
    {
     "name": "stdout",
     "output_type": "stream",
     "text": [
      "CPU times: user 4 µs, sys: 1 µs, total: 5 µs\n",
      "Wall time: 9.78 µs\n",
      "CPU times: user 4 µs, sys: 0 ns, total: 4 µs\n",
      "Wall time: 9.06 µs\n"
     ]
    }
   ],
   "source": [
    "lda_model = gensim.models.LdaMulticore(bow2doc_corpus, \n",
    "                                       num_topics=25, \n",
    "                                       id2word=dictionary, \n",
    "                                       passes=5, \n",
    "                                       workers=4)\n"
   ]
  },
  {
   "cell_type": "code",
   "execution_count": 23,
   "metadata": {},
   "outputs": [
    {
     "name": "stdout",
     "output_type": "stream",
     "text": [
      "Topic: 0 \n",
      "Words: 0.019*\"perform\" + 0.019*\"abil\" + 0.012*\"duti\" + 0.011*\"skill\" + 0.010*\"equip\" + 0.010*\"custom\" + 0.009*\"time\" + 0.009*\"essenti\" + 0.009*\"abl\" + 0.008*\"assign\"\n",
      "Topic: 1 \n",
      "Words: 0.021*\"sale\" + 0.016*\"claim\" + 0.013*\"busi\" + 0.012*\"account\" + 0.012*\"manag\" + 0.010*\"insur\" + 0.009*\"execut\" + 0.009*\"market\" + 0.008*\"benefit\" + 0.008*\"includ\"\n",
      "Topic: 2 \n",
      "Words: 0.023*\"develop\" + 0.018*\"test\" + 0.018*\"design\" + 0.014*\"data\" + 0.011*\"engin\" + 0.010*\"product\" + 0.010*\"team\" + 0.010*\"null\" + 0.009*\"project\" + 0.008*\"technic\"\n",
      "Topic: 3 \n",
      "Words: 0.017*\"support\" + 0.016*\"skill\" + 0.014*\"custom\" + 0.011*\"system\" + 0.011*\"applic\" + 0.011*\"network\" + 0.011*\"technic\" + 0.010*\"manag\" + 0.010*\"knowledg\" + 0.009*\"provid\"\n",
      "Topic: 4 \n",
      "Words: 0.038*\"applic\" + 0.030*\"locat\" + 0.027*\"offic\" + 0.026*\"announc\" + 0.021*\"nation\" + 0.016*\"manag\" + 0.016*\"guard\" + 0.015*\"vacanc\" + 0.013*\"open\" + 0.013*\"date\"\n",
      "Topic: 5 \n",
      "Words: 0.031*\"aflac\" + 0.018*\"compani\" + 0.017*\"busi\" + 0.016*\"develop\" + 0.016*\"year\" + 0.015*\"help\" + 0.013*\"insur\" + 0.011*\"provid\" + 0.010*\"opportun\" + 0.010*\"team\"\n",
      "Topic: 6 \n",
      "Words: 0.018*\"product\" + 0.013*\"equip\" + 0.011*\"manufactur\" + 0.010*\"perform\" + 0.009*\"qualiti\" + 0.009*\"engin\" + 0.009*\"oper\" + 0.009*\"mainten\" + 0.008*\"abil\" + 0.008*\"includ\"\n",
      "Topic: 7 \n",
      "Words: 0.025*\"manag\" + 0.021*\"qualiti\" + 0.018*\"ensur\" + 0.015*\"process\" + 0.014*\"complianc\" + 0.013*\"oper\" + 0.010*\"report\" + 0.010*\"audit\" + 0.010*\"includ\" + 0.010*\"relat\"\n",
      "Topic: 8 \n",
      "Words: 0.051*\"sale\" + 0.039*\"market\" + 0.020*\"product\" + 0.018*\"custom\" + 0.018*\"manag\" + 0.015*\"retail\" + 0.014*\"event\" + 0.012*\"level\" + 0.012*\"client\" + 0.011*\"time\"\n",
      "Topic: 9 \n",
      "Words: 0.033*\"account\" + 0.012*\"assist\" + 0.012*\"manag\" + 0.011*\"year\" + 0.011*\"offic\" + 0.011*\"excel\" + 0.009*\"skill\" + 0.009*\"financi\" + 0.009*\"prepar\" + 0.009*\"opportun\"\n",
      "Topic: 10 \n",
      "Words: 0.016*\"benefit\" + 0.015*\"time\" + 0.013*\"pay\" + 0.012*\"hour\" + 0.011*\"dental\" + 0.010*\"medic\" + 0.010*\"compani\" + 0.010*\"opportun\" + 0.010*\"appli\" + 0.009*\"offer\"\n",
      "Topic: 11 \n",
      "Words: 0.080*\"store\" + 0.064*\"manag\" + 0.039*\"assist\" + 0.022*\"associ\" + 0.022*\"custom\" + 0.019*\"abil\" + 0.016*\"task\" + 0.013*\"perform\" + 0.013*\"product\" + 0.013*\"direct\"\n",
      "Topic: 12 \n",
      "Words: 0.035*\"href\" + 0.032*\"attr\" + 0.026*\"break\" + 0.025*\"case\" + 0.021*\"test\" + 0.017*\"mns_rt\" + 0.014*\"nonjob\" + 0.014*\"hill\" + 0.012*\"beacon\" + 0.012*\"client\"\n",
      "Topic: 13 \n",
      "Words: 0.014*\"student\" + 0.013*\"educ\" + 0.012*\"train\" + 0.010*\"program\" + 0.009*\"year\" + 0.009*\"develop\" + 0.007*\"provid\" + 0.007*\"skill\" + 0.007*\"profession\" + 0.006*\"maintain\"\n",
      "Topic: 14 \n",
      "Words: 0.037*\"driver\" + 0.020*\"truck\" + 0.018*\"vehicl\" + 0.018*\"area\" + 0.013*\"prefer\" + 0.012*\"includ\" + 0.012*\"applic\" + 0.011*\"home\" + 0.011*\"repair\" + 0.010*\"militari\"\n",
      "Topic: 15 \n",
      "Words: 0.021*\"market\" + 0.011*\"develop\" + 0.009*\"candid\" + 0.008*\"recruit\" + 0.008*\"skill\" + 0.008*\"manag\" + 0.007*\"inform\" + 0.007*\"includ\" + 0.007*\"need\" + 0.007*\"profession\"\n",
      "Topic: 16 \n",
      "Words: 0.025*\"learn\" + 0.023*\"agenc\" + 0.021*\"click\" + 0.019*\"inform\" + 0.018*\"import\" + 0.017*\"addit\" + 0.016*\"button\" + 0.013*\"children\" + 0.012*\"provid\" + 0.012*\"center\"\n",
      "Topic: 17 \n",
      "Words: 0.023*\"custom\" + 0.016*\"food\" + 0.011*\"manag\" + 0.010*\"maintain\" + 0.010*\"compani\" + 0.010*\"store\" + 0.009*\"ensur\" + 0.009*\"assist\" + 0.008*\"product\" + 0.008*\"clean\"\n",
      "Topic: 18 \n",
      "Words: 0.027*\"train\" + 0.026*\"benefit\" + 0.022*\"guard\" + 0.022*\"construct\" + 0.020*\"learn\" + 0.018*\"earn\" + 0.017*\"skill\" + 0.017*\"meet\" + 0.016*\"nation\" + 0.016*\"engin\"\n",
      "Topic: 19 \n",
      "Words: 0.045*\"manag\" + 0.036*\"project\" + 0.013*\"develop\" + 0.012*\"team\" + 0.012*\"busi\" + 0.011*\"client\" + 0.010*\"plan\" + 0.008*\"skill\" + 0.007*\"year\" + 0.007*\"abil\"\n",
      "Topic: 20 \n",
      "Words: 0.029*\"recruit\" + 0.022*\"candid\" + 0.020*\"qualifi\" + 0.020*\"employ\" + 0.014*\"director\" + 0.013*\"veteran\" + 0.012*\"opportun\" + 0.010*\"consid\" + 0.010*\"protect\" + 0.009*\"manag\"\n",
      "Topic: 21 \n",
      "Words: 0.029*\"secur\" + 0.013*\"facil\" + 0.012*\"employe\" + 0.011*\"offic\" + 0.011*\"appli\" + 0.011*\"feder\" + 0.011*\"applic\" + 0.009*\"state\" + 0.008*\"whelan\" + 0.008*\"locat\"\n",
      "Topic: 22 \n",
      "Words: 0.041*\"care\" + 0.036*\"patient\" + 0.031*\"nurs\" + 0.018*\"health\" + 0.016*\"medic\" + 0.014*\"provid\" + 0.014*\"clinic\" + 0.011*\"home\" + 0.009*\"assist\" + 0.008*\"plan\"\n",
      "Topic: 23 \n",
      "Words: 0.016*\"employ\" + 0.015*\"brookdal\" + 0.015*\"includ\" + 0.014*\"disabl\" + 0.014*\"associ\" + 0.013*\"time\" + 0.011*\"opportun\" + 0.010*\"equal\" + 0.010*\"life\" + 0.009*\"status\"\n",
      "Topic: 24 \n",
      "Words: 0.023*\"custom\" + 0.013*\"sale\" + 0.012*\"team\" + 0.012*\"opportun\" + 0.012*\"busi\" + 0.012*\"compani\" + 0.009*\"manag\" + 0.008*\"career\" + 0.008*\"skill\" + 0.008*\"develop\"\n"
     ]
    }
   ],
   "source": [
    "for idx, topic in lda_model.print_topics(-1):\n",
    "    print('Topic: {} \\nWords: {}'.format(idx, topic))"
   ]
  },
  {
   "cell_type": "code",
   "execution_count": null,
   "metadata": {},
   "outputs": [],
   "source": [
    "#next-steps\n",
    "#find optimal lda model parameters to get a good seperation or topics\n",
    "#figure out the topics\n",
    "#use word probability \n"
   ]
  },
  {
   "cell_type": "code",
   "execution_count": null,
   "metadata": {},
   "outputs": [],
   "source": []
  },
  {
   "cell_type": "markdown",
   "metadata": {},
   "source": [
    "---"
   ]
  },
  {
   "cell_type": "markdown",
   "metadata": {},
   "source": [
    "## LDA model with tf-idf"
   ]
  },
  {
   "cell_type": "code",
   "execution_count": null,
   "metadata": {},
   "outputs": [],
   "source": [
    "#from gensim import corpora, models\n",
    "#tfidf = models.TfidfModel(bow2doc_corpus)\n",
    "#corpus_tfidf = tfidf[bow2doc_corpus]\n",
    "#from pprint import pprint\n",
    "#for doc in corpus_tfidf:\n",
    "#    pprint(doc)\n",
    "#    break"
   ]
  },
  {
   "cell_type": "code",
   "execution_count": null,
   "metadata": {},
   "outputs": [],
   "source": [
    "#lda_model_tfidf = gensim.models.LdaMulticore(corpus_tfidf, \n",
    " #                                            num_topics=25, \n",
    "  #                                           id2word=dictionary, \n",
    "   #                                          passes=10, \n",
    "    #                                         workers=4)\n",
    "#for idx, topic in lda_model_tfidf.print_topics(-1):\n",
    "#    print('Topic: {} Word: {}'.format(idx, topic))"
   ]
  },
  {
   "cell_type": "code",
   "execution_count": null,
   "metadata": {},
   "outputs": [],
   "source": []
  }
 ],
 "metadata": {
  "kernelspec": {
   "display_name": "learn-env",
   "language": "python",
   "name": "learn-env"
  },
  "language_info": {
   "codemirror_mode": {
    "name": "ipython",
    "version": 3
   },
   "file_extension": ".py",
   "mimetype": "text/x-python",
   "name": "python",
   "nbconvert_exporter": "python",
   "pygments_lexer": "ipython3",
   "version": "3.6.6"
  }
 },
 "nbformat": 4,
 "nbformat_minor": 2
}
