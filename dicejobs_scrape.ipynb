{
 "cells": [
  {
   "cell_type": "markdown",
   "metadata": {},
   "source": [
    "# Webscrape dice.com"
   ]
  },
  {
   "cell_type": "markdown",
   "metadata": {},
   "source": [
    "---"
   ]
  },
  {
   "cell_type": "markdown",
   "metadata": {},
   "source": [
    "**Import necessary Libraries**"
   ]
  },
  {
   "cell_type": "code",
   "execution_count": 1,
   "metadata": {},
   "outputs": [],
   "source": [
    "from selenium.webdriver import Chrome\n",
    "from selenium.webdriver.common.keys import Keys\n",
    "\n",
    "import requests\n",
    "import random\n",
    "import time\n",
    "import json\n",
    "import pickle\n",
    "import pandas as pd"
   ]
  },
  {
   "cell_type": "code",
   "execution_count": 177,
   "metadata": {},
   "outputs": [],
   "source": [
    "browser = Chrome()"
   ]
  },
  {
   "cell_type": "code",
   "execution_count": 178,
   "metadata": {},
   "outputs": [],
   "source": [
    "url = \"\"\"https://www.dice.com/jobs?sort=date&p=1\"\"\"  \n",
    "\n",
    "browser.get(url)"
   ]
  },
  {
   "cell_type": "code",
   "execution_count": 179,
   "metadata": {},
   "outputs": [],
   "source": [
    "xpath = browser.find_element_by_xpath\n",
    "xpaths = browser.find_elements_by_xpath"
   ]
  },
  {
   "cell_type": "code",
   "execution_count": 5,
   "metadata": {},
   "outputs": [],
   "source": [
    "link_list = []\n",
    "url_prefix = url[:-1]\n",
    "\n",
    "for page_num in range(1,1500):\n",
    "    \n",
    "    browser.get(url_prefix+str(page_num))\n",
    "    for i in range(20):\n",
    "        \n",
    "        element = (xpath(f'//*[@id=\"position{i}\"]'))\n",
    "        \n",
    "        href = element.get_attribute('href')\n",
    "\n",
    "        link_list.append(href)\n",
    "        \n",
    "        \n",
    "    time.sleep(3 + random.random()*10)\n",
    "\n",
    "\n",
    "    \n",
    "#xpath('//*[@id=\"search-results-control\"]/div[1]/div[2]/ul/li[6]/a').click()"
   ]
  },
  {
   "cell_type": "code",
   "execution_count": 3,
   "metadata": {},
   "outputs": [],
   "source": [
    "#pickle.dump(link_list, open('link_list.pkl', 'wb'))\n",
    "pickled_link_list = pickle.load(open('link_list.pkl', 'rb'))"
   ]
  },
  {
   "cell_type": "code",
   "execution_count": 11,
   "metadata": {},
   "outputs": [
    {
     "name": "stdout",
     "output_type": "stream",
     "text": [
      "['https://www.dice.com/jobs/detail/UI-Lead%26%2347Architect-PDDN-Inc-Park-Ridge-NJ-07656/10202969/6063802', 'https://www.dice.com/jobs/detail/Web-Application-Architect-PDDN-Inc-San-Diego-CA-92101/10202969/6036804', 'https://www.dice.com/jobs/detail/Senior-DataStage-Developer-PDDN-Inc-Jackson-MS-72712/10202969/5941627', 'https://www.dice.com/jobs/detail/Hadoop-Administrator-PDDN-Inc-Richmond-VA-23173/10202969/6021154', 'https://www.dice.com/jobs/detail/UX-Visual-Designer-PDDN-Inc-San-Ramon-CA-94582/10202969/6058581']\n",
      "['https://www.dice.com/jobs/detail/UI-Lead%26%2347Architect-PDDN-Inc-Park-Ridge-NJ-07656/10202969/6063802', 'https://www.dice.com/jobs/detail/Web-Application-Architect-PDDN-Inc-San-Diego-CA-92101/10202969/6036804', 'https://www.dice.com/jobs/detail/Senior-DataStage-Developer-PDDN-Inc-Jackson-MS-72712/10202969/5941627', 'https://www.dice.com/jobs/detail/Hadoop-Administrator-PDDN-Inc-Richmond-VA-23173/10202969/6021154', 'https://www.dice.com/jobs/detail/UX-Visual-Designer-PDDN-Inc-San-Ramon-CA-94582/10202969/6058581']\n"
     ]
    }
   ],
   "source": [
    "#sanity check\n",
    "print(link_list[:5])\n",
    "print(pickled_link_list[:5])"
   ]
  },
  {
   "cell_type": "code",
   "execution_count": 180,
   "metadata": {
    "scrolled": true
   },
   "outputs": [
    {
     "ename": "KeyboardInterrupt",
     "evalue": "",
     "output_type": "error",
     "traceback": [
      "\u001b[0;31m---------------------------------------------------------------------------\u001b[0m",
      "\u001b[0;31mKeyboardInterrupt\u001b[0m                         Traceback (most recent call last)",
      "\u001b[0;32m<ipython-input-180-73386f43d31e>\u001b[0m in \u001b[0;36m<module>\u001b[0;34m()\u001b[0m\n\u001b[1;32m     21\u001b[0m         \u001b[0mf\u001b[0m\u001b[0;34m.\u001b[0m\u001b[0mwrite\u001b[0m\u001b[0;34m(\u001b[0m\u001b[0;34m'\\n'\u001b[0m\u001b[0;34m)\u001b[0m\u001b[0;34m\u001b[0m\u001b[0m\n\u001b[1;32m     22\u001b[0m \u001b[0;34m\u001b[0m\u001b[0m\n\u001b[0;32m---> 23\u001b[0;31m     \u001b[0mtime\u001b[0m\u001b[0;34m.\u001b[0m\u001b[0msleep\u001b[0m\u001b[0;34m(\u001b[0m\u001b[0;36m3\u001b[0m \u001b[0;34m+\u001b[0m \u001b[0mrandom\u001b[0m\u001b[0;34m.\u001b[0m\u001b[0mrandom\u001b[0m\u001b[0;34m(\u001b[0m\u001b[0;34m)\u001b[0m\u001b[0;34m*\u001b[0m\u001b[0;36m10\u001b[0m\u001b[0;34m)\u001b[0m\u001b[0;34m\u001b[0m\u001b[0m\n\u001b[0m",
      "\u001b[0;31mKeyboardInterrupt\u001b[0m: "
     ]
    }
   ],
   "source": [
    "for listing in not_done_link_list:\n",
    "    \n",
    "    browser.get(listing)\n",
    "    job_listing_dict = {}\n",
    "    \n",
    "    try:\n",
    "        job_listing_dict['job_title'] = xpath('//*[@id=\"jt\"]').text\n",
    "        \n",
    "    except:\n",
    "        pass\n",
    "    \n",
    "    try:\n",
    "        job_listing_dict['job_description'] = xpath('//*[@id=\"jobdescSec\"]').text.split('\\n\\n')\n",
    "        #job_listing_dict['job_description'] = xpath('//*[@id=\"jobdescSec\"]/ul[1]').text.split('\\n\\n')\n",
    "       \n",
    "    except:\n",
    "        pass\n",
    "\n",
    "    with open('dice_jobs_more_more.json', 'a') as f:\n",
    "        json.dump(job_listing_dict, f)\n",
    "        f.write('\\n')\n",
    "    \n",
    "    time.sleep(3 + random.random()*10)\n"
   ]
  },
  {
   "cell_type": "code",
   "execution_count": 5,
   "metadata": {},
   "outputs": [
    {
     "data": {
      "text/plain": [
       "'https://www.dice.com/jobs/detail/Java-and-Python-Developer-Infinity-Consulting-Solutions-Lewisville-TX-75022/10143403/19%26%234503937'"
      ]
     },
     "execution_count": 5,
     "metadata": {},
     "output_type": "execute_result"
    }
   ],
   "source": [
    "pickled_link_list[12699]"
   ]
  },
  {
   "cell_type": "code",
   "execution_count": 171,
   "metadata": {},
   "outputs": [],
   "source": [
    "not_done_link_list = pickled_link_list[10071:29980]"
   ]
  },
  {
   "cell_type": "code",
   "execution_count": null,
   "metadata": {},
   "outputs": [],
   "source": [
    "#next is 12700"
   ]
  }
 ],
 "metadata": {
  "kernelspec": {
   "display_name": "learn-env",
   "language": "python",
   "name": "learn-env"
  },
  "language_info": {
   "codemirror_mode": {
    "name": "ipython",
    "version": 3
   },
   "file_extension": ".py",
   "mimetype": "text/x-python",
   "name": "python",
   "nbconvert_exporter": "python",
   "pygments_lexer": "ipython3",
   "version": "3.6.6"
  }
 },
 "nbformat": 4,
 "nbformat_minor": 2
}
