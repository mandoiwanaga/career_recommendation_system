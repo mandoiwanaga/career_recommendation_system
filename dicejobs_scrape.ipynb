{
 "cells": [
  {
   "cell_type": "markdown",
   "metadata": {},
   "source": [
    "# Webscrape dice.com"
   ]
  },
  {
   "cell_type": "markdown",
   "metadata": {},
   "source": [
    "---"
   ]
  },
  {
   "cell_type": "markdown",
   "metadata": {},
   "source": [
    "**Import necessary Libraries**"
   ]
  },
  {
   "cell_type": "code",
   "execution_count": null,
   "metadata": {},
   "outputs": [],
   "source": [
    "from selenium.webdriver import Chrome\n",
    "from selenium.webdriver.common.keys import Keys\n",
    "\n",
    "import requests\n",
    "import random\n",
    "import time\n",
    "import json\n",
    "import pickle\n",
    "import pandas as pd"
   ]
  },
  {
   "cell_type": "code",
   "execution_count": null,
   "metadata": {},
   "outputs": [],
   "source": [
    "#set browser as chrome\n",
    "browser = Chrome()"
   ]
  },
  {
   "cell_type": "code",
   "execution_count": null,
   "metadata": {},
   "outputs": [],
   "source": [
    "url = \"\"\"https://www.dice.com/jobs?sort=date&p=1\"\"\"  \n",
    "\n",
    "browser.get(url)"
   ]
  },
  {
   "cell_type": "code",
   "execution_count": null,
   "metadata": {},
   "outputs": [],
   "source": [
    "#create shorter alias for ease of use\n",
    "xpath = browser.find_element_by_xpath\n",
    "xpaths = browser.find_elements_by_xpath"
   ]
  },
  {
   "cell_type": "code",
   "execution_count": null,
   "metadata": {},
   "outputs": [],
   "source": [
    "#go through 1500 pages, and collect all the job posting urls in each page\n",
    "#store urls as a list\n",
    "link_list = []\n",
    "url_prefix = url[:-1]\n",
    "\n",
    "for page_num in range(1,1500):\n",
    "    \n",
    "    browser.get(url_prefix+str(page_num))\n",
    "    for i in range(20):\n",
    "        \n",
    "        element = (xpath(f'//*[@id=\"position{i}\"]'))\n",
    "        \n",
    "        href = element.get_attribute('href')\n",
    "\n",
    "        link_list.append(href)\n",
    "        \n",
    "        \n",
    "    time.sleep(3 + random.random()*10)"
   ]
  },
  {
   "cell_type": "code",
   "execution_count": null,
   "metadata": {},
   "outputs": [],
   "source": [
    "#pickle list of urls for later use because it takes a while to scrape\n",
    "#pickle.dump(link_list, open('dreamjobber_web/webapp/pickled_models/link_list.pkl', 'wb'))\n",
    "pickled_link_list = pickle.load(open('dreamjobber_web/webapp/pickled_models/link_list.pkl', 'rb'))"
   ]
  },
  {
   "cell_type": "markdown",
   "metadata": {},
   "source": [
    "**Now that I have a pickled list of job posting URLs, I will now go through each URL and extract the data I need**"
   ]
  },
  {
   "cell_type": "code",
   "execution_count": null,
   "metadata": {
    "scrolled": true
   },
   "outputs": [],
   "source": [
    "#go through each job posting link, collect the job title and job description, then save\n",
    "#it as dictionary in a json file\n",
    "\n",
    "for listing in pickled_link_list:\n",
    "    \n",
    "    browser.get(listing)\n",
    "    job_listing_dict = {}\n",
    "    \n",
    "    try:\n",
    "        job_listing_dict['job_title'] = xpath('//*[@id=\"jt\"]').text\n",
    "        \n",
    "    except:\n",
    "        pass\n",
    "    \n",
    "    try:\n",
    "        job_listing_dict['job_description'] = xpath('//*[@id=\"jobdescSec\"]').text.split('\\n\\n')\n",
    "       \n",
    "    except:\n",
    "        pass\n",
    "\n",
    "    with open('delete_this.json', 'a') as f:\n",
    "        json.dump(job_listing_dict, f)\n",
    "        f.write('\\n')\n",
    "    \n",
    "    time.sleep(3 + random.random()*10)"
   ]
  }
 ],
 "metadata": {
  "kernelspec": {
   "display_name": "learn-env",
   "language": "python",
   "name": "learn-env"
  },
  "language_info": {
   "codemirror_mode": {
    "name": "ipython",
    "version": 3
   },
   "file_extension": ".py",
   "mimetype": "text/x-python",
   "name": "python",
   "nbconvert_exporter": "python",
   "pygments_lexer": "ipython3",
   "version": "3.6.6"
  }
 },
 "nbformat": 4,
 "nbformat_minor": 2
}
