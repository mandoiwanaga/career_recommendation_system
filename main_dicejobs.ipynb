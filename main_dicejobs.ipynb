{
 "cells": [
  {
   "cell_type": "markdown",
   "metadata": {},
   "source": [
    "# DreamJobber"
   ]
  },
  {
   "cell_type": "markdown",
   "metadata": {},
   "source": [
    "**Tech Edition**"
   ]
  },
  {
   "cell_type": "markdown",
   "metadata": {},
   "source": [
    "---"
   ]
  },
  {
   "cell_type": "markdown",
   "metadata": {},
   "source": [
    "**Process**\n",
    "1. Clean text\n",
    "2. Bag of Words\n",
    "3. LDA model (Latent Dirichlet allocation)\n",
    "4. Fine tune LDA model\n",
    "5. Define Topics from LDA model\n",
    "6. Create df of document probabilities\n",
    "6. Classification model"
   ]
  },
  {
   "cell_type": "markdown",
   "metadata": {},
   "source": [
    "---"
   ]
  },
  {
   "cell_type": "markdown",
   "metadata": {},
   "source": [
    "**Import Necessary Libraries**"
   ]
  },
  {
   "cell_type": "code",
   "execution_count": 1,
   "metadata": {},
   "outputs": [],
   "source": [
    "import pandas as pd\n",
    "import gensim\n",
    "from gensim.utils import simple_preprocess\n",
    "from gensim.parsing.preprocessing import STOPWORDS\n",
    "from nltk.stem import WordNetLemmatizer, SnowballStemmer\n",
    "from nltk.stem.porter import *\n",
    "import numpy as np\n",
    "import nltk\n",
    "from functions import *\n",
    "import pickle\n",
    "\n",
    "#lda model evaluatoin with coherence\n",
    "from gensim.models.coherencemodel import CoherenceModel\n",
    "from gensim.models.ldamodel import LdaModel\n",
    "from gensim.corpora.dictionary import Dictionary"
   ]
  },
  {
   "cell_type": "code",
   "execution_count": 2,
   "metadata": {},
   "outputs": [
    {
     "name": "stderr",
     "output_type": "stream",
     "text": [
      "[nltk_data] Downloading package wordnet to /Users/admin/nltk_data...\n",
      "[nltk_data]   Package wordnet is already up-to-date!\n"
     ]
    },
    {
     "data": {
      "text/plain": [
       "True"
      ]
     },
     "execution_count": 2,
     "metadata": {},
     "output_type": "execute_result"
    }
   ],
   "source": [
    "nltk.download('wordnet')"
   ]
  },
  {
   "cell_type": "markdown",
   "metadata": {},
   "source": [
    "---"
   ]
  },
  {
   "cell_type": "markdown",
   "metadata": {},
   "source": [
    "**Load Data**"
   ]
  },
  {
   "cell_type": "code",
   "execution_count": 3,
   "metadata": {},
   "outputs": [
    {
     "data": {
      "text/html": [
       "<div>\n",
       "<style scoped>\n",
       "    .dataframe tbody tr th:only-of-type {\n",
       "        vertical-align: middle;\n",
       "    }\n",
       "\n",
       "    .dataframe tbody tr th {\n",
       "        vertical-align: top;\n",
       "    }\n",
       "\n",
       "    .dataframe thead th {\n",
       "        text-align: right;\n",
       "    }\n",
       "</style>\n",
       "<table border=\"1\" class=\"dataframe\">\n",
       "  <thead>\n",
       "    <tr style=\"text-align: right;\">\n",
       "      <th></th>\n",
       "      <th>job_description</th>\n",
       "      <th>job_title</th>\n",
       "    </tr>\n",
       "  </thead>\n",
       "  <tbody>\n",
       "    <tr>\n",
       "      <th>0</th>\n",
       "      <td>NaN</td>\n",
       "      <td>UI Lead/Architect</td>\n",
       "    </tr>\n",
       "    <tr>\n",
       "      <th>1</th>\n",
       "      <td>NaN</td>\n",
       "      <td>Web Application Architect</td>\n",
       "    </tr>\n",
       "    <tr>\n",
       "      <th>2</th>\n",
       "      <td>NaN</td>\n",
       "      <td>Senior DataStage Developer</td>\n",
       "    </tr>\n",
       "    <tr>\n",
       "      <th>3</th>\n",
       "      <td>NaN</td>\n",
       "      <td>Hadoop Administrator</td>\n",
       "    </tr>\n",
       "    <tr>\n",
       "      <th>4</th>\n",
       "      <td>NaN</td>\n",
       "      <td>UX Visual Designer</td>\n",
       "    </tr>\n",
       "  </tbody>\n",
       "</table>\n",
       "</div>"
      ],
      "text/plain": [
       "  job_description                   job_title\n",
       "0             NaN           UI Lead/Architect\n",
       "1             NaN   Web Application Architect\n",
       "2             NaN  Senior DataStage Developer\n",
       "3             NaN        Hadoop Administrator\n",
       "4             NaN          UX Visual Designer"
      ]
     },
     "execution_count": 3,
     "metadata": {},
     "output_type": "execute_result"
    }
   ],
   "source": [
    "df_1 = pd.read_json('dice_jobs.json', lines=True)\n",
    "df_1.head()"
   ]
  },
  {
   "cell_type": "code",
   "execution_count": 4,
   "metadata": {},
   "outputs": [
    {
     "data": {
      "text/html": [
       "<div>\n",
       "<style scoped>\n",
       "    .dataframe tbody tr th:only-of-type {\n",
       "        vertical-align: middle;\n",
       "    }\n",
       "\n",
       "    .dataframe tbody tr th {\n",
       "        vertical-align: top;\n",
       "    }\n",
       "\n",
       "    .dataframe thead th {\n",
       "        text-align: right;\n",
       "    }\n",
       "</style>\n",
       "<table border=\"1\" class=\"dataframe\">\n",
       "  <thead>\n",
       "    <tr style=\"text-align: right;\">\n",
       "      <th></th>\n",
       "      <th>job_description</th>\n",
       "      <th>job_title</th>\n",
       "    </tr>\n",
       "  </thead>\n",
       "  <tbody>\n",
       "    <tr>\n",
       "      <th>0</th>\n",
       "      <td>[TEKsystems is seeking an IT Specialist for a ...</td>\n",
       "      <td>IT Specialist-Direct Placement</td>\n",
       "    </tr>\n",
       "    <tr>\n",
       "      <th>1</th>\n",
       "      <td>[Job Title: Java Developer\\nJob Location : Phi...</td>\n",
       "      <td>Java Developer</td>\n",
       "    </tr>\n",
       "    <tr>\n",
       "      <th>2</th>\n",
       "      <td>[RESPONSIBILITIES:\\nKforce has a client in the...</td>\n",
       "      <td>Senior Full Stack Developer</td>\n",
       "    </tr>\n",
       "    <tr>\n",
       "      <th>3</th>\n",
       "      <td>[Description:\\nContributes to and supports a v...</td>\n",
       "      <td>Quallity Assurance Technician</td>\n",
       "    </tr>\n",
       "    <tr>\n",
       "      <th>4</th>\n",
       "      <td>[RESPONSIBILITIES:\\nKforce has a client that i...</td>\n",
       "      <td>Project Manager</td>\n",
       "    </tr>\n",
       "  </tbody>\n",
       "</table>\n",
       "</div>"
      ],
      "text/plain": [
       "                                     job_description  \\\n",
       "0  [TEKsystems is seeking an IT Specialist for a ...   \n",
       "1  [Job Title: Java Developer\\nJob Location : Phi...   \n",
       "2  [RESPONSIBILITIES:\\nKforce has a client in the...   \n",
       "3  [Description:\\nContributes to and supports a v...   \n",
       "4  [RESPONSIBILITIES:\\nKforce has a client that i...   \n",
       "\n",
       "                        job_title  \n",
       "0  IT Specialist-Direct Placement  \n",
       "1                  Java Developer  \n",
       "2     Senior Full Stack Developer  \n",
       "3   Quallity Assurance Technician  \n",
       "4                 Project Manager  "
      ]
     },
     "execution_count": 4,
     "metadata": {},
     "output_type": "execute_result"
    }
   ],
   "source": [
    "df_2 = pd.read_json('dice_jobs_more.json', lines=True)\n",
    "df_2.head()"
   ]
  },
  {
   "cell_type": "code",
   "execution_count": 5,
   "metadata": {},
   "outputs": [],
   "source": [
    "df = pd.concat([df_1, df_2], ignore_index=True, sort=True)"
   ]
  },
  {
   "cell_type": "code",
   "execution_count": 6,
   "metadata": {},
   "outputs": [
    {
     "data": {
      "text/html": [
       "<div>\n",
       "<style scoped>\n",
       "    .dataframe tbody tr th:only-of-type {\n",
       "        vertical-align: middle;\n",
       "    }\n",
       "\n",
       "    .dataframe tbody tr th {\n",
       "        vertical-align: top;\n",
       "    }\n",
       "\n",
       "    .dataframe thead th {\n",
       "        text-align: right;\n",
       "    }\n",
       "</style>\n",
       "<table border=\"1\" class=\"dataframe\">\n",
       "  <thead>\n",
       "    <tr style=\"text-align: right;\">\n",
       "      <th></th>\n",
       "      <th>job_description</th>\n",
       "      <th>job_title</th>\n",
       "    </tr>\n",
       "  </thead>\n",
       "  <tbody>\n",
       "    <tr>\n",
       "      <th>0</th>\n",
       "      <td>NaN</td>\n",
       "      <td>UI Lead/Architect</td>\n",
       "    </tr>\n",
       "    <tr>\n",
       "      <th>1</th>\n",
       "      <td>NaN</td>\n",
       "      <td>Web Application Architect</td>\n",
       "    </tr>\n",
       "    <tr>\n",
       "      <th>2</th>\n",
       "      <td>NaN</td>\n",
       "      <td>Senior DataStage Developer</td>\n",
       "    </tr>\n",
       "    <tr>\n",
       "      <th>3</th>\n",
       "      <td>NaN</td>\n",
       "      <td>Hadoop Administrator</td>\n",
       "    </tr>\n",
       "    <tr>\n",
       "      <th>4</th>\n",
       "      <td>NaN</td>\n",
       "      <td>UX Visual Designer</td>\n",
       "    </tr>\n",
       "  </tbody>\n",
       "</table>\n",
       "</div>"
      ],
      "text/plain": [
       "  job_description                   job_title\n",
       "0             NaN           UI Lead/Architect\n",
       "1             NaN   Web Application Architect\n",
       "2             NaN  Senior DataStage Developer\n",
       "3             NaN        Hadoop Administrator\n",
       "4             NaN          UX Visual Designer"
      ]
     },
     "execution_count": 6,
     "metadata": {},
     "output_type": "execute_result"
    }
   ],
   "source": [
    "df.head()"
   ]
  },
  {
   "cell_type": "code",
   "execution_count": 7,
   "metadata": {},
   "outputs": [
    {
     "data": {
      "text/plain": [
       "job_description    1283\n",
       "job_title           243\n",
       "dtype: int64"
      ]
     },
     "execution_count": 7,
     "metadata": {},
     "output_type": "execute_result"
    }
   ],
   "source": [
    "#check for missing values\n",
    "df.isna().sum()"
   ]
  },
  {
   "cell_type": "code",
   "execution_count": 8,
   "metadata": {},
   "outputs": [
    {
     "name": "stdout",
     "output_type": "stream",
     "text": [
      "<class 'pandas.core.frame.DataFrame'>\n",
      "RangeIndex: 7075 entries, 0 to 7074\n",
      "Data columns (total 2 columns):\n",
      "job_description    5792 non-null object\n",
      "job_title          6832 non-null object\n",
      "dtypes: object(2)\n",
      "memory usage: 110.6+ KB\n"
     ]
    }
   ],
   "source": [
    "#looks like there are rows that have no job description\n",
    "df.info()"
   ]
  },
  {
   "cell_type": "code",
   "execution_count": 9,
   "metadata": {},
   "outputs": [],
   "source": [
    "#drop rows with no job descriptions\n",
    "df = df.dropna()"
   ]
  },
  {
   "cell_type": "code",
   "execution_count": 10,
   "metadata": {},
   "outputs": [
    {
     "name": "stdout",
     "output_type": "stream",
     "text": [
      "<class 'pandas.core.frame.DataFrame'>\n",
      "Int64Index: 5792 entries, 9 to 7074\n",
      "Data columns (total 2 columns):\n",
      "job_description    5792 non-null object\n",
      "job_title          5792 non-null object\n",
      "dtypes: object(2)\n",
      "memory usage: 135.8+ KB\n"
     ]
    }
   ],
   "source": [
    "#sanity check, looks good\n",
    "df.info()"
   ]
  },
  {
   "cell_type": "code",
   "execution_count": 11,
   "metadata": {},
   "outputs": [
    {
     "data": {
      "text/html": [
       "<div>\n",
       "<style scoped>\n",
       "    .dataframe tbody tr th:only-of-type {\n",
       "        vertical-align: middle;\n",
       "    }\n",
       "\n",
       "    .dataframe tbody tr th {\n",
       "        vertical-align: top;\n",
       "    }\n",
       "\n",
       "    .dataframe thead th {\n",
       "        text-align: right;\n",
       "    }\n",
       "</style>\n",
       "<table border=\"1\" class=\"dataframe\">\n",
       "  <thead>\n",
       "    <tr style=\"text-align: right;\">\n",
       "      <th></th>\n",
       "      <th>job_description</th>\n",
       "      <th>job_title</th>\n",
       "    </tr>\n",
       "  </thead>\n",
       "  <tbody>\n",
       "    <tr>\n",
       "      <th>9</th>\n",
       "      <td>[2+ years of experience developing Java / J2EE...</td>\n",
       "      <td>Java Developer (Sign-On BONUS!)</td>\n",
       "    </tr>\n",
       "    <tr>\n",
       "      <th>10</th>\n",
       "      <td>[Passion for technology and learning, a natura...</td>\n",
       "      <td>iOS Developer - Mobile Rate: Open, Duration: 1...</td>\n",
       "    </tr>\n",
       "    <tr>\n",
       "      <th>17</th>\n",
       "      <td>[We enjoy approved IT vendor status with sever...</td>\n",
       "      <td>EUC Engineer, Rate-Open, Duration: 18 Months</td>\n",
       "    </tr>\n",
       "    <tr>\n",
       "      <th>18</th>\n",
       "      <td>[We enjoy approved IT vendor status with sever...</td>\n",
       "      <td>Software Developer - RPG, Rate-Open, Duration:...</td>\n",
       "    </tr>\n",
       "    <tr>\n",
       "      <th>19</th>\n",
       "      <td>[SME in Linux Operating system with Strong Vir...</td>\n",
       "      <td>Sr. Linux Consultant with Weblogic exp</td>\n",
       "    </tr>\n",
       "  </tbody>\n",
       "</table>\n",
       "</div>"
      ],
      "text/plain": [
       "                                      job_description  \\\n",
       "9   [2+ years of experience developing Java / J2EE...   \n",
       "10  [Passion for technology and learning, a natura...   \n",
       "17  [We enjoy approved IT vendor status with sever...   \n",
       "18  [We enjoy approved IT vendor status with sever...   \n",
       "19  [SME in Linux Operating system with Strong Vir...   \n",
       "\n",
       "                                            job_title  \n",
       "9                     Java Developer (Sign-On BONUS!)  \n",
       "10  iOS Developer - Mobile Rate: Open, Duration: 1...  \n",
       "17       EUC Engineer, Rate-Open, Duration: 18 Months  \n",
       "18  Software Developer - RPG, Rate-Open, Duration:...  \n",
       "19             Sr. Linux Consultant with Weblogic exp  "
      ]
     },
     "execution_count": 11,
     "metadata": {},
     "output_type": "execute_result"
    }
   ],
   "source": [
    "df.head()"
   ]
  },
  {
   "cell_type": "code",
   "execution_count": 12,
   "metadata": {},
   "outputs": [],
   "source": [
    "def remove_brackets(list1):\n",
    "    return str(list1).replace('[','').replace(']','')"
   ]
  },
  {
   "cell_type": "code",
   "execution_count": 13,
   "metadata": {},
   "outputs": [],
   "source": [
    "df['job_description'] = df['job_description'].map(remove_brackets)"
   ]
  },
  {
   "cell_type": "code",
   "execution_count": 14,
   "metadata": {},
   "outputs": [
    {
     "data": {
      "text/html": [
       "<div>\n",
       "<style scoped>\n",
       "    .dataframe tbody tr th:only-of-type {\n",
       "        vertical-align: middle;\n",
       "    }\n",
       "\n",
       "    .dataframe tbody tr th {\n",
       "        vertical-align: top;\n",
       "    }\n",
       "\n",
       "    .dataframe thead th {\n",
       "        text-align: right;\n",
       "    }\n",
       "</style>\n",
       "<table border=\"1\" class=\"dataframe\">\n",
       "  <thead>\n",
       "    <tr style=\"text-align: right;\">\n",
       "      <th></th>\n",
       "      <th>job_description</th>\n",
       "      <th>job_title</th>\n",
       "    </tr>\n",
       "  </thead>\n",
       "  <tbody>\n",
       "    <tr>\n",
       "      <th>9</th>\n",
       "      <td>'2+ years of experience developing Java / J2EE...</td>\n",
       "      <td>Java Developer (Sign-On BONUS!)</td>\n",
       "    </tr>\n",
       "    <tr>\n",
       "      <th>10</th>\n",
       "      <td>'Passion for technology and learning, a natura...</td>\n",
       "      <td>iOS Developer - Mobile Rate: Open, Duration: 1...</td>\n",
       "    </tr>\n",
       "    <tr>\n",
       "      <th>17</th>\n",
       "      <td>'We enjoy approved IT vendor status with sever...</td>\n",
       "      <td>EUC Engineer, Rate-Open, Duration: 18 Months</td>\n",
       "    </tr>\n",
       "    <tr>\n",
       "      <th>18</th>\n",
       "      <td>'We enjoy approved IT vendor status with sever...</td>\n",
       "      <td>Software Developer - RPG, Rate-Open, Duration:...</td>\n",
       "    </tr>\n",
       "    <tr>\n",
       "      <th>19</th>\n",
       "      <td>'SME in Linux Operating system with Strong Vir...</td>\n",
       "      <td>Sr. Linux Consultant with Weblogic exp</td>\n",
       "    </tr>\n",
       "  </tbody>\n",
       "</table>\n",
       "</div>"
      ],
      "text/plain": [
       "                                      job_description  \\\n",
       "9   '2+ years of experience developing Java / J2EE...   \n",
       "10  'Passion for technology and learning, a natura...   \n",
       "17  'We enjoy approved IT vendor status with sever...   \n",
       "18  'We enjoy approved IT vendor status with sever...   \n",
       "19  'SME in Linux Operating system with Strong Vir...   \n",
       "\n",
       "                                            job_title  \n",
       "9                     Java Developer (Sign-On BONUS!)  \n",
       "10  iOS Developer - Mobile Rate: Open, Duration: 1...  \n",
       "17       EUC Engineer, Rate-Open, Duration: 18 Months  \n",
       "18  Software Developer - RPG, Rate-Open, Duration:...  \n",
       "19             Sr. Linux Consultant with Weblogic exp  "
      ]
     },
     "execution_count": 14,
     "metadata": {},
     "output_type": "execute_result"
    }
   ],
   "source": [
    "df.head()"
   ]
  },
  {
   "cell_type": "markdown",
   "metadata": {},
   "source": [
    "---"
   ]
  },
  {
   "cell_type": "markdown",
   "metadata": {},
   "source": [
    "## Text Cleaning"
   ]
  },
  {
   "cell_type": "markdown",
   "metadata": {},
   "source": [
    "1. Tokenize\n",
    "2. Remove words with fewer than 3 characters\n",
    "3. Remove stop words\n",
    "4. Normalize words (Lemmatize and Stem)"
   ]
  },
  {
   "cell_type": "markdown",
   "metadata": {},
   "source": [
    "**Test the functions on one row of text**"
   ]
  },
  {
   "cell_type": "code",
   "execution_count": 15,
   "metadata": {},
   "outputs": [],
   "source": [
    "stemmer = SnowballStemmer('english')"
   ]
  },
  {
   "cell_type": "code",
   "execution_count": 16,
   "metadata": {},
   "outputs": [
    {
     "name": "stdout",
     "output_type": "stream",
     "text": [
      "original text: \n",
      "[\"'We\", 'are', 'looking', 'for', 'a', 'person', 'who', 'can', 'work', 'directly', 'on', 'a', 'W2.', 'This', 'is', 'a', 'full', 'time', 'role', 'so', 'please', 'only', 'apply', 'if', 'you', 'do', 'not', 'require', \"sponsorship.',\", \"'What\", 'we', 'are', 'looking', 'for:\\\\nWe', 'are', 'a', 'successful', 'and', 'fast-growing', 'financial', 'services', 'company.', 'Due', 'to', 'company', 'growth,', 'we', 'are', 'looking', 'for', 'a', 'Web', 'Services', 'Developer', 'to', 'join', 'our', 'Web', 'Applications', 'Team', 'at', 'our', 'Fort', 'Mill', 'office.', 'Our', 'Web', 'Applications', 'Team', 'is', 'a', 'fast-paced', 'and', 'high-energy', 'team', 'that', 'delivers', 'MuleSoft', 'Anypoint', 'APIs', 'to', 'our', 'enterprise', 'consumers.\\\\n*', 'You', 'should', 'be', 'able', 'to', 'perform', 'analysis', 'and', 'demonstrate', 'ability', 'to', 'learn', 'programming', 'languages', 'and', 'techniques.\\\\n*', 'You', 'should', 'be', 'self-motivated;', 'detail', 'oriented', 'and', 'have', 'a', 'minimum', 'of', '6', 'years', 'of', 'experience', 'developing', 'web', 'services.\\\\n*', 'We', 'are', 'looking', 'for', 'ability', 'and', 'interest', 'in', 'learning', 'MuleSoft', \"Anypoint.',\", \"'Thank\", 'you', 'for', 'the', 'interest.', 'Please', 'apply', 'directly', 'for', 'more', \"information.',\", \"'',\", \"'',\", \"'',\", \"'\\\\nAbout\", \"TEKsystems:',\", '\"We\\'re', 'partners', 'in', 'transformation.', 'We', 'help', 'clients', 'activate', 'ideas', 'and', 'solutions', 'to', 'take', 'advantage', 'of', 'a', 'new', 'world', 'of', 'opportunity.', 'We', 'are', 'a', 'team', 'of', '80,000', 'strong,', 'working', 'with', 'over', '6,000', 'clients,', 'including', '80%', 'of', 'the', 'Fortune', '500,', 'across', 'North', 'America,', 'Europe', 'and', 'Asia.', 'As', 'an', 'industry', 'leader', 'in', 'Full-Stack', 'Technology', 'Services,', 'Talent', 'Services,', 'and', 'real-world', 'application,', 'we', 'work', 'with', 'progressive', 'leaders', 'to', 'drive', 'change.', \"That's\", 'the', 'power', 'of', 'true', 'partnership.', 'TEKsystems', 'is', 'an', 'Allegis', 'Group', 'company.\"']\n",
      "\n",
      "\n",
      " tokenized and lemmatized text: \n",
      "['look', 'person', 'work', 'direct', 'time', 'role', 'sponsorship', 'look', 'success', 'fast', 'grow', 'financi', 'servic', 'compani', 'compani', 'growth', 'look', 'servic', 'develop', 'join', 'applic', 'team', 'fort', 'offic', 'applic', 'team', 'fast', 'pace', 'high', 'energi', 'team', 'deliv', 'mulesoft', 'anypoint', 'api', 'enterpris', 'consum', 'abl', 'perform', 'analysi', 'demonstr', 'abil', 'learn', 'program', 'languag', 'techniqu', 'self', 'motiv', 'orient', 'minimum', 'year', 'develop', 'servic', 'look', 'abil', 'learn', 'mulesoft', 'anypoint', 'thank', 'direct', 'inform', 'nabout', 'partner', 'transform', 'help', 'client', 'activ', 'idea', 'solut', 'advantag', 'world', 'team', 'strong', 'work', 'client', 'includ', 'fortun', 'america', 'europ', 'asia', 'industri', 'leader', 'stack', 'technolog', 'servic', 'talent', 'servic', 'real', 'world', 'applic', 'work', 'progress', 'leader', 'drive', 'chang', 'power', 'true', 'partnership', 'allegi', 'group', 'compani']\n"
     ]
    }
   ],
   "source": [
    "text_sample = df[df.index == 1300].values[0][0]\n",
    "\n",
    "print('original text: ')\n",
    "words = []\n",
    "for word in text_sample.split(' '):\n",
    "    words.append(word)\n",
    "print(words)\n",
    "print('\\n\\n tokenized and lemmatized text: ')\n",
    "print(preprocess(text_sample))"
   ]
  },
  {
   "cell_type": "markdown",
   "metadata": {},
   "source": [
    "**Apply functions to job_description**"
   ]
  },
  {
   "cell_type": "code",
   "execution_count": 17,
   "metadata": {
    "scrolled": true
   },
   "outputs": [
    {
     "data": {
      "text/plain": [
       "9                         [year, develop, java, applic]\n",
       "10    [passion, technolog, learn, natur, curios, lov...\n",
       "17    [enjoy, approv, vendor, status, lead, compani,...\n",
       "18    [enjoy, approv, vendor, status, lead, compani,...\n",
       "19    [linux, oper, strong, virtual, knowledg, vmwar...\n",
       "Name: job_description, dtype: object"
      ]
     },
     "execution_count": 17,
     "metadata": {},
     "output_type": "execute_result"
    }
   ],
   "source": [
    "#apply function and display first 5 rows\n",
    "processed_text = df['job_description'].map(preprocess)\n",
    "processed_text[:5]"
   ]
  },
  {
   "cell_type": "markdown",
   "metadata": {},
   "source": [
    "---"
   ]
  },
  {
   "cell_type": "markdown",
   "metadata": {},
   "source": [
    "## Bag of Words"
   ]
  },
  {
   "cell_type": "code",
   "execution_count": 18,
   "metadata": {},
   "outputs": [],
   "source": [
    "#I'll use bag of words to extract features from text for use in modeling"
   ]
  },
  {
   "cell_type": "code",
   "execution_count": 19,
   "metadata": {},
   "outputs": [],
   "source": [
    "dictionary = gensim.corpora.Dictionary(processed_text)"
   ]
  },
  {
   "cell_type": "code",
   "execution_count": 20,
   "metadata": {},
   "outputs": [
    {
     "data": {
      "text/plain": [
       "10566"
      ]
     },
     "execution_count": 20,
     "metadata": {},
     "output_type": "execute_result"
    }
   ],
   "source": [
    "#check the length before I filter out the extremes\n",
    "len(dictionary)"
   ]
  },
  {
   "cell_type": "code",
   "execution_count": 21,
   "metadata": {},
   "outputs": [],
   "source": [
    "dictionary.filter_extremes(no_below=10, no_above=0.5, keep_n=100000)"
   ]
  },
  {
   "cell_type": "code",
   "execution_count": 22,
   "metadata": {},
   "outputs": [
    {
     "data": {
      "text/plain": [
       "2960"
      ]
     },
     "execution_count": 22,
     "metadata": {},
     "output_type": "execute_result"
    }
   ],
   "source": [
    "#check length after filtering out extremes\n",
    "len(dictionary)"
   ]
  },
  {
   "cell_type": "code",
   "execution_count": 23,
   "metadata": {},
   "outputs": [],
   "source": [
    "#bow2doc: counts the number of occurrences of each distinct word, \n",
    "#converts the word to its integer word id and returns the result as a sparse vector\n",
    "\n",
    "bow2doc_corpus = [dictionary.doc2bow(text) for text in processed_text]"
   ]
  },
  {
   "cell_type": "code",
   "execution_count": 24,
   "metadata": {},
   "outputs": [],
   "source": [
    "##let's take a look\n",
    "#bow_doc_5000 = bow2doc_corpus[5000]\n",
    "\n",
    "#for i in range(len(bow_doc_5000)):\n",
    " #   print(\"Word {} (\\\"{}\\\") appears {} time.\".format(bow_doc_5000[i][0], \n",
    "  #                                                   dictionary[bow_doc_5000[i][0]], \n",
    "   #                                                  bow_doc_5000[i][1]))"
   ]
  },
  {
   "cell_type": "markdown",
   "metadata": {},
   "source": [
    "---"
   ]
  },
  {
   "cell_type": "markdown",
   "metadata": {},
   "source": [
    "## Find optimal number of topics"
   ]
  },
  {
   "cell_type": "code",
   "execution_count": null,
   "metadata": {},
   "outputs": [],
   "source": [
    "model_list, coherence_values = compute_coherence_values(dictionary=dictionary, corpus=bow2doc_corpus,\n",
    "                                                        texts=processed_text, start=5, limit=40, step=5)"
   ]
  },
  {
   "cell_type": "code",
   "execution_count": null,
   "metadata": {},
   "outputs": [],
   "source": [
    "import matplotlib.pyplot as plt\n",
    "limit=40; start=5; step=5;\n",
    "x = range(start, limit, step)\n",
    "plt.plot(x, coherence_values)\n",
    "plt.xlabel(\"Number of Topics\")\n",
    "plt.ylabel(\"Coherence score\")\n",
    "plt.show()"
   ]
  },
  {
   "cell_type": "markdown",
   "metadata": {},
   "source": [
    "---"
   ]
  },
  {
   "cell_type": "markdown",
   "metadata": {},
   "source": [
    "## LDA model with Bag of Words"
   ]
  },
  {
   "cell_type": "code",
   "execution_count": 25,
   "metadata": {},
   "outputs": [],
   "source": [
    "lda_model = gensim.models.LdaMulticore(bow2doc_corpus, \n",
    "                                       num_topics=9, \n",
    "                                       id2word=dictionary, \n",
    "                                       passes=75, \n",
    "                                       workers=4,\n",
    "                                      chunksize=100)\n"
   ]
  },
  {
   "cell_type": "code",
   "execution_count": 26,
   "metadata": {},
   "outputs": [
    {
     "name": "stdout",
     "output_type": "stream",
     "text": [
      "Topic: 0 \n",
      "Words: 0.068*\"test\" + 0.030*\"status\" + 0.028*\"autom\" + 0.023*\"engin\" + 0.018*\"ident\" + 0.017*\"nation\" + 0.016*\"orient\" + 0.016*\"qualifi\" + 0.016*\"employ\" + 0.016*\"regard\"\n",
      "Topic: 1 \n",
      "Words: 0.085*\"network\" + 0.068*\"secur\" + 0.019*\"cisco\" + 0.016*\"engin\" + 0.013*\"includ\" + 0.013*\"maintain\" + 0.012*\"system\" + 0.012*\"switch\" + 0.012*\"infrastructur\" + 0.011*\"inform\"\n",
      "Topic: 2 \n",
      "Words: 0.031*\"data\" + 0.021*\"busi\" + 0.017*\"process\" + 0.013*\"system\" + 0.013*\"report\" + 0.013*\"document\" + 0.012*\"test\" + 0.012*\"design\" + 0.010*\"implement\" + 0.009*\"function\"\n",
      "Topic: 3 \n",
      "Words: 0.019*\"issu\" + 0.018*\"technic\" + 0.017*\"problem\" + 0.015*\"user\" + 0.015*\"servic\" + 0.015*\"hardwar\" + 0.014*\"window\" + 0.013*\"system\" + 0.012*\"microsoft\" + 0.012*\"help\"\n",
      "Topic: 4 \n",
      "Words: 0.033*\"leader\" + 0.031*\"world\" + 0.029*\"servic\" + 0.021*\"power\" + 0.020*\"help\" + 0.020*\"peopl\" + 0.019*\"partner\" + 0.019*\"talent\" + 0.018*\"staff\" + 0.018*\"chang\"\n",
      "Topic: 5 \n",
      "Words: 0.018*\"code\" + 0.018*\"design\" + 0.013*\"solut\" + 0.013*\"framework\" + 0.012*\"javascript\" + 0.012*\"product\" + 0.011*\"posit\" + 0.011*\"strong\" + 0.011*\"java\" + 0.011*\"role\"\n",
      "Topic: 6 \n",
      "Words: 0.047*\"project\" + 0.023*\"product\" + 0.022*\"busi\" + 0.014*\"technic\" + 0.012*\"lead\" + 0.012*\"plan\" + 0.011*\"communic\" + 0.011*\"abil\" + 0.010*\"ensur\" + 0.008*\"solut\"\n",
      "Topic: 7 \n",
      "Words: 0.026*\"compani\" + 0.019*\"busi\" + 0.013*\"direct\" + 0.011*\"posit\" + 0.011*\"servic\" + 0.010*\"provid\" + 0.010*\"market\" + 0.010*\"industri\" + 0.009*\"time\" + 0.009*\"immedi\"\n",
      "Topic: 8 \n",
      "Words: 0.032*\"system\" + 0.023*\"engin\" + 0.022*\"databas\" + 0.021*\"server\" + 0.021*\"cloud\" + 0.016*\"servic\" + 0.014*\"administr\" + 0.014*\"data\" + 0.014*\"design\" + 0.013*\"infrastructur\"\n"
     ]
    }
   ],
   "source": [
    "for idx, topic in lda_model.print_topics(-1):\n",
    "    print('Topic: {} \\nWords: {}'.format(idx, topic))"
   ]
  },
  {
   "cell_type": "markdown",
   "metadata": {},
   "source": [
    "**Pickled LDA model results**"
   ]
  },
  {
   "cell_type": "code",
   "execution_count": 27,
   "metadata": {},
   "outputs": [],
   "source": [
    "pickle.dump(lda_model, open('lda_model.pkl', 'wb'))\n",
    "pickled_lda = pickle.load(open('lda_model.pkl', 'rb'))"
   ]
  },
  {
   "cell_type": "code",
   "execution_count": 28,
   "metadata": {},
   "outputs": [
    {
     "name": "stdout",
     "output_type": "stream",
     "text": [
      "Topic: 0 \n",
      "Words: 0.068*\"test\" + 0.030*\"status\" + 0.028*\"autom\" + 0.023*\"engin\" + 0.018*\"ident\" + 0.017*\"nation\" + 0.016*\"orient\" + 0.016*\"qualifi\" + 0.016*\"employ\" + 0.016*\"regard\"\n",
      "Topic: 1 \n",
      "Words: 0.085*\"network\" + 0.068*\"secur\" + 0.019*\"cisco\" + 0.016*\"engin\" + 0.013*\"includ\" + 0.013*\"maintain\" + 0.012*\"system\" + 0.012*\"switch\" + 0.012*\"infrastructur\" + 0.011*\"inform\"\n",
      "Topic: 2 \n",
      "Words: 0.031*\"data\" + 0.021*\"busi\" + 0.017*\"process\" + 0.013*\"system\" + 0.013*\"report\" + 0.013*\"document\" + 0.012*\"test\" + 0.012*\"design\" + 0.010*\"implement\" + 0.009*\"function\"\n",
      "Topic: 3 \n",
      "Words: 0.019*\"issu\" + 0.018*\"technic\" + 0.017*\"problem\" + 0.015*\"user\" + 0.015*\"servic\" + 0.015*\"hardwar\" + 0.014*\"window\" + 0.013*\"system\" + 0.012*\"microsoft\" + 0.012*\"help\"\n",
      "Topic: 4 \n",
      "Words: 0.033*\"leader\" + 0.031*\"world\" + 0.029*\"servic\" + 0.021*\"power\" + 0.020*\"help\" + 0.020*\"peopl\" + 0.019*\"partner\" + 0.019*\"talent\" + 0.018*\"staff\" + 0.018*\"chang\"\n",
      "Topic: 5 \n",
      "Words: 0.018*\"code\" + 0.018*\"design\" + 0.013*\"solut\" + 0.013*\"framework\" + 0.012*\"javascript\" + 0.012*\"product\" + 0.011*\"posit\" + 0.011*\"strong\" + 0.011*\"java\" + 0.011*\"role\"\n",
      "Topic: 6 \n",
      "Words: 0.047*\"project\" + 0.023*\"product\" + 0.022*\"busi\" + 0.014*\"technic\" + 0.012*\"lead\" + 0.012*\"plan\" + 0.011*\"communic\" + 0.011*\"abil\" + 0.010*\"ensur\" + 0.008*\"solut\"\n",
      "Topic: 7 \n",
      "Words: 0.026*\"compani\" + 0.019*\"busi\" + 0.013*\"direct\" + 0.011*\"posit\" + 0.011*\"servic\" + 0.010*\"provid\" + 0.010*\"market\" + 0.010*\"industri\" + 0.009*\"time\" + 0.009*\"immedi\"\n",
      "Topic: 8 \n",
      "Words: 0.032*\"system\" + 0.023*\"engin\" + 0.022*\"databas\" + 0.021*\"server\" + 0.021*\"cloud\" + 0.016*\"servic\" + 0.014*\"administr\" + 0.014*\"data\" + 0.014*\"design\" + 0.013*\"infrastructur\"\n"
     ]
    }
   ],
   "source": [
    "for idx, topic in pickled_lda.print_topics(-1):\n",
    "    print('Topic: {} \\nWords: {}'.format(idx, topic))"
   ]
  },
  {
   "cell_type": "markdown",
   "metadata": {},
   "source": [
    "---"
   ]
  },
  {
   "cell_type": "markdown",
   "metadata": {},
   "source": [
    "**Coherence Score**"
   ]
  },
  {
   "cell_type": "code",
   "execution_count": null,
   "metadata": {},
   "outputs": [],
   "source": [
    "# Compute Coherence Score using c_v\n",
    "coherence_model_lda = CoherenceModel(model=lda_model, texts=processed_text, dictionary=dictionary, coherence='c_v')\n",
    "coherence_lda = coherence_model_lda.get_coherence()\n",
    "print('\\nCoherence Score: ', coherence_lda)"
   ]
  },
  {
   "cell_type": "code",
   "execution_count": null,
   "metadata": {},
   "outputs": [],
   "source": [
    "# Compute Coherence Score using UMass\n",
    "coherence_model_lda = CoherenceModel(model=lda_model, texts=processed_text, dictionary=dictionary, coherence=\"u_mass\")\n",
    "coherence_lda = coherence_model_lda.get_coherence()\n",
    "print('\\nCoherence Score: ', coherence_lda)"
   ]
  },
  {
   "cell_type": "code",
   "execution_count": null,
   "metadata": {},
   "outputs": [],
   "source": []
  },
  {
   "cell_type": "code",
   "execution_count": null,
   "metadata": {},
   "outputs": [],
   "source": [
    "#!pip install pyLDAvis"
   ]
  },
  {
   "cell_type": "code",
   "execution_count": null,
   "metadata": {},
   "outputs": [],
   "source": [
    "##visualize the topics in order to better label \n",
    "#%matplotlib inline\n",
    "#import pyLDAvis\n",
    "#import pyLDAvis.gensim\n",
    "#vis = pyLDAvis.gensim.prepare(topic_model=lda_model, corpus=bow2doc_corpus, dictionary=dictionary)\n",
    "#pyLDAvis.enable_notebook()\n",
    "#pyLDAvis.display(vis)"
   ]
  },
  {
   "cell_type": "markdown",
   "metadata": {},
   "source": [
    "---"
   ]
  },
  {
   "cell_type": "markdown",
   "metadata": {},
   "source": [
    "**Create df for topic scores for each jobtitle**"
   ]
  },
  {
   "cell_type": "code",
   "execution_count": null,
   "metadata": {},
   "outputs": [],
   "source": [
    "topic_vecs = []\n",
    "for i in range(len(bow2doc_corpus)):\n",
    "    top_topics = lda_model.get_document_topics(bow2doc_corpus[i], minimum_probability=0.0)\n",
    "    #i in range(amount of topics)\n",
    "    topic_vec = [top_topics[i][1] for i in range(10)]\n",
    "    topic_vecs.append(topic_vec)"
   ]
  },
  {
   "cell_type": "code",
   "execution_count": null,
   "metadata": {},
   "outputs": [],
   "source": [
    "df_topic_vecs = pd.DataFrame(topic_vecs)\n",
    "df_topic_vecs.head(10)"
   ]
  },
  {
   "cell_type": "code",
   "execution_count": null,
   "metadata": {},
   "outputs": [],
   "source": [
    "#name columns for df\n",
    "#col_names=['']\n",
    "#topics_df.columns = col_names\n",
    "#topics_df.head()"
   ]
  },
  {
   "cell_type": "code",
   "execution_count": null,
   "metadata": {},
   "outputs": [],
   "source": [
    "#next step merge with original df of job titles and job descriptions\n",
    "#pickle the merged df"
   ]
  },
  {
   "cell_type": "markdown",
   "metadata": {},
   "source": [
    "---"
   ]
  },
  {
   "cell_type": "code",
   "execution_count": null,
   "metadata": {},
   "outputs": [],
   "source": [
    "#next-steps\n",
    "#add dicejobs data\n",
    "#find optimal lda model parameters to get a good seperation for topics\n",
    "#figure out the topics "
   ]
  },
  {
   "cell_type": "markdown",
   "metadata": {},
   "source": [
    "---"
   ]
  },
  {
   "cell_type": "markdown",
   "metadata": {},
   "source": [
    "## LDA model with tf-idf"
   ]
  },
  {
   "cell_type": "code",
   "execution_count": null,
   "metadata": {},
   "outputs": [],
   "source": [
    "#from gensim import corpora, models\n",
    "#tfidf = models.TfidfModel(bow2doc_corpus)\n",
    "#corpus_tfidf = tfidf[bow2doc_corpus]\n",
    "#from pprint import pprint\n",
    "#for doc in corpus_tfidf:\n",
    "#    pprint(doc)\n",
    "#    break"
   ]
  },
  {
   "cell_type": "code",
   "execution_count": null,
   "metadata": {},
   "outputs": [],
   "source": [
    "#lda_model_tfidf = gensim.models.LdaMulticore(corpus_tfidf, \n",
    " #                                            num_topics=25, \n",
    "  #                                           id2word=dictionary, \n",
    "   #                                          passes=10, \n",
    "    #                                         workers=4)\n",
    "#for idx, topic in lda_model_tfidf.print_topics(-1):\n",
    "#    print('Topic: {} Word: {}'.format(idx, topic))"
   ]
  },
  {
   "cell_type": "code",
   "execution_count": null,
   "metadata": {},
   "outputs": [],
   "source": []
  },
  {
   "cell_type": "markdown",
   "metadata": {},
   "source": [
    "# Nearest Neighbors"
   ]
  },
  {
   "cell_type": "code",
   "execution_count": null,
   "metadata": {},
   "outputs": [],
   "source": [
    "df_final = pd.merge(df, df_topic_vecs,left_index=True, right_index=True)"
   ]
  },
  {
   "cell_type": "code",
   "execution_count": null,
   "metadata": {},
   "outputs": [],
   "source": [
    "df_final.head()"
   ]
  },
  {
   "cell_type": "code",
   "execution_count": null,
   "metadata": {},
   "outputs": [],
   "source": [
    "from sklearn.neighbors import NearestNeighbors"
   ]
  },
  {
   "cell_type": "code",
   "execution_count": null,
   "metadata": {},
   "outputs": [],
   "source": [
    "topics = df_final.drop(['job_description', 'job_title'], axis=1)\n",
    "job = df_final['job_title']"
   ]
  },
  {
   "cell_type": "code",
   "execution_count": null,
   "metadata": {},
   "outputs": [],
   "source": [
    "nearest_neighbor = NearestNeighbors(n_neighbors=50, metric='cosine')\n",
    "nearest_neighbor.fit(topics)"
   ]
  },
  {
   "cell_type": "code",
   "execution_count": null,
   "metadata": {},
   "outputs": [],
   "source": []
  },
  {
   "cell_type": "code",
   "execution_count": null,
   "metadata": {},
   "outputs": [],
   "source": []
  }
 ],
 "metadata": {
  "kernelspec": {
   "display_name": "Python [conda env:root]",
   "language": "python",
   "name": "conda-root-py"
  },
  "language_info": {
   "codemirror_mode": {
    "name": "ipython",
    "version": 3
   },
   "file_extension": ".py",
   "mimetype": "text/x-python",
   "name": "python",
   "nbconvert_exporter": "python",
   "pygments_lexer": "ipython3",
   "version": "3.7.1"
  }
 },
 "nbformat": 4,
 "nbformat_minor": 2
}
